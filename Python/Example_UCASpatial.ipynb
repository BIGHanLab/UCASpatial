{
 "cells": [
  {
   "cell_type": "code",
   "execution_count": 1,
   "id": "b4e8148e",
   "metadata": {
    "ExecuteTime": {
     "end_time": "2025-02-07T13:42:48.592773Z",
     "start_time": "2025-02-07T13:42:45.690906Z"
    }
   },
   "outputs": [],
   "source": [
    "import numpy as np\n",
    "import pandas as pd\n",
    "import scanpy as sc\n",
    "import scipy.sparse as sp\n",
    "from sklearn.decomposition import NMF\n",
    "from sklearn.linear_model import LinearRegression\n",
    "from scipy.optimize import nnls\n",
    "from scipy.sparse import csr_matrix\n",
    "from scipy.stats import entropy\n",
    "from typing import Optional, Union, List, Dict, Tuple"
   ]
  },
  {
   "cell_type": "code",
   "execution_count": 2,
   "id": "fd9eb3ea",
   "metadata": {
    "ExecuteTime": {
     "end_time": "2025-02-07T13:42:48.598568Z",
     "start_time": "2025-02-07T13:42:48.595380Z"
    }
   },
   "outputs": [],
   "source": [
    "# import Ipynb_importer"
   ]
  },
  {
   "cell_type": "code",
   "execution_count": 3,
   "id": "95aeaa93",
   "metadata": {
    "ExecuteTime": {
     "end_time": "2025-02-07T13:42:48.607497Z",
     "start_time": "2025-02-07T13:42:48.600378Z"
    }
   },
   "outputs": [],
   "source": [
    "import UCASpatial_ds_R1"
   ]
  },
  {
   "cell_type": "code",
   "execution_count": 4,
   "id": "d361273f",
   "metadata": {
    "ExecuteTime": {
     "end_time": "2025-02-07T13:36:06.339599Z",
     "start_time": "2025-02-07T13:36:01.196756Z"
    }
   },
   "outputs": [],
   "source": [
    "# 加载数据\n",
    "sc_ref = sc.read(\"/data/xy/Spatial_transcriptome/eWEIDE/20241008_rebuttal/11_ICB_sliceA_benchmark/scanpy_data/sc_UCASpatial.h5ad\")\n",
    "st_vis = sc.read(\"/data/xy/Spatial_transcriptome/eWEIDE/20241008_rebuttal/11_ICB_sliceA_benchmark/scanpy_data/ICB_A_Seurat4_scanpy_Spatial.h5ad\")\n",
    "\n",
    "X_norm = sc.pp.normalize_total(sc_ref,target_sum=1,inplace=False)['X']\n",
    "sc_ref.layers['data'] = X_norm\n",
    "\n",
    "# 初始化并运行\n",
    "ucas = UCASpatial_ds_R1.UCASpatial(\n",
    "    sc_ref=sc_ref,\n",
    "    st_vis=st_vis,\n",
    "    clust_vr='UCASpatial_clus_v7',\n",
    "    meta_filter=False,\n",
    "    random_seed=12345\n",
    ")\n"
   ]
  },
  {
   "cell_type": "code",
   "execution_count": 6,
   "id": "bfbdcc4b",
   "metadata": {
    "ExecuteTime": {
     "end_time": "2025-02-07T11:18:16.977257Z",
     "start_time": "2025-02-07T11:07:36.017965Z"
    }
   },
   "outputs": [
    {
     "name": "stderr",
     "output_type": "stream",
     "text": [
      "INFO:root:Step0: Preprocessing...\n",
      "INFO:root:Downsampling sc_ref...\n",
      "INFO:root:Finding marker genes...\n",
      "INFO:root:Calculating entropy weights...\n",
      "INFO:root:Training NMF model...\n",
      "INFO:root:Performing weighted NNLS deconvolution...\n",
      "Deconvoluting spots: 100%|██████████| 4374/4374 [00:19<00:00, 226.42it/s]\n",
      "Calculating proportions: 100%|██████████| 4374/4374 [00:01<00:00, 2447.09it/s]\n"
     ]
    }
   ],
   "source": [
    "result = ucas.run()"
   ]
  },
  {
   "cell_type": "code",
   "execution_count": 8,
   "id": "0bbab62d",
   "metadata": {
    "ExecuteTime": {
     "end_time": "2025-02-07T11:26:50.779179Z",
     "start_time": "2025-02-07T11:26:50.772514Z"
    }
   },
   "outputs": [],
   "source": [
    "# 获取结果\n",
    "nmf_components = result['nmf_components']\n",
    "cell_proportions = result['proportions']"
   ]
  },
  {
   "cell_type": "code",
   "execution_count": 13,
   "id": "95148d26",
   "metadata": {
    "ExecuteTime": {
     "end_time": "2025-02-07T12:18:35.083586Z",
     "start_time": "2025-02-07T12:18:34.923866Z"
    },
    "scrolled": false
   },
   "outputs": [],
   "source": [
    "cell_proportions.to_csv('cell_proportions.csv')"
   ]
  }
 ],
 "metadata": {
  "kernelspec": {
   "display_name": "UCASpatial_env",
   "language": "python",
   "name": "ucaspatial_env"
  },
  "language_info": {
   "codemirror_mode": {
    "name": "ipython",
    "version": 3
   },
   "file_extension": ".py",
   "mimetype": "text/x-python",
   "name": "python",
   "nbconvert_exporter": "python",
   "pygments_lexer": "ipython3",
   "version": "3.9.12"
  }
 },
 "nbformat": 4,
 "nbformat_minor": 5
}
