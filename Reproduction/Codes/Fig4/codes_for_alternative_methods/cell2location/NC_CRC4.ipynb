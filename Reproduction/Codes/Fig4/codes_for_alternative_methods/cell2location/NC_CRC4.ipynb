{
 "cells": [
  {
   "cell_type": "markdown",
   "id": "43e4a1b8",
   "metadata": {},
   "source": [
    "# NC_CRC4"
   ]
  },
  {
   "cell_type": "markdown",
   "id": "9ec67011",
   "metadata": {},
   "source": [
    "___\n",
    "Import the required libraries.\n",
    "___"
   ]
  },
  {
   "cell_type": "code",
   "execution_count": 1,
   "id": "b7f3c3ce",
   "metadata": {},
   "outputs": [
    {
     "name": "stderr",
     "output_type": "stream",
     "text": [
      "Global seed set to 0\n"
     ]
    }
   ],
   "source": [
    "import sys\n",
    "\n",
    "IN_COLAB = \"google.colab\" in sys.modules\n",
    "if IN_COLAB and branch == \"stable\":\n",
    "    !pip install --quiet git+https://github.com/BayraktarLab/cell2location#egg=cell2location[tutorials]\n",
    "\n",
    "import scanpy as sc\n",
    "import anndata\n",
    "import pandas as pd\n",
    "import numpy as np\n",
    "import matplotlib.pyplot as plt\n",
    "import matplotlib as mpl\n",
    "\n",
    "import cell2location\n",
    "import scvi\n",
    "\n",
    "from matplotlib import rcParams\n",
    "rcParams['pdf.fonttype'] = 42 # enables correct plotting of text\n",
    "import seaborn as sns\n",
    "import loompy"
   ]
  },
  {
   "cell_type": "markdown",
   "id": "93f8c872",
   "metadata": {},
   "source": [
    "___\n",
    "Set the filepath to store the results.\n",
    "___"
   ]
  },
  {
   "cell_type": "code",
   "execution_count": 2,
   "id": "6c4b1b3d",
   "metadata": {},
   "outputs": [],
   "source": [
    "results_folder = '/data/xy/Spatial_transcriptome/eWEIDE/20240326_public_Yeyouqiong/other_methods/cell2location/result/'\n",
    "\n",
    "# create paths and names to results folders for reference regression and cell2location models\n",
    "ref_run_name = f'{results_folder}reference_signatures'\n",
    "run_name = f'{results_folder}cell2location_map'\n",
    "\n",
    "raw_data_path = f'/data/xy/Spatial_transcriptome/eWEIDE/20240326_public_Yeyouqiong/other_methods/scanpy_data/'\n",
    "\n",
    "data_name = 'NC_CRC4'"
   ]
  },
  {
   "cell_type": "markdown",
   "id": "735f6367",
   "metadata": {},
   "source": [
    "Spatial transcriptome data preprocess."
   ]
  },
  {
   "cell_type": "code",
   "execution_count": 3,
   "id": "39b35a2b",
   "metadata": {},
   "outputs": [
    {
     "name": "stderr",
     "output_type": "stream",
     "text": [
      "/data/xy/anaconda3/envs/cell2loc_env/lib/python3.9/site-packages/anndata/compat/__init__.py:232: FutureWarning: Moving element from .uns['neighbors']['distances'] to .obsp['distances'].\n",
      "\n",
      "This is where adjacency matrices should go now.\n"
     ]
    },
    {
     "data": {
      "text/plain": [
       "AnnData object with n_obs × n_vars = 1657 × 36601\n",
       "    obs: 'orig.ident', 'nCount_Spatial', 'nFeature_Spatial', 'percent.mito', 'percent.rib', 'DefineTypes', 'B.cell', 'CD4.Foxp3neg', 'CD4.Tfh', 'CD4.Treg', 'CD8.Trm', 'CD8.effector', 'Colonocyte', 'DC', 'Macrophage', 'Mast.ILC', 'Monocyte', 'Plasma', 'Stromal', 'Tumor', 'pDC', 'decon_CRC4_res', 'in_tissue', 'array_row', 'array_col', 'sample'\n",
       "    var: 'gene_ids', 'SYMBOL'\n",
       "    uns: 'neighbors'\n",
       "    obsm: 'X_pca', 'X_umap'\n",
       "    varm: 'PCs'\n",
       "    obsp: 'distances'"
      ]
     },
     "execution_count": 3,
     "metadata": {},
     "output_type": "execute_result"
    }
   ],
   "source": [
    "# adata_vis = sc.read_visium(image_path)\n",
    "# adata_vis\n",
    "adata_vis = sc.read_h5ad(f\"{raw_data_path}/{data_name}_scanpy_Spatial.h5ad\")\n",
    "adata_vis"
   ]
  },
  {
   "cell_type": "code",
   "execution_count": 4,
   "id": "67ac1ad9",
   "metadata": {},
   "outputs": [],
   "source": [
    "# rename genes to ENSEMBL\n",
    "adata_vis.var['SYMBOL'] = adata_vis.var_names\n",
    "adata_vis.var_names = adata_vis.var['gene_ids']\n",
    "adata_vis.var_names.name = None"
   ]
  },
  {
   "cell_type": "code",
   "execution_count": 5,
   "id": "f3dfb3c3",
   "metadata": {},
   "outputs": [],
   "source": [
    "# find mitochondria-encoded (MT) genes\n",
    "adata_vis.var['MT_gene'] = [gene.startswith('MT-') for gene in adata_vis.var['SYMBOL']]\n",
    "\n",
    "# remove MT genes for spatial mapping (keeping their counts in the object)\n",
    "adata_vis.obsm['MT'] = adata_vis[:, adata_vis.var['MT_gene'].values].X.toarray()\n",
    "adata_vis = adata_vis[:, ~adata_vis.var['MT_gene'].values]"
   ]
  },
  {
   "cell_type": "markdown",
   "id": "339eddba",
   "metadata": {},
   "source": [
    "Single cell data process"
   ]
  },
  {
   "cell_type": "code",
   "execution_count": 6,
   "id": "ba6441ee",
   "metadata": {},
   "outputs": [],
   "source": [
    "adata_file = f\"{ref_run_name}/sc.h5ad\"\n",
    "adata_ref = sc.read_h5ad(adata_file)"
   ]
  },
  {
   "cell_type": "code",
   "execution_count": null,
   "id": "be2de0c5",
   "metadata": {},
   "outputs": [],
   "source": []
  },
  {
   "cell_type": "code",
   "execution_count": null,
   "id": "90679c23",
   "metadata": {},
   "outputs": [],
   "source": []
  },
  {
   "cell_type": "code",
   "execution_count": null,
   "id": "a4d24971",
   "metadata": {},
   "outputs": [],
   "source": []
  },
  {
   "cell_type": "code",
   "execution_count": null,
   "id": "72c2fb0f",
   "metadata": {},
   "outputs": [],
   "source": []
  },
  {
   "cell_type": "code",
   "execution_count": null,
   "id": "be095c20",
   "metadata": {},
   "outputs": [],
   "source": []
  },
  {
   "cell_type": "code",
   "execution_count": 7,
   "id": "d020e88e",
   "metadata": {},
   "outputs": [
    {
     "data": {
      "text/html": [
       "<div>\n",
       "<style scoped>\n",
       "    .dataframe tbody tr th:only-of-type {\n",
       "        vertical-align: middle;\n",
       "    }\n",
       "\n",
       "    .dataframe tbody tr th {\n",
       "        vertical-align: top;\n",
       "    }\n",
       "\n",
       "    .dataframe thead th {\n",
       "        text-align: right;\n",
       "    }\n",
       "</style>\n",
       "<table border=\"1\" class=\"dataframe\">\n",
       "  <thead>\n",
       "    <tr style=\"text-align: right;\">\n",
       "      <th></th>\n",
       "      <th>B</th>\n",
       "      <th>CD4 Tm</th>\n",
       "      <th>CD4 Tn</th>\n",
       "      <th>CD8 Tem</th>\n",
       "      <th>CD8 Tex</th>\n",
       "    </tr>\n",
       "  </thead>\n",
       "  <tbody>\n",
       "    <tr>\n",
       "      <th>SAMD11</th>\n",
       "      <td>0.000796</td>\n",
       "      <td>0.000616</td>\n",
       "      <td>0.000947</td>\n",
       "      <td>0.001102</td>\n",
       "      <td>0.001386</td>\n",
       "    </tr>\n",
       "    <tr>\n",
       "      <th>NOC2L</th>\n",
       "      <td>0.227154</td>\n",
       "      <td>0.147411</td>\n",
       "      <td>0.142433</td>\n",
       "      <td>0.125952</td>\n",
       "      <td>0.163759</td>\n",
       "    </tr>\n",
       "    <tr>\n",
       "      <th>AL645608.8</th>\n",
       "      <td>0.000737</td>\n",
       "      <td>0.004481</td>\n",
       "      <td>0.001753</td>\n",
       "      <td>0.003357</td>\n",
       "      <td>0.001963</td>\n",
       "    </tr>\n",
       "    <tr>\n",
       "      <th>HES4</th>\n",
       "      <td>0.082049</td>\n",
       "      <td>0.185213</td>\n",
       "      <td>0.175913</td>\n",
       "      <td>0.059405</td>\n",
       "      <td>0.053068</td>\n",
       "    </tr>\n",
       "    <tr>\n",
       "      <th>ISG15</th>\n",
       "      <td>0.369623</td>\n",
       "      <td>0.596210</td>\n",
       "      <td>0.366554</td>\n",
       "      <td>0.614252</td>\n",
       "      <td>0.856221</td>\n",
       "    </tr>\n",
       "  </tbody>\n",
       "</table>\n",
       "</div>"
      ],
      "text/plain": [
       "                   B    CD4 Tm    CD4 Tn   CD8 Tem   CD8 Tex\n",
       "SAMD11      0.000796  0.000616  0.000947  0.001102  0.001386\n",
       "NOC2L       0.227154  0.147411  0.142433  0.125952  0.163759\n",
       "AL645608.8  0.000737  0.004481  0.001753  0.003357  0.001963\n",
       "HES4        0.082049  0.185213  0.175913  0.059405  0.053068\n",
       "ISG15       0.369623  0.596210  0.366554  0.614252  0.856221"
      ]
     },
     "execution_count": 7,
     "metadata": {},
     "output_type": "execute_result"
    }
   ],
   "source": [
    "if 'means_per_cluster_mu_fg' in adata_ref.varm.keys():\n",
    "    inf_aver = adata_ref.varm['means_per_cluster_mu_fg'][[f'means_per_cluster_mu_fg_{i}'\n",
    "                                    for i in adata_ref.uns['mod']['factor_names']]].copy()\n",
    "else:\n",
    "    inf_aver = adata_ref.var[[f'means_per_cluster_mu_fg_{i}'\n",
    "                                    for i in adata_ref.uns['mod']['factor_names']]].copy()\n",
    "inf_aver.columns = adata_ref.uns['mod']['factor_names']\n",
    "inf_aver.iloc[0:5, 0:5]"
   ]
  },
  {
   "cell_type": "code",
   "execution_count": 8,
   "id": "f5560566",
   "metadata": {},
   "outputs": [
    {
     "name": "stderr",
     "output_type": "stream",
     "text": [
      "/data/xy/anaconda3/envs/cell2loc_env/lib/python3.9/site-packages/anndata/_core/anndata.py:896: FutureWarning: X.dtype being converted to np.float32 from float64. In the next version of anndata (0.9) conversion will not be automatic. Pass dtype explicitly to avoid this warning. Pass `AnnData(X, dtype=X.dtype, ...)` to get the future behavour.\n"
     ]
    },
    {
     "data": {
      "text/plain": [
       "array(['A1BG', 'A1BG-AS1', 'A1CF', ..., 'ZYG11B', 'ZYX', 'ZZEF1'],\n",
       "      dtype=object)"
      ]
     },
     "execution_count": 8,
     "metadata": {},
     "output_type": "execute_result"
    }
   ],
   "source": [
    "# find shared genes and subset both anndata and reference signatures\n",
    "intersect = np.intersect1d(adata_vis.var_names, inf_aver.index)\n",
    "adata_vis.var_names = adata_vis.var['SYMBOL'].copy()\n",
    "intersect = np.intersect1d(adata_vis.var_names, inf_aver.index)\n",
    "intersect"
   ]
  },
  {
   "cell_type": "code",
   "execution_count": 9,
   "id": "78c803f3",
   "metadata": {},
   "outputs": [
    {
     "data": {
      "text/plain": [
       "View of AnnData object with n_obs × n_vars = 1657 × 15655\n",
       "    obs: 'orig.ident', 'nCount_Spatial', 'nFeature_Spatial', 'percent.mito', 'percent.rib', 'DefineTypes', 'B.cell', 'CD4.Foxp3neg', 'CD4.Tfh', 'CD4.Treg', 'CD8.Trm', 'CD8.effector', 'Colonocyte', 'DC', 'Macrophage', 'Mast.ILC', 'Monocyte', 'Plasma', 'Stromal', 'Tumor', 'pDC', 'decon_CRC4_res', 'in_tissue', 'array_row', 'array_col', 'sample'\n",
       "    var: 'gene_ids', 'SYMBOL', 'MT_gene'\n",
       "    uns: 'neighbors'\n",
       "    obsm: 'X_pca', 'X_umap', 'MT'\n",
       "    varm: 'PCs'\n",
       "    obsp: 'distances'"
      ]
     },
     "execution_count": 9,
     "metadata": {},
     "output_type": "execute_result"
    }
   ],
   "source": [
    "# find shared genes and subset both anndata and reference signatures\n",
    "intersect = np.intersect1d(adata_vis.var_names, inf_aver.index)\n",
    "intersect\n",
    "adata_vis[:, intersect]\n"
   ]
  },
  {
   "cell_type": "code",
   "execution_count": 10,
   "id": "956c5ff9",
   "metadata": {},
   "outputs": [],
   "source": [
    "# find shared genes and subset both anndata and reference signatures\n",
    "intersect = np.intersect1d(adata_vis.var_names, inf_aver.index)\n",
    "adata_vis = adata_vis[:, intersect].copy()\n",
    "inf_aver = inf_aver.loc[intersect, :].copy()\n",
    "\n",
    "# prepare anndata for cell2location model\n",
    "cell2location.models.Cell2location.setup_anndata(adata=adata_vis, batch_key=\"sample\")"
   ]
  },
  {
   "cell_type": "code",
   "execution_count": 11,
   "id": "acf8431c",
   "metadata": {},
   "outputs": [
    {
     "data": {
      "text/html": [
       "<pre style=\"white-space:pre;overflow-x:auto;line-height:normal;font-family:Menlo,'DejaVu Sans Mono',consolas,'Courier New',monospace\">Anndata setup with scvi-tools version <span style=\"color: #008080; text-decoration-color: #008080; font-weight: bold\">0.16</span>.<span style=\"color: #008080; text-decoration-color: #008080; font-weight: bold\">0</span>.\n",
       "</pre>\n"
      ],
      "text/plain": [
       "Anndata setup with scvi-tools version \u001b[1;36m0.16\u001b[0m.\u001b[1;36m0\u001b[0m.\n"
      ]
     },
     "metadata": {},
     "output_type": "display_data"
    },
    {
     "data": {
      "text/html": [
       "<pre style=\"white-space:pre;overflow-x:auto;line-height:normal;font-family:Menlo,'DejaVu Sans Mono',consolas,'Courier New',monospace\">\n",
       "</pre>\n"
      ],
      "text/plain": [
       "\n"
      ]
     },
     "metadata": {},
     "output_type": "display_data"
    },
    {
     "data": {
      "text/html": [
       "<pre style=\"white-space:pre;overflow-x:auto;line-height:normal;font-family:Menlo,'DejaVu Sans Mono',consolas,'Courier New',monospace\">Setup via `Cell2location.setup_anndata` with arguments:\n",
       "</pre>\n"
      ],
      "text/plain": [
       "Setup via `Cell2location.setup_anndata` with arguments:\n"
      ]
     },
     "metadata": {},
     "output_type": "display_data"
    },
    {
     "data": {
      "text/html": [
       "<pre style=\"white-space:pre;overflow-x:auto;line-height:normal;font-family:Menlo,'DejaVu Sans Mono',consolas,'Courier New',monospace\"><span style=\"font-weight: bold\">{</span>\n",
       "<span style=\"color: #7fbf7f; text-decoration-color: #7fbf7f\">│   </span><span style=\"color: #008000; text-decoration-color: #008000\">'layer'</span>: <span style=\"color: #800080; text-decoration-color: #800080; font-style: italic\">None</span>,\n",
       "<span style=\"color: #7fbf7f; text-decoration-color: #7fbf7f\">│   </span><span style=\"color: #008000; text-decoration-color: #008000\">'batch_key'</span>: <span style=\"color: #008000; text-decoration-color: #008000\">'sample'</span>,\n",
       "<span style=\"color: #7fbf7f; text-decoration-color: #7fbf7f\">│   </span><span style=\"color: #008000; text-decoration-color: #008000\">'labels_key'</span>: <span style=\"color: #800080; text-decoration-color: #800080; font-style: italic\">None</span>,\n",
       "<span style=\"color: #7fbf7f; text-decoration-color: #7fbf7f\">│   </span><span style=\"color: #008000; text-decoration-color: #008000\">'categorical_covariate_keys'</span>: <span style=\"color: #800080; text-decoration-color: #800080; font-style: italic\">None</span>,\n",
       "<span style=\"color: #7fbf7f; text-decoration-color: #7fbf7f\">│   </span><span style=\"color: #008000; text-decoration-color: #008000\">'continuous_covariate_keys'</span>: <span style=\"color: #800080; text-decoration-color: #800080; font-style: italic\">None</span>\n",
       "<span style=\"font-weight: bold\">}</span>\n",
       "</pre>\n"
      ],
      "text/plain": [
       "\u001b[1m{\u001b[0m\n",
       "\u001b[2;32m│   \u001b[0m\u001b[32m'layer'\u001b[0m: \u001b[3;35mNone\u001b[0m,\n",
       "\u001b[2;32m│   \u001b[0m\u001b[32m'batch_key'\u001b[0m: \u001b[32m'sample'\u001b[0m,\n",
       "\u001b[2;32m│   \u001b[0m\u001b[32m'labels_key'\u001b[0m: \u001b[3;35mNone\u001b[0m,\n",
       "\u001b[2;32m│   \u001b[0m\u001b[32m'categorical_covariate_keys'\u001b[0m: \u001b[3;35mNone\u001b[0m,\n",
       "\u001b[2;32m│   \u001b[0m\u001b[32m'continuous_covariate_keys'\u001b[0m: \u001b[3;35mNone\u001b[0m\n",
       "\u001b[1m}\u001b[0m\n"
      ]
     },
     "metadata": {},
     "output_type": "display_data"
    },
    {
     "data": {
      "text/html": [
       "<pre style=\"white-space:pre;overflow-x:auto;line-height:normal;font-family:Menlo,'DejaVu Sans Mono',consolas,'Courier New',monospace\">\n",
       "</pre>\n"
      ],
      "text/plain": [
       "\n"
      ]
     },
     "metadata": {},
     "output_type": "display_data"
    },
    {
     "data": {
      "text/html": [
       "<pre style=\"white-space:pre;overflow-x:auto;line-height:normal;font-family:Menlo,'DejaVu Sans Mono',consolas,'Courier New',monospace\"><span style=\"font-style: italic\">         Summary Statistics         </span>\n",
       "┏━━━━━━━━━━━━━━━━━━━━━━━━━━┳━━━━━━━┓\n",
       "┃<span style=\"font-weight: bold\">     Summary Stat Key     </span>┃<span style=\"font-weight: bold\"> Value </span>┃\n",
       "┡━━━━━━━━━━━━━━━━━━━━━━━━━━╇━━━━━━━┩\n",
       "│<span style=\"color: #0087ff; text-decoration-color: #0087ff\">         n_cells          </span>│<span style=\"color: #af00d7; text-decoration-color: #af00d7\"> 1657  </span>│\n",
       "│<span style=\"color: #0087ff; text-decoration-color: #0087ff\">          n_vars          </span>│<span style=\"color: #af00d7; text-decoration-color: #af00d7\"> 15655 </span>│\n",
       "│<span style=\"color: #0087ff; text-decoration-color: #0087ff\">         n_batch          </span>│<span style=\"color: #af00d7; text-decoration-color: #af00d7\">   1   </span>│\n",
       "│<span style=\"color: #0087ff; text-decoration-color: #0087ff\">         n_labels         </span>│<span style=\"color: #af00d7; text-decoration-color: #af00d7\">   1   </span>│\n",
       "│<span style=\"color: #0087ff; text-decoration-color: #0087ff\"> n_extra_categorical_covs </span>│<span style=\"color: #af00d7; text-decoration-color: #af00d7\">   0   </span>│\n",
       "│<span style=\"color: #0087ff; text-decoration-color: #0087ff\"> n_extra_continuous_covs  </span>│<span style=\"color: #af00d7; text-decoration-color: #af00d7\">   0   </span>│\n",
       "└──────────────────────────┴───────┘\n",
       "</pre>\n"
      ],
      "text/plain": [
       "\u001b[3m         Summary Statistics         \u001b[0m\n",
       "┏━━━━━━━━━━━━━━━━━━━━━━━━━━┳━━━━━━━┓\n",
       "┃\u001b[1m \u001b[0m\u001b[1m    Summary Stat Key    \u001b[0m\u001b[1m \u001b[0m┃\u001b[1m \u001b[0m\u001b[1mValue\u001b[0m\u001b[1m \u001b[0m┃\n",
       "┡━━━━━━━━━━━━━━━━━━━━━━━━━━╇━━━━━━━┩\n",
       "│\u001b[38;5;33m \u001b[0m\u001b[38;5;33m        n_cells         \u001b[0m\u001b[38;5;33m \u001b[0m│\u001b[38;5;128m \u001b[0m\u001b[38;5;128m1657 \u001b[0m\u001b[38;5;128m \u001b[0m│\n",
       "│\u001b[38;5;33m \u001b[0m\u001b[38;5;33m         n_vars         \u001b[0m\u001b[38;5;33m \u001b[0m│\u001b[38;5;128m \u001b[0m\u001b[38;5;128m15655\u001b[0m\u001b[38;5;128m \u001b[0m│\n",
       "│\u001b[38;5;33m \u001b[0m\u001b[38;5;33m        n_batch         \u001b[0m\u001b[38;5;33m \u001b[0m│\u001b[38;5;128m \u001b[0m\u001b[38;5;128m  1  \u001b[0m\u001b[38;5;128m \u001b[0m│\n",
       "│\u001b[38;5;33m \u001b[0m\u001b[38;5;33m        n_labels        \u001b[0m\u001b[38;5;33m \u001b[0m│\u001b[38;5;128m \u001b[0m\u001b[38;5;128m  1  \u001b[0m\u001b[38;5;128m \u001b[0m│\n",
       "│\u001b[38;5;33m \u001b[0m\u001b[38;5;33mn_extra_categorical_covs\u001b[0m\u001b[38;5;33m \u001b[0m│\u001b[38;5;128m \u001b[0m\u001b[38;5;128m  0  \u001b[0m\u001b[38;5;128m \u001b[0m│\n",
       "│\u001b[38;5;33m \u001b[0m\u001b[38;5;33mn_extra_continuous_covs \u001b[0m\u001b[38;5;33m \u001b[0m│\u001b[38;5;128m \u001b[0m\u001b[38;5;128m  0  \u001b[0m\u001b[38;5;128m \u001b[0m│\n",
       "└──────────────────────────┴───────┘\n"
      ]
     },
     "metadata": {},
     "output_type": "display_data"
    },
    {
     "data": {
      "text/html": [
       "<pre style=\"white-space:pre;overflow-x:auto;line-height:normal;font-family:Menlo,'DejaVu Sans Mono',consolas,'Courier New',monospace\"><span style=\"font-style: italic\">               Data Registry                </span>\n",
       "┏━━━━━━━━━━━━━━┳━━━━━━━━━━━━━━━━━━━━━━━━━━━┓\n",
       "┃<span style=\"font-weight: bold\"> Registry Key </span>┃<span style=\"font-weight: bold\">    scvi-tools Location    </span>┃\n",
       "┡━━━━━━━━━━━━━━╇━━━━━━━━━━━━━━━━━━━━━━━━━━━┩\n",
       "│<span style=\"color: #0087ff; text-decoration-color: #0087ff\">      X       </span>│<span style=\"color: #af00d7; text-decoration-color: #af00d7\">          adata.X          </span>│\n",
       "│<span style=\"color: #0087ff; text-decoration-color: #0087ff\">    batch     </span>│<span style=\"color: #af00d7; text-decoration-color: #af00d7\"> adata.obs['_scvi_batch']  </span>│\n",
       "│<span style=\"color: #0087ff; text-decoration-color: #0087ff\">    labels    </span>│<span style=\"color: #af00d7; text-decoration-color: #af00d7\"> adata.obs['_scvi_labels'] </span>│\n",
       "│<span style=\"color: #0087ff; text-decoration-color: #0087ff\">    ind_x     </span>│<span style=\"color: #af00d7; text-decoration-color: #af00d7\">   adata.obs['_indices']   </span>│\n",
       "└──────────────┴───────────────────────────┘\n",
       "</pre>\n"
      ],
      "text/plain": [
       "\u001b[3m               Data Registry                \u001b[0m\n",
       "┏━━━━━━━━━━━━━━┳━━━━━━━━━━━━━━━━━━━━━━━━━━━┓\n",
       "┃\u001b[1m \u001b[0m\u001b[1mRegistry Key\u001b[0m\u001b[1m \u001b[0m┃\u001b[1m \u001b[0m\u001b[1m   scvi-tools Location   \u001b[0m\u001b[1m \u001b[0m┃\n",
       "┡━━━━━━━━━━━━━━╇━━━━━━━━━━━━━━━━━━━━━━━━━━━┩\n",
       "│\u001b[38;5;33m \u001b[0m\u001b[38;5;33m     X      \u001b[0m\u001b[38;5;33m \u001b[0m│\u001b[38;5;128m \u001b[0m\u001b[38;5;128m         adata.X         \u001b[0m\u001b[38;5;128m \u001b[0m│\n",
       "│\u001b[38;5;33m \u001b[0m\u001b[38;5;33m   batch    \u001b[0m\u001b[38;5;33m \u001b[0m│\u001b[38;5;128m \u001b[0m\u001b[38;5;128madata.obs['_scvi_batch'] \u001b[0m\u001b[38;5;128m \u001b[0m│\n",
       "│\u001b[38;5;33m \u001b[0m\u001b[38;5;33m   labels   \u001b[0m\u001b[38;5;33m \u001b[0m│\u001b[38;5;128m \u001b[0m\u001b[38;5;128madata.obs['_scvi_labels']\u001b[0m\u001b[38;5;128m \u001b[0m│\n",
       "│\u001b[38;5;33m \u001b[0m\u001b[38;5;33m   ind_x    \u001b[0m\u001b[38;5;33m \u001b[0m│\u001b[38;5;128m \u001b[0m\u001b[38;5;128m  adata.obs['_indices']  \u001b[0m\u001b[38;5;128m \u001b[0m│\n",
       "└──────────────┴───────────────────────────┘\n"
      ]
     },
     "metadata": {},
     "output_type": "display_data"
    },
    {
     "data": {
      "text/html": [
       "<pre style=\"white-space:pre;overflow-x:auto;line-height:normal;font-family:Menlo,'DejaVu Sans Mono',consolas,'Courier New',monospace\"><span style=\"font-style: italic\">                   batch State Registry                   </span>\n",
       "┏━━━━━━━━━━━━━━━━━━━━━┳━━━━━━━━━━━━┳━━━━━━━━━━━━━━━━━━━━━┓\n",
       "┃<span style=\"font-weight: bold\">   Source Location   </span>┃<span style=\"font-weight: bold\"> Categories </span>┃<span style=\"font-weight: bold\"> scvi-tools Encoding </span>┃\n",
       "┡━━━━━━━━━━━━━━━━━━━━━╇━━━━━━━━━━━━╇━━━━━━━━━━━━━━━━━━━━━┩\n",
       "│<span style=\"color: #0087ff; text-decoration-color: #0087ff\"> adata.obs['sample'] </span>│<span style=\"color: #008000; text-decoration-color: #008000\">  NC_CRC4   </span>│<span style=\"color: #af00d7; text-decoration-color: #af00d7\">          0          </span>│\n",
       "└─────────────────────┴────────────┴─────────────────────┘\n",
       "</pre>\n"
      ],
      "text/plain": [
       "\u001b[3m                   batch State Registry                   \u001b[0m\n",
       "┏━━━━━━━━━━━━━━━━━━━━━┳━━━━━━━━━━━━┳━━━━━━━━━━━━━━━━━━━━━┓\n",
       "┃\u001b[1m \u001b[0m\u001b[1m  Source Location  \u001b[0m\u001b[1m \u001b[0m┃\u001b[1m \u001b[0m\u001b[1mCategories\u001b[0m\u001b[1m \u001b[0m┃\u001b[1m \u001b[0m\u001b[1mscvi-tools Encoding\u001b[0m\u001b[1m \u001b[0m┃\n",
       "┡━━━━━━━━━━━━━━━━━━━━━╇━━━━━━━━━━━━╇━━━━━━━━━━━━━━━━━━━━━┩\n",
       "│\u001b[38;5;33m \u001b[0m\u001b[38;5;33madata.obs['sample']\u001b[0m\u001b[38;5;33m \u001b[0m│\u001b[32m \u001b[0m\u001b[32m NC_CRC4  \u001b[0m\u001b[32m \u001b[0m│\u001b[38;5;128m \u001b[0m\u001b[38;5;128m         0         \u001b[0m\u001b[38;5;128m \u001b[0m│\n",
       "└─────────────────────┴────────────┴─────────────────────┘\n"
      ]
     },
     "metadata": {},
     "output_type": "display_data"
    },
    {
     "data": {
      "text/html": [
       "<pre style=\"white-space:pre;overflow-x:auto;line-height:normal;font-family:Menlo,'DejaVu Sans Mono',consolas,'Courier New',monospace\"><span style=\"font-style: italic\">                     labels State Registry                      </span>\n",
       "┏━━━━━━━━━━━━━━━━━━━━━━━━━━━┳━━━━━━━━━━━━┳━━━━━━━━━━━━━━━━━━━━━┓\n",
       "┃<span style=\"font-weight: bold\">      Source Location      </span>┃<span style=\"font-weight: bold\"> Categories </span>┃<span style=\"font-weight: bold\"> scvi-tools Encoding </span>┃\n",
       "┡━━━━━━━━━━━━━━━━━━━━━━━━━━━╇━━━━━━━━━━━━╇━━━━━━━━━━━━━━━━━━━━━┩\n",
       "│<span style=\"color: #0087ff; text-decoration-color: #0087ff\"> adata.obs['_scvi_labels'] </span>│<span style=\"color: #008000; text-decoration-color: #008000\">     0      </span>│<span style=\"color: #af00d7; text-decoration-color: #af00d7\">          0          </span>│\n",
       "└───────────────────────────┴────────────┴─────────────────────┘\n",
       "</pre>\n"
      ],
      "text/plain": [
       "\u001b[3m                     labels State Registry                      \u001b[0m\n",
       "┏━━━━━━━━━━━━━━━━━━━━━━━━━━━┳━━━━━━━━━━━━┳━━━━━━━━━━━━━━━━━━━━━┓\n",
       "┃\u001b[1m \u001b[0m\u001b[1m     Source Location     \u001b[0m\u001b[1m \u001b[0m┃\u001b[1m \u001b[0m\u001b[1mCategories\u001b[0m\u001b[1m \u001b[0m┃\u001b[1m \u001b[0m\u001b[1mscvi-tools Encoding\u001b[0m\u001b[1m \u001b[0m┃\n",
       "┡━━━━━━━━━━━━━━━━━━━━━━━━━━━╇━━━━━━━━━━━━╇━━━━━━━━━━━━━━━━━━━━━┩\n",
       "│\u001b[38;5;33m \u001b[0m\u001b[38;5;33madata.obs['_scvi_labels']\u001b[0m\u001b[38;5;33m \u001b[0m│\u001b[32m \u001b[0m\u001b[32m    0     \u001b[0m\u001b[32m \u001b[0m│\u001b[38;5;128m \u001b[0m\u001b[38;5;128m         0         \u001b[0m\u001b[38;5;128m \u001b[0m│\n",
       "└───────────────────────────┴────────────┴─────────────────────┘\n"
      ]
     },
     "metadata": {},
     "output_type": "display_data"
    }
   ],
   "source": [
    "# create and train the model\n",
    "mod = cell2location.models.Cell2location(\n",
    "    adata_vis, cell_state_df=inf_aver,\n",
    "    # the expected average cell abundance: tissue-dependent\n",
    "    # hyper-prior which can be estimated from paired histology:\n",
    "    N_cells_per_location=30,\n",
    "    # hyperparameter controlling normalisation of\n",
    "    # within-experiment variation in RNA detection (using default here):\n",
    "    detection_alpha=200\n",
    ")\n",
    "\n",
    "mod.view_anndata_setup()"
   ]
  },
  {
   "cell_type": "code",
   "execution_count": 12,
   "id": "e00bde08",
   "metadata": {},
   "outputs": [
    {
     "name": "stderr",
     "output_type": "stream",
     "text": [
      "GPU available: True, used: True\n",
      "TPU available: False, using: 0 TPU cores\n",
      "IPU available: False, using: 0 IPUs\n",
      "/data/xy/anaconda3/envs/cell2loc_env/lib/python3.9/site-packages/pytorch_lightning/trainer/configuration_validator.py:120: UserWarning: You passed in a `val_dataloader` but have no `validation_step`. Skipping val loop.\n",
      "LOCAL_RANK: 0 - CUDA_VISIBLE_DEVICES: [0]\n",
      "/data/xy/anaconda3/envs/cell2loc_env/lib/python3.9/site-packages/pytorch_lightning/trainer/data_loading.py:432: UserWarning: The number of training samples (1) is smaller than the logging interval Trainer(log_every_n_steps=10). Set a lower value for log_every_n_steps if you want to see logs for the training epoch.\n"
     ]
    },
    {
     "name": "stdout",
     "output_type": "stream",
     "text": [
      "Epoch 30000/30000: 100%|██████████| 30000/30000 [46:07<00:00, 10.84it/s, v_num=1, elbo_train=1.98e+7]\n"
     ]
    },
    {
     "data": {
      "image/png": "[encoded data removed]",
      "text/plain": [
       "<Figure size 432x288 with 1 Axes>"
      ]
     },
     "metadata": {
      "needs_background": "light"
     },
     "output_type": "display_data"
    }
   ],
   "source": [
    "mod.train(max_epochs=30000,\n",
    "          # train using full data (batch_size=None)\n",
    "          batch_size=None,\n",
    "          # use all data points in training because\n",
    "          # we need to estimate cell abundance at all locations\n",
    "          train_size=1,\n",
    "          use_gpu=True)\n",
    "\n",
    "# plot ELBO loss history during training, removing first 100 epochs from the plot\n",
    "mod.plot_history(1000)\n",
    "plt.legend(labels=['full data training']);"
   ]
  },
  {
   "cell_type": "code",
   "execution_count": 13,
   "id": "21abf66a",
   "metadata": {},
   "outputs": [
    {
     "name": "stdout",
     "output_type": "stream",
     "text": [
      "Sampling local variables, batch: 100%|██████████| 1/1 [00:21<00:00, 21.33s/it]\n",
      "Sampling global variables, sample: 100%|██████████| 999/999 [00:21<00:00, 46.33it/s]\n"
     ]
    },
    {
     "data": {
      "text/plain": [
       "'/data/xy/Spatial_transcriptome/eWEIDE/20240326_public_Yeyouqiong/other_methods/cell2location/result/cell2location_map/sp.h5ad'"
      ]
     },
     "execution_count": 13,
     "metadata": {},
     "output_type": "execute_result"
    }
   ],
   "source": [
    "# In this section, we export the estimated cell abundance (summary of the posterior distribution).\n",
    "adata_vis = mod.export_posterior(\n",
    "    adata_vis, sample_kwargs={'num_samples': 1000, 'batch_size': mod.adata.n_obs, 'use_gpu': True}\n",
    ")\n",
    "\n",
    "# Save model\n",
    "mod.save(f\"{run_name}\", overwrite=True)\n",
    "\n",
    "# mod = cell2location.models.Cell2location.load(f\"{run_name}\", adata_vis)\n",
    "\n",
    "# Save anndata object with results\n",
    "adata_file = f\"{run_name}/sp.h5ad\"\n",
    "adata_vis.write(adata_file)\n",
    "adata_file"
   ]
  },
  {
   "cell_type": "code",
   "execution_count": 14,
   "id": "1ac40b75",
   "metadata": {},
   "outputs": [
    {
     "data": {
      "image/png": "[encoded data removed]",
      "text/plain": [
       "<Figure size 432x288 with 1 Axes>"
      ]
     },
     "metadata": {
      "needs_background": "light"
     },
     "output_type": "display_data"
    }
   ],
   "source": [
    "# Examine reconstruction accuracy to assess if there are any issues with mapping\n",
    "# the plot should be roughly diagonal, strong deviations will signal problems\n",
    "mod.plot_QC()"
   ]
  },
  {
   "cell_type": "code",
   "execution_count": 15,
   "id": "deefa4e8",
   "metadata": {},
   "outputs": [
    {
     "data": {
      "text/html": [
       "<div>\n",
       "<style scoped>\n",
       "    .dataframe tbody tr th:only-of-type {\n",
       "        vertical-align: middle;\n",
       "    }\n",
       "\n",
       "    .dataframe tbody tr th {\n",
       "        vertical-align: top;\n",
       "    }\n",
       "\n",
       "    .dataframe thead th {\n",
       "        text-align: right;\n",
       "    }\n",
       "</style>\n",
       "<table border=\"1\" class=\"dataframe\">\n",
       "  <thead>\n",
       "    <tr style=\"text-align: right;\">\n",
       "      <th></th>\n",
       "      <th>orig.ident</th>\n",
       "      <th>nCount_Spatial</th>\n",
       "      <th>nFeature_Spatial</th>\n",
       "      <th>percent.mito</th>\n",
       "      <th>percent.rib</th>\n",
       "      <th>DefineTypes</th>\n",
       "      <th>B.cell</th>\n",
       "      <th>CD4.Foxp3neg</th>\n",
       "      <th>CD4.Tfh</th>\n",
       "      <th>CD4.Treg</th>\n",
       "      <th>...</th>\n",
       "      <th>Tumor</th>\n",
       "      <th>pDC</th>\n",
       "      <th>decon_CRC4_res</th>\n",
       "      <th>in_tissue</th>\n",
       "      <th>array_row</th>\n",
       "      <th>array_col</th>\n",
       "      <th>sample</th>\n",
       "      <th>_indices</th>\n",
       "      <th>_scvi_batch</th>\n",
       "      <th>_scvi_labels</th>\n",
       "    </tr>\n",
       "  </thead>\n",
       "  <tbody>\n",
       "    <tr>\n",
       "      <th>AAACACCAATAACTGC-1</th>\n",
       "      <td>0</td>\n",
       "      <td>27026.0</td>\n",
       "      <td>4963</td>\n",
       "      <td>48.527344</td>\n",
       "      <td>10.308592</td>\n",
       "      <td>Unknown</td>\n",
       "      <td>0.000000</td>\n",
       "      <td>0.0</td>\n",
       "      <td>0.000000</td>\n",
       "      <td>0.000000</td>\n",
       "      <td>...</td>\n",
       "      <td>0.373461</td>\n",
       "      <td>0.0</td>\n",
       "      <td>0.007888</td>\n",
       "      <td>1</td>\n",
       "      <td>59</td>\n",
       "      <td>19</td>\n",
       "      <td>NC_CRC4</td>\n",
       "      <td>0</td>\n",
       "      <td>0</td>\n",
       "      <td>0</td>\n",
       "    </tr>\n",
       "    <tr>\n",
       "      <th>AAACAGAGCGACTCCT-1</th>\n",
       "      <td>0</td>\n",
       "      <td>41097.0</td>\n",
       "      <td>7194</td>\n",
       "      <td>13.655498</td>\n",
       "      <td>9.475144</td>\n",
       "      <td>Epithelial cells</td>\n",
       "      <td>0.000000</td>\n",
       "      <td>0.0</td>\n",
       "      <td>0.000000</td>\n",
       "      <td>0.000000</td>\n",
       "      <td>...</td>\n",
       "      <td>0.241785</td>\n",
       "      <td>0.0</td>\n",
       "      <td>0.002239</td>\n",
       "      <td>1</td>\n",
       "      <td>14</td>\n",
       "      <td>94</td>\n",
       "      <td>NC_CRC4</td>\n",
       "      <td>1</td>\n",
       "      <td>0</td>\n",
       "      <td>0</td>\n",
       "    </tr>\n",
       "    <tr>\n",
       "      <th>AAACAGGGTCTATATT-1</th>\n",
       "      <td>0</td>\n",
       "      <td>34981.0</td>\n",
       "      <td>6726</td>\n",
       "      <td>19.164689</td>\n",
       "      <td>20.759841</td>\n",
       "      <td>Unknown</td>\n",
       "      <td>0.127352</td>\n",
       "      <td>0.0</td>\n",
       "      <td>0.000000</td>\n",
       "      <td>0.093046</td>\n",
       "      <td>...</td>\n",
       "      <td>0.469409</td>\n",
       "      <td>0.0</td>\n",
       "      <td>0.020119</td>\n",
       "      <td>1</td>\n",
       "      <td>47</td>\n",
       "      <td>13</td>\n",
       "      <td>NC_CRC4</td>\n",
       "      <td>2</td>\n",
       "      <td>0</td>\n",
       "      <td>0</td>\n",
       "    </tr>\n",
       "    <tr>\n",
       "      <th>AAACAGTGTTCCTGGG-1</th>\n",
       "      <td>0</td>\n",
       "      <td>5957.0</td>\n",
       "      <td>2724</td>\n",
       "      <td>11.297633</td>\n",
       "      <td>14.822897</td>\n",
       "      <td>Unknown</td>\n",
       "      <td>0.000000</td>\n",
       "      <td>0.0</td>\n",
       "      <td>0.000000</td>\n",
       "      <td>0.000000</td>\n",
       "      <td>...</td>\n",
       "      <td>0.409379</td>\n",
       "      <td>0.0</td>\n",
       "      <td>0.018492</td>\n",
       "      <td>1</td>\n",
       "      <td>73</td>\n",
       "      <td>43</td>\n",
       "      <td>NC_CRC4</td>\n",
       "      <td>3</td>\n",
       "      <td>0</td>\n",
       "      <td>0</td>\n",
       "    </tr>\n",
       "    <tr>\n",
       "      <th>AAACCGGGTAGGTACC-1</th>\n",
       "      <td>0</td>\n",
       "      <td>62375.0</td>\n",
       "      <td>8625</td>\n",
       "      <td>8.649299</td>\n",
       "      <td>28.984369</td>\n",
       "      <td>Unknown</td>\n",
       "      <td>0.000000</td>\n",
       "      <td>0.0</td>\n",
       "      <td>0.000000</td>\n",
       "      <td>0.125281</td>\n",
       "      <td>...</td>\n",
       "      <td>0.458748</td>\n",
       "      <td>0.0</td>\n",
       "      <td>0.034248</td>\n",
       "      <td>1</td>\n",
       "      <td>42</td>\n",
       "      <td>28</td>\n",
       "      <td>NC_CRC4</td>\n",
       "      <td>4</td>\n",
       "      <td>0</td>\n",
       "      <td>0</td>\n",
       "    </tr>\n",
       "    <tr>\n",
       "      <th>...</th>\n",
       "      <td>...</td>\n",
       "      <td>...</td>\n",
       "      <td>...</td>\n",
       "      <td>...</td>\n",
       "      <td>...</td>\n",
       "      <td>...</td>\n",
       "      <td>...</td>\n",
       "      <td>...</td>\n",
       "      <td>...</td>\n",
       "      <td>...</td>\n",
       "      <td>...</td>\n",
       "      <td>...</td>\n",
       "      <td>...</td>\n",
       "      <td>...</td>\n",
       "      <td>...</td>\n",
       "      <td>...</td>\n",
       "      <td>...</td>\n",
       "      <td>...</td>\n",
       "      <td>...</td>\n",
       "      <td>...</td>\n",
       "      <td>...</td>\n",
       "    </tr>\n",
       "    <tr>\n",
       "      <th>TTGTTAGCAAATTCGA-1</th>\n",
       "      <td>0</td>\n",
       "      <td>1506.0</td>\n",
       "      <td>902</td>\n",
       "      <td>14.674635</td>\n",
       "      <td>16.998672</td>\n",
       "      <td>Unknown</td>\n",
       "      <td>0.000000</td>\n",
       "      <td>0.0</td>\n",
       "      <td>0.096404</td>\n",
       "      <td>0.000000</td>\n",
       "      <td>...</td>\n",
       "      <td>0.262115</td>\n",
       "      <td>0.0</td>\n",
       "      <td>0.044234</td>\n",
       "      <td>1</td>\n",
       "      <td>22</td>\n",
       "      <td>42</td>\n",
       "      <td>NC_CRC4</td>\n",
       "      <td>1652</td>\n",
       "      <td>0</td>\n",
       "      <td>0</td>\n",
       "    </tr>\n",
       "    <tr>\n",
       "      <th>TTGTTTCACATCCAGG-1</th>\n",
       "      <td>0</td>\n",
       "      <td>16568.0</td>\n",
       "      <td>4742</td>\n",
       "      <td>14.998793</td>\n",
       "      <td>20.509416</td>\n",
       "      <td>FAP+ Fibroblasts/SPP1+ Macrophages</td>\n",
       "      <td>0.000000</td>\n",
       "      <td>0.0</td>\n",
       "      <td>0.000000</td>\n",
       "      <td>0.122104</td>\n",
       "      <td>...</td>\n",
       "      <td>0.281629</td>\n",
       "      <td>0.0</td>\n",
       "      <td>0.008469</td>\n",
       "      <td>1</td>\n",
       "      <td>58</td>\n",
       "      <td>42</td>\n",
       "      <td>NC_CRC4</td>\n",
       "      <td>1653</td>\n",
       "      <td>0</td>\n",
       "      <td>0</td>\n",
       "    </tr>\n",
       "    <tr>\n",
       "      <th>TTGTTTCATTAGTCTA-1</th>\n",
       "      <td>0</td>\n",
       "      <td>45797.0</td>\n",
       "      <td>7509</td>\n",
       "      <td>12.179837</td>\n",
       "      <td>24.422997</td>\n",
       "      <td>Malignant epithelial cells</td>\n",
       "      <td>0.000000</td>\n",
       "      <td>0.0</td>\n",
       "      <td>0.000000</td>\n",
       "      <td>0.121972</td>\n",
       "      <td>...</td>\n",
       "      <td>0.390995</td>\n",
       "      <td>0.0</td>\n",
       "      <td>0.035901</td>\n",
       "      <td>1</td>\n",
       "      <td>60</td>\n",
       "      <td>30</td>\n",
       "      <td>NC_CRC4</td>\n",
       "      <td>1654</td>\n",
       "      <td>0</td>\n",
       "      <td>0</td>\n",
       "    </tr>\n",
       "    <tr>\n",
       "      <th>TTGTTTCCATACAACT-1</th>\n",
       "      <td>0</td>\n",
       "      <td>61640.0</td>\n",
       "      <td>8607</td>\n",
       "      <td>7.912070</td>\n",
       "      <td>25.869565</td>\n",
       "      <td>FAP+ Fibroblasts/SPP1+ Macrophages</td>\n",
       "      <td>0.000000</td>\n",
       "      <td>0.0</td>\n",
       "      <td>0.000000</td>\n",
       "      <td>0.186159</td>\n",
       "      <td>...</td>\n",
       "      <td>0.260180</td>\n",
       "      <td>0.0</td>\n",
       "      <td>0.019495</td>\n",
       "      <td>1</td>\n",
       "      <td>45</td>\n",
       "      <td>27</td>\n",
       "      <td>NC_CRC4</td>\n",
       "      <td>1655</td>\n",
       "      <td>0</td>\n",
       "      <td>0</td>\n",
       "    </tr>\n",
       "    <tr>\n",
       "      <th>TTGTTTGTATTACACG-1</th>\n",
       "      <td>0</td>\n",
       "      <td>3364.0</td>\n",
       "      <td>1784</td>\n",
       "      <td>11.652794</td>\n",
       "      <td>14.803805</td>\n",
       "      <td>Unknown</td>\n",
       "      <td>0.000000</td>\n",
       "      <td>0.0</td>\n",
       "      <td>0.000000</td>\n",
       "      <td>0.000000</td>\n",
       "      <td>...</td>\n",
       "      <td>0.311020</td>\n",
       "      <td>0.0</td>\n",
       "      <td>0.022314</td>\n",
       "      <td>1</td>\n",
       "      <td>73</td>\n",
       "      <td>41</td>\n",
       "      <td>NC_CRC4</td>\n",
       "      <td>1656</td>\n",
       "      <td>0</td>\n",
       "      <td>0</td>\n",
       "    </tr>\n",
       "  </tbody>\n",
       "</table>\n",
       "<p>1657 rows × 29 columns</p>\n",
       "</div>"
      ],
      "text/plain": [
       "                    orig.ident  nCount_Spatial  nFeature_Spatial  \\\n",
       "AAACACCAATAACTGC-1           0         27026.0              4963   \n",
       "AAACAGAGCGACTCCT-1           0         41097.0              7194   \n",
       "AAACAGGGTCTATATT-1           0         34981.0              6726   \n",
       "AAACAGTGTTCCTGGG-1           0          5957.0              2724   \n",
       "AAACCGGGTAGGTACC-1           0         62375.0              8625   \n",
       "...                        ...             ...               ...   \n",
       "TTGTTAGCAAATTCGA-1           0          1506.0               902   \n",
       "TTGTTTCACATCCAGG-1           0         16568.0              4742   \n",
       "TTGTTTCATTAGTCTA-1           0         45797.0              7509   \n",
       "TTGTTTCCATACAACT-1           0         61640.0              8607   \n",
       "TTGTTTGTATTACACG-1           0          3364.0              1784   \n",
       "\n",
       "                    percent.mito  percent.rib  \\\n",
       "AAACACCAATAACTGC-1     48.527344    10.308592   \n",
       "AAACAGAGCGACTCCT-1     13.655498     9.475144   \n",
       "AAACAGGGTCTATATT-1     19.164689    20.759841   \n",
       "AAACAGTGTTCCTGGG-1     11.297633    14.822897   \n",
       "AAACCGGGTAGGTACC-1      8.649299    28.984369   \n",
       "...                          ...          ...   \n",
       "TTGTTAGCAAATTCGA-1     14.674635    16.998672   \n",
       "TTGTTTCACATCCAGG-1     14.998793    20.509416   \n",
       "TTGTTTCATTAGTCTA-1     12.179837    24.422997   \n",
       "TTGTTTCCATACAACT-1      7.912070    25.869565   \n",
       "TTGTTTGTATTACACG-1     11.652794    14.803805   \n",
       "\n",
       "                                           DefineTypes    B.cell  \\\n",
       "AAACACCAATAACTGC-1                             Unknown  0.000000   \n",
       "AAACAGAGCGACTCCT-1                    Epithelial cells  0.000000   \n",
       "AAACAGGGTCTATATT-1                             Unknown  0.127352   \n",
       "AAACAGTGTTCCTGGG-1                             Unknown  0.000000   \n",
       "AAACCGGGTAGGTACC-1                             Unknown  0.000000   \n",
       "...                                                ...       ...   \n",
       "TTGTTAGCAAATTCGA-1                             Unknown  0.000000   \n",
       "TTGTTTCACATCCAGG-1  FAP+ Fibroblasts/SPP1+ Macrophages  0.000000   \n",
       "TTGTTTCATTAGTCTA-1          Malignant epithelial cells  0.000000   \n",
       "TTGTTTCCATACAACT-1  FAP+ Fibroblasts/SPP1+ Macrophages  0.000000   \n",
       "TTGTTTGTATTACACG-1                             Unknown  0.000000   \n",
       "\n",
       "                    CD4.Foxp3neg   CD4.Tfh  CD4.Treg  ...     Tumor  pDC  \\\n",
       "AAACACCAATAACTGC-1           0.0  0.000000  0.000000  ...  0.373461  0.0   \n",
       "AAACAGAGCGACTCCT-1           0.0  0.000000  0.000000  ...  0.241785  0.0   \n",
       "AAACAGGGTCTATATT-1           0.0  0.000000  0.093046  ...  0.469409  0.0   \n",
       "AAACAGTGTTCCTGGG-1           0.0  0.000000  0.000000  ...  0.409379  0.0   \n",
       "AAACCGGGTAGGTACC-1           0.0  0.000000  0.125281  ...  0.458748  0.0   \n",
       "...                          ...       ...       ...  ...       ...  ...   \n",
       "TTGTTAGCAAATTCGA-1           0.0  0.096404  0.000000  ...  0.262115  0.0   \n",
       "TTGTTTCACATCCAGG-1           0.0  0.000000  0.122104  ...  0.281629  0.0   \n",
       "TTGTTTCATTAGTCTA-1           0.0  0.000000  0.121972  ...  0.390995  0.0   \n",
       "TTGTTTCCATACAACT-1           0.0  0.000000  0.186159  ...  0.260180  0.0   \n",
       "TTGTTTGTATTACACG-1           0.0  0.000000  0.000000  ...  0.311020  0.0   \n",
       "\n",
       "                    decon_CRC4_res  in_tissue  array_row  array_col   sample  \\\n",
       "AAACACCAATAACTGC-1        0.007888          1         59         19  NC_CRC4   \n",
       "AAACAGAGCGACTCCT-1        0.002239          1         14         94  NC_CRC4   \n",
       "AAACAGGGTCTATATT-1        0.020119          1         47         13  NC_CRC4   \n",
       "AAACAGTGTTCCTGGG-1        0.018492          1         73         43  NC_CRC4   \n",
       "AAACCGGGTAGGTACC-1        0.034248          1         42         28  NC_CRC4   \n",
       "...                            ...        ...        ...        ...      ...   \n",
       "TTGTTAGCAAATTCGA-1        0.044234          1         22         42  NC_CRC4   \n",
       "TTGTTTCACATCCAGG-1        0.008469          1         58         42  NC_CRC4   \n",
       "TTGTTTCATTAGTCTA-1        0.035901          1         60         30  NC_CRC4   \n",
       "TTGTTTCCATACAACT-1        0.019495          1         45         27  NC_CRC4   \n",
       "TTGTTTGTATTACACG-1        0.022314          1         73         41  NC_CRC4   \n",
       "\n",
       "                    _indices  _scvi_batch  _scvi_labels  \n",
       "AAACACCAATAACTGC-1         0            0             0  \n",
       "AAACAGAGCGACTCCT-1         1            0             0  \n",
       "AAACAGGGTCTATATT-1         2            0             0  \n",
       "AAACAGTGTTCCTGGG-1         3            0             0  \n",
       "AAACCGGGTAGGTACC-1         4            0             0  \n",
       "...                      ...          ...           ...  \n",
       "TTGTTAGCAAATTCGA-1      1652            0             0  \n",
       "TTGTTTCACATCCAGG-1      1653            0             0  \n",
       "TTGTTTCATTAGTCTA-1      1654            0             0  \n",
       "TTGTTTCCATACAACT-1      1655            0             0  \n",
       "TTGTTTGTATTACACG-1      1656            0             0  \n",
       "\n",
       "[1657 rows x 29 columns]"
      ]
     },
     "execution_count": 15,
     "metadata": {},
     "output_type": "execute_result"
    }
   ],
   "source": [
    "adata_vis.obs"
   ]
  },
  {
   "cell_type": "code",
   "execution_count": 16,
   "id": "06313680",
   "metadata": {},
   "outputs": [],
   "source": [
    "adata_vis.obs[adata_vis.uns['mod']['factor_names']] = adata_vis.obsm['q05_cell_abundance_w_sf']\n",
    "outdf = adata_vis.obs[adata_vis.uns['mod']['factor_names']]\n",
    "outdf.to_csv(f\"{results_folder}{data_name}_C2L.csv\")"
   ]
  },
  {
   "cell_type": "code",
   "execution_count": null,
   "id": "e9d397f9",
   "metadata": {},
   "outputs": [],
   "source": []
  },
  {
   "cell_type": "code",
   "execution_count": null,
   "id": "22495ad9",
   "metadata": {},
   "outputs": [],
   "source": []
  },
  {
   "cell_type": "code",
   "execution_count": null,
   "id": "b1851c64",
   "metadata": {},
   "outputs": [],
   "source": []
  },
  {
   "cell_type": "code",
   "execution_count": null,
   "id": "30436321",
   "metadata": {},
   "outputs": [],
   "source": []
  },
  {
   "cell_type": "code",
   "execution_count": null,
   "id": "27800ec9",
   "metadata": {},
   "outputs": [],
   "source": []
  },
  {
   "cell_type": "code",
   "execution_count": null,
   "id": "483cef09",
   "metadata": {},
   "outputs": [],
   "source": []
  }
 ],
 "metadata": {
  "kernelspec": {
   "display_name": "Environment (cell2loc_env)",
   "language": "python",
   "name": "cell2loc_env"
  },
  "language_info": {
   "codemirror_mode": {
    "name": "ipython",
    "version": 3
   },
   "file_extension": ".py",
   "mimetype": "text/x-python",
   "name": "python",
   "nbconvert_exporter": "python",
   "pygments_lexer": "ipython3",
   "version": "3.9.12"
  }
 },
 "nbformat": 4,
 "nbformat_minor": 5
}
