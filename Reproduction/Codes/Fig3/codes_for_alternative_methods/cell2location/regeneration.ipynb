{
 "cells": [
  {
   "cell_type": "markdown",
   "id": "43e4a1b8",
   "metadata": {},
   "source": [
    "# Regeneration"
   ]
  },
  {
   "cell_type": "markdown",
   "id": "9ec67011",
   "metadata": {},
   "source": [
    "___\n",
    "Import the required libraries.\n",
    "___"
   ]
  },
  {
   "cell_type": "code",
   "execution_count": 2,
   "id": "b7f3c3ce",
   "metadata": {},
   "outputs": [
    {
     "name": "stderr",
     "output_type": "stream",
     "text": [
      "Global seed set to 0\n"
     ]
    }
   ],
   "source": [
    "import sys\n",
    "\n",
    "IN_COLAB = \"google.colab\" in sys.modules\n",
    "if IN_COLAB and branch == \"stable\":\n",
    "    !pip install --quiet git+https://github.com/BayraktarLab/cell2location#egg=cell2location[tutorials]\n",
    "\n",
    "import scanpy as sc\n",
    "import anndata\n",
    "import pandas as pd\n",
    "import numpy as np\n",
    "import matplotlib.pyplot as plt\n",
    "import matplotlib as mpl\n",
    "\n",
    "import cell2location\n",
    "import scvi\n",
    "\n",
    "from matplotlib import rcParams\n",
    "rcParams['pdf.fonttype'] = 42 # enables correct plotting of text\n",
    "import seaborn as sns\n",
    "import loompy"
   ]
  },
  {
   "cell_type": "markdown",
   "id": "93f8c872",
   "metadata": {},
   "source": [
    "___\n",
    "Set the filepath to store the results.\n",
    "___"
   ]
  },
  {
   "cell_type": "code",
   "execution_count": 5,
   "id": "6c4b1b3d",
   "metadata": {},
   "outputs": [],
   "source": [
    "results_folder = '/data/xy/Spatial_transcriptome/eWEIDE/20231228_Regeneration/cell2location/result/'\n",
    "\n",
    "# create paths and names to results folders for reference regression and cell2location models\n",
    "ref_run_name = '/data/xy/Spatial_transcriptome/eWEIDE/20231228_Regeneration/cell2location/reference_signatures'\n",
    "run_name = f'{results_folder}cell2location_map'\n",
    "\n",
    "raw_data_path = f'/data/xy/Spatial_transcriptome/eWEIDE/20231228_Regeneration/scanpy_data/'\n",
    "\n",
    "data_name = 'Reg'"
   ]
  },
  {
   "cell_type": "markdown",
   "id": "735f6367",
   "metadata": {},
   "source": [
    "Spatial transcriptome data preprocess."
   ]
  },
  {
   "cell_type": "code",
   "execution_count": 6,
   "id": "39b35a2b",
   "metadata": {},
   "outputs": [
    {
     "data": {
      "text/plain": [
       "AnnData object with n_obs × n_vars = 2225 × 32285\n",
       "    obs: 'orig.ident', 'nCount_Spatial', 'nFeature_Spatial', 'nCount_SCT', 'nFeature_SCT', 'SCT_snn_res.0.8', 'seurat_clusters', 'slide', 'sample_detail', 'sample', 'mice', 'integrated_snn_res.0.8', 'integrated_snn_res.0.9', 'spot_id', 'Day', 'Monocyte', 'Anti.inflammatory.Mac', 'Spp1..Mac', 'MHCII..Mac', 'Pro.fibrotic.Mac', 'Dendritic.cell', 'Neutrophil', 'T.cell', 'B.cell', 'Basophil', 'Mast.cell', 'Inflammatory.fibro', 'ECM.remodeling.fibro', 'Lesion.induced.myofibro', 'ECM.remodeling.myofibro', 'Chondrocyte', 'Keratinocyte', 'Perivascular.cell', 'Endothelial.cell', 'Satellite.cell', 'ST2_tag', 'peri_core', 'row', 'col', 'eWEIDE_snn_res.0.1', 'eWEIDE_snn_res.0.2', 'eWEIDE_snn_res.0.3', 'eWEIDE_snn_res.0.4', 'eWEIDE_snn_res.0.5', 'eWEIDE_snn_res.0.6', 'eWEIDE_snn_res.0.7', 'eWEIDE_snn_res.0.8', 'eWEIDE_snn_res.0.9', 'eWEIDE_snn_res.1', 'eWEIDE_snn_res.1.1', 'eWEIDE_snn_res.1.2', 'eWEIDE_snn_res.1.3', 'eWEIDE_snn_res.1.4', 'eWEIDE_snn_res.1.5', 'in_tissue', 'array_row', 'array_col'\n",
       "    var: 'gene_ids', 'SYMBOL'\n",
       "    obsm: 'X_tsne', 'X_umap'"
      ]
     },
     "execution_count": 6,
     "metadata": {},
     "output_type": "execute_result"
    }
   ],
   "source": [
    "# adata_vis = sc.read_visium(image_path)\n",
    "# adata_vis\n",
    "adata_vis = sc.read_h5ad(f\"{raw_data_path}/{data_name}_scanpy_Spatial.h5ad\")\n",
    "adata_vis"
   ]
  },
  {
   "cell_type": "code",
   "execution_count": 7,
   "id": "67ac1ad9",
   "metadata": {},
   "outputs": [],
   "source": [
    "# rename genes to ENSEMBL\n",
    "adata_vis.var['SYMBOL'] = adata_vis.var_names\n",
    "adata_vis.var_names = adata_vis.var['gene_ids']\n",
    "adata_vis.var_names.name = None"
   ]
  },
  {
   "cell_type": "code",
   "execution_count": 8,
   "id": "f3dfb3c3",
   "metadata": {},
   "outputs": [],
   "source": [
    "# find mitochondria-encoded (MT) genes\n",
    "adata_vis.var['MT_gene'] = [gene.startswith('MT-') for gene in adata_vis.var['SYMBOL']]\n",
    "\n",
    "# remove MT genes for spatial mapping (keeping their counts in the object)\n",
    "adata_vis.obsm['MT'] = adata_vis[:, adata_vis.var['MT_gene'].values].X.toarray()\n",
    "adata_vis = adata_vis[:, ~adata_vis.var['MT_gene'].values]"
   ]
  },
  {
   "cell_type": "markdown",
   "id": "339eddba",
   "metadata": {},
   "source": [
    "Single cell data process"
   ]
  },
  {
   "cell_type": "code",
   "execution_count": 9,
   "id": "ba6441ee",
   "metadata": {},
   "outputs": [],
   "source": [
    "adata_ref = sc.read_loom(f\"{raw_data_path}sc.Reg.loom\", sparse=True, cleanup=False, X_name='spliced', obs_names='CellID', var_names='Gene', dtype='float32')"
   ]
  },
  {
   "cell_type": "code",
   "execution_count": 10,
   "id": "be2de0c5",
   "metadata": {},
   "outputs": [],
   "source": [
    "obs_ref= pd.read_csv(f'{raw_data_path}sc.Reg_meta.data.csv',delimiter=',', index_col=0)\n",
    "adata_ref.obs = obs_ref\n",
    "var_ref= pd.read_csv(f'{raw_data_path}sc.Reg_meta.features.csv',delimiter=',', index_col=0)\n",
    "adata_ref.var = var_ref\n",
    "adata_ref.write(f'{raw_data_path}sc.Reg.h5ad')"
   ]
  },
  {
   "cell_type": "code",
   "execution_count": 11,
   "id": "90679c23",
   "metadata": {},
   "outputs": [
    {
     "data": {
      "text/plain": [
       "AnnData object with n_obs × n_vars = 18574 × 19623\n",
       "    obs: 'orig.ident', 'nCount_RNA', 'nFeature_RNA', 'percent.mt', 'integrated_snn_res.0.5', 'seurat_clusters', 'integrated_snn_res.0.4', 'integrated_snn_res.0.3', 'cluster_21', 'cell', 'doublet', 'Major_class', 'Minor_class', 'integrated_snn_res.0.1', 'integrated_snn_res.0.2', 'integrated_snn_res.0.6', 'integrated_snn_res.0.7', 'integrated_snn_res.0.8', 'integrated_snn_res.0.9', 'integrated_snn_res.1', 'integrated_snn_res.1.1', 'integrated_snn_res.1.2', 'integrated_snn_res.1.3', 'integrated_snn_res.1.4', 'integrated_snn_res.1.5', 'integrated_snn_res.1.6', 'integrated_snn_res.1.7', 'integrated_snn_res.1.8', 'integrated_snn_res.1.9', 'integrated_snn_res.2', 'Minor_class_reduction', 'integrated_snn_res.100', 'integrated_snn_res.200', 'Meta_cell'\n",
       "    var: 'GeneID-2', 'SYMBOL'\n",
       "    layers: 'counts', 'scale.data'"
      ]
     },
     "execution_count": 11,
     "metadata": {},
     "output_type": "execute_result"
    }
   ],
   "source": [
    "adata_ref"
   ]
  },
  {
   "cell_type": "code",
   "execution_count": 12,
   "id": "b01f2a54",
   "metadata": {},
   "outputs": [],
   "source": [
    "# Use ENSEMBL as gene IDs to make sure IDs are unique and correctly matched\n",
    "adata_ref.var['SYMBOL'] = adata_ref.var.index\n",
    "adata_ref.var.index = adata_ref.var['GeneID-2'].copy()\n",
    "adata_ref.var_names = adata_ref.var['GeneID-2'].copy()\n",
    "adata_ref.var.index.name = None\n",
    "# adata_ref.raw.var['SYMBOL'] = adata_ref.raw.var.index\n",
    "# adata_ref.raw.var.index = adata_ref.raw.var['GeneID-2'].copy()\n",
    "# adata_ref.raw.var.index.name = None"
   ]
  },
  {
   "cell_type": "code",
   "execution_count": 13,
   "id": "46809be5",
   "metadata": {},
   "outputs": [
    {
     "data": {
      "image/png": "[encoded data removed]",
      "text/plain": [
       "<Figure size 432x288 with 1 Axes>"
      ]
     },
     "metadata": {
      "needs_background": "light"
     },
     "output_type": "display_data"
    }
   ],
   "source": [
    "# before we estimate the reference cell type signature we recommend to perform very permissive genes selection\n",
    "# in this 2D histogram orange rectangle lays over excluded genes.\n",
    "# In this case, the downloaded dataset was already filtered using this method,\n",
    "# hence no density under the orange rectangle\n",
    "from cell2location.utils.filtering import filter_genes\n",
    "selected = filter_genes(adata_ref, cell_count_cutoff=5, cell_percentage_cutoff2=0.03, nonz_mean_cutoff=1.12)\n",
    "\n",
    "# filter the object\n",
    "adata_ref = adata_ref[:, selected].copy()"
   ]
  },
  {
   "cell_type": "code",
   "execution_count": 14,
   "id": "54f8265a",
   "metadata": {},
   "outputs": [
    {
     "data": {
      "text/html": [
       "<div>\n",
       "<style scoped>\n",
       "    .dataframe tbody tr th:only-of-type {\n",
       "        vertical-align: middle;\n",
       "    }\n",
       "\n",
       "    .dataframe tbody tr th {\n",
       "        vertical-align: top;\n",
       "    }\n",
       "\n",
       "    .dataframe thead th {\n",
       "        text-align: right;\n",
       "    }\n",
       "</style>\n",
       "<table border=\"1\" class=\"dataframe\">\n",
       "  <thead>\n",
       "    <tr style=\"text-align: right;\">\n",
       "      <th></th>\n",
       "      <th>orig.ident</th>\n",
       "      <th>nCount_RNA</th>\n",
       "      <th>nFeature_RNA</th>\n",
       "      <th>percent.mt</th>\n",
       "      <th>integrated_snn_res.0.5</th>\n",
       "      <th>seurat_clusters</th>\n",
       "      <th>integrated_snn_res.0.4</th>\n",
       "      <th>integrated_snn_res.0.3</th>\n",
       "      <th>cluster_21</th>\n",
       "      <th>cell</th>\n",
       "      <th>...</th>\n",
       "      <th>integrated_snn_res.1.5</th>\n",
       "      <th>integrated_snn_res.1.6</th>\n",
       "      <th>integrated_snn_res.1.7</th>\n",
       "      <th>integrated_snn_res.1.8</th>\n",
       "      <th>integrated_snn_res.1.9</th>\n",
       "      <th>integrated_snn_res.2</th>\n",
       "      <th>Minor_class_reduction</th>\n",
       "      <th>integrated_snn_res.100</th>\n",
       "      <th>integrated_snn_res.200</th>\n",
       "      <th>Meta_cell</th>\n",
       "    </tr>\n",
       "  </thead>\n",
       "  <tbody>\n",
       "    <tr>\n",
       "      <th>AAACCCAAGATCCCAT_1</th>\n",
       "      <td>MRL_D7</td>\n",
       "      <td>5656</td>\n",
       "      <td>2173</td>\n",
       "      <td>9.282178</td>\n",
       "      <td>2</td>\n",
       "      <td>604</td>\n",
       "      <td>4</td>\n",
       "      <td>4</td>\n",
       "      <td>3</td>\n",
       "      <td>AAACCCAAGATCCCAT</td>\n",
       "      <td>...</td>\n",
       "      <td>10</td>\n",
       "      <td>9</td>\n",
       "      <td>10</td>\n",
       "      <td>10</td>\n",
       "      <td>11</td>\n",
       "      <td>9</td>\n",
       "      <td>Anti-inflammatory Mac</td>\n",
       "      <td>304</td>\n",
       "      <td>604</td>\n",
       "      <td>Meta cell_604</td>\n",
       "    </tr>\n",
       "    <tr>\n",
       "      <th>AAACCCAAGTCTGGTT_1</th>\n",
       "      <td>MRL_D7</td>\n",
       "      <td>8100</td>\n",
       "      <td>2708</td>\n",
       "      <td>7.456790</td>\n",
       "      <td>2</td>\n",
       "      <td>1254</td>\n",
       "      <td>4</td>\n",
       "      <td>4</td>\n",
       "      <td>3</td>\n",
       "      <td>AAACCCAAGTCTGGTT</td>\n",
       "      <td>...</td>\n",
       "      <td>10</td>\n",
       "      <td>9</td>\n",
       "      <td>10</td>\n",
       "      <td>10</td>\n",
       "      <td>11</td>\n",
       "      <td>9</td>\n",
       "      <td>Anti-inflammatory Mac</td>\n",
       "      <td>234</td>\n",
       "      <td>1254</td>\n",
       "      <td>Meta cell_1254</td>\n",
       "    </tr>\n",
       "    <tr>\n",
       "      <th>AAACCCACACATTACG_1</th>\n",
       "      <td>MRL_D7</td>\n",
       "      <td>5274</td>\n",
       "      <td>1918</td>\n",
       "      <td>10.807736</td>\n",
       "      <td>2</td>\n",
       "      <td>658</td>\n",
       "      <td>4</td>\n",
       "      <td>4</td>\n",
       "      <td>3</td>\n",
       "      <td>AAACCCACACATTACG</td>\n",
       "      <td>...</td>\n",
       "      <td>2</td>\n",
       "      <td>3</td>\n",
       "      <td>2</td>\n",
       "      <td>2</td>\n",
       "      <td>0</td>\n",
       "      <td>0</td>\n",
       "      <td>Spp1+ Mac</td>\n",
       "      <td>397</td>\n",
       "      <td>658</td>\n",
       "      <td>Meta cell_658</td>\n",
       "    </tr>\n",
       "    <tr>\n",
       "      <th>AAACGCTCACTATGTG_1</th>\n",
       "      <td>MRL_D7</td>\n",
       "      <td>5291</td>\n",
       "      <td>2006</td>\n",
       "      <td>4.554905</td>\n",
       "      <td>2</td>\n",
       "      <td>882</td>\n",
       "      <td>4</td>\n",
       "      <td>4</td>\n",
       "      <td>3</td>\n",
       "      <td>AAACGCTCACTATGTG</td>\n",
       "      <td>...</td>\n",
       "      <td>2</td>\n",
       "      <td>3</td>\n",
       "      <td>2</td>\n",
       "      <td>2</td>\n",
       "      <td>0</td>\n",
       "      <td>0</td>\n",
       "      <td>Spp1+ Mac</td>\n",
       "      <td>508</td>\n",
       "      <td>882</td>\n",
       "      <td>Meta cell_882</td>\n",
       "    </tr>\n",
       "    <tr>\n",
       "      <th>AAACGCTGTCGCTTGG_1</th>\n",
       "      <td>MRL_D7</td>\n",
       "      <td>11850</td>\n",
       "      <td>3044</td>\n",
       "      <td>5.468354</td>\n",
       "      <td>2</td>\n",
       "      <td>1330</td>\n",
       "      <td>4</td>\n",
       "      <td>4</td>\n",
       "      <td>3</td>\n",
       "      <td>AAACGCTGTCGCTTGG</td>\n",
       "      <td>...</td>\n",
       "      <td>10</td>\n",
       "      <td>9</td>\n",
       "      <td>10</td>\n",
       "      <td>10</td>\n",
       "      <td>0</td>\n",
       "      <td>9</td>\n",
       "      <td>Spp1+ Mac</td>\n",
       "      <td>398</td>\n",
       "      <td>1330</td>\n",
       "      <td>Meta cell_1330</td>\n",
       "    </tr>\n",
       "    <tr>\n",
       "      <th>...</th>\n",
       "      <td>...</td>\n",
       "      <td>...</td>\n",
       "      <td>...</td>\n",
       "      <td>...</td>\n",
       "      <td>...</td>\n",
       "      <td>...</td>\n",
       "      <td>...</td>\n",
       "      <td>...</td>\n",
       "      <td>...</td>\n",
       "      <td>...</td>\n",
       "      <td>...</td>\n",
       "      <td>...</td>\n",
       "      <td>...</td>\n",
       "      <td>...</td>\n",
       "      <td>...</td>\n",
       "      <td>...</td>\n",
       "      <td>...</td>\n",
       "      <td>...</td>\n",
       "      <td>...</td>\n",
       "      <td>...</td>\n",
       "      <td>...</td>\n",
       "    </tr>\n",
       "    <tr>\n",
       "      <th>TGATTTCAGGGATCAC_2</th>\n",
       "      <td>WT_D7</td>\n",
       "      <td>1677</td>\n",
       "      <td>796</td>\n",
       "      <td>7.632677</td>\n",
       "      <td>20</td>\n",
       "      <td>66</td>\n",
       "      <td>9</td>\n",
       "      <td>2</td>\n",
       "      <td>21</td>\n",
       "      <td>TGATTTCAGGGATCAC</td>\n",
       "      <td>...</td>\n",
       "      <td>14</td>\n",
       "      <td>14</td>\n",
       "      <td>29</td>\n",
       "      <td>37</td>\n",
       "      <td>32</td>\n",
       "      <td>32</td>\n",
       "      <td>B cell</td>\n",
       "      <td>348</td>\n",
       "      <td>66</td>\n",
       "      <td>Meta cell_66</td>\n",
       "    </tr>\n",
       "    <tr>\n",
       "      <th>TGCTCGTGTATGAGGC_2</th>\n",
       "      <td>WT_D7</td>\n",
       "      <td>3264</td>\n",
       "      <td>1221</td>\n",
       "      <td>7.720588</td>\n",
       "      <td>20</td>\n",
       "      <td>66</td>\n",
       "      <td>9</td>\n",
       "      <td>2</td>\n",
       "      <td>21</td>\n",
       "      <td>TGCTCGTGTATGAGGC</td>\n",
       "      <td>...</td>\n",
       "      <td>14</td>\n",
       "      <td>14</td>\n",
       "      <td>29</td>\n",
       "      <td>37</td>\n",
       "      <td>32</td>\n",
       "      <td>32</td>\n",
       "      <td>B cell</td>\n",
       "      <td>348</td>\n",
       "      <td>66</td>\n",
       "      <td>Meta cell_66</td>\n",
       "    </tr>\n",
       "    <tr>\n",
       "      <th>TGGATGTGTGTAGCAG_2</th>\n",
       "      <td>WT_D7</td>\n",
       "      <td>2104</td>\n",
       "      <td>856</td>\n",
       "      <td>6.178707</td>\n",
       "      <td>20</td>\n",
       "      <td>66</td>\n",
       "      <td>9</td>\n",
       "      <td>2</td>\n",
       "      <td>21</td>\n",
       "      <td>TGGATGTGTGTAGCAG</td>\n",
       "      <td>...</td>\n",
       "      <td>14</td>\n",
       "      <td>14</td>\n",
       "      <td>29</td>\n",
       "      <td>37</td>\n",
       "      <td>32</td>\n",
       "      <td>32</td>\n",
       "      <td>B cell</td>\n",
       "      <td>348</td>\n",
       "      <td>66</td>\n",
       "      <td>Meta cell_66</td>\n",
       "    </tr>\n",
       "    <tr>\n",
       "      <th>TGTGATGCAGGTATGG_2</th>\n",
       "      <td>WT_D7</td>\n",
       "      <td>1942</td>\n",
       "      <td>912</td>\n",
       "      <td>8.084449</td>\n",
       "      <td>20</td>\n",
       "      <td>66</td>\n",
       "      <td>9</td>\n",
       "      <td>2</td>\n",
       "      <td>21</td>\n",
       "      <td>TGTGATGCAGGTATGG</td>\n",
       "      <td>...</td>\n",
       "      <td>14</td>\n",
       "      <td>14</td>\n",
       "      <td>29</td>\n",
       "      <td>37</td>\n",
       "      <td>32</td>\n",
       "      <td>32</td>\n",
       "      <td>B cell</td>\n",
       "      <td>348</td>\n",
       "      <td>66</td>\n",
       "      <td>Meta cell_66</td>\n",
       "    </tr>\n",
       "    <tr>\n",
       "      <th>TTCTAACAGCTTACGT_2</th>\n",
       "      <td>WT_D7</td>\n",
       "      <td>2059</td>\n",
       "      <td>989</td>\n",
       "      <td>7.236523</td>\n",
       "      <td>20</td>\n",
       "      <td>66</td>\n",
       "      <td>9</td>\n",
       "      <td>2</td>\n",
       "      <td>21</td>\n",
       "      <td>TTCTAACAGCTTACGT</td>\n",
       "      <td>...</td>\n",
       "      <td>14</td>\n",
       "      <td>14</td>\n",
       "      <td>29</td>\n",
       "      <td>37</td>\n",
       "      <td>32</td>\n",
       "      <td>32</td>\n",
       "      <td>B cell</td>\n",
       "      <td>348</td>\n",
       "      <td>66</td>\n",
       "      <td>Meta cell_66</td>\n",
       "    </tr>\n",
       "  </tbody>\n",
       "</table>\n",
       "<p>18574 rows × 34 columns</p>\n",
       "</div>"
      ],
      "text/plain": [
       "                   orig.ident  nCount_RNA  nFeature_RNA  percent.mt  \\\n",
       "AAACCCAAGATCCCAT_1     MRL_D7        5656          2173    9.282178   \n",
       "AAACCCAAGTCTGGTT_1     MRL_D7        8100          2708    7.456790   \n",
       "AAACCCACACATTACG_1     MRL_D7        5274          1918   10.807736   \n",
       "AAACGCTCACTATGTG_1     MRL_D7        5291          2006    4.554905   \n",
       "AAACGCTGTCGCTTGG_1     MRL_D7       11850          3044    5.468354   \n",
       "...                       ...         ...           ...         ...   \n",
       "TGATTTCAGGGATCAC_2      WT_D7        1677           796    7.632677   \n",
       "TGCTCGTGTATGAGGC_2      WT_D7        3264          1221    7.720588   \n",
       "TGGATGTGTGTAGCAG_2      WT_D7        2104           856    6.178707   \n",
       "TGTGATGCAGGTATGG_2      WT_D7        1942           912    8.084449   \n",
       "TTCTAACAGCTTACGT_2      WT_D7        2059           989    7.236523   \n",
       "\n",
       "                    integrated_snn_res.0.5  seurat_clusters  \\\n",
       "AAACCCAAGATCCCAT_1                       2              604   \n",
       "AAACCCAAGTCTGGTT_1                       2             1254   \n",
       "AAACCCACACATTACG_1                       2              658   \n",
       "AAACGCTCACTATGTG_1                       2              882   \n",
       "AAACGCTGTCGCTTGG_1                       2             1330   \n",
       "...                                    ...              ...   \n",
       "TGATTTCAGGGATCAC_2                      20               66   \n",
       "TGCTCGTGTATGAGGC_2                      20               66   \n",
       "TGGATGTGTGTAGCAG_2                      20               66   \n",
       "TGTGATGCAGGTATGG_2                      20               66   \n",
       "TTCTAACAGCTTACGT_2                      20               66   \n",
       "\n",
       "                    integrated_snn_res.0.4  integrated_snn_res.0.3  \\\n",
       "AAACCCAAGATCCCAT_1                       4                       4   \n",
       "AAACCCAAGTCTGGTT_1                       4                       4   \n",
       "AAACCCACACATTACG_1                       4                       4   \n",
       "AAACGCTCACTATGTG_1                       4                       4   \n",
       "AAACGCTGTCGCTTGG_1                       4                       4   \n",
       "...                                    ...                     ...   \n",
       "TGATTTCAGGGATCAC_2                       9                       2   \n",
       "TGCTCGTGTATGAGGC_2                       9                       2   \n",
       "TGGATGTGTGTAGCAG_2                       9                       2   \n",
       "TGTGATGCAGGTATGG_2                       9                       2   \n",
       "TTCTAACAGCTTACGT_2                       9                       2   \n",
       "\n",
       "                    cluster_21              cell  ... integrated_snn_res.1.5  \\\n",
       "AAACCCAAGATCCCAT_1           3  AAACCCAAGATCCCAT  ...                     10   \n",
       "AAACCCAAGTCTGGTT_1           3  AAACCCAAGTCTGGTT  ...                     10   \n",
       "AAACCCACACATTACG_1           3  AAACCCACACATTACG  ...                      2   \n",
       "AAACGCTCACTATGTG_1           3  AAACGCTCACTATGTG  ...                      2   \n",
       "AAACGCTGTCGCTTGG_1           3  AAACGCTGTCGCTTGG  ...                     10   \n",
       "...                        ...               ...  ...                    ...   \n",
       "TGATTTCAGGGATCAC_2          21  TGATTTCAGGGATCAC  ...                     14   \n",
       "TGCTCGTGTATGAGGC_2          21  TGCTCGTGTATGAGGC  ...                     14   \n",
       "TGGATGTGTGTAGCAG_2          21  TGGATGTGTGTAGCAG  ...                     14   \n",
       "TGTGATGCAGGTATGG_2          21  TGTGATGCAGGTATGG  ...                     14   \n",
       "TTCTAACAGCTTACGT_2          21  TTCTAACAGCTTACGT  ...                     14   \n",
       "\n",
       "                   integrated_snn_res.1.6 integrated_snn_res.1.7  \\\n",
       "AAACCCAAGATCCCAT_1                      9                     10   \n",
       "AAACCCAAGTCTGGTT_1                      9                     10   \n",
       "AAACCCACACATTACG_1                      3                      2   \n",
       "AAACGCTCACTATGTG_1                      3                      2   \n",
       "AAACGCTGTCGCTTGG_1                      9                     10   \n",
       "...                                   ...                    ...   \n",
       "TGATTTCAGGGATCAC_2                     14                     29   \n",
       "TGCTCGTGTATGAGGC_2                     14                     29   \n",
       "TGGATGTGTGTAGCAG_2                     14                     29   \n",
       "TGTGATGCAGGTATGG_2                     14                     29   \n",
       "TTCTAACAGCTTACGT_2                     14                     29   \n",
       "\n",
       "                    integrated_snn_res.1.8  integrated_snn_res.1.9  \\\n",
       "AAACCCAAGATCCCAT_1                      10                      11   \n",
       "AAACCCAAGTCTGGTT_1                      10                      11   \n",
       "AAACCCACACATTACG_1                       2                       0   \n",
       "AAACGCTCACTATGTG_1                       2                       0   \n",
       "AAACGCTGTCGCTTGG_1                      10                       0   \n",
       "...                                    ...                     ...   \n",
       "TGATTTCAGGGATCAC_2                      37                      32   \n",
       "TGCTCGTGTATGAGGC_2                      37                      32   \n",
       "TGGATGTGTGTAGCAG_2                      37                      32   \n",
       "TGTGATGCAGGTATGG_2                      37                      32   \n",
       "TTCTAACAGCTTACGT_2                      37                      32   \n",
       "\n",
       "                    integrated_snn_res.2  Minor_class_reduction  \\\n",
       "AAACCCAAGATCCCAT_1                     9  Anti-inflammatory Mac   \n",
       "AAACCCAAGTCTGGTT_1                     9  Anti-inflammatory Mac   \n",
       "AAACCCACACATTACG_1                     0              Spp1+ Mac   \n",
       "AAACGCTCACTATGTG_1                     0              Spp1+ Mac   \n",
       "AAACGCTGTCGCTTGG_1                     9              Spp1+ Mac   \n",
       "...                                  ...                    ...   \n",
       "TGATTTCAGGGATCAC_2                    32                 B cell   \n",
       "TGCTCGTGTATGAGGC_2                    32                 B cell   \n",
       "TGGATGTGTGTAGCAG_2                    32                 B cell   \n",
       "TGTGATGCAGGTATGG_2                    32                 B cell   \n",
       "TTCTAACAGCTTACGT_2                    32                 B cell   \n",
       "\n",
       "                    integrated_snn_res.100  integrated_snn_res.200  \\\n",
       "AAACCCAAGATCCCAT_1                     304                     604   \n",
       "AAACCCAAGTCTGGTT_1                     234                    1254   \n",
       "AAACCCACACATTACG_1                     397                     658   \n",
       "AAACGCTCACTATGTG_1                     508                     882   \n",
       "AAACGCTGTCGCTTGG_1                     398                    1330   \n",
       "...                                    ...                     ...   \n",
       "TGATTTCAGGGATCAC_2                     348                      66   \n",
       "TGCTCGTGTATGAGGC_2                     348                      66   \n",
       "TGGATGTGTGTAGCAG_2                     348                      66   \n",
       "TGTGATGCAGGTATGG_2                     348                      66   \n",
       "TTCTAACAGCTTACGT_2                     348                      66   \n",
       "\n",
       "                         Meta_cell  \n",
       "AAACCCAAGATCCCAT_1   Meta cell_604  \n",
       "AAACCCAAGTCTGGTT_1  Meta cell_1254  \n",
       "AAACCCACACATTACG_1   Meta cell_658  \n",
       "AAACGCTCACTATGTG_1   Meta cell_882  \n",
       "AAACGCTGTCGCTTGG_1  Meta cell_1330  \n",
       "...                            ...  \n",
       "TGATTTCAGGGATCAC_2    Meta cell_66  \n",
       "TGCTCGTGTATGAGGC_2    Meta cell_66  \n",
       "TGGATGTGTGTAGCAG_2    Meta cell_66  \n",
       "TGTGATGCAGGTATGG_2    Meta cell_66  \n",
       "TTCTAACAGCTTACGT_2    Meta cell_66  \n",
       "\n",
       "[18574 rows x 34 columns]"
      ]
     },
     "execution_count": 14,
     "metadata": {},
     "output_type": "execute_result"
    }
   ],
   "source": [
    "adata_ref.obs"
   ]
  },
  {
   "cell_type": "code",
   "execution_count": 15,
   "id": "a83595c8",
   "metadata": {},
   "outputs": [],
   "source": [
    "# prepare anndata for the regression model\n",
    "cell2location.models.RegressionModel.setup_anndata(adata=adata_ref,\n",
    "                                                           # 10X reaction / sample / batch\n",
    "                                                           batch_key='orig.ident',               \n",
    "                                                           # cell type, covariate used for constructing signatures\n",
    "                                                           labels_key='Minor_class_reduction',\n",
    "                                                           # multiplicative technical effects (platform, 3' vs 5', donor effect)\n",
    "                                                           categorical_covariate_keys=['orig.ident']\n",
    "                                                          )"
   ]
  },
  {
   "cell_type": "code",
   "execution_count": 16,
   "id": "de549219",
   "metadata": {},
   "outputs": [
    {
     "data": {
      "text/html": [
       "<pre style=\"white-space:pre;overflow-x:auto;line-height:normal;font-family:Menlo,'DejaVu Sans Mono',consolas,'Courier New',monospace\">Anndata setup with scvi-tools version <span style=\"color: #008080; text-decoration-color: #008080; font-weight: bold\">0.16</span>.<span style=\"color: #008080; text-decoration-color: #008080; font-weight: bold\">0</span>.\n",
       "</pre>\n"
      ],
      "text/plain": [
       "Anndata setup with scvi-tools version \u001b[1;36m0.16\u001b[0m.\u001b[1;36m0\u001b[0m.\n"
      ]
     },
     "metadata": {},
     "output_type": "display_data"
    },
    {
     "data": {
      "text/html": [
       "<pre style=\"white-space:pre;overflow-x:auto;line-height:normal;font-family:Menlo,'DejaVu Sans Mono',consolas,'Courier New',monospace\">\n",
       "</pre>\n"
      ],
      "text/plain": [
       "\n"
      ]
     },
     "metadata": {},
     "output_type": "display_data"
    },
    {
     "data": {
      "text/html": [
       "<pre style=\"white-space:pre;overflow-x:auto;line-height:normal;font-family:Menlo,'DejaVu Sans Mono',consolas,'Courier New',monospace\">Setup via `RegressionModel.setup_anndata` with arguments:\n",
       "</pre>\n"
      ],
      "text/plain": [
       "Setup via `RegressionModel.setup_anndata` with arguments:\n"
      ]
     },
     "metadata": {},
     "output_type": "display_data"
    },
    {
     "data": {
      "text/html": [
       "<pre style=\"white-space:pre;overflow-x:auto;line-height:normal;font-family:Menlo,'DejaVu Sans Mono',consolas,'Courier New',monospace\"><span style=\"font-weight: bold\">{</span>\n",
       "<span style=\"color: #7fbf7f; text-decoration-color: #7fbf7f\">│   </span><span style=\"color: #008000; text-decoration-color: #008000\">'layer'</span>: <span style=\"color: #800080; text-decoration-color: #800080; font-style: italic\">None</span>,\n",
       "<span style=\"color: #7fbf7f; text-decoration-color: #7fbf7f\">│   </span><span style=\"color: #008000; text-decoration-color: #008000\">'batch_key'</span>: <span style=\"color: #008000; text-decoration-color: #008000\">'orig.ident'</span>,\n",
       "<span style=\"color: #7fbf7f; text-decoration-color: #7fbf7f\">│   </span><span style=\"color: #008000; text-decoration-color: #008000\">'labels_key'</span>: <span style=\"color: #008000; text-decoration-color: #008000\">'Minor_class_reduction'</span>,\n",
       "<span style=\"color: #7fbf7f; text-decoration-color: #7fbf7f\">│   </span><span style=\"color: #008000; text-decoration-color: #008000\">'categorical_covariate_keys'</span>: <span style=\"font-weight: bold\">[</span><span style=\"color: #008000; text-decoration-color: #008000\">'orig.ident'</span><span style=\"font-weight: bold\">]</span>,\n",
       "<span style=\"color: #7fbf7f; text-decoration-color: #7fbf7f\">│   </span><span style=\"color: #008000; text-decoration-color: #008000\">'continuous_covariate_keys'</span>: <span style=\"color: #800080; text-decoration-color: #800080; font-style: italic\">None</span>\n",
       "<span style=\"font-weight: bold\">}</span>\n",
       "</pre>\n"
      ],
      "text/plain": [
       "\u001b[1m{\u001b[0m\n",
       "\u001b[2;32m│   \u001b[0m\u001b[32m'layer'\u001b[0m: \u001b[3;35mNone\u001b[0m,\n",
       "\u001b[2;32m│   \u001b[0m\u001b[32m'batch_key'\u001b[0m: \u001b[32m'orig.ident'\u001b[0m,\n",
       "\u001b[2;32m│   \u001b[0m\u001b[32m'labels_key'\u001b[0m: \u001b[32m'Minor_class_reduction'\u001b[0m,\n",
       "\u001b[2;32m│   \u001b[0m\u001b[32m'categorical_covariate_keys'\u001b[0m: \u001b[1m[\u001b[0m\u001b[32m'orig.ident'\u001b[0m\u001b[1m]\u001b[0m,\n",
       "\u001b[2;32m│   \u001b[0m\u001b[32m'continuous_covariate_keys'\u001b[0m: \u001b[3;35mNone\u001b[0m\n",
       "\u001b[1m}\u001b[0m\n"
      ]
     },
     "metadata": {},
     "output_type": "display_data"
    },
    {
     "data": {
      "text/html": [
       "<pre style=\"white-space:pre;overflow-x:auto;line-height:normal;font-family:Menlo,'DejaVu Sans Mono',consolas,'Courier New',monospace\">\n",
       "</pre>\n"
      ],
      "text/plain": [
       "\n"
      ]
     },
     "metadata": {},
     "output_type": "display_data"
    },
    {
     "data": {
      "text/html": [
       "<pre style=\"white-space:pre;overflow-x:auto;line-height:normal;font-family:Menlo,'DejaVu Sans Mono',consolas,'Courier New',monospace\"><span style=\"font-style: italic\">         Summary Statistics         </span>\n",
       "┏━━━━━━━━━━━━━━━━━━━━━━━━━━┳━━━━━━━┓\n",
       "┃<span style=\"font-weight: bold\">     Summary Stat Key     </span>┃<span style=\"font-weight: bold\"> Value </span>┃\n",
       "┡━━━━━━━━━━━━━━━━━━━━━━━━━━╇━━━━━━━┩\n",
       "│<span style=\"color: #0087ff; text-decoration-color: #0087ff\">         n_cells          </span>│<span style=\"color: #af00d7; text-decoration-color: #af00d7\"> 18574 </span>│\n",
       "│<span style=\"color: #0087ff; text-decoration-color: #0087ff\">          n_vars          </span>│<span style=\"color: #af00d7; text-decoration-color: #af00d7\"> 13304 </span>│\n",
       "│<span style=\"color: #0087ff; text-decoration-color: #0087ff\">         n_batch          </span>│<span style=\"color: #af00d7; text-decoration-color: #af00d7\">   2   </span>│\n",
       "│<span style=\"color: #0087ff; text-decoration-color: #0087ff\">         n_labels         </span>│<span style=\"color: #af00d7; text-decoration-color: #af00d7\">  20   </span>│\n",
       "│<span style=\"color: #0087ff; text-decoration-color: #0087ff\"> n_extra_categorical_covs </span>│<span style=\"color: #af00d7; text-decoration-color: #af00d7\">   1   </span>│\n",
       "│<span style=\"color: #0087ff; text-decoration-color: #0087ff\"> n_extra_continuous_covs  </span>│<span style=\"color: #af00d7; text-decoration-color: #af00d7\">   0   </span>│\n",
       "└──────────────────────────┴───────┘\n",
       "</pre>\n"
      ],
      "text/plain": [
       "\u001b[3m         Summary Statistics         \u001b[0m\n",
       "┏━━━━━━━━━━━━━━━━━━━━━━━━━━┳━━━━━━━┓\n",
       "┃\u001b[1m \u001b[0m\u001b[1m    Summary Stat Key    \u001b[0m\u001b[1m \u001b[0m┃\u001b[1m \u001b[0m\u001b[1mValue\u001b[0m\u001b[1m \u001b[0m┃\n",
       "┡━━━━━━━━━━━━━━━━━━━━━━━━━━╇━━━━━━━┩\n",
       "│\u001b[38;5;33m \u001b[0m\u001b[38;5;33m        n_cells         \u001b[0m\u001b[38;5;33m \u001b[0m│\u001b[38;5;128m \u001b[0m\u001b[38;5;128m18574\u001b[0m\u001b[38;5;128m \u001b[0m│\n",
       "│\u001b[38;5;33m \u001b[0m\u001b[38;5;33m         n_vars         \u001b[0m\u001b[38;5;33m \u001b[0m│\u001b[38;5;128m \u001b[0m\u001b[38;5;128m13304\u001b[0m\u001b[38;5;128m \u001b[0m│\n",
       "│\u001b[38;5;33m \u001b[0m\u001b[38;5;33m        n_batch         \u001b[0m\u001b[38;5;33m \u001b[0m│\u001b[38;5;128m \u001b[0m\u001b[38;5;128m  2  \u001b[0m\u001b[38;5;128m \u001b[0m│\n",
       "│\u001b[38;5;33m \u001b[0m\u001b[38;5;33m        n_labels        \u001b[0m\u001b[38;5;33m \u001b[0m│\u001b[38;5;128m \u001b[0m\u001b[38;5;128m 20  \u001b[0m\u001b[38;5;128m \u001b[0m│\n",
       "│\u001b[38;5;33m \u001b[0m\u001b[38;5;33mn_extra_categorical_covs\u001b[0m\u001b[38;5;33m \u001b[0m│\u001b[38;5;128m \u001b[0m\u001b[38;5;128m  1  \u001b[0m\u001b[38;5;128m \u001b[0m│\n",
       "│\u001b[38;5;33m \u001b[0m\u001b[38;5;33mn_extra_continuous_covs \u001b[0m\u001b[38;5;33m \u001b[0m│\u001b[38;5;128m \u001b[0m\u001b[38;5;128m  0  \u001b[0m\u001b[38;5;128m \u001b[0m│\n",
       "└──────────────────────────┴───────┘\n"
      ]
     },
     "metadata": {},
     "output_type": "display_data"
    },
    {
     "data": {
      "text/html": [
       "<pre style=\"white-space:pre;overflow-x:auto;line-height:normal;font-family:Menlo,'DejaVu Sans Mono',consolas,'Courier New',monospace\"><span style=\"font-style: italic\">                             Data Registry                             </span>\n",
       "┏━━━━━━━━━━━━━━━━━━━━━━━━┳━━━━━━━━━━━━━━━━━━━━━━━━━━━━━━━━━━━━━━━━━━━━┓\n",
       "┃<span style=\"font-weight: bold\">      Registry Key      </span>┃<span style=\"font-weight: bold\">            scvi-tools Location             </span>┃\n",
       "┡━━━━━━━━━━━━━━━━━━━━━━━━╇━━━━━━━━━━━━━━━━━━━━━━━━━━━━━━━━━━━━━━━━━━━━┩\n",
       "│<span style=\"color: #0087ff; text-decoration-color: #0087ff\">           X            </span>│<span style=\"color: #af00d7; text-decoration-color: #af00d7\">                  adata.X                   </span>│\n",
       "│<span style=\"color: #0087ff; text-decoration-color: #0087ff\">         batch          </span>│<span style=\"color: #af00d7; text-decoration-color: #af00d7\">          adata.obs['_scvi_batch']          </span>│\n",
       "│<span style=\"color: #0087ff; text-decoration-color: #0087ff\">         labels         </span>│<span style=\"color: #af00d7; text-decoration-color: #af00d7\">         adata.obs['_scvi_labels']          </span>│\n",
       "│<span style=\"color: #0087ff; text-decoration-color: #0087ff\"> extra_categorical_covs </span>│<span style=\"color: #af00d7; text-decoration-color: #af00d7\"> adata.obsm['_scvi_extra_categorical_covs'] </span>│\n",
       "│<span style=\"color: #0087ff; text-decoration-color: #0087ff\">         ind_x          </span>│<span style=\"color: #af00d7; text-decoration-color: #af00d7\">           adata.obs['_indices']            </span>│\n",
       "└────────────────────────┴────────────────────────────────────────────┘\n",
       "</pre>\n"
      ],
      "text/plain": [
       "\u001b[3m                             Data Registry                             \u001b[0m\n",
       "┏━━━━━━━━━━━━━━━━━━━━━━━━┳━━━━━━━━━━━━━━━━━━━━━━━━━━━━━━━━━━━━━━━━━━━━┓\n",
       "┃\u001b[1m \u001b[0m\u001b[1m     Registry Key     \u001b[0m\u001b[1m \u001b[0m┃\u001b[1m \u001b[0m\u001b[1m           scvi-tools Location            \u001b[0m\u001b[1m \u001b[0m┃\n",
       "┡━━━━━━━━━━━━━━━━━━━━━━━━╇━━━━━━━━━━━━━━━━━━━━━━━━━━━━━━━━━━━━━━━━━━━━┩\n",
       "│\u001b[38;5;33m \u001b[0m\u001b[38;5;33m          X           \u001b[0m\u001b[38;5;33m \u001b[0m│\u001b[38;5;128m \u001b[0m\u001b[38;5;128m                 adata.X                  \u001b[0m\u001b[38;5;128m \u001b[0m│\n",
       "│\u001b[38;5;33m \u001b[0m\u001b[38;5;33m        batch         \u001b[0m\u001b[38;5;33m \u001b[0m│\u001b[38;5;128m \u001b[0m\u001b[38;5;128m         adata.obs['_scvi_batch']         \u001b[0m\u001b[38;5;128m \u001b[0m│\n",
       "│\u001b[38;5;33m \u001b[0m\u001b[38;5;33m        labels        \u001b[0m\u001b[38;5;33m \u001b[0m│\u001b[38;5;128m \u001b[0m\u001b[38;5;128m        adata.obs['_scvi_labels']         \u001b[0m\u001b[38;5;128m \u001b[0m│\n",
       "│\u001b[38;5;33m \u001b[0m\u001b[38;5;33mextra_categorical_covs\u001b[0m\u001b[38;5;33m \u001b[0m│\u001b[38;5;128m \u001b[0m\u001b[38;5;128madata.obsm['_scvi_extra_categorical_covs']\u001b[0m\u001b[38;5;128m \u001b[0m│\n",
       "│\u001b[38;5;33m \u001b[0m\u001b[38;5;33m        ind_x         \u001b[0m\u001b[38;5;33m \u001b[0m│\u001b[38;5;128m \u001b[0m\u001b[38;5;128m          adata.obs['_indices']           \u001b[0m\u001b[38;5;128m \u001b[0m│\n",
       "└────────────────────────┴────────────────────────────────────────────┘\n"
      ]
     },
     "metadata": {},
     "output_type": "display_data"
    },
    {
     "data": {
      "text/html": [
       "<pre style=\"white-space:pre;overflow-x:auto;line-height:normal;font-family:Menlo,'DejaVu Sans Mono',consolas,'Courier New',monospace\"><span style=\"font-style: italic\">                     batch State Registry                     </span>\n",
       "┏━━━━━━━━━━━━━━━━━━━━━━━━━┳━━━━━━━━━━━━┳━━━━━━━━━━━━━━━━━━━━━┓\n",
       "┃<span style=\"font-weight: bold\">     Source Location     </span>┃<span style=\"font-weight: bold\"> Categories </span>┃<span style=\"font-weight: bold\"> scvi-tools Encoding </span>┃\n",
       "┡━━━━━━━━━━━━━━━━━━━━━━━━━╇━━━━━━━━━━━━╇━━━━━━━━━━━━━━━━━━━━━┩\n",
       "│<span style=\"color: #0087ff; text-decoration-color: #0087ff\"> adata.obs['orig.ident'] </span>│<span style=\"color: #008000; text-decoration-color: #008000\">   MRL_D7   </span>│<span style=\"color: #af00d7; text-decoration-color: #af00d7\">          0          </span>│\n",
       "│<span style=\"color: #0087ff; text-decoration-color: #0087ff\">                         </span>│<span style=\"color: #008000; text-decoration-color: #008000\">   WT_D7    </span>│<span style=\"color: #af00d7; text-decoration-color: #af00d7\">          1          </span>│\n",
       "└─────────────────────────┴────────────┴─────────────────────┘\n",
       "</pre>\n"
      ],
      "text/plain": [
       "\u001b[3m                     batch State Registry                     \u001b[0m\n",
       "┏━━━━━━━━━━━━━━━━━━━━━━━━━┳━━━━━━━━━━━━┳━━━━━━━━━━━━━━━━━━━━━┓\n",
       "┃\u001b[1m \u001b[0m\u001b[1m    Source Location    \u001b[0m\u001b[1m \u001b[0m┃\u001b[1m \u001b[0m\u001b[1mCategories\u001b[0m\u001b[1m \u001b[0m┃\u001b[1m \u001b[0m\u001b[1mscvi-tools Encoding\u001b[0m\u001b[1m \u001b[0m┃\n",
       "┡━━━━━━━━━━━━━━━━━━━━━━━━━╇━━━━━━━━━━━━╇━━━━━━━━━━━━━━━━━━━━━┩\n",
       "│\u001b[38;5;33m \u001b[0m\u001b[38;5;33madata.obs['orig.ident']\u001b[0m\u001b[38;5;33m \u001b[0m│\u001b[32m \u001b[0m\u001b[32m  MRL_D7  \u001b[0m\u001b[32m \u001b[0m│\u001b[38;5;128m \u001b[0m\u001b[38;5;128m         0         \u001b[0m\u001b[38;5;128m \u001b[0m│\n",
       "│\u001b[38;5;33m \u001b[0m\u001b[38;5;33m                       \u001b[0m\u001b[38;5;33m \u001b[0m│\u001b[32m \u001b[0m\u001b[32m  WT_D7   \u001b[0m\u001b[32m \u001b[0m│\u001b[38;5;128m \u001b[0m\u001b[38;5;128m         1         \u001b[0m\u001b[38;5;128m \u001b[0m│\n",
       "└─────────────────────────┴────────────┴─────────────────────┘\n"
      ]
     },
     "metadata": {},
     "output_type": "display_data"
    },
    {
     "data": {
      "text/html": [
       "<pre style=\"white-space:pre;overflow-x:auto;line-height:normal;font-family:Menlo,'DejaVu Sans Mono',consolas,'Courier New',monospace\"><span style=\"font-style: italic\">                                labels State Registry                                 </span>\n",
       "┏━━━━━━━━━━━━━━━━━━━━━━━━━━━━━━━━━━━━┳━━━━━━━━━━━━━━━━━━━━━━━━━┳━━━━━━━━━━━━━━━━━━━━━┓\n",
       "┃<span style=\"font-weight: bold\">          Source Location           </span>┃<span style=\"font-weight: bold\">       Categories        </span>┃<span style=\"font-weight: bold\"> scvi-tools Encoding </span>┃\n",
       "┡━━━━━━━━━━━━━━━━━━━━━━━━━━━━━━━━━━━━╇━━━━━━━━━━━━━━━━━━━━━━━━━╇━━━━━━━━━━━━━━━━━━━━━┩\n",
       "│<span style=\"color: #0087ff; text-decoration-color: #0087ff\"> adata.obs['Minor_class_reduction'] </span>│<span style=\"color: #008000; text-decoration-color: #008000\">  Anti-inflammatory Mac  </span>│<span style=\"color: #af00d7; text-decoration-color: #af00d7\">          0          </span>│\n",
       "│<span style=\"color: #0087ff; text-decoration-color: #0087ff\">                                    </span>│<span style=\"color: #008000; text-decoration-color: #008000\">         B cell          </span>│<span style=\"color: #af00d7; text-decoration-color: #af00d7\">          1          </span>│\n",
       "│<span style=\"color: #0087ff; text-decoration-color: #0087ff\">                                    </span>│<span style=\"color: #008000; text-decoration-color: #008000\">        Basophil         </span>│<span style=\"color: #af00d7; text-decoration-color: #af00d7\">          2          </span>│\n",
       "│<span style=\"color: #0087ff; text-decoration-color: #0087ff\">                                    </span>│<span style=\"color: #008000; text-decoration-color: #008000\">       Chondrocyte       </span>│<span style=\"color: #af00d7; text-decoration-color: #af00d7\">          3          </span>│\n",
       "│<span style=\"color: #0087ff; text-decoration-color: #0087ff\">                                    </span>│<span style=\"color: #008000; text-decoration-color: #008000\">     Dendritic cell      </span>│<span style=\"color: #af00d7; text-decoration-color: #af00d7\">          4          </span>│\n",
       "│<span style=\"color: #0087ff; text-decoration-color: #0087ff\">                                    </span>│<span style=\"color: #008000; text-decoration-color: #008000\">  ECM-remodeling fibro   </span>│<span style=\"color: #af00d7; text-decoration-color: #af00d7\">          5          </span>│\n",
       "│<span style=\"color: #0087ff; text-decoration-color: #0087ff\">                                    </span>│<span style=\"color: #008000; text-decoration-color: #008000\"> ECM-remodeling myofibro </span>│<span style=\"color: #af00d7; text-decoration-color: #af00d7\">          6          </span>│\n",
       "│<span style=\"color: #0087ff; text-decoration-color: #0087ff\">                                    </span>│<span style=\"color: #008000; text-decoration-color: #008000\">    Endothelial cell     </span>│<span style=\"color: #af00d7; text-decoration-color: #af00d7\">          7          </span>│\n",
       "│<span style=\"color: #0087ff; text-decoration-color: #0087ff\">                                    </span>│<span style=\"color: #008000; text-decoration-color: #008000\">   Inflammatory fibro    </span>│<span style=\"color: #af00d7; text-decoration-color: #af00d7\">          8          </span>│\n",
       "│<span style=\"color: #0087ff; text-decoration-color: #0087ff\">                                    </span>│<span style=\"color: #008000; text-decoration-color: #008000\">      Keratinocyte       </span>│<span style=\"color: #af00d7; text-decoration-color: #af00d7\">          9          </span>│\n",
       "│<span style=\"color: #0087ff; text-decoration-color: #0087ff\">                                    </span>│<span style=\"color: #008000; text-decoration-color: #008000\"> Lesion-induced myofibro </span>│<span style=\"color: #af00d7; text-decoration-color: #af00d7\">         10          </span>│\n",
       "│<span style=\"color: #0087ff; text-decoration-color: #0087ff\">                                    </span>│<span style=\"color: #008000; text-decoration-color: #008000\">       MHCII+ Mac        </span>│<span style=\"color: #af00d7; text-decoration-color: #af00d7\">         11          </span>│\n",
       "│<span style=\"color: #0087ff; text-decoration-color: #0087ff\">                                    </span>│<span style=\"color: #008000; text-decoration-color: #008000\">        Mast cell        </span>│<span style=\"color: #af00d7; text-decoration-color: #af00d7\">         12          </span>│\n",
       "│<span style=\"color: #0087ff; text-decoration-color: #0087ff\">                                    </span>│<span style=\"color: #008000; text-decoration-color: #008000\">        Monocyte         </span>│<span style=\"color: #af00d7; text-decoration-color: #af00d7\">         13          </span>│\n",
       "│<span style=\"color: #0087ff; text-decoration-color: #0087ff\">                                    </span>│<span style=\"color: #008000; text-decoration-color: #008000\">       Neutrophil        </span>│<span style=\"color: #af00d7; text-decoration-color: #af00d7\">         14          </span>│\n",
       "│<span style=\"color: #0087ff; text-decoration-color: #0087ff\">                                    </span>│<span style=\"color: #008000; text-decoration-color: #008000\">    Perivascular cell    </span>│<span style=\"color: #af00d7; text-decoration-color: #af00d7\">         15          </span>│\n",
       "│<span style=\"color: #0087ff; text-decoration-color: #0087ff\">                                    </span>│<span style=\"color: #008000; text-decoration-color: #008000\">    Pro-fibrotic Mac     </span>│<span style=\"color: #af00d7; text-decoration-color: #af00d7\">         16          </span>│\n",
       "│<span style=\"color: #0087ff; text-decoration-color: #0087ff\">                                    </span>│<span style=\"color: #008000; text-decoration-color: #008000\">     Satellite cell      </span>│<span style=\"color: #af00d7; text-decoration-color: #af00d7\">         17          </span>│\n",
       "│<span style=\"color: #0087ff; text-decoration-color: #0087ff\">                                    </span>│<span style=\"color: #008000; text-decoration-color: #008000\">        Spp1+ Mac        </span>│<span style=\"color: #af00d7; text-decoration-color: #af00d7\">         18          </span>│\n",
       "│<span style=\"color: #0087ff; text-decoration-color: #0087ff\">                                    </span>│<span style=\"color: #008000; text-decoration-color: #008000\">         T cell          </span>│<span style=\"color: #af00d7; text-decoration-color: #af00d7\">         19          </span>│\n",
       "└────────────────────────────────────┴─────────────────────────┴─────────────────────┘\n",
       "</pre>\n"
      ],
      "text/plain": [
       "\u001b[3m                                labels State Registry                                 \u001b[0m\n",
       "┏━━━━━━━━━━━━━━━━━━━━━━━━━━━━━━━━━━━━┳━━━━━━━━━━━━━━━━━━━━━━━━━┳━━━━━━━━━━━━━━━━━━━━━┓\n",
       "┃\u001b[1m \u001b[0m\u001b[1m         Source Location          \u001b[0m\u001b[1m \u001b[0m┃\u001b[1m \u001b[0m\u001b[1m      Categories       \u001b[0m\u001b[1m \u001b[0m┃\u001b[1m \u001b[0m\u001b[1mscvi-tools Encoding\u001b[0m\u001b[1m \u001b[0m┃\n",
       "┡━━━━━━━━━━━━━━━━━━━━━━━━━━━━━━━━━━━━╇━━━━━━━━━━━━━━━━━━━━━━━━━╇━━━━━━━━━━━━━━━━━━━━━┩\n",
       "│\u001b[38;5;33m \u001b[0m\u001b[38;5;33madata.obs['Minor_class_reduction']\u001b[0m\u001b[38;5;33m \u001b[0m│\u001b[32m \u001b[0m\u001b[32m Anti-inflammatory Mac \u001b[0m\u001b[32m \u001b[0m│\u001b[38;5;128m \u001b[0m\u001b[38;5;128m         0         \u001b[0m\u001b[38;5;128m \u001b[0m│\n",
       "│\u001b[38;5;33m \u001b[0m\u001b[38;5;33m                                  \u001b[0m\u001b[38;5;33m \u001b[0m│\u001b[32m \u001b[0m\u001b[32m        B cell         \u001b[0m\u001b[32m \u001b[0m│\u001b[38;5;128m \u001b[0m\u001b[38;5;128m         1         \u001b[0m\u001b[38;5;128m \u001b[0m│\n",
       "│\u001b[38;5;33m \u001b[0m\u001b[38;5;33m                                  \u001b[0m\u001b[38;5;33m \u001b[0m│\u001b[32m \u001b[0m\u001b[32m       Basophil        \u001b[0m\u001b[32m \u001b[0m│\u001b[38;5;128m \u001b[0m\u001b[38;5;128m         2         \u001b[0m\u001b[38;5;128m \u001b[0m│\n",
       "│\u001b[38;5;33m \u001b[0m\u001b[38;5;33m                                  \u001b[0m\u001b[38;5;33m \u001b[0m│\u001b[32m \u001b[0m\u001b[32m      Chondrocyte      \u001b[0m\u001b[32m \u001b[0m│\u001b[38;5;128m \u001b[0m\u001b[38;5;128m         3         \u001b[0m\u001b[38;5;128m \u001b[0m│\n",
       "│\u001b[38;5;33m \u001b[0m\u001b[38;5;33m                                  \u001b[0m\u001b[38;5;33m \u001b[0m│\u001b[32m \u001b[0m\u001b[32m    Dendritic cell     \u001b[0m\u001b[32m \u001b[0m│\u001b[38;5;128m \u001b[0m\u001b[38;5;128m         4         \u001b[0m\u001b[38;5;128m \u001b[0m│\n",
       "│\u001b[38;5;33m \u001b[0m\u001b[38;5;33m                                  \u001b[0m\u001b[38;5;33m \u001b[0m│\u001b[32m \u001b[0m\u001b[32m ECM-remodeling fibro  \u001b[0m\u001b[32m \u001b[0m│\u001b[38;5;128m \u001b[0m\u001b[38;5;128m         5         \u001b[0m\u001b[38;5;128m \u001b[0m│\n",
       "│\u001b[38;5;33m \u001b[0m\u001b[38;5;33m                                  \u001b[0m\u001b[38;5;33m \u001b[0m│\u001b[32m \u001b[0m\u001b[32mECM-remodeling myofibro\u001b[0m\u001b[32m \u001b[0m│\u001b[38;5;128m \u001b[0m\u001b[38;5;128m         6         \u001b[0m\u001b[38;5;128m \u001b[0m│\n",
       "│\u001b[38;5;33m \u001b[0m\u001b[38;5;33m                                  \u001b[0m\u001b[38;5;33m \u001b[0m│\u001b[32m \u001b[0m\u001b[32m   Endothelial cell    \u001b[0m\u001b[32m \u001b[0m│\u001b[38;5;128m \u001b[0m\u001b[38;5;128m         7         \u001b[0m\u001b[38;5;128m \u001b[0m│\n",
       "│\u001b[38;5;33m \u001b[0m\u001b[38;5;33m                                  \u001b[0m\u001b[38;5;33m \u001b[0m│\u001b[32m \u001b[0m\u001b[32m  Inflammatory fibro   \u001b[0m\u001b[32m \u001b[0m│\u001b[38;5;128m \u001b[0m\u001b[38;5;128m         8         \u001b[0m\u001b[38;5;128m \u001b[0m│\n",
       "│\u001b[38;5;33m \u001b[0m\u001b[38;5;33m                                  \u001b[0m\u001b[38;5;33m \u001b[0m│\u001b[32m \u001b[0m\u001b[32m     Keratinocyte      \u001b[0m\u001b[32m \u001b[0m│\u001b[38;5;128m \u001b[0m\u001b[38;5;128m         9         \u001b[0m\u001b[38;5;128m \u001b[0m│\n",
       "│\u001b[38;5;33m \u001b[0m\u001b[38;5;33m                                  \u001b[0m\u001b[38;5;33m \u001b[0m│\u001b[32m \u001b[0m\u001b[32mLesion-induced myofibro\u001b[0m\u001b[32m \u001b[0m│\u001b[38;5;128m \u001b[0m\u001b[38;5;128m        10         \u001b[0m\u001b[38;5;128m \u001b[0m│\n",
       "│\u001b[38;5;33m \u001b[0m\u001b[38;5;33m                                  \u001b[0m\u001b[38;5;33m \u001b[0m│\u001b[32m \u001b[0m\u001b[32m      MHCII+ Mac       \u001b[0m\u001b[32m \u001b[0m│\u001b[38;5;128m \u001b[0m\u001b[38;5;128m        11         \u001b[0m\u001b[38;5;128m \u001b[0m│\n",
       "│\u001b[38;5;33m \u001b[0m\u001b[38;5;33m                                  \u001b[0m\u001b[38;5;33m \u001b[0m│\u001b[32m \u001b[0m\u001b[32m       Mast cell       \u001b[0m\u001b[32m \u001b[0m│\u001b[38;5;128m \u001b[0m\u001b[38;5;128m        12         \u001b[0m\u001b[38;5;128m \u001b[0m│\n",
       "│\u001b[38;5;33m \u001b[0m\u001b[38;5;33m                                  \u001b[0m\u001b[38;5;33m \u001b[0m│\u001b[32m \u001b[0m\u001b[32m       Monocyte        \u001b[0m\u001b[32m \u001b[0m│\u001b[38;5;128m \u001b[0m\u001b[38;5;128m        13         \u001b[0m\u001b[38;5;128m \u001b[0m│\n",
       "│\u001b[38;5;33m \u001b[0m\u001b[38;5;33m                                  \u001b[0m\u001b[38;5;33m \u001b[0m│\u001b[32m \u001b[0m\u001b[32m      Neutrophil       \u001b[0m\u001b[32m \u001b[0m│\u001b[38;5;128m \u001b[0m\u001b[38;5;128m        14         \u001b[0m\u001b[38;5;128m \u001b[0m│\n",
       "│\u001b[38;5;33m \u001b[0m\u001b[38;5;33m                                  \u001b[0m\u001b[38;5;33m \u001b[0m│\u001b[32m \u001b[0m\u001b[32m   Perivascular cell   \u001b[0m\u001b[32m \u001b[0m│\u001b[38;5;128m \u001b[0m\u001b[38;5;128m        15         \u001b[0m\u001b[38;5;128m \u001b[0m│\n",
       "│\u001b[38;5;33m \u001b[0m\u001b[38;5;33m                                  \u001b[0m\u001b[38;5;33m \u001b[0m│\u001b[32m \u001b[0m\u001b[32m   Pro-fibrotic Mac    \u001b[0m\u001b[32m \u001b[0m│\u001b[38;5;128m \u001b[0m\u001b[38;5;128m        16         \u001b[0m\u001b[38;5;128m \u001b[0m│\n",
       "│\u001b[38;5;33m \u001b[0m\u001b[38;5;33m                                  \u001b[0m\u001b[38;5;33m \u001b[0m│\u001b[32m \u001b[0m\u001b[32m    Satellite cell     \u001b[0m\u001b[32m \u001b[0m│\u001b[38;5;128m \u001b[0m\u001b[38;5;128m        17         \u001b[0m\u001b[38;5;128m \u001b[0m│\n",
       "│\u001b[38;5;33m \u001b[0m\u001b[38;5;33m                                  \u001b[0m\u001b[38;5;33m \u001b[0m│\u001b[32m \u001b[0m\u001b[32m       Spp1+ Mac       \u001b[0m\u001b[32m \u001b[0m│\u001b[38;5;128m \u001b[0m\u001b[38;5;128m        18         \u001b[0m\u001b[38;5;128m \u001b[0m│\n",
       "│\u001b[38;5;33m \u001b[0m\u001b[38;5;33m                                  \u001b[0m\u001b[38;5;33m \u001b[0m│\u001b[32m \u001b[0m\u001b[32m        T cell         \u001b[0m\u001b[32m \u001b[0m│\u001b[38;5;128m \u001b[0m\u001b[38;5;128m        19         \u001b[0m\u001b[38;5;128m \u001b[0m│\n",
       "└────────────────────────────────────┴─────────────────────────┴─────────────────────┘\n"
      ]
     },
     "metadata": {},
     "output_type": "display_data"
    },
    {
     "data": {
      "text/html": [
       "<pre style=\"white-space:pre;overflow-x:auto;line-height:normal;font-family:Menlo,'DejaVu Sans Mono',consolas,'Courier New',monospace\"><span style=\"font-style: italic\">            extra_categorical_covs State Registry             </span>\n",
       "┏━━━━━━━━━━━━━━━━━━━━━━━━━┳━━━━━━━━━━━━┳━━━━━━━━━━━━━━━━━━━━━┓\n",
       "┃<span style=\"font-weight: bold\">     Source Location     </span>┃<span style=\"font-weight: bold\"> Categories </span>┃<span style=\"font-weight: bold\"> scvi-tools Encoding </span>┃\n",
       "┡━━━━━━━━━━━━━━━━━━━━━━━━━╇━━━━━━━━━━━━╇━━━━━━━━━━━━━━━━━━━━━┩\n",
       "│<span style=\"color: #0087ff; text-decoration-color: #0087ff\"> adata.obs['orig.ident'] </span>│<span style=\"color: #008000; text-decoration-color: #008000\">   MRL_D7   </span>│<span style=\"color: #af00d7; text-decoration-color: #af00d7\">          0          </span>│\n",
       "│<span style=\"color: #0087ff; text-decoration-color: #0087ff\">                         </span>│<span style=\"color: #008000; text-decoration-color: #008000\">   WT_D7    </span>│<span style=\"color: #af00d7; text-decoration-color: #af00d7\">          1          </span>│\n",
       "│<span style=\"color: #0087ff; text-decoration-color: #0087ff\">                         </span>│<span style=\"color: #008000; text-decoration-color: #008000\">            </span>│<span style=\"color: #af00d7; text-decoration-color: #af00d7\">                     </span>│\n",
       "└─────────────────────────┴────────────┴─────────────────────┘\n",
       "</pre>\n"
      ],
      "text/plain": [
       "\u001b[3m            extra_categorical_covs State Registry             \u001b[0m\n",
       "┏━━━━━━━━━━━━━━━━━━━━━━━━━┳━━━━━━━━━━━━┳━━━━━━━━━━━━━━━━━━━━━┓\n",
       "┃\u001b[1m \u001b[0m\u001b[1m    Source Location    \u001b[0m\u001b[1m \u001b[0m┃\u001b[1m \u001b[0m\u001b[1mCategories\u001b[0m\u001b[1m \u001b[0m┃\u001b[1m \u001b[0m\u001b[1mscvi-tools Encoding\u001b[0m\u001b[1m \u001b[0m┃\n",
       "┡━━━━━━━━━━━━━━━━━━━━━━━━━╇━━━━━━━━━━━━╇━━━━━━━━━━━━━━━━━━━━━┩\n",
       "│\u001b[38;5;33m \u001b[0m\u001b[38;5;33madata.obs['orig.ident']\u001b[0m\u001b[38;5;33m \u001b[0m│\u001b[32m \u001b[0m\u001b[32m  MRL_D7  \u001b[0m\u001b[32m \u001b[0m│\u001b[38;5;128m \u001b[0m\u001b[38;5;128m         0         \u001b[0m\u001b[38;5;128m \u001b[0m│\n",
       "│\u001b[38;5;33m \u001b[0m\u001b[38;5;33m                       \u001b[0m\u001b[38;5;33m \u001b[0m│\u001b[32m \u001b[0m\u001b[32m  WT_D7   \u001b[0m\u001b[32m \u001b[0m│\u001b[38;5;128m \u001b[0m\u001b[38;5;128m         1         \u001b[0m\u001b[38;5;128m \u001b[0m│\n",
       "│\u001b[38;5;33m \u001b[0m\u001b[38;5;33m                       \u001b[0m\u001b[38;5;33m \u001b[0m│\u001b[32m \u001b[0m\u001b[32m          \u001b[0m\u001b[32m \u001b[0m│\u001b[38;5;128m \u001b[0m\u001b[38;5;128m                   \u001b[0m\u001b[38;5;128m \u001b[0m│\n",
       "└─────────────────────────┴────────────┴─────────────────────┘\n"
      ]
     },
     "metadata": {},
     "output_type": "display_data"
    },
    {
     "name": "stderr",
     "output_type": "stream",
     "text": [
      "GPU available: True, used: True\n",
      "TPU available: False, using: 0 TPU cores\n",
      "IPU available: False, using: 0 IPUs\n",
      "/data/xy/anaconda3/envs/cell2loc_env/lib/python3.9/site-packages/pytorch_lightning/trainer/configuration_validator.py:120: UserWarning: You passed in a `val_dataloader` but have no `validation_step`. Skipping val loop.\n",
      "LOCAL_RANK: 0 - CUDA_VISIBLE_DEVICES: [0]\n",
      "/data/xy/anaconda3/envs/cell2loc_env/lib/python3.9/site-packages/pytorch_lightning/trainer/data_loading.py:432: UserWarning: The number of training samples (8) is smaller than the logging interval Trainer(log_every_n_steps=10). Set a lower value for log_every_n_steps if you want to see logs for the training epoch.\n"
     ]
    },
    {
     "name": "stdout",
     "output_type": "stream",
     "text": [
      "Epoch 1000/1000: 100%|██████████| 1000/1000 [33:33<00:00,  2.01s/it, v_num=1, elbo_train=1.35e+8]\n"
     ]
    },
    {
     "data": {
      "image/png": "[encoded data removed]",
      "text/plain": [
       "<Figure size 432x288 with 1 Axes>"
      ]
     },
     "metadata": {
      "needs_background": "light"
     },
     "output_type": "display_data"
    }
   ],
   "source": [
    "# create and train the regression model\n",
    "from cell2location.models import RegressionModel\n",
    "mod = RegressionModel(adata_ref)\n",
    "\n",
    "# view anndata_setup as a sanity check\n",
    "mod.view_anndata_setup()\n",
    "\n",
    "# Use all data for training (validation not implemented yet, train_size=1)\n",
    "mod.train(train_size=1,batch_size=2500, lr=0.002, use_gpu=True)\n",
    "\n",
    "# plot ELBO loss history during training, removing first 20 epochs from the plot\n",
    "mod.plot_history(20)"
   ]
  },
  {
   "cell_type": "code",
   "execution_count": 17,
   "id": "02b79d88",
   "metadata": {},
   "outputs": [
    {
     "name": "stdout",
     "output_type": "stream",
     "text": [
      "Sampling local variables, batch:   0%|          | 0/8 [00:00<?, ?it/s]\n",
      "Sampling global variables, sample: 100%|██████████| 999/999 [00:15<00:00, 65.33it/s]\n"
     ]
    },
    {
     "data": {
      "text/plain": [
       "'/data/xy/Spatial_transcriptome/eWEIDE/20231228_Regeneration/cell2location/reference_signatures/sc.h5ad'"
      ]
     },
     "execution_count": 17,
     "metadata": {},
     "output_type": "execute_result"
    }
   ],
   "source": [
    "# In this section, we export the estimated cell abundance (summary of the posterior distribution).\n",
    "adata_ref = mod.export_posterior(\n",
    "    adata_ref, sample_kwargs={'num_samples': 1000, 'batch_size': 2500, 'use_gpu': True}\n",
    ")\n",
    "\n",
    "# Save model\n",
    "mod.save(f\"{ref_run_name}\", overwrite=True)\n",
    "\n",
    "# Save anndata object with results\n",
    "adata_file = f\"{ref_run_name}/sc.h5ad\"\n",
    "adata_ref.write(adata_file)\n",
    "adata_file"
   ]
  },
  {
   "cell_type": "code",
   "execution_count": 18,
   "id": "ea8ebb74",
   "metadata": {},
   "outputs": [
    {
     "data": {
      "image/png": "[encoded data removed]",
      "text/plain": [
       "<Figure size 432x288 with 1 Axes>"
      ]
     },
     "metadata": {
      "needs_background": "light"
     },
     "output_type": "display_data"
    },
    {
     "data": {
      "image/png": "[encoded data removed]",
      "text/plain": [
       "<Figure size 432x288 with 1 Axes>"
      ]
     },
     "metadata": {
      "needs_background": "light"
     },
     "output_type": "display_data"
    }
   ],
   "source": [
    "mod.plot_QC()"
   ]
  },
  {
   "cell_type": "code",
   "execution_count": null,
   "id": "413e7b39",
   "metadata": {},
   "outputs": [],
   "source": []
  },
  {
   "cell_type": "code",
   "execution_count": null,
   "id": "a4d24971",
   "metadata": {},
   "outputs": [],
   "source": []
  },
  {
   "cell_type": "code",
   "execution_count": null,
   "id": "72c2fb0f",
   "metadata": {},
   "outputs": [],
   "source": []
  },
  {
   "cell_type": "code",
   "execution_count": null,
   "id": "be095c20",
   "metadata": {},
   "outputs": [],
   "source": []
  },
  {
   "cell_type": "code",
   "execution_count": 19,
   "id": "d020e88e",
   "metadata": {},
   "outputs": [
    {
     "data": {
      "text/html": [
       "<div>\n",
       "<style scoped>\n",
       "    .dataframe tbody tr th:only-of-type {\n",
       "        vertical-align: middle;\n",
       "    }\n",
       "\n",
       "    .dataframe tbody tr th {\n",
       "        vertical-align: top;\n",
       "    }\n",
       "\n",
       "    .dataframe thead th {\n",
       "        text-align: right;\n",
       "    }\n",
       "</style>\n",
       "<table border=\"1\" class=\"dataframe\">\n",
       "  <thead>\n",
       "    <tr style=\"text-align: right;\">\n",
       "      <th></th>\n",
       "      <th>Anti-inflammatory Mac</th>\n",
       "      <th>B cell</th>\n",
       "      <th>Basophil</th>\n",
       "      <th>Chondrocyte</th>\n",
       "      <th>Dendritic cell</th>\n",
       "    </tr>\n",
       "  </thead>\n",
       "  <tbody>\n",
       "    <tr>\n",
       "      <th>Sox17</th>\n",
       "      <td>0.002058</td>\n",
       "      <td>0.047243</td>\n",
       "      <td>0.006717</td>\n",
       "      <td>0.000893</td>\n",
       "      <td>0.001333</td>\n",
       "    </tr>\n",
       "    <tr>\n",
       "      <th>Mrpl15</th>\n",
       "      <td>0.551620</td>\n",
       "      <td>0.186089</td>\n",
       "      <td>0.135567</td>\n",
       "      <td>0.438846</td>\n",
       "      <td>0.529378</td>\n",
       "    </tr>\n",
       "    <tr>\n",
       "      <th>Lypla1</th>\n",
       "      <td>0.465267</td>\n",
       "      <td>0.107644</td>\n",
       "      <td>0.129711</td>\n",
       "      <td>0.238006</td>\n",
       "      <td>0.415028</td>\n",
       "    </tr>\n",
       "    <tr>\n",
       "      <th>Tcea1</th>\n",
       "      <td>0.530267</td>\n",
       "      <td>0.123769</td>\n",
       "      <td>0.112247</td>\n",
       "      <td>0.488479</td>\n",
       "      <td>0.544661</td>\n",
       "    </tr>\n",
       "    <tr>\n",
       "      <th>Atp6v1h</th>\n",
       "      <td>0.891819</td>\n",
       "      <td>0.101107</td>\n",
       "      <td>0.105102</td>\n",
       "      <td>0.347569</td>\n",
       "      <td>0.450994</td>\n",
       "    </tr>\n",
       "  </tbody>\n",
       "</table>\n",
       "</div>"
      ],
      "text/plain": [
       "         Anti-inflammatory Mac    B cell  Basophil  Chondrocyte  \\\n",
       "Sox17                 0.002058  0.047243  0.006717     0.000893   \n",
       "Mrpl15                0.551620  0.186089  0.135567     0.438846   \n",
       "Lypla1                0.465267  0.107644  0.129711     0.238006   \n",
       "Tcea1                 0.530267  0.123769  0.112247     0.488479   \n",
       "Atp6v1h               0.891819  0.101107  0.105102     0.347569   \n",
       "\n",
       "         Dendritic cell  \n",
       "Sox17          0.001333  \n",
       "Mrpl15         0.529378  \n",
       "Lypla1         0.415028  \n",
       "Tcea1          0.544661  \n",
       "Atp6v1h        0.450994  "
      ]
     },
     "execution_count": 19,
     "metadata": {},
     "output_type": "execute_result"
    }
   ],
   "source": [
    "if 'means_per_cluster_mu_fg' in adata_ref.varm.keys():\n",
    "    inf_aver = adata_ref.varm['means_per_cluster_mu_fg'][[f'means_per_cluster_mu_fg_{i}'\n",
    "                                    for i in adata_ref.uns['mod']['factor_names']]].copy()\n",
    "else:\n",
    "    inf_aver = adata_ref.var[[f'means_per_cluster_mu_fg_{i}'\n",
    "                                    for i in adata_ref.uns['mod']['factor_names']]].copy()\n",
    "inf_aver.columns = adata_ref.uns['mod']['factor_names']\n",
    "inf_aver.iloc[0:5, 0:5]"
   ]
  },
  {
   "cell_type": "code",
   "execution_count": 20,
   "id": "f5560566",
   "metadata": {},
   "outputs": [
    {
     "name": "stderr",
     "output_type": "stream",
     "text": [
      "/data/xy/anaconda3/envs/cell2loc_env/lib/python3.9/site-packages/anndata/_core/anndata.py:896: FutureWarning: X.dtype being converted to np.float32 from float64. In the next version of anndata (0.9) conversion will not be automatic. Pass dtype explicitly to avoid this warning. Pass `AnnData(X, dtype=X.dtype, ...)` to get the future behavour.\n"
     ]
    },
    {
     "data": {
      "text/plain": [
       "array(['0610005C13Rik', '0610009B22Rik', '0610010F05Rik', ..., 'mt-Nd4l',\n",
       "       'mt-Nd5', 'mt-Nd6'], dtype=object)"
      ]
     },
     "execution_count": 20,
     "metadata": {},
     "output_type": "execute_result"
    }
   ],
   "source": [
    "# find shared genes and subset both anndata and reference signatures\n",
    "intersect = np.intersect1d(adata_vis.var_names, inf_aver.index)\n",
    "adata_vis.var_names = adata_vis.var['SYMBOL'].copy()\n",
    "intersect = np.intersect1d(adata_vis.var_names, inf_aver.index)\n",
    "intersect"
   ]
  },
  {
   "cell_type": "code",
   "execution_count": 21,
   "id": "78c803f3",
   "metadata": {},
   "outputs": [
    {
     "data": {
      "text/plain": [
       "View of AnnData object with n_obs × n_vars = 2225 × 13096\n",
       "    obs: 'orig.ident', 'nCount_Spatial', 'nFeature_Spatial', 'nCount_SCT', 'nFeature_SCT', 'SCT_snn_res.0.8', 'seurat_clusters', 'slide', 'sample_detail', 'sample', 'mice', 'integrated_snn_res.0.8', 'integrated_snn_res.0.9', 'spot_id', 'Day', 'Monocyte', 'Anti.inflammatory.Mac', 'Spp1..Mac', 'MHCII..Mac', 'Pro.fibrotic.Mac', 'Dendritic.cell', 'Neutrophil', 'T.cell', 'B.cell', 'Basophil', 'Mast.cell', 'Inflammatory.fibro', 'ECM.remodeling.fibro', 'Lesion.induced.myofibro', 'ECM.remodeling.myofibro', 'Chondrocyte', 'Keratinocyte', 'Perivascular.cell', 'Endothelial.cell', 'Satellite.cell', 'ST2_tag', 'peri_core', 'row', 'col', 'eWEIDE_snn_res.0.1', 'eWEIDE_snn_res.0.2', 'eWEIDE_snn_res.0.3', 'eWEIDE_snn_res.0.4', 'eWEIDE_snn_res.0.5', 'eWEIDE_snn_res.0.6', 'eWEIDE_snn_res.0.7', 'eWEIDE_snn_res.0.8', 'eWEIDE_snn_res.0.9', 'eWEIDE_snn_res.1', 'eWEIDE_snn_res.1.1', 'eWEIDE_snn_res.1.2', 'eWEIDE_snn_res.1.3', 'eWEIDE_snn_res.1.4', 'eWEIDE_snn_res.1.5', 'in_tissue', 'array_row', 'array_col'\n",
       "    var: 'gene_ids', 'SYMBOL', 'MT_gene'\n",
       "    obsm: 'X_tsne', 'X_umap', 'MT'"
      ]
     },
     "execution_count": 21,
     "metadata": {},
     "output_type": "execute_result"
    }
   ],
   "source": [
    "# find shared genes and subset both anndata and reference signatures\n",
    "intersect = np.intersect1d(adata_vis.var_names, inf_aver.index)\n",
    "intersect\n",
    "adata_vis[:, intersect]\n"
   ]
  },
  {
   "cell_type": "code",
   "execution_count": 22,
   "id": "956c5ff9",
   "metadata": {},
   "outputs": [],
   "source": [
    "# find shared genes and subset both anndata and reference signatures\n",
    "intersect = np.intersect1d(adata_vis.var_names, inf_aver.index)\n",
    "adata_vis = adata_vis[:, intersect].copy()\n",
    "inf_aver = inf_aver.loc[intersect, :].copy()\n",
    "\n",
    "# prepare anndata for cell2location model\n",
    "cell2location.models.Cell2location.setup_anndata(adata=adata_vis, batch_key=\"sample\")"
   ]
  },
  {
   "cell_type": "code",
   "execution_count": 23,
   "id": "acf8431c",
   "metadata": {},
   "outputs": [
    {
     "data": {
      "text/html": [
       "<pre style=\"white-space:pre;overflow-x:auto;line-height:normal;font-family:Menlo,'DejaVu Sans Mono',consolas,'Courier New',monospace\">Anndata setup with scvi-tools version <span style=\"color: #008080; text-decoration-color: #008080; font-weight: bold\">0.16</span>.<span style=\"color: #008080; text-decoration-color: #008080; font-weight: bold\">0</span>.\n",
       "</pre>\n"
      ],
      "text/plain": [
       "Anndata setup with scvi-tools version \u001b[1;36m0.16\u001b[0m.\u001b[1;36m0\u001b[0m.\n"
      ]
     },
     "metadata": {},
     "output_type": "display_data"
    },
    {
     "data": {
      "text/html": [
       "<pre style=\"white-space:pre;overflow-x:auto;line-height:normal;font-family:Menlo,'DejaVu Sans Mono',consolas,'Courier New',monospace\">\n",
       "</pre>\n"
      ],
      "text/plain": [
       "\n"
      ]
     },
     "metadata": {},
     "output_type": "display_data"
    },
    {
     "data": {
      "text/html": [
       "<pre style=\"white-space:pre;overflow-x:auto;line-height:normal;font-family:Menlo,'DejaVu Sans Mono',consolas,'Courier New',monospace\">Setup via `Cell2location.setup_anndata` with arguments:\n",
       "</pre>\n"
      ],
      "text/plain": [
       "Setup via `Cell2location.setup_anndata` with arguments:\n"
      ]
     },
     "metadata": {},
     "output_type": "display_data"
    },
    {
     "data": {
      "text/html": [
       "<pre style=\"white-space:pre;overflow-x:auto;line-height:normal;font-family:Menlo,'DejaVu Sans Mono',consolas,'Courier New',monospace\"><span style=\"font-weight: bold\">{</span>\n",
       "<span style=\"color: #7fbf7f; text-decoration-color: #7fbf7f\">│   </span><span style=\"color: #008000; text-decoration-color: #008000\">'layer'</span>: <span style=\"color: #800080; text-decoration-color: #800080; font-style: italic\">None</span>,\n",
       "<span style=\"color: #7fbf7f; text-decoration-color: #7fbf7f\">│   </span><span style=\"color: #008000; text-decoration-color: #008000\">'batch_key'</span>: <span style=\"color: #008000; text-decoration-color: #008000\">'sample'</span>,\n",
       "<span style=\"color: #7fbf7f; text-decoration-color: #7fbf7f\">│   </span><span style=\"color: #008000; text-decoration-color: #008000\">'labels_key'</span>: <span style=\"color: #800080; text-decoration-color: #800080; font-style: italic\">None</span>,\n",
       "<span style=\"color: #7fbf7f; text-decoration-color: #7fbf7f\">│   </span><span style=\"color: #008000; text-decoration-color: #008000\">'categorical_covariate_keys'</span>: <span style=\"color: #800080; text-decoration-color: #800080; font-style: italic\">None</span>,\n",
       "<span style=\"color: #7fbf7f; text-decoration-color: #7fbf7f\">│   </span><span style=\"color: #008000; text-decoration-color: #008000\">'continuous_covariate_keys'</span>: <span style=\"color: #800080; text-decoration-color: #800080; font-style: italic\">None</span>\n",
       "<span style=\"font-weight: bold\">}</span>\n",
       "</pre>\n"
      ],
      "text/plain": [
       "\u001b[1m{\u001b[0m\n",
       "\u001b[2;32m│   \u001b[0m\u001b[32m'layer'\u001b[0m: \u001b[3;35mNone\u001b[0m,\n",
       "\u001b[2;32m│   \u001b[0m\u001b[32m'batch_key'\u001b[0m: \u001b[32m'sample'\u001b[0m,\n",
       "\u001b[2;32m│   \u001b[0m\u001b[32m'labels_key'\u001b[0m: \u001b[3;35mNone\u001b[0m,\n",
       "\u001b[2;32m│   \u001b[0m\u001b[32m'categorical_covariate_keys'\u001b[0m: \u001b[3;35mNone\u001b[0m,\n",
       "\u001b[2;32m│   \u001b[0m\u001b[32m'continuous_covariate_keys'\u001b[0m: \u001b[3;35mNone\u001b[0m\n",
       "\u001b[1m}\u001b[0m\n"
      ]
     },
     "metadata": {},
     "output_type": "display_data"
    },
    {
     "data": {
      "text/html": [
       "<pre style=\"white-space:pre;overflow-x:auto;line-height:normal;font-family:Menlo,'DejaVu Sans Mono',consolas,'Courier New',monospace\">\n",
       "</pre>\n"
      ],
      "text/plain": [
       "\n"
      ]
     },
     "metadata": {},
     "output_type": "display_data"
    },
    {
     "data": {
      "text/html": [
       "<pre style=\"white-space:pre;overflow-x:auto;line-height:normal;font-family:Menlo,'DejaVu Sans Mono',consolas,'Courier New',monospace\"><span style=\"font-style: italic\">         Summary Statistics         </span>\n",
       "┏━━━━━━━━━━━━━━━━━━━━━━━━━━┳━━━━━━━┓\n",
       "┃<span style=\"font-weight: bold\">     Summary Stat Key     </span>┃<span style=\"font-weight: bold\"> Value </span>┃\n",
       "┡━━━━━━━━━━━━━━━━━━━━━━━━━━╇━━━━━━━┩\n",
       "│<span style=\"color: #0087ff; text-decoration-color: #0087ff\">         n_cells          </span>│<span style=\"color: #af00d7; text-decoration-color: #af00d7\"> 2225  </span>│\n",
       "│<span style=\"color: #0087ff; text-decoration-color: #0087ff\">          n_vars          </span>│<span style=\"color: #af00d7; text-decoration-color: #af00d7\"> 13096 </span>│\n",
       "│<span style=\"color: #0087ff; text-decoration-color: #0087ff\">         n_batch          </span>│<span style=\"color: #af00d7; text-decoration-color: #af00d7\">   1   </span>│\n",
       "│<span style=\"color: #0087ff; text-decoration-color: #0087ff\">         n_labels         </span>│<span style=\"color: #af00d7; text-decoration-color: #af00d7\">   1   </span>│\n",
       "│<span style=\"color: #0087ff; text-decoration-color: #0087ff\"> n_extra_categorical_covs </span>│<span style=\"color: #af00d7; text-decoration-color: #af00d7\">   0   </span>│\n",
       "│<span style=\"color: #0087ff; text-decoration-color: #0087ff\"> n_extra_continuous_covs  </span>│<span style=\"color: #af00d7; text-decoration-color: #af00d7\">   0   </span>│\n",
       "└──────────────────────────┴───────┘\n",
       "</pre>\n"
      ],
      "text/plain": [
       "\u001b[3m         Summary Statistics         \u001b[0m\n",
       "┏━━━━━━━━━━━━━━━━━━━━━━━━━━┳━━━━━━━┓\n",
       "┃\u001b[1m \u001b[0m\u001b[1m    Summary Stat Key    \u001b[0m\u001b[1m \u001b[0m┃\u001b[1m \u001b[0m\u001b[1mValue\u001b[0m\u001b[1m \u001b[0m┃\n",
       "┡━━━━━━━━━━━━━━━━━━━━━━━━━━╇━━━━━━━┩\n",
       "│\u001b[38;5;33m \u001b[0m\u001b[38;5;33m        n_cells         \u001b[0m\u001b[38;5;33m \u001b[0m│\u001b[38;5;128m \u001b[0m\u001b[38;5;128m2225 \u001b[0m\u001b[38;5;128m \u001b[0m│\n",
       "│\u001b[38;5;33m \u001b[0m\u001b[38;5;33m         n_vars         \u001b[0m\u001b[38;5;33m \u001b[0m│\u001b[38;5;128m \u001b[0m\u001b[38;5;128m13096\u001b[0m\u001b[38;5;128m \u001b[0m│\n",
       "│\u001b[38;5;33m \u001b[0m\u001b[38;5;33m        n_batch         \u001b[0m\u001b[38;5;33m \u001b[0m│\u001b[38;5;128m \u001b[0m\u001b[38;5;128m  1  \u001b[0m\u001b[38;5;128m \u001b[0m│\n",
       "│\u001b[38;5;33m \u001b[0m\u001b[38;5;33m        n_labels        \u001b[0m\u001b[38;5;33m \u001b[0m│\u001b[38;5;128m \u001b[0m\u001b[38;5;128m  1  \u001b[0m\u001b[38;5;128m \u001b[0m│\n",
       "│\u001b[38;5;33m \u001b[0m\u001b[38;5;33mn_extra_categorical_covs\u001b[0m\u001b[38;5;33m \u001b[0m│\u001b[38;5;128m \u001b[0m\u001b[38;5;128m  0  \u001b[0m\u001b[38;5;128m \u001b[0m│\n",
       "│\u001b[38;5;33m \u001b[0m\u001b[38;5;33mn_extra_continuous_covs \u001b[0m\u001b[38;5;33m \u001b[0m│\u001b[38;5;128m \u001b[0m\u001b[38;5;128m  0  \u001b[0m\u001b[38;5;128m \u001b[0m│\n",
       "└──────────────────────────┴───────┘\n"
      ]
     },
     "metadata": {},
     "output_type": "display_data"
    },
    {
     "data": {
      "text/html": [
       "<pre style=\"white-space:pre;overflow-x:auto;line-height:normal;font-family:Menlo,'DejaVu Sans Mono',consolas,'Courier New',monospace\"><span style=\"font-style: italic\">               Data Registry                </span>\n",
       "┏━━━━━━━━━━━━━━┳━━━━━━━━━━━━━━━━━━━━━━━━━━━┓\n",
       "┃<span style=\"font-weight: bold\"> Registry Key </span>┃<span style=\"font-weight: bold\">    scvi-tools Location    </span>┃\n",
       "┡━━━━━━━━━━━━━━╇━━━━━━━━━━━━━━━━━━━━━━━━━━━┩\n",
       "│<span style=\"color: #0087ff; text-decoration-color: #0087ff\">      X       </span>│<span style=\"color: #af00d7; text-decoration-color: #af00d7\">          adata.X          </span>│\n",
       "│<span style=\"color: #0087ff; text-decoration-color: #0087ff\">    batch     </span>│<span style=\"color: #af00d7; text-decoration-color: #af00d7\"> adata.obs['_scvi_batch']  </span>│\n",
       "│<span style=\"color: #0087ff; text-decoration-color: #0087ff\">    labels    </span>│<span style=\"color: #af00d7; text-decoration-color: #af00d7\"> adata.obs['_scvi_labels'] </span>│\n",
       "│<span style=\"color: #0087ff; text-decoration-color: #0087ff\">    ind_x     </span>│<span style=\"color: #af00d7; text-decoration-color: #af00d7\">   adata.obs['_indices']   </span>│\n",
       "└──────────────┴───────────────────────────┘\n",
       "</pre>\n"
      ],
      "text/plain": [
       "\u001b[3m               Data Registry                \u001b[0m\n",
       "┏━━━━━━━━━━━━━━┳━━━━━━━━━━━━━━━━━━━━━━━━━━━┓\n",
       "┃\u001b[1m \u001b[0m\u001b[1mRegistry Key\u001b[0m\u001b[1m \u001b[0m┃\u001b[1m \u001b[0m\u001b[1m   scvi-tools Location   \u001b[0m\u001b[1m \u001b[0m┃\n",
       "┡━━━━━━━━━━━━━━╇━━━━━━━━━━━━━━━━━━━━━━━━━━━┩\n",
       "│\u001b[38;5;33m \u001b[0m\u001b[38;5;33m     X      \u001b[0m\u001b[38;5;33m \u001b[0m│\u001b[38;5;128m \u001b[0m\u001b[38;5;128m         adata.X         \u001b[0m\u001b[38;5;128m \u001b[0m│\n",
       "│\u001b[38;5;33m \u001b[0m\u001b[38;5;33m   batch    \u001b[0m\u001b[38;5;33m \u001b[0m│\u001b[38;5;128m \u001b[0m\u001b[38;5;128madata.obs['_scvi_batch'] \u001b[0m\u001b[38;5;128m \u001b[0m│\n",
       "│\u001b[38;5;33m \u001b[0m\u001b[38;5;33m   labels   \u001b[0m\u001b[38;5;33m \u001b[0m│\u001b[38;5;128m \u001b[0m\u001b[38;5;128madata.obs['_scvi_labels']\u001b[0m\u001b[38;5;128m \u001b[0m│\n",
       "│\u001b[38;5;33m \u001b[0m\u001b[38;5;33m   ind_x    \u001b[0m\u001b[38;5;33m \u001b[0m│\u001b[38;5;128m \u001b[0m\u001b[38;5;128m  adata.obs['_indices']  \u001b[0m\u001b[38;5;128m \u001b[0m│\n",
       "└──────────────┴───────────────────────────┘\n"
      ]
     },
     "metadata": {},
     "output_type": "display_data"
    },
    {
     "data": {
      "text/html": [
       "<pre style=\"white-space:pre;overflow-x:auto;line-height:normal;font-family:Menlo,'DejaVu Sans Mono',consolas,'Courier New',monospace\"><span style=\"font-style: italic\">                   batch State Registry                   </span>\n",
       "┏━━━━━━━━━━━━━━━━━━━━━┳━━━━━━━━━━━━┳━━━━━━━━━━━━━━━━━━━━━┓\n",
       "┃<span style=\"font-weight: bold\">   Source Location   </span>┃<span style=\"font-weight: bold\"> Categories </span>┃<span style=\"font-weight: bold\"> scvi-tools Encoding </span>┃\n",
       "┡━━━━━━━━━━━━━━━━━━━━━╇━━━━━━━━━━━━╇━━━━━━━━━━━━━━━━━━━━━┩\n",
       "│<span style=\"color: #0087ff; text-decoration-color: #0087ff\"> adata.obs['sample'] </span>│<span style=\"color: #008000; text-decoration-color: #008000\">    Reg     </span>│<span style=\"color: #af00d7; text-decoration-color: #af00d7\">          0          </span>│\n",
       "└─────────────────────┴────────────┴─────────────────────┘\n",
       "</pre>\n"
      ],
      "text/plain": [
       "\u001b[3m                   batch State Registry                   \u001b[0m\n",
       "┏━━━━━━━━━━━━━━━━━━━━━┳━━━━━━━━━━━━┳━━━━━━━━━━━━━━━━━━━━━┓\n",
       "┃\u001b[1m \u001b[0m\u001b[1m  Source Location  \u001b[0m\u001b[1m \u001b[0m┃\u001b[1m \u001b[0m\u001b[1mCategories\u001b[0m\u001b[1m \u001b[0m┃\u001b[1m \u001b[0m\u001b[1mscvi-tools Encoding\u001b[0m\u001b[1m \u001b[0m┃\n",
       "┡━━━━━━━━━━━━━━━━━━━━━╇━━━━━━━━━━━━╇━━━━━━━━━━━━━━━━━━━━━┩\n",
       "│\u001b[38;5;33m \u001b[0m\u001b[38;5;33madata.obs['sample']\u001b[0m\u001b[38;5;33m \u001b[0m│\u001b[32m \u001b[0m\u001b[32m   Reg    \u001b[0m\u001b[32m \u001b[0m│\u001b[38;5;128m \u001b[0m\u001b[38;5;128m         0         \u001b[0m\u001b[38;5;128m \u001b[0m│\n",
       "└─────────────────────┴────────────┴─────────────────────┘\n"
      ]
     },
     "metadata": {},
     "output_type": "display_data"
    },
    {
     "data": {
      "text/html": [
       "<pre style=\"white-space:pre;overflow-x:auto;line-height:normal;font-family:Menlo,'DejaVu Sans Mono',consolas,'Courier New',monospace\"><span style=\"font-style: italic\">                     labels State Registry                      </span>\n",
       "┏━━━━━━━━━━━━━━━━━━━━━━━━━━━┳━━━━━━━━━━━━┳━━━━━━━━━━━━━━━━━━━━━┓\n",
       "┃<span style=\"font-weight: bold\">      Source Location      </span>┃<span style=\"font-weight: bold\"> Categories </span>┃<span style=\"font-weight: bold\"> scvi-tools Encoding </span>┃\n",
       "┡━━━━━━━━━━━━━━━━━━━━━━━━━━━╇━━━━━━━━━━━━╇━━━━━━━━━━━━━━━━━━━━━┩\n",
       "│<span style=\"color: #0087ff; text-decoration-color: #0087ff\"> adata.obs['_scvi_labels'] </span>│<span style=\"color: #008000; text-decoration-color: #008000\">     0      </span>│<span style=\"color: #af00d7; text-decoration-color: #af00d7\">          0          </span>│\n",
       "└───────────────────────────┴────────────┴─────────────────────┘\n",
       "</pre>\n"
      ],
      "text/plain": [
       "\u001b[3m                     labels State Registry                      \u001b[0m\n",
       "┏━━━━━━━━━━━━━━━━━━━━━━━━━━━┳━━━━━━━━━━━━┳━━━━━━━━━━━━━━━━━━━━━┓\n",
       "┃\u001b[1m \u001b[0m\u001b[1m     Source Location     \u001b[0m\u001b[1m \u001b[0m┃\u001b[1m \u001b[0m\u001b[1mCategories\u001b[0m\u001b[1m \u001b[0m┃\u001b[1m \u001b[0m\u001b[1mscvi-tools Encoding\u001b[0m\u001b[1m \u001b[0m┃\n",
       "┡━━━━━━━━━━━━━━━━━━━━━━━━━━━╇━━━━━━━━━━━━╇━━━━━━━━━━━━━━━━━━━━━┩\n",
       "│\u001b[38;5;33m \u001b[0m\u001b[38;5;33madata.obs['_scvi_labels']\u001b[0m\u001b[38;5;33m \u001b[0m│\u001b[32m \u001b[0m\u001b[32m    0     \u001b[0m\u001b[32m \u001b[0m│\u001b[38;5;128m \u001b[0m\u001b[38;5;128m         0         \u001b[0m\u001b[38;5;128m \u001b[0m│\n",
       "└───────────────────────────┴────────────┴─────────────────────┘\n"
      ]
     },
     "metadata": {},
     "output_type": "display_data"
    }
   ],
   "source": [
    "# create and train the model\n",
    "mod = cell2location.models.Cell2location(\n",
    "    adata_vis, cell_state_df=inf_aver,\n",
    "    # the expected average cell abundance: tissue-dependent\n",
    "    # hyper-prior which can be estimated from paired histology:\n",
    "    N_cells_per_location=30,\n",
    "    # hyperparameter controlling normalisation of\n",
    "    # within-experiment variation in RNA detection (using default here):\n",
    "    detection_alpha=200\n",
    ")\n",
    "\n",
    "mod.view_anndata_setup()"
   ]
  },
  {
   "cell_type": "code",
   "execution_count": 24,
   "id": "e00bde08",
   "metadata": {},
   "outputs": [
    {
     "name": "stderr",
     "output_type": "stream",
     "text": [
      "GPU available: True, used: True\n",
      "TPU available: False, using: 0 TPU cores\n",
      "IPU available: False, using: 0 IPUs\n",
      "/data/xy/anaconda3/envs/cell2loc_env/lib/python3.9/site-packages/pytorch_lightning/trainer/configuration_validator.py:120: UserWarning: You passed in a `val_dataloader` but have no `validation_step`. Skipping val loop.\n",
      "LOCAL_RANK: 0 - CUDA_VISIBLE_DEVICES: [0]\n",
      "/data/xy/anaconda3/envs/cell2loc_env/lib/python3.9/site-packages/pytorch_lightning/trainer/data_loading.py:432: UserWarning: The number of training samples (1) is smaller than the logging interval Trainer(log_every_n_steps=10). Set a lower value for log_every_n_steps if you want to see logs for the training epoch.\n"
     ]
    },
    {
     "name": "stdout",
     "output_type": "stream",
     "text": [
      "Epoch 30000/30000: 100%|██████████| 30000/30000 [48:01<00:00, 10.41it/s, v_num=1, elbo_train=1.69e+7]\n"
     ]
    },
    {
     "data": {
      "image/png": "[encoded data removed]",
      "text/plain": [
       "<Figure size 432x288 with 1 Axes>"
      ]
     },
     "metadata": {
      "needs_background": "light"
     },
     "output_type": "display_data"
    }
   ],
   "source": [
    "mod.train(max_epochs=30000,\n",
    "          # train using full data (batch_size=None)\n",
    "          batch_size=None,\n",
    "          # use all data points in training because\n",
    "          # we need to estimate cell abundance at all locations\n",
    "          train_size=1,\n",
    "          use_gpu=True)\n",
    "\n",
    "# plot ELBO loss history during training, removing first 100 epochs from the plot\n",
    "mod.plot_history(1000)\n",
    "plt.legend(labels=['full data training']);"
   ]
  },
  {
   "cell_type": "code",
   "execution_count": 25,
   "id": "21abf66a",
   "metadata": {},
   "outputs": [
    {
     "name": "stdout",
     "output_type": "stream",
     "text": [
      "Sampling local variables, batch: 100%|██████████| 1/1 [00:23<00:00, 23.69s/it]\n",
      "Sampling global variables, sample: 100%|██████████| 999/999 [00:21<00:00, 46.02it/s]\n"
     ]
    },
    {
     "data": {
      "text/plain": [
       "'/data/xy/Spatial_transcriptome/eWEIDE/20231228_Regeneration/cell2location/result/cell2location_map/sp.h5ad'"
      ]
     },
     "execution_count": 25,
     "metadata": {},
     "output_type": "execute_result"
    }
   ],
   "source": [
    "# In this section, we export the estimated cell abundance (summary of the posterior distribution).\n",
    "adata_vis = mod.export_posterior(\n",
    "    adata_vis, sample_kwargs={'num_samples': 1000, 'batch_size': mod.adata.n_obs, 'use_gpu': True}\n",
    ")\n",
    "\n",
    "# Save model\n",
    "mod.save(f\"{run_name}\", overwrite=True)\n",
    "\n",
    "# mod = cell2location.models.Cell2location.load(f\"{run_name}\", adata_vis)\n",
    "\n",
    "# Save anndata object with results\n",
    "adata_file = f\"{run_name}/sp.h5ad\"\n",
    "adata_vis.write(adata_file)\n",
    "adata_file"
   ]
  },
  {
   "cell_type": "code",
   "execution_count": 26,
   "id": "1ac40b75",
   "metadata": {},
   "outputs": [
    {
     "data": {
      "image/png": "[encoded data removed]",
      "text/plain": [
       "<Figure size 432x288 with 1 Axes>"
      ]
     },
     "metadata": {
      "needs_background": "light"
     },
     "output_type": "display_data"
    }
   ],
   "source": [
    "# Examine reconstruction accuracy to assess if there are any issues with mapping\n",
    "# the plot should be roughly diagonal, strong deviations will signal problems\n",
    "mod.plot_QC()"
   ]
  },
  {
   "cell_type": "code",
   "execution_count": 27,
   "id": "deefa4e8",
   "metadata": {},
   "outputs": [
    {
     "data": {
      "text/html": [
       "<div>\n",
       "<style scoped>\n",
       "    .dataframe tbody tr th:only-of-type {\n",
       "        vertical-align: middle;\n",
       "    }\n",
       "\n",
       "    .dataframe tbody tr th {\n",
       "        vertical-align: top;\n",
       "    }\n",
       "\n",
       "    .dataframe thead th {\n",
       "        text-align: right;\n",
       "    }\n",
       "</style>\n",
       "<table border=\"1\" class=\"dataframe\">\n",
       "  <thead>\n",
       "    <tr style=\"text-align: right;\">\n",
       "      <th></th>\n",
       "      <th>orig.ident</th>\n",
       "      <th>nCount_Spatial</th>\n",
       "      <th>nFeature_Spatial</th>\n",
       "      <th>nCount_SCT</th>\n",
       "      <th>nFeature_SCT</th>\n",
       "      <th>SCT_snn_res.0.8</th>\n",
       "      <th>seurat_clusters</th>\n",
       "      <th>slide</th>\n",
       "      <th>sample_detail</th>\n",
       "      <th>sample</th>\n",
       "      <th>...</th>\n",
       "      <th>eWEIDE_snn_res.1.2</th>\n",
       "      <th>eWEIDE_snn_res.1.3</th>\n",
       "      <th>eWEIDE_snn_res.1.4</th>\n",
       "      <th>eWEIDE_snn_res.1.5</th>\n",
       "      <th>in_tissue</th>\n",
       "      <th>array_row</th>\n",
       "      <th>array_col</th>\n",
       "      <th>_indices</th>\n",
       "      <th>_scvi_batch</th>\n",
       "      <th>_scvi_labels</th>\n",
       "    </tr>\n",
       "  </thead>\n",
       "  <tbody>\n",
       "    <tr>\n",
       "      <th>AAACATTTCCCGGATT-1_1</th>\n",
       "      <td>A012701</td>\n",
       "      <td>4109.0</td>\n",
       "      <td>2072</td>\n",
       "      <td>5652.0</td>\n",
       "      <td>2069</td>\n",
       "      <td>4</td>\n",
       "      <td>0</td>\n",
       "      <td>A1</td>\n",
       "      <td>MRL_D15</td>\n",
       "      <td>Reg</td>\n",
       "      <td>...</td>\n",
       "      <td>0</td>\n",
       "      <td>0</td>\n",
       "      <td>0</td>\n",
       "      <td>0</td>\n",
       "      <td>1.0</td>\n",
       "      <td>6.000000</td>\n",
       "      <td>-117.000000</td>\n",
       "      <td>0</td>\n",
       "      <td>0</td>\n",
       "      <td>0</td>\n",
       "    </tr>\n",
       "    <tr>\n",
       "      <th>AAACCGGGTAGGTACC-1_1</th>\n",
       "      <td>A012701</td>\n",
       "      <td>7542.0</td>\n",
       "      <td>3173</td>\n",
       "      <td>7034.0</td>\n",
       "      <td>3170</td>\n",
       "      <td>7</td>\n",
       "      <td>1</td>\n",
       "      <td>A1</td>\n",
       "      <td>MRL_D0</td>\n",
       "      <td>Reg</td>\n",
       "      <td>...</td>\n",
       "      <td>2</td>\n",
       "      <td>2</td>\n",
       "      <td>1</td>\n",
       "      <td>1</td>\n",
       "      <td>1.0</td>\n",
       "      <td>35.000000</td>\n",
       "      <td>2.000000</td>\n",
       "      <td>1</td>\n",
       "      <td>0</td>\n",
       "      <td>0</td>\n",
       "    </tr>\n",
       "    <tr>\n",
       "      <th>AAACCTCATGAAGTTG-1_1</th>\n",
       "      <td>A012701</td>\n",
       "      <td>6997.0</td>\n",
       "      <td>2659</td>\n",
       "      <td>6751.0</td>\n",
       "      <td>2655</td>\n",
       "      <td>6</td>\n",
       "      <td>5</td>\n",
       "      <td>A1</td>\n",
       "      <td>B6_D0</td>\n",
       "      <td>Reg</td>\n",
       "      <td>...</td>\n",
       "      <td>7</td>\n",
       "      <td>7</td>\n",
       "      <td>6</td>\n",
       "      <td>5</td>\n",
       "      <td>1.0</td>\n",
       "      <td>40.000000</td>\n",
       "      <td>1.000000</td>\n",
       "      <td>2</td>\n",
       "      <td>0</td>\n",
       "      <td>0</td>\n",
       "    </tr>\n",
       "    <tr>\n",
       "      <th>AAACGCCCGAGATCGG-1_1</th>\n",
       "      <td>A012701</td>\n",
       "      <td>4428.0</td>\n",
       "      <td>2391</td>\n",
       "      <td>5637.0</td>\n",
       "      <td>2393</td>\n",
       "      <td>1</td>\n",
       "      <td>4</td>\n",
       "      <td>A1</td>\n",
       "      <td>MRL_D15</td>\n",
       "      <td>Reg</td>\n",
       "      <td>...</td>\n",
       "      <td>4</td>\n",
       "      <td>5</td>\n",
       "      <td>4</td>\n",
       "      <td>4</td>\n",
       "      <td>1.0</td>\n",
       "      <td>63.000000</td>\n",
       "      <td>-128.000000</td>\n",
       "      <td>3</td>\n",
       "      <td>0</td>\n",
       "      <td>0</td>\n",
       "    </tr>\n",
       "    <tr>\n",
       "      <th>AAACGGGTTGGTATCC-1_1</th>\n",
       "      <td>A012701</td>\n",
       "      <td>3981.0</td>\n",
       "      <td>1891</td>\n",
       "      <td>5650.0</td>\n",
       "      <td>1898</td>\n",
       "      <td>5</td>\n",
       "      <td>1</td>\n",
       "      <td>A1</td>\n",
       "      <td>B6_D0</td>\n",
       "      <td>Reg</td>\n",
       "      <td>...</td>\n",
       "      <td>2</td>\n",
       "      <td>2</td>\n",
       "      <td>1</td>\n",
       "      <td>1</td>\n",
       "      <td>1.0</td>\n",
       "      <td>76.000000</td>\n",
       "      <td>-3.000000</td>\n",
       "      <td>4</td>\n",
       "      <td>0</td>\n",
       "      <td>0</td>\n",
       "    </tr>\n",
       "    <tr>\n",
       "      <th>...</th>\n",
       "      <td>...</td>\n",
       "      <td>...</td>\n",
       "      <td>...</td>\n",
       "      <td>...</td>\n",
       "      <td>...</td>\n",
       "      <td>...</td>\n",
       "      <td>...</td>\n",
       "      <td>...</td>\n",
       "      <td>...</td>\n",
       "      <td>...</td>\n",
       "      <td>...</td>\n",
       "      <td>...</td>\n",
       "      <td>...</td>\n",
       "      <td>...</td>\n",
       "      <td>...</td>\n",
       "      <td>...</td>\n",
       "      <td>...</td>\n",
       "      <td>...</td>\n",
       "      <td>...</td>\n",
       "      <td>...</td>\n",
       "      <td>...</td>\n",
       "    </tr>\n",
       "    <tr>\n",
       "      <th>TTGTACACCTCGAACA-1_2</th>\n",
       "      <td>B012602</td>\n",
       "      <td>7260.0</td>\n",
       "      <td>3102</td>\n",
       "      <td>5397.0</td>\n",
       "      <td>3052</td>\n",
       "      <td>3</td>\n",
       "      <td>6</td>\n",
       "      <td>B2</td>\n",
       "      <td>B6_D10_proximal</td>\n",
       "      <td>Reg</td>\n",
       "      <td>...</td>\n",
       "      <td>6</td>\n",
       "      <td>1</td>\n",
       "      <td>5</td>\n",
       "      <td>6</td>\n",
       "      <td>1.0</td>\n",
       "      <td>0.606299</td>\n",
       "      <td>-83.597403</td>\n",
       "      <td>2220</td>\n",
       "      <td>0</td>\n",
       "      <td>0</td>\n",
       "    </tr>\n",
       "    <tr>\n",
       "      <th>TTGTGAGGCATGACGC-1_2</th>\n",
       "      <td>B012602</td>\n",
       "      <td>3916.0</td>\n",
       "      <td>1939</td>\n",
       "      <td>4149.0</td>\n",
       "      <td>1938</td>\n",
       "      <td>3</td>\n",
       "      <td>9</td>\n",
       "      <td>B2</td>\n",
       "      <td>MRL_D10_proximal</td>\n",
       "      <td>Reg</td>\n",
       "      <td>...</td>\n",
       "      <td>9</td>\n",
       "      <td>9</td>\n",
       "      <td>9</td>\n",
       "      <td>9</td>\n",
       "      <td>1.0</td>\n",
       "      <td>7.881890</td>\n",
       "      <td>-86.896104</td>\n",
       "      <td>2221</td>\n",
       "      <td>0</td>\n",
       "      <td>0</td>\n",
       "    </tr>\n",
       "    <tr>\n",
       "      <th>TTGTGGTAGGAGGGAT-1_2</th>\n",
       "      <td>B012602</td>\n",
       "      <td>3621.0</td>\n",
       "      <td>1865</td>\n",
       "      <td>4045.0</td>\n",
       "      <td>1858</td>\n",
       "      <td>1</td>\n",
       "      <td>2</td>\n",
       "      <td>B2</td>\n",
       "      <td>B6_D10_proximal</td>\n",
       "      <td>Reg</td>\n",
       "      <td>...</td>\n",
       "      <td>1</td>\n",
       "      <td>3</td>\n",
       "      <td>2</td>\n",
       "      <td>2</td>\n",
       "      <td>1.0</td>\n",
       "      <td>16.976378</td>\n",
       "      <td>-81.948052</td>\n",
       "      <td>2222</td>\n",
       "      <td>0</td>\n",
       "      <td>0</td>\n",
       "    </tr>\n",
       "    <tr>\n",
       "      <th>TTGTTAGCAAATTCGA-1_2</th>\n",
       "      <td>B012602</td>\n",
       "      <td>857.0</td>\n",
       "      <td>609</td>\n",
       "      <td>3292.0</td>\n",
       "      <td>992</td>\n",
       "      <td>1</td>\n",
       "      <td>11</td>\n",
       "      <td>B2</td>\n",
       "      <td>MRL_D3_proximal</td>\n",
       "      <td>Reg</td>\n",
       "      <td>...</td>\n",
       "      <td>10</td>\n",
       "      <td>10</td>\n",
       "      <td>10</td>\n",
       "      <td>11</td>\n",
       "      <td>1.0</td>\n",
       "      <td>25.464567</td>\n",
       "      <td>-21.285714</td>\n",
       "      <td>2223</td>\n",
       "      <td>0</td>\n",
       "      <td>0</td>\n",
       "    </tr>\n",
       "    <tr>\n",
       "      <th>TTGTTCTAGATACGCT-1_2</th>\n",
       "      <td>B012602</td>\n",
       "      <td>1747.0</td>\n",
       "      <td>1038</td>\n",
       "      <td>3751.0</td>\n",
       "      <td>1123</td>\n",
       "      <td>1</td>\n",
       "      <td>2</td>\n",
       "      <td>B2</td>\n",
       "      <td>MRL_D3_proximal</td>\n",
       "      <td>Reg</td>\n",
       "      <td>...</td>\n",
       "      <td>1</td>\n",
       "      <td>12</td>\n",
       "      <td>12</td>\n",
       "      <td>2</td>\n",
       "      <td>1.0</td>\n",
       "      <td>1.818898</td>\n",
       "      <td>-19.636364</td>\n",
       "      <td>2224</td>\n",
       "      <td>0</td>\n",
       "      <td>0</td>\n",
       "    </tr>\n",
       "  </tbody>\n",
       "</table>\n",
       "<p>2225 rows × 60 columns</p>\n",
       "</div>"
      ],
      "text/plain": [
       "                     orig.ident  nCount_Spatial  nFeature_Spatial  nCount_SCT  \\\n",
       "AAACATTTCCCGGATT-1_1    A012701          4109.0              2072      5652.0   \n",
       "AAACCGGGTAGGTACC-1_1    A012701          7542.0              3173      7034.0   \n",
       "AAACCTCATGAAGTTG-1_1    A012701          6997.0              2659      6751.0   \n",
       "AAACGCCCGAGATCGG-1_1    A012701          4428.0              2391      5637.0   \n",
       "AAACGGGTTGGTATCC-1_1    A012701          3981.0              1891      5650.0   \n",
       "...                         ...             ...               ...         ...   \n",
       "TTGTACACCTCGAACA-1_2    B012602          7260.0              3102      5397.0   \n",
       "TTGTGAGGCATGACGC-1_2    B012602          3916.0              1939      4149.0   \n",
       "TTGTGGTAGGAGGGAT-1_2    B012602          3621.0              1865      4045.0   \n",
       "TTGTTAGCAAATTCGA-1_2    B012602           857.0               609      3292.0   \n",
       "TTGTTCTAGATACGCT-1_2    B012602          1747.0              1038      3751.0   \n",
       "\n",
       "                      nFeature_SCT SCT_snn_res.0.8  seurat_clusters slide  \\\n",
       "AAACATTTCCCGGATT-1_1          2069               4                0    A1   \n",
       "AAACCGGGTAGGTACC-1_1          3170               7                1    A1   \n",
       "AAACCTCATGAAGTTG-1_1          2655               6                5    A1   \n",
       "AAACGCCCGAGATCGG-1_1          2393               1                4    A1   \n",
       "AAACGGGTTGGTATCC-1_1          1898               5                1    A1   \n",
       "...                            ...             ...              ...   ...   \n",
       "TTGTACACCTCGAACA-1_2          3052               3                6    B2   \n",
       "TTGTGAGGCATGACGC-1_2          1938               3                9    B2   \n",
       "TTGTGGTAGGAGGGAT-1_2          1858               1                2    B2   \n",
       "TTGTTAGCAAATTCGA-1_2           992               1               11    B2   \n",
       "TTGTTCTAGATACGCT-1_2          1123               1                2    B2   \n",
       "\n",
       "                         sample_detail sample  ... eWEIDE_snn_res.1.2  \\\n",
       "AAACATTTCCCGGATT-1_1           MRL_D15    Reg  ...                  0   \n",
       "AAACCGGGTAGGTACC-1_1            MRL_D0    Reg  ...                  2   \n",
       "AAACCTCATGAAGTTG-1_1             B6_D0    Reg  ...                  7   \n",
       "AAACGCCCGAGATCGG-1_1           MRL_D15    Reg  ...                  4   \n",
       "AAACGGGTTGGTATCC-1_1             B6_D0    Reg  ...                  2   \n",
       "...                                ...    ...  ...                ...   \n",
       "TTGTACACCTCGAACA-1_2   B6_D10_proximal    Reg  ...                  6   \n",
       "TTGTGAGGCATGACGC-1_2  MRL_D10_proximal    Reg  ...                  9   \n",
       "TTGTGGTAGGAGGGAT-1_2   B6_D10_proximal    Reg  ...                  1   \n",
       "TTGTTAGCAAATTCGA-1_2   MRL_D3_proximal    Reg  ...                 10   \n",
       "TTGTTCTAGATACGCT-1_2   MRL_D3_proximal    Reg  ...                  1   \n",
       "\n",
       "                      eWEIDE_snn_res.1.3  eWEIDE_snn_res.1.4  \\\n",
       "AAACATTTCCCGGATT-1_1                   0                   0   \n",
       "AAACCGGGTAGGTACC-1_1                   2                   1   \n",
       "AAACCTCATGAAGTTG-1_1                   7                   6   \n",
       "AAACGCCCGAGATCGG-1_1                   5                   4   \n",
       "AAACGGGTTGGTATCC-1_1                   2                   1   \n",
       "...                                  ...                 ...   \n",
       "TTGTACACCTCGAACA-1_2                   1                   5   \n",
       "TTGTGAGGCATGACGC-1_2                   9                   9   \n",
       "TTGTGGTAGGAGGGAT-1_2                   3                   2   \n",
       "TTGTTAGCAAATTCGA-1_2                  10                  10   \n",
       "TTGTTCTAGATACGCT-1_2                  12                  12   \n",
       "\n",
       "                     eWEIDE_snn_res.1.5  in_tissue  array_row   array_col  \\\n",
       "AAACATTTCCCGGATT-1_1                  0        1.0   6.000000 -117.000000   \n",
       "AAACCGGGTAGGTACC-1_1                  1        1.0  35.000000    2.000000   \n",
       "AAACCTCATGAAGTTG-1_1                  5        1.0  40.000000    1.000000   \n",
       "AAACGCCCGAGATCGG-1_1                  4        1.0  63.000000 -128.000000   \n",
       "AAACGGGTTGGTATCC-1_1                  1        1.0  76.000000   -3.000000   \n",
       "...                                 ...        ...        ...         ...   \n",
       "TTGTACACCTCGAACA-1_2                  6        1.0   0.606299  -83.597403   \n",
       "TTGTGAGGCATGACGC-1_2                  9        1.0   7.881890  -86.896104   \n",
       "TTGTGGTAGGAGGGAT-1_2                  2        1.0  16.976378  -81.948052   \n",
       "TTGTTAGCAAATTCGA-1_2                 11        1.0  25.464567  -21.285714   \n",
       "TTGTTCTAGATACGCT-1_2                  2        1.0   1.818898  -19.636364   \n",
       "\n",
       "                      _indices  _scvi_batch  _scvi_labels  \n",
       "AAACATTTCCCGGATT-1_1         0            0             0  \n",
       "AAACCGGGTAGGTACC-1_1         1            0             0  \n",
       "AAACCTCATGAAGTTG-1_1         2            0             0  \n",
       "AAACGCCCGAGATCGG-1_1         3            0             0  \n",
       "AAACGGGTTGGTATCC-1_1         4            0             0  \n",
       "...                        ...          ...           ...  \n",
       "TTGTACACCTCGAACA-1_2      2220            0             0  \n",
       "TTGTGAGGCATGACGC-1_2      2221            0             0  \n",
       "TTGTGGTAGGAGGGAT-1_2      2222            0             0  \n",
       "TTGTTAGCAAATTCGA-1_2      2223            0             0  \n",
       "TTGTTCTAGATACGCT-1_2      2224            0             0  \n",
       "\n",
       "[2225 rows x 60 columns]"
      ]
     },
     "execution_count": 27,
     "metadata": {},
     "output_type": "execute_result"
    }
   ],
   "source": [
    "adata_vis.obs"
   ]
  },
  {
   "cell_type": "code",
   "execution_count": 28,
   "id": "06313680",
   "metadata": {},
   "outputs": [],
   "source": [
    "adata_vis.obs[adata_vis.uns['mod']['factor_names']] = adata_vis.obsm['q05_cell_abundance_w_sf']\n",
    "outdf = adata_vis.obs[adata_vis.uns['mod']['factor_names']]\n",
    "outdf.to_csv(f\"{results_folder}{data_name}_C2L.csv\")"
   ]
  },
  {
   "cell_type": "code",
   "execution_count": null,
   "id": "e9d397f9",
   "metadata": {},
   "outputs": [],
   "source": []
  },
  {
   "cell_type": "code",
   "execution_count": null,
   "id": "22495ad9",
   "metadata": {},
   "outputs": [],
   "source": []
  },
  {
   "cell_type": "code",
   "execution_count": null,
   "id": "b1851c64",
   "metadata": {},
   "outputs": [],
   "source": []
  },
  {
   "cell_type": "code",
   "execution_count": null,
   "id": "30436321",
   "metadata": {},
   "outputs": [],
   "source": []
  },
  {
   "cell_type": "code",
   "execution_count": null,
   "id": "27800ec9",
   "metadata": {},
   "outputs": [],
   "source": []
  },
  {
   "cell_type": "code",
   "execution_count": null,
   "id": "483cef09",
   "metadata": {},
   "outputs": [],
   "source": []
  }
 ],
 "metadata": {
  "kernelspec": {
   "display_name": "Environment (cell2loc_env)",
   "language": "python",
   "name": "cell2loc_env"
  },
  "language_info": {
   "codemirror_mode": {
    "name": "ipython",
    "version": 3
   },
   "file_extension": ".py",
   "mimetype": "text/x-python",
   "name": "python",
   "nbconvert_exporter": "python",
   "pygments_lexer": "ipython3",
   "version": "3.9.12"
  }
 },
 "nbformat": 4,
 "nbformat_minor": 5
}
