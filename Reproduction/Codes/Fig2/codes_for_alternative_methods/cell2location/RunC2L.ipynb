{
 "cells": [
  {
   "cell_type": "code",
   "execution_count": 1,
   "id": "d55d68a8",
   "metadata": {},
   "outputs": [
    {
     "name": "stderr",
     "output_type": "stream",
     "text": [
      "Global seed set to 0\n"
     ]
    }
   ],
   "source": [
    "import sys\n",
    "\n",
    "IN_COLAB = \"google.colab\" in sys.modules\n",
    "if IN_COLAB and branch == \"stable\":\n",
    "    !pip install --quiet git+https://github.com/BayraktarLab/cell2location#egg=cell2location[tutorials]\n",
    "\n",
    "import scanpy as sc\n",
    "import anndata\n",
    "import pandas as pd\n",
    "import numpy as np\n",
    "import matplotlib.pyplot as plt\n",
    "import matplotlib as mpl\n",
    "\n",
    "import cell2location\n",
    "import scvi\n",
    "\n",
    "from matplotlib import rcParams\n",
    "rcParams['pdf.fonttype'] = 42 # enables correct plotting of text\n",
    "import seaborn as sns\n",
    "import loompy\n",
    "\n",
    "import pyreadr\n",
    "import os"
   ]
  },
  {
   "cell_type": "code",
   "execution_count": 2,
   "id": "682d938a",
   "metadata": {},
   "outputs": [],
   "source": [
    "import Ipynb_importer"
   ]
  },
  {
   "cell_type": "code",
   "execution_count": 3,
   "id": "968d47b3",
   "metadata": {},
   "outputs": [
    {
     "name": "stdout",
     "output_type": "stream",
     "text": [
      "importing Jupyter notebook from C2L_Ref.ipynb\n"
     ]
    }
   ],
   "source": [
    "import C2L_Ref"
   ]
  },
  {
   "cell_type": "code",
   "execution_count": 4,
   "id": "77452776",
   "metadata": {},
   "outputs": [
    {
     "name": "stdout",
     "output_type": "stream",
     "text": [
      "importing Jupyter notebook from C2L_Vis.ipynb\n"
     ]
    }
   ],
   "source": [
    "import C2L_Vis"
   ]
  },
  {
   "cell_type": "code",
   "execution_count": 5,
   "id": "e528e5a2",
   "metadata": {},
   "outputs": [
    {
     "data": {
      "text/plain": [
       "['TC', 'TM', 'TS']"
      ]
     },
     "execution_count": 5,
     "metadata": {},
     "output_type": "execute_result"
    }
   ],
   "source": [
    "path = '/data/xy/Spatial_transcriptome/eWEIDE/20231111_benchmark_recluster_Tex/scanpy_data/'\n",
    "scpath = '/data/xy/Spatial_transcriptome/eWEIDE/20231111_benchmark_recluster_Tex/scanpy_data/'\n",
    "output_path = '/data/xy/Spatial_transcriptome/eWEIDE/20231111_benchmark_recluster_Tex/cell2location_result/results/'\n",
    "dirlist = ['TC', 'TM', 'TS']\n",
    "dirlist"
   ]
  },
  {
   "cell_type": "code",
   "execution_count": 6,
   "id": "577ea638",
   "metadata": {},
   "outputs": [],
   "source": [
    "# load the sc data (loom file) and transfer to h5ad file\n",
    "\n",
    "adata_ref = sc.read_loom(f\"{scpath}/sc.silico.loom\", sparse=True, cleanup=False, X_name='spliced', obs_names='CellID', var_names='Gene', dtype='float32')\n",
    "obs_ref= pd.read_csv(f'{scpath}/sc.silico_meta.data.csv',delimiter=',', index_col=0)\n",
    "adata_ref.obs = obs_ref\n",
    "var_ref= pd.read_csv(f'{scpath}/sc.silico_meta.features.csv',delimiter=',', index_col=0)\n",
    "adata_ref.var = var_ref\n",
    "adata_ref.write(f'{scpath}/sc.silico.h5ad')"
   ]
  },
  {
   "cell_type": "code",
   "execution_count": 7,
   "id": "159e7ac8",
   "metadata": {},
   "outputs": [
    {
     "data": {
      "image/png": "[encoded data removed]",
      "text/plain": [
       "<Figure size 432x288 with 1 Axes>"
      ]
     },
     "metadata": {
      "needs_background": "light"
     },
     "output_type": "display_data"
    },
    {
     "name": "stdout",
     "output_type": "stream",
     "text": [
      "111\n",
      "222\n"
     ]
    },
    {
     "data": {
      "text/html": [
       "<pre style=\"white-space:pre;overflow-x:auto;line-height:normal;font-family:Menlo,'DejaVu Sans Mono',consolas,'Courier New',monospace\">Anndata setup with scvi-tools version <span style=\"color: #008080; text-decoration-color: #008080; font-weight: bold\">0.16</span>.<span style=\"color: #008080; text-decoration-color: #008080; font-weight: bold\">0</span>.\n",
       "</pre>\n"
      ],
      "text/plain": [
       "Anndata setup with scvi-tools version \u001b[1;36m0.16\u001b[0m.\u001b[1;36m0\u001b[0m.\n"
      ]
     },
     "metadata": {},
     "output_type": "display_data"
    },
    {
     "data": {
      "text/html": [
       "<pre style=\"white-space:pre;overflow-x:auto;line-height:normal;font-family:Menlo,'DejaVu Sans Mono',consolas,'Courier New',monospace\">\n",
       "</pre>\n"
      ],
      "text/plain": [
       "\n"
      ]
     },
     "metadata": {},
     "output_type": "display_data"
    },
    {
     "data": {
      "text/html": [
       "<pre style=\"white-space:pre;overflow-x:auto;line-height:normal;font-family:Menlo,'DejaVu Sans Mono',consolas,'Courier New',monospace\">Setup via `RegressionModel.setup_anndata` with arguments:\n",
       "</pre>\n"
      ],
      "text/plain": [
       "Setup via `RegressionModel.setup_anndata` with arguments:\n"
      ]
     },
     "metadata": {},
     "output_type": "display_data"
    },
    {
     "data": {
      "text/html": [
       "<pre style=\"white-space:pre;overflow-x:auto;line-height:normal;font-family:Menlo,'DejaVu Sans Mono',consolas,'Courier New',monospace\"><span style=\"font-weight: bold\">{</span>\n",
       "<span style=\"color: #7fbf7f; text-decoration-color: #7fbf7f\">│   </span><span style=\"color: #008000; text-decoration-color: #008000\">'layer'</span>: <span style=\"color: #800080; text-decoration-color: #800080; font-style: italic\">None</span>,\n",
       "<span style=\"color: #7fbf7f; text-decoration-color: #7fbf7f\">│   </span><span style=\"color: #008000; text-decoration-color: #008000\">'batch_key'</span>: <span style=\"color: #008000; text-decoration-color: #008000\">'orig.ident'</span>,\n",
       "<span style=\"color: #7fbf7f; text-decoration-color: #7fbf7f\">│   </span><span style=\"color: #008000; text-decoration-color: #008000\">'labels_key'</span>: <span style=\"color: #008000; text-decoration-color: #008000\">'low_res_ident'</span>,\n",
       "<span style=\"color: #7fbf7f; text-decoration-color: #7fbf7f\">│   </span><span style=\"color: #008000; text-decoration-color: #008000\">'categorical_covariate_keys'</span>: <span style=\"font-weight: bold\">[</span><span style=\"color: #008000; text-decoration-color: #008000\">'orig.ident'</span><span style=\"font-weight: bold\">]</span>,\n",
       "<span style=\"color: #7fbf7f; text-decoration-color: #7fbf7f\">│   </span><span style=\"color: #008000; text-decoration-color: #008000\">'continuous_covariate_keys'</span>: <span style=\"color: #800080; text-decoration-color: #800080; font-style: italic\">None</span>\n",
       "<span style=\"font-weight: bold\">}</span>\n",
       "</pre>\n"
      ],
      "text/plain": [
       "\u001b[1m{\u001b[0m\n",
       "\u001b[2;32m│   \u001b[0m\u001b[32m'layer'\u001b[0m: \u001b[3;35mNone\u001b[0m,\n",
       "\u001b[2;32m│   \u001b[0m\u001b[32m'batch_key'\u001b[0m: \u001b[32m'orig.ident'\u001b[0m,\n",
       "\u001b[2;32m│   \u001b[0m\u001b[32m'labels_key'\u001b[0m: \u001b[32m'low_res_ident'\u001b[0m,\n",
       "\u001b[2;32m│   \u001b[0m\u001b[32m'categorical_covariate_keys'\u001b[0m: \u001b[1m[\u001b[0m\u001b[32m'orig.ident'\u001b[0m\u001b[1m]\u001b[0m,\n",
       "\u001b[2;32m│   \u001b[0m\u001b[32m'continuous_covariate_keys'\u001b[0m: \u001b[3;35mNone\u001b[0m\n",
       "\u001b[1m}\u001b[0m\n"
      ]
     },
     "metadata": {},
     "output_type": "display_data"
    },
    {
     "data": {
      "text/html": [
       "<pre style=\"white-space:pre;overflow-x:auto;line-height:normal;font-family:Menlo,'DejaVu Sans Mono',consolas,'Courier New',monospace\">\n",
       "</pre>\n"
      ],
      "text/plain": [
       "\n"
      ]
     },
     "metadata": {},
     "output_type": "display_data"
    },
    {
     "data": {
      "text/html": [
       "<pre style=\"white-space:pre;overflow-x:auto;line-height:normal;font-family:Menlo,'DejaVu Sans Mono',consolas,'Courier New',monospace\"><span style=\"font-style: italic\">         Summary Statistics         </span>\n",
       "┏━━━━━━━━━━━━━━━━━━━━━━━━━━┳━━━━━━━┓\n",
       "┃<span style=\"font-weight: bold\">     Summary Stat Key     </span>┃<span style=\"font-weight: bold\"> Value </span>┃\n",
       "┡━━━━━━━━━━━━━━━━━━━━━━━━━━╇━━━━━━━┩\n",
       "│<span style=\"color: #0087ff; text-decoration-color: #0087ff\">         n_cells          </span>│<span style=\"color: #af00d7; text-decoration-color: #af00d7\"> 12577 </span>│\n",
       "│<span style=\"color: #0087ff; text-decoration-color: #0087ff\">          n_vars          </span>│<span style=\"color: #af00d7; text-decoration-color: #af00d7\"> 9639  </span>│\n",
       "│<span style=\"color: #0087ff; text-decoration-color: #0087ff\">         n_batch          </span>│<span style=\"color: #af00d7; text-decoration-color: #af00d7\">   7   </span>│\n",
       "│<span style=\"color: #0087ff; text-decoration-color: #0087ff\">         n_labels         </span>│<span style=\"color: #af00d7; text-decoration-color: #af00d7\">   7   </span>│\n",
       "│<span style=\"color: #0087ff; text-decoration-color: #0087ff\"> n_extra_categorical_covs </span>│<span style=\"color: #af00d7; text-decoration-color: #af00d7\">   1   </span>│\n",
       "│<span style=\"color: #0087ff; text-decoration-color: #0087ff\"> n_extra_continuous_covs  </span>│<span style=\"color: #af00d7; text-decoration-color: #af00d7\">   0   </span>│\n",
       "└──────────────────────────┴───────┘\n",
       "</pre>\n"
      ],
      "text/plain": [
       "\u001b[3m         Summary Statistics         \u001b[0m\n",
       "┏━━━━━━━━━━━━━━━━━━━━━━━━━━┳━━━━━━━┓\n",
       "┃\u001b[1m \u001b[0m\u001b[1m    Summary Stat Key    \u001b[0m\u001b[1m \u001b[0m┃\u001b[1m \u001b[0m\u001b[1mValue\u001b[0m\u001b[1m \u001b[0m┃\n",
       "┡━━━━━━━━━━━━━━━━━━━━━━━━━━╇━━━━━━━┩\n",
       "│\u001b[38;5;33m \u001b[0m\u001b[38;5;33m        n_cells         \u001b[0m\u001b[38;5;33m \u001b[0m│\u001b[38;5;128m \u001b[0m\u001b[38;5;128m12577\u001b[0m\u001b[38;5;128m \u001b[0m│\n",
       "│\u001b[38;5;33m \u001b[0m\u001b[38;5;33m         n_vars         \u001b[0m\u001b[38;5;33m \u001b[0m│\u001b[38;5;128m \u001b[0m\u001b[38;5;128m9639 \u001b[0m\u001b[38;5;128m \u001b[0m│\n",
       "│\u001b[38;5;33m \u001b[0m\u001b[38;5;33m        n_batch         \u001b[0m\u001b[38;5;33m \u001b[0m│\u001b[38;5;128m \u001b[0m\u001b[38;5;128m  7  \u001b[0m\u001b[38;5;128m \u001b[0m│\n",
       "│\u001b[38;5;33m \u001b[0m\u001b[38;5;33m        n_labels        \u001b[0m\u001b[38;5;33m \u001b[0m│\u001b[38;5;128m \u001b[0m\u001b[38;5;128m  7  \u001b[0m\u001b[38;5;128m \u001b[0m│\n",
       "│\u001b[38;5;33m \u001b[0m\u001b[38;5;33mn_extra_categorical_covs\u001b[0m\u001b[38;5;33m \u001b[0m│\u001b[38;5;128m \u001b[0m\u001b[38;5;128m  1  \u001b[0m\u001b[38;5;128m \u001b[0m│\n",
       "│\u001b[38;5;33m \u001b[0m\u001b[38;5;33mn_extra_continuous_covs \u001b[0m\u001b[38;5;33m \u001b[0m│\u001b[38;5;128m \u001b[0m\u001b[38;5;128m  0  \u001b[0m\u001b[38;5;128m \u001b[0m│\n",
       "└──────────────────────────┴───────┘\n"
      ]
     },
     "metadata": {},
     "output_type": "display_data"
    },
    {
     "data": {
      "text/html": [
       "<pre style=\"white-space:pre;overflow-x:auto;line-height:normal;font-family:Menlo,'DejaVu Sans Mono',consolas,'Courier New',monospace\"><span style=\"font-style: italic\">                             Data Registry                             </span>\n",
       "┏━━━━━━━━━━━━━━━━━━━━━━━━┳━━━━━━━━━━━━━━━━━━━━━━━━━━━━━━━━━━━━━━━━━━━━┓\n",
       "┃<span style=\"font-weight: bold\">      Registry Key      </span>┃<span style=\"font-weight: bold\">            scvi-tools Location             </span>┃\n",
       "┡━━━━━━━━━━━━━━━━━━━━━━━━╇━━━━━━━━━━━━━━━━━━━━━━━━━━━━━━━━━━━━━━━━━━━━┩\n",
       "│<span style=\"color: #0087ff; text-decoration-color: #0087ff\">           X            </span>│<span style=\"color: #af00d7; text-decoration-color: #af00d7\">                  adata.X                   </span>│\n",
       "│<span style=\"color: #0087ff; text-decoration-color: #0087ff\">         batch          </span>│<span style=\"color: #af00d7; text-decoration-color: #af00d7\">          adata.obs['_scvi_batch']          </span>│\n",
       "│<span style=\"color: #0087ff; text-decoration-color: #0087ff\">         labels         </span>│<span style=\"color: #af00d7; text-decoration-color: #af00d7\">         adata.obs['_scvi_labels']          </span>│\n",
       "│<span style=\"color: #0087ff; text-decoration-color: #0087ff\"> extra_categorical_covs </span>│<span style=\"color: #af00d7; text-decoration-color: #af00d7\"> adata.obsm['_scvi_extra_categorical_covs'] </span>│\n",
       "│<span style=\"color: #0087ff; text-decoration-color: #0087ff\">         ind_x          </span>│<span style=\"color: #af00d7; text-decoration-color: #af00d7\">           adata.obs['_indices']            </span>│\n",
       "└────────────────────────┴────────────────────────────────────────────┘\n",
       "</pre>\n"
      ],
      "text/plain": [
       "\u001b[3m                             Data Registry                             \u001b[0m\n",
       "┏━━━━━━━━━━━━━━━━━━━━━━━━┳━━━━━━━━━━━━━━━━━━━━━━━━━━━━━━━━━━━━━━━━━━━━┓\n",
       "┃\u001b[1m \u001b[0m\u001b[1m     Registry Key     \u001b[0m\u001b[1m \u001b[0m┃\u001b[1m \u001b[0m\u001b[1m           scvi-tools Location            \u001b[0m\u001b[1m \u001b[0m┃\n",
       "┡━━━━━━━━━━━━━━━━━━━━━━━━╇━━━━━━━━━━━━━━━━━━━━━━━━━━━━━━━━━━━━━━━━━━━━┩\n",
       "│\u001b[38;5;33m \u001b[0m\u001b[38;5;33m          X           \u001b[0m\u001b[38;5;33m \u001b[0m│\u001b[38;5;128m \u001b[0m\u001b[38;5;128m                 adata.X                  \u001b[0m\u001b[38;5;128m \u001b[0m│\n",
       "│\u001b[38;5;33m \u001b[0m\u001b[38;5;33m        batch         \u001b[0m\u001b[38;5;33m \u001b[0m│\u001b[38;5;128m \u001b[0m\u001b[38;5;128m         adata.obs['_scvi_batch']         \u001b[0m\u001b[38;5;128m \u001b[0m│\n",
       "│\u001b[38;5;33m \u001b[0m\u001b[38;5;33m        labels        \u001b[0m\u001b[38;5;33m \u001b[0m│\u001b[38;5;128m \u001b[0m\u001b[38;5;128m        adata.obs['_scvi_labels']         \u001b[0m\u001b[38;5;128m \u001b[0m│\n",
       "│\u001b[38;5;33m \u001b[0m\u001b[38;5;33mextra_categorical_covs\u001b[0m\u001b[38;5;33m \u001b[0m│\u001b[38;5;128m \u001b[0m\u001b[38;5;128madata.obsm['_scvi_extra_categorical_covs']\u001b[0m\u001b[38;5;128m \u001b[0m│\n",
       "│\u001b[38;5;33m \u001b[0m\u001b[38;5;33m        ind_x         \u001b[0m\u001b[38;5;33m \u001b[0m│\u001b[38;5;128m \u001b[0m\u001b[38;5;128m          adata.obs['_indices']           \u001b[0m\u001b[38;5;128m \u001b[0m│\n",
       "└────────────────────────┴────────────────────────────────────────────┘\n"
      ]
     },
     "metadata": {},
     "output_type": "display_data"
    },
    {
     "data": {
      "text/html": [
       "<pre style=\"white-space:pre;overflow-x:auto;line-height:normal;font-family:Menlo,'DejaVu Sans Mono',consolas,'Courier New',monospace\"><span style=\"font-style: italic\">                           batch State Registry                            </span>\n",
       "┏━━━━━━━━━━━━━━━━━━━━━━━━━┳━━━━━━━━━━━━━━━━━━━━━━━━━┳━━━━━━━━━━━━━━━━━━━━━┓\n",
       "┃<span style=\"font-weight: bold\">     Source Location     </span>┃<span style=\"font-weight: bold\">       Categories        </span>┃<span style=\"font-weight: bold\"> scvi-tools Encoding </span>┃\n",
       "┡━━━━━━━━━━━━━━━━━━━━━━━━━╇━━━━━━━━━━━━━━━━━━━━━━━━━╇━━━━━━━━━━━━━━━━━━━━━┩\n",
       "│<span style=\"color: #0087ff; text-decoration-color: #0087ff\"> adata.obs['orig.ident'] </span>│<span style=\"color: #008000; text-decoration-color: #008000\">     KRAS_Pt2_immune     </span>│<span style=\"color: #af00d7; text-decoration-color: #af00d7\">          0          </span>│\n",
       "│<span style=\"color: #0087ff; text-decoration-color: #0087ff\">                         </span>│<span style=\"color: #008000; text-decoration-color: #008000\">     KRAS_Pt7_immune     </span>│<span style=\"color: #af00d7; text-decoration-color: #af00d7\">          1          </span>│\n",
       "│<span style=\"color: #0087ff; text-decoration-color: #0087ff\">                         </span>│<span style=\"color: #008000; text-decoration-color: #008000\"> Pt2_Pt3_Pt6_CD45neg_add </span>│<span style=\"color: #af00d7; text-decoration-color: #af00d7\">          2          </span>│\n",
       "│<span style=\"color: #0087ff; text-decoration-color: #0087ff\">                         </span>│<span style=\"color: #008000; text-decoration-color: #008000\">     Pt2_Pt3_Pt6_add     </span>│<span style=\"color: #af00d7; text-decoration-color: #af00d7\">          3          </span>│\n",
       "│<span style=\"color: #0087ff; text-decoration-color: #0087ff\">                         </span>│<span style=\"color: #008000; text-decoration-color: #008000\">         Pt2_Pt6         </span>│<span style=\"color: #af00d7; text-decoration-color: #af00d7\">          4          </span>│\n",
       "│<span style=\"color: #0087ff; text-decoration-color: #0087ff\">                         </span>│<span style=\"color: #008000; text-decoration-color: #008000\">     Pt3_Pt7_CD45neg     </span>│<span style=\"color: #af00d7; text-decoration-color: #af00d7\">          5          </span>│\n",
       "│<span style=\"color: #0087ff; text-decoration-color: #0087ff\">                         </span>│<span style=\"color: #008000; text-decoration-color: #008000\">      WT_Pt3_immune      </span>│<span style=\"color: #af00d7; text-decoration-color: #af00d7\">          6          </span>│\n",
       "└─────────────────────────┴─────────────────────────┴─────────────────────┘\n",
       "</pre>\n"
      ],
      "text/plain": [
       "\u001b[3m                           batch State Registry                            \u001b[0m\n",
       "┏━━━━━━━━━━━━━━━━━━━━━━━━━┳━━━━━━━━━━━━━━━━━━━━━━━━━┳━━━━━━━━━━━━━━━━━━━━━┓\n",
       "┃\u001b[1m \u001b[0m\u001b[1m    Source Location    \u001b[0m\u001b[1m \u001b[0m┃\u001b[1m \u001b[0m\u001b[1m      Categories       \u001b[0m\u001b[1m \u001b[0m┃\u001b[1m \u001b[0m\u001b[1mscvi-tools Encoding\u001b[0m\u001b[1m \u001b[0m┃\n",
       "┡━━━━━━━━━━━━━━━━━━━━━━━━━╇━━━━━━━━━━━━━━━━━━━━━━━━━╇━━━━━━━━━━━━━━━━━━━━━┩\n",
       "│\u001b[38;5;33m \u001b[0m\u001b[38;5;33madata.obs['orig.ident']\u001b[0m\u001b[38;5;33m \u001b[0m│\u001b[32m \u001b[0m\u001b[32m    KRAS_Pt2_immune    \u001b[0m\u001b[32m \u001b[0m│\u001b[38;5;128m \u001b[0m\u001b[38;5;128m         0         \u001b[0m\u001b[38;5;128m \u001b[0m│\n",
       "│\u001b[38;5;33m \u001b[0m\u001b[38;5;33m                       \u001b[0m\u001b[38;5;33m \u001b[0m│\u001b[32m \u001b[0m\u001b[32m    KRAS_Pt7_immune    \u001b[0m\u001b[32m \u001b[0m│\u001b[38;5;128m \u001b[0m\u001b[38;5;128m         1         \u001b[0m\u001b[38;5;128m \u001b[0m│\n",
       "│\u001b[38;5;33m \u001b[0m\u001b[38;5;33m                       \u001b[0m\u001b[38;5;33m \u001b[0m│\u001b[32m \u001b[0m\u001b[32mPt2_Pt3_Pt6_CD45neg_add\u001b[0m\u001b[32m \u001b[0m│\u001b[38;5;128m \u001b[0m\u001b[38;5;128m         2         \u001b[0m\u001b[38;5;128m \u001b[0m│\n",
       "│\u001b[38;5;33m \u001b[0m\u001b[38;5;33m                       \u001b[0m\u001b[38;5;33m \u001b[0m│\u001b[32m \u001b[0m\u001b[32m    Pt2_Pt3_Pt6_add    \u001b[0m\u001b[32m \u001b[0m│\u001b[38;5;128m \u001b[0m\u001b[38;5;128m         3         \u001b[0m\u001b[38;5;128m \u001b[0m│\n",
       "│\u001b[38;5;33m \u001b[0m\u001b[38;5;33m                       \u001b[0m\u001b[38;5;33m \u001b[0m│\u001b[32m \u001b[0m\u001b[32m        Pt2_Pt6        \u001b[0m\u001b[32m \u001b[0m│\u001b[38;5;128m \u001b[0m\u001b[38;5;128m         4         \u001b[0m\u001b[38;5;128m \u001b[0m│\n",
       "│\u001b[38;5;33m \u001b[0m\u001b[38;5;33m                       \u001b[0m\u001b[38;5;33m \u001b[0m│\u001b[32m \u001b[0m\u001b[32m    Pt3_Pt7_CD45neg    \u001b[0m\u001b[32m \u001b[0m│\u001b[38;5;128m \u001b[0m\u001b[38;5;128m         5         \u001b[0m\u001b[38;5;128m \u001b[0m│\n",
       "│\u001b[38;5;33m \u001b[0m\u001b[38;5;33m                       \u001b[0m\u001b[38;5;33m \u001b[0m│\u001b[32m \u001b[0m\u001b[32m     WT_Pt3_immune     \u001b[0m\u001b[32m \u001b[0m│\u001b[38;5;128m \u001b[0m\u001b[38;5;128m         6         \u001b[0m\u001b[38;5;128m \u001b[0m│\n",
       "└─────────────────────────┴─────────────────────────┴─────────────────────┘\n"
      ]
     },
     "metadata": {},
     "output_type": "display_data"
    },
    {
     "data": {
      "text/html": [
       "<pre style=\"white-space:pre;overflow-x:auto;line-height:normal;font-family:Menlo,'DejaVu Sans Mono',consolas,'Courier New',monospace\"><span style=\"font-style: italic\">                       labels State Registry                        </span>\n",
       "┏━━━━━━━━━━━━━━━━━━━━━━━━━━━━┳━━━━━━━━━━━━━━━┳━━━━━━━━━━━━━━━━━━━━━┓\n",
       "┃<span style=\"font-weight: bold\">      Source Location       </span>┃<span style=\"font-weight: bold\">  Categories   </span>┃<span style=\"font-weight: bold\"> scvi-tools Encoding </span>┃\n",
       "┡━━━━━━━━━━━━━━━━━━━━━━━━━━━━╇━━━━━━━━━━━━━━━╇━━━━━━━━━━━━━━━━━━━━━┩\n",
       "│<span style=\"color: #0087ff; text-decoration-color: #0087ff\"> adata.obs['low_res_ident'] </span>│<span style=\"color: #008000; text-decoration-color: #008000\">    B_cells    </span>│<span style=\"color: #af00d7; text-decoration-color: #af00d7\">          0          </span>│\n",
       "│<span style=\"color: #0087ff; text-decoration-color: #0087ff\">                            </span>│<span style=\"color: #008000; text-decoration-color: #008000\">     CD4_T     </span>│<span style=\"color: #af00d7; text-decoration-color: #af00d7\">          1          </span>│\n",
       "│<span style=\"color: #0087ff; text-decoration-color: #0087ff\">                            </span>│<span style=\"color: #008000; text-decoration-color: #008000\">     CD8_T     </span>│<span style=\"color: #af00d7; text-decoration-color: #af00d7\">          2          </span>│\n",
       "│<span style=\"color: #0087ff; text-decoration-color: #0087ff\">                            </span>│<span style=\"color: #008000; text-decoration-color: #008000\">  Epithelial   </span>│<span style=\"color: #af00d7; text-decoration-color: #af00d7\">          3          </span>│\n",
       "│<span style=\"color: #0087ff; text-decoration-color: #0087ff\">                            </span>│<span style=\"color: #008000; text-decoration-color: #008000\"> Myeloid_cells </span>│<span style=\"color: #af00d7; text-decoration-color: #af00d7\">          4          </span>│\n",
       "│<span style=\"color: #0087ff; text-decoration-color: #0087ff\">                            </span>│<span style=\"color: #008000; text-decoration-color: #008000\">    Plasma     </span>│<span style=\"color: #af00d7; text-decoration-color: #af00d7\">          5          </span>│\n",
       "│<span style=\"color: #0087ff; text-decoration-color: #0087ff\">                            </span>│<span style=\"color: #008000; text-decoration-color: #008000\">    Stromal    </span>│<span style=\"color: #af00d7; text-decoration-color: #af00d7\">          6          </span>│\n",
       "└────────────────────────────┴───────────────┴─────────────────────┘\n",
       "</pre>\n"
      ],
      "text/plain": [
       "\u001b[3m                       labels State Registry                        \u001b[0m\n",
       "┏━━━━━━━━━━━━━━━━━━━━━━━━━━━━┳━━━━━━━━━━━━━━━┳━━━━━━━━━━━━━━━━━━━━━┓\n",
       "┃\u001b[1m \u001b[0m\u001b[1m     Source Location      \u001b[0m\u001b[1m \u001b[0m┃\u001b[1m \u001b[0m\u001b[1m Categories  \u001b[0m\u001b[1m \u001b[0m┃\u001b[1m \u001b[0m\u001b[1mscvi-tools Encoding\u001b[0m\u001b[1m \u001b[0m┃\n",
       "┡━━━━━━━━━━━━━━━━━━━━━━━━━━━━╇━━━━━━━━━━━━━━━╇━━━━━━━━━━━━━━━━━━━━━┩\n",
       "│\u001b[38;5;33m \u001b[0m\u001b[38;5;33madata.obs['low_res_ident']\u001b[0m\u001b[38;5;33m \u001b[0m│\u001b[32m \u001b[0m\u001b[32m   B_cells   \u001b[0m\u001b[32m \u001b[0m│\u001b[38;5;128m \u001b[0m\u001b[38;5;128m         0         \u001b[0m\u001b[38;5;128m \u001b[0m│\n",
       "│\u001b[38;5;33m \u001b[0m\u001b[38;5;33m                          \u001b[0m\u001b[38;5;33m \u001b[0m│\u001b[32m \u001b[0m\u001b[32m    CD4_T    \u001b[0m\u001b[32m \u001b[0m│\u001b[38;5;128m \u001b[0m\u001b[38;5;128m         1         \u001b[0m\u001b[38;5;128m \u001b[0m│\n",
       "│\u001b[38;5;33m \u001b[0m\u001b[38;5;33m                          \u001b[0m\u001b[38;5;33m \u001b[0m│\u001b[32m \u001b[0m\u001b[32m    CD8_T    \u001b[0m\u001b[32m \u001b[0m│\u001b[38;5;128m \u001b[0m\u001b[38;5;128m         2         \u001b[0m\u001b[38;5;128m \u001b[0m│\n",
       "│\u001b[38;5;33m \u001b[0m\u001b[38;5;33m                          \u001b[0m\u001b[38;5;33m \u001b[0m│\u001b[32m \u001b[0m\u001b[32m Epithelial  \u001b[0m\u001b[32m \u001b[0m│\u001b[38;5;128m \u001b[0m\u001b[38;5;128m         3         \u001b[0m\u001b[38;5;128m \u001b[0m│\n",
       "│\u001b[38;5;33m \u001b[0m\u001b[38;5;33m                          \u001b[0m\u001b[38;5;33m \u001b[0m│\u001b[32m \u001b[0m\u001b[32mMyeloid_cells\u001b[0m\u001b[32m \u001b[0m│\u001b[38;5;128m \u001b[0m\u001b[38;5;128m         4         \u001b[0m\u001b[38;5;128m \u001b[0m│\n",
       "│\u001b[38;5;33m \u001b[0m\u001b[38;5;33m                          \u001b[0m\u001b[38;5;33m \u001b[0m│\u001b[32m \u001b[0m\u001b[32m   Plasma    \u001b[0m\u001b[32m \u001b[0m│\u001b[38;5;128m \u001b[0m\u001b[38;5;128m         5         \u001b[0m\u001b[38;5;128m \u001b[0m│\n",
       "│\u001b[38;5;33m \u001b[0m\u001b[38;5;33m                          \u001b[0m\u001b[38;5;33m \u001b[0m│\u001b[32m \u001b[0m\u001b[32m   Stromal   \u001b[0m\u001b[32m \u001b[0m│\u001b[38;5;128m \u001b[0m\u001b[38;5;128m         6         \u001b[0m\u001b[38;5;128m \u001b[0m│\n",
       "└────────────────────────────┴───────────────┴─────────────────────┘\n"
      ]
     },
     "metadata": {},
     "output_type": "display_data"
    },
    {
     "data": {
      "text/html": [
       "<pre style=\"white-space:pre;overflow-x:auto;line-height:normal;font-family:Menlo,'DejaVu Sans Mono',consolas,'Courier New',monospace\"><span style=\"font-style: italic\">                   extra_categorical_covs State Registry                   </span>\n",
       "┏━━━━━━━━━━━━━━━━━━━━━━━━━┳━━━━━━━━━━━━━━━━━━━━━━━━━┳━━━━━━━━━━━━━━━━━━━━━┓\n",
       "┃<span style=\"font-weight: bold\">     Source Location     </span>┃<span style=\"font-weight: bold\">       Categories        </span>┃<span style=\"font-weight: bold\"> scvi-tools Encoding </span>┃\n",
       "┡━━━━━━━━━━━━━━━━━━━━━━━━━╇━━━━━━━━━━━━━━━━━━━━━━━━━╇━━━━━━━━━━━━━━━━━━━━━┩\n",
       "│<span style=\"color: #0087ff; text-decoration-color: #0087ff\"> adata.obs['orig.ident'] </span>│<span style=\"color: #008000; text-decoration-color: #008000\">     KRAS_Pt2_immune     </span>│<span style=\"color: #af00d7; text-decoration-color: #af00d7\">          0          </span>│\n",
       "│<span style=\"color: #0087ff; text-decoration-color: #0087ff\">                         </span>│<span style=\"color: #008000; text-decoration-color: #008000\">     KRAS_Pt7_immune     </span>│<span style=\"color: #af00d7; text-decoration-color: #af00d7\">          1          </span>│\n",
       "│<span style=\"color: #0087ff; text-decoration-color: #0087ff\">                         </span>│<span style=\"color: #008000; text-decoration-color: #008000\"> Pt2_Pt3_Pt6_CD45neg_add </span>│<span style=\"color: #af00d7; text-decoration-color: #af00d7\">          2          </span>│\n",
       "│<span style=\"color: #0087ff; text-decoration-color: #0087ff\">                         </span>│<span style=\"color: #008000; text-decoration-color: #008000\">     Pt2_Pt3_Pt6_add     </span>│<span style=\"color: #af00d7; text-decoration-color: #af00d7\">          3          </span>│\n",
       "│<span style=\"color: #0087ff; text-decoration-color: #0087ff\">                         </span>│<span style=\"color: #008000; text-decoration-color: #008000\">         Pt2_Pt6         </span>│<span style=\"color: #af00d7; text-decoration-color: #af00d7\">          4          </span>│\n",
       "│<span style=\"color: #0087ff; text-decoration-color: #0087ff\">                         </span>│<span style=\"color: #008000; text-decoration-color: #008000\">     Pt3_Pt7_CD45neg     </span>│<span style=\"color: #af00d7; text-decoration-color: #af00d7\">          5          </span>│\n",
       "│<span style=\"color: #0087ff; text-decoration-color: #0087ff\">                         </span>│<span style=\"color: #008000; text-decoration-color: #008000\">      WT_Pt3_immune      </span>│<span style=\"color: #af00d7; text-decoration-color: #af00d7\">          6          </span>│\n",
       "│<span style=\"color: #0087ff; text-decoration-color: #0087ff\">                         </span>│<span style=\"color: #008000; text-decoration-color: #008000\">                         </span>│<span style=\"color: #af00d7; text-decoration-color: #af00d7\">                     </span>│\n",
       "└─────────────────────────┴─────────────────────────┴─────────────────────┘\n",
       "</pre>\n"
      ],
      "text/plain": [
       "\u001b[3m                   extra_categorical_covs State Registry                   \u001b[0m\n",
       "┏━━━━━━━━━━━━━━━━━━━━━━━━━┳━━━━━━━━━━━━━━━━━━━━━━━━━┳━━━━━━━━━━━━━━━━━━━━━┓\n",
       "┃\u001b[1m \u001b[0m\u001b[1m    Source Location    \u001b[0m\u001b[1m \u001b[0m┃\u001b[1m \u001b[0m\u001b[1m      Categories       \u001b[0m\u001b[1m \u001b[0m┃\u001b[1m \u001b[0m\u001b[1mscvi-tools Encoding\u001b[0m\u001b[1m \u001b[0m┃\n",
       "┡━━━━━━━━━━━━━━━━━━━━━━━━━╇━━━━━━━━━━━━━━━━━━━━━━━━━╇━━━━━━━━━━━━━━━━━━━━━┩\n",
       "│\u001b[38;5;33m \u001b[0m\u001b[38;5;33madata.obs['orig.ident']\u001b[0m\u001b[38;5;33m \u001b[0m│\u001b[32m \u001b[0m\u001b[32m    KRAS_Pt2_immune    \u001b[0m\u001b[32m \u001b[0m│\u001b[38;5;128m \u001b[0m\u001b[38;5;128m         0         \u001b[0m\u001b[38;5;128m \u001b[0m│\n",
       "│\u001b[38;5;33m \u001b[0m\u001b[38;5;33m                       \u001b[0m\u001b[38;5;33m \u001b[0m│\u001b[32m \u001b[0m\u001b[32m    KRAS_Pt7_immune    \u001b[0m\u001b[32m \u001b[0m│\u001b[38;5;128m \u001b[0m\u001b[38;5;128m         1         \u001b[0m\u001b[38;5;128m \u001b[0m│\n",
       "│\u001b[38;5;33m \u001b[0m\u001b[38;5;33m                       \u001b[0m\u001b[38;5;33m \u001b[0m│\u001b[32m \u001b[0m\u001b[32mPt2_Pt3_Pt6_CD45neg_add\u001b[0m\u001b[32m \u001b[0m│\u001b[38;5;128m \u001b[0m\u001b[38;5;128m         2         \u001b[0m\u001b[38;5;128m \u001b[0m│\n",
       "│\u001b[38;5;33m \u001b[0m\u001b[38;5;33m                       \u001b[0m\u001b[38;5;33m \u001b[0m│\u001b[32m \u001b[0m\u001b[32m    Pt2_Pt3_Pt6_add    \u001b[0m\u001b[32m \u001b[0m│\u001b[38;5;128m \u001b[0m\u001b[38;5;128m         3         \u001b[0m\u001b[38;5;128m \u001b[0m│\n",
       "│\u001b[38;5;33m \u001b[0m\u001b[38;5;33m                       \u001b[0m\u001b[38;5;33m \u001b[0m│\u001b[32m \u001b[0m\u001b[32m        Pt2_Pt6        \u001b[0m\u001b[32m \u001b[0m│\u001b[38;5;128m \u001b[0m\u001b[38;5;128m         4         \u001b[0m\u001b[38;5;128m \u001b[0m│\n",
       "│\u001b[38;5;33m \u001b[0m\u001b[38;5;33m                       \u001b[0m\u001b[38;5;33m \u001b[0m│\u001b[32m \u001b[0m\u001b[32m    Pt3_Pt7_CD45neg    \u001b[0m\u001b[32m \u001b[0m│\u001b[38;5;128m \u001b[0m\u001b[38;5;128m         5         \u001b[0m\u001b[38;5;128m \u001b[0m│\n",
       "│\u001b[38;5;33m \u001b[0m\u001b[38;5;33m                       \u001b[0m\u001b[38;5;33m \u001b[0m│\u001b[32m \u001b[0m\u001b[32m     WT_Pt3_immune     \u001b[0m\u001b[32m \u001b[0m│\u001b[38;5;128m \u001b[0m\u001b[38;5;128m         6         \u001b[0m\u001b[38;5;128m \u001b[0m│\n",
       "│\u001b[38;5;33m \u001b[0m\u001b[38;5;33m                       \u001b[0m\u001b[38;5;33m \u001b[0m│\u001b[32m \u001b[0m\u001b[32m                       \u001b[0m\u001b[32m \u001b[0m│\u001b[38;5;128m \u001b[0m\u001b[38;5;128m                   \u001b[0m\u001b[38;5;128m \u001b[0m│\n",
       "└─────────────────────────┴─────────────────────────┴─────────────────────┘\n"
      ]
     },
     "metadata": {},
     "output_type": "display_data"
    },
    {
     "name": "stderr",
     "output_type": "stream",
     "text": [
      "GPU available: True, used: True\n",
      "TPU available: False, using: 0 TPU cores\n",
      "IPU available: False, using: 0 IPUs\n",
      "/data/xy/anaconda3/envs/cell2loc_env/lib/python3.9/site-packages/pytorch_lightning/trainer/configuration_validator.py:120: UserWarning: You passed in a `val_dataloader` but have no `validation_step`. Skipping val loop.\n",
      "LOCAL_RANK: 0 - CUDA_VISIBLE_DEVICES: [0]\n",
      "/data/xy/anaconda3/envs/cell2loc_env/lib/python3.9/site-packages/pytorch_lightning/trainer/data_loading.py:432: UserWarning: The number of training samples (6) is smaller than the logging interval Trainer(log_every_n_steps=10). Set a lower value for log_every_n_steps if you want to see logs for the training epoch.\n"
     ]
    },
    {
     "name": "stdout",
     "output_type": "stream",
     "text": [
      "Epoch 1000/1000: 100%|██████████| 1000/1000 [18:13<00:00,  1.09s/it, v_num=1, elbo_train=3.91e+7]\n",
      "Sampling local variables, batch:   0%|          | 0/6 [00:00<?, ?it/s]\n",
      "Sampling global variables, sample: 100%|██████████| 999/999 [00:13<00:00, 75.70it/s]\n"
     ]
    },
    {
     "data": {
      "image/png": "[encoded data removed]",
      "text/plain": [
       "<Figure size 432x288 with 1 Axes>"
      ]
     },
     "metadata": {
      "needs_background": "light"
     },
     "output_type": "display_data"
    },
    {
     "data": {
      "image/png": "[encoded data removed]",
      "text/plain": [
       "<Figure size 432x288 with 1 Axes>"
      ]
     },
     "metadata": {
      "needs_background": "light"
     },
     "output_type": "display_data"
    },
    {
     "name": "stdout",
     "output_type": "stream",
     "text": [
      "111\n",
      "222\n"
     ]
    },
    {
     "data": {
      "text/html": [
       "<pre style=\"white-space:pre;overflow-x:auto;line-height:normal;font-family:Menlo,'DejaVu Sans Mono',consolas,'Courier New',monospace\">Anndata setup with scvi-tools version <span style=\"color: #008080; text-decoration-color: #008080; font-weight: bold\">0.16</span>.<span style=\"color: #008080; text-decoration-color: #008080; font-weight: bold\">0</span>.\n",
       "</pre>\n"
      ],
      "text/plain": [
       "Anndata setup with scvi-tools version \u001b[1;36m0.16\u001b[0m.\u001b[1;36m0\u001b[0m.\n"
      ]
     },
     "metadata": {},
     "output_type": "display_data"
    },
    {
     "data": {
      "text/html": [
       "<pre style=\"white-space:pre;overflow-x:auto;line-height:normal;font-family:Menlo,'DejaVu Sans Mono',consolas,'Courier New',monospace\">\n",
       "</pre>\n"
      ],
      "text/plain": [
       "\n"
      ]
     },
     "metadata": {},
     "output_type": "display_data"
    },
    {
     "data": {
      "text/html": [
       "<pre style=\"white-space:pre;overflow-x:auto;line-height:normal;font-family:Menlo,'DejaVu Sans Mono',consolas,'Courier New',monospace\">Setup via `RegressionModel.setup_anndata` with arguments:\n",
       "</pre>\n"
      ],
      "text/plain": [
       "Setup via `RegressionModel.setup_anndata` with arguments:\n"
      ]
     },
     "metadata": {},
     "output_type": "display_data"
    },
    {
     "data": {
      "text/html": [
       "<pre style=\"white-space:pre;overflow-x:auto;line-height:normal;font-family:Menlo,'DejaVu Sans Mono',consolas,'Courier New',monospace\"><span style=\"font-weight: bold\">{</span>\n",
       "<span style=\"color: #7fbf7f; text-decoration-color: #7fbf7f\">│   </span><span style=\"color: #008000; text-decoration-color: #008000\">'layer'</span>: <span style=\"color: #800080; text-decoration-color: #800080; font-style: italic\">None</span>,\n",
       "<span style=\"color: #7fbf7f; text-decoration-color: #7fbf7f\">│   </span><span style=\"color: #008000; text-decoration-color: #008000\">'batch_key'</span>: <span style=\"color: #008000; text-decoration-color: #008000\">'orig.ident'</span>,\n",
       "<span style=\"color: #7fbf7f; text-decoration-color: #7fbf7f\">│   </span><span style=\"color: #008000; text-decoration-color: #008000\">'labels_key'</span>: <span style=\"color: #008000; text-decoration-color: #008000\">'med_res_ident'</span>,\n",
       "<span style=\"color: #7fbf7f; text-decoration-color: #7fbf7f\">│   </span><span style=\"color: #008000; text-decoration-color: #008000\">'categorical_covariate_keys'</span>: <span style=\"font-weight: bold\">[</span><span style=\"color: #008000; text-decoration-color: #008000\">'orig.ident'</span><span style=\"font-weight: bold\">]</span>,\n",
       "<span style=\"color: #7fbf7f; text-decoration-color: #7fbf7f\">│   </span><span style=\"color: #008000; text-decoration-color: #008000\">'continuous_covariate_keys'</span>: <span style=\"color: #800080; text-decoration-color: #800080; font-style: italic\">None</span>\n",
       "<span style=\"font-weight: bold\">}</span>\n",
       "</pre>\n"
      ],
      "text/plain": [
       "\u001b[1m{\u001b[0m\n",
       "\u001b[2;32m│   \u001b[0m\u001b[32m'layer'\u001b[0m: \u001b[3;35mNone\u001b[0m,\n",
       "\u001b[2;32m│   \u001b[0m\u001b[32m'batch_key'\u001b[0m: \u001b[32m'orig.ident'\u001b[0m,\n",
       "\u001b[2;32m│   \u001b[0m\u001b[32m'labels_key'\u001b[0m: \u001b[32m'med_res_ident'\u001b[0m,\n",
       "\u001b[2;32m│   \u001b[0m\u001b[32m'categorical_covariate_keys'\u001b[0m: \u001b[1m[\u001b[0m\u001b[32m'orig.ident'\u001b[0m\u001b[1m]\u001b[0m,\n",
       "\u001b[2;32m│   \u001b[0m\u001b[32m'continuous_covariate_keys'\u001b[0m: \u001b[3;35mNone\u001b[0m\n",
       "\u001b[1m}\u001b[0m\n"
      ]
     },
     "metadata": {},
     "output_type": "display_data"
    },
    {
     "data": {
      "text/html": [
       "<pre style=\"white-space:pre;overflow-x:auto;line-height:normal;font-family:Menlo,'DejaVu Sans Mono',consolas,'Courier New',monospace\">\n",
       "</pre>\n"
      ],
      "text/plain": [
       "\n"
      ]
     },
     "metadata": {},
     "output_type": "display_data"
    },
    {
     "data": {
      "text/html": [
       "<pre style=\"white-space:pre;overflow-x:auto;line-height:normal;font-family:Menlo,'DejaVu Sans Mono',consolas,'Courier New',monospace\"><span style=\"font-style: italic\">         Summary Statistics         </span>\n",
       "┏━━━━━━━━━━━━━━━━━━━━━━━━━━┳━━━━━━━┓\n",
       "┃<span style=\"font-weight: bold\">     Summary Stat Key     </span>┃<span style=\"font-weight: bold\"> Value </span>┃\n",
       "┡━━━━━━━━━━━━━━━━━━━━━━━━━━╇━━━━━━━┩\n",
       "│<span style=\"color: #0087ff; text-decoration-color: #0087ff\">         n_cells          </span>│<span style=\"color: #af00d7; text-decoration-color: #af00d7\"> 12577 </span>│\n",
       "│<span style=\"color: #0087ff; text-decoration-color: #0087ff\">          n_vars          </span>│<span style=\"color: #af00d7; text-decoration-color: #af00d7\"> 9639  </span>│\n",
       "│<span style=\"color: #0087ff; text-decoration-color: #0087ff\">         n_batch          </span>│<span style=\"color: #af00d7; text-decoration-color: #af00d7\">   7   </span>│\n",
       "│<span style=\"color: #0087ff; text-decoration-color: #0087ff\">         n_labels         </span>│<span style=\"color: #af00d7; text-decoration-color: #af00d7\">  11   </span>│\n",
       "│<span style=\"color: #0087ff; text-decoration-color: #0087ff\"> n_extra_categorical_covs </span>│<span style=\"color: #af00d7; text-decoration-color: #af00d7\">   1   </span>│\n",
       "│<span style=\"color: #0087ff; text-decoration-color: #0087ff\"> n_extra_continuous_covs  </span>│<span style=\"color: #af00d7; text-decoration-color: #af00d7\">   0   </span>│\n",
       "└──────────────────────────┴───────┘\n",
       "</pre>\n"
      ],
      "text/plain": [
       "\u001b[3m         Summary Statistics         \u001b[0m\n",
       "┏━━━━━━━━━━━━━━━━━━━━━━━━━━┳━━━━━━━┓\n",
       "┃\u001b[1m \u001b[0m\u001b[1m    Summary Stat Key    \u001b[0m\u001b[1m \u001b[0m┃\u001b[1m \u001b[0m\u001b[1mValue\u001b[0m\u001b[1m \u001b[0m┃\n",
       "┡━━━━━━━━━━━━━━━━━━━━━━━━━━╇━━━━━━━┩\n",
       "│\u001b[38;5;33m \u001b[0m\u001b[38;5;33m        n_cells         \u001b[0m\u001b[38;5;33m \u001b[0m│\u001b[38;5;128m \u001b[0m\u001b[38;5;128m12577\u001b[0m\u001b[38;5;128m \u001b[0m│\n",
       "│\u001b[38;5;33m \u001b[0m\u001b[38;5;33m         n_vars         \u001b[0m\u001b[38;5;33m \u001b[0m│\u001b[38;5;128m \u001b[0m\u001b[38;5;128m9639 \u001b[0m\u001b[38;5;128m \u001b[0m│\n",
       "│\u001b[38;5;33m \u001b[0m\u001b[38;5;33m        n_batch         \u001b[0m\u001b[38;5;33m \u001b[0m│\u001b[38;5;128m \u001b[0m\u001b[38;5;128m  7  \u001b[0m\u001b[38;5;128m \u001b[0m│\n",
       "│\u001b[38;5;33m \u001b[0m\u001b[38;5;33m        n_labels        \u001b[0m\u001b[38;5;33m \u001b[0m│\u001b[38;5;128m \u001b[0m\u001b[38;5;128m 11  \u001b[0m\u001b[38;5;128m \u001b[0m│\n",
       "│\u001b[38;5;33m \u001b[0m\u001b[38;5;33mn_extra_categorical_covs\u001b[0m\u001b[38;5;33m \u001b[0m│\u001b[38;5;128m \u001b[0m\u001b[38;5;128m  1  \u001b[0m\u001b[38;5;128m \u001b[0m│\n",
       "│\u001b[38;5;33m \u001b[0m\u001b[38;5;33mn_extra_continuous_covs \u001b[0m\u001b[38;5;33m \u001b[0m│\u001b[38;5;128m \u001b[0m\u001b[38;5;128m  0  \u001b[0m\u001b[38;5;128m \u001b[0m│\n",
       "└──────────────────────────┴───────┘\n"
      ]
     },
     "metadata": {},
     "output_type": "display_data"
    },
    {
     "data": {
      "text/html": [
       "<pre style=\"white-space:pre;overflow-x:auto;line-height:normal;font-family:Menlo,'DejaVu Sans Mono',consolas,'Courier New',monospace\"><span style=\"font-style: italic\">                             Data Registry                             </span>\n",
       "┏━━━━━━━━━━━━━━━━━━━━━━━━┳━━━━━━━━━━━━━━━━━━━━━━━━━━━━━━━━━━━━━━━━━━━━┓\n",
       "┃<span style=\"font-weight: bold\">      Registry Key      </span>┃<span style=\"font-weight: bold\">            scvi-tools Location             </span>┃\n",
       "┡━━━━━━━━━━━━━━━━━━━━━━━━╇━━━━━━━━━━━━━━━━━━━━━━━━━━━━━━━━━━━━━━━━━━━━┩\n",
       "│<span style=\"color: #0087ff; text-decoration-color: #0087ff\">           X            </span>│<span style=\"color: #af00d7; text-decoration-color: #af00d7\">                  adata.X                   </span>│\n",
       "│<span style=\"color: #0087ff; text-decoration-color: #0087ff\">         batch          </span>│<span style=\"color: #af00d7; text-decoration-color: #af00d7\">          adata.obs['_scvi_batch']          </span>│\n",
       "│<span style=\"color: #0087ff; text-decoration-color: #0087ff\">         labels         </span>│<span style=\"color: #af00d7; text-decoration-color: #af00d7\">         adata.obs['_scvi_labels']          </span>│\n",
       "│<span style=\"color: #0087ff; text-decoration-color: #0087ff\"> extra_categorical_covs </span>│<span style=\"color: #af00d7; text-decoration-color: #af00d7\"> adata.obsm['_scvi_extra_categorical_covs'] </span>│\n",
       "│<span style=\"color: #0087ff; text-decoration-color: #0087ff\">         ind_x          </span>│<span style=\"color: #af00d7; text-decoration-color: #af00d7\">           adata.obs['_indices']            </span>│\n",
       "└────────────────────────┴────────────────────────────────────────────┘\n",
       "</pre>\n"
      ],
      "text/plain": [
       "\u001b[3m                             Data Registry                             \u001b[0m\n",
       "┏━━━━━━━━━━━━━━━━━━━━━━━━┳━━━━━━━━━━━━━━━━━━━━━━━━━━━━━━━━━━━━━━━━━━━━┓\n",
       "┃\u001b[1m \u001b[0m\u001b[1m     Registry Key     \u001b[0m\u001b[1m \u001b[0m┃\u001b[1m \u001b[0m\u001b[1m           scvi-tools Location            \u001b[0m\u001b[1m \u001b[0m┃\n",
       "┡━━━━━━━━━━━━━━━━━━━━━━━━╇━━━━━━━━━━━━━━━━━━━━━━━━━━━━━━━━━━━━━━━━━━━━┩\n",
       "│\u001b[38;5;33m \u001b[0m\u001b[38;5;33m          X           \u001b[0m\u001b[38;5;33m \u001b[0m│\u001b[38;5;128m \u001b[0m\u001b[38;5;128m                 adata.X                  \u001b[0m\u001b[38;5;128m \u001b[0m│\n",
       "│\u001b[38;5;33m \u001b[0m\u001b[38;5;33m        batch         \u001b[0m\u001b[38;5;33m \u001b[0m│\u001b[38;5;128m \u001b[0m\u001b[38;5;128m         adata.obs['_scvi_batch']         \u001b[0m\u001b[38;5;128m \u001b[0m│\n",
       "│\u001b[38;5;33m \u001b[0m\u001b[38;5;33m        labels        \u001b[0m\u001b[38;5;33m \u001b[0m│\u001b[38;5;128m \u001b[0m\u001b[38;5;128m        adata.obs['_scvi_labels']         \u001b[0m\u001b[38;5;128m \u001b[0m│\n",
       "│\u001b[38;5;33m \u001b[0m\u001b[38;5;33mextra_categorical_covs\u001b[0m\u001b[38;5;33m \u001b[0m│\u001b[38;5;128m \u001b[0m\u001b[38;5;128madata.obsm['_scvi_extra_categorical_covs']\u001b[0m\u001b[38;5;128m \u001b[0m│\n",
       "│\u001b[38;5;33m \u001b[0m\u001b[38;5;33m        ind_x         \u001b[0m\u001b[38;5;33m \u001b[0m│\u001b[38;5;128m \u001b[0m\u001b[38;5;128m          adata.obs['_indices']           \u001b[0m\u001b[38;5;128m \u001b[0m│\n",
       "└────────────────────────┴────────────────────────────────────────────┘\n"
      ]
     },
     "metadata": {},
     "output_type": "display_data"
    },
    {
     "data": {
      "text/html": [
       "<pre style=\"white-space:pre;overflow-x:auto;line-height:normal;font-family:Menlo,'DejaVu Sans Mono',consolas,'Courier New',monospace\"><span style=\"font-style: italic\">                           batch State Registry                            </span>\n",
       "┏━━━━━━━━━━━━━━━━━━━━━━━━━┳━━━━━━━━━━━━━━━━━━━━━━━━━┳━━━━━━━━━━━━━━━━━━━━━┓\n",
       "┃<span style=\"font-weight: bold\">     Source Location     </span>┃<span style=\"font-weight: bold\">       Categories        </span>┃<span style=\"font-weight: bold\"> scvi-tools Encoding </span>┃\n",
       "┡━━━━━━━━━━━━━━━━━━━━━━━━━╇━━━━━━━━━━━━━━━━━━━━━━━━━╇━━━━━━━━━━━━━━━━━━━━━┩\n",
       "│<span style=\"color: #0087ff; text-decoration-color: #0087ff\"> adata.obs['orig.ident'] </span>│<span style=\"color: #008000; text-decoration-color: #008000\">     KRAS_Pt2_immune     </span>│<span style=\"color: #af00d7; text-decoration-color: #af00d7\">          0          </span>│\n",
       "│<span style=\"color: #0087ff; text-decoration-color: #0087ff\">                         </span>│<span style=\"color: #008000; text-decoration-color: #008000\">     KRAS_Pt7_immune     </span>│<span style=\"color: #af00d7; text-decoration-color: #af00d7\">          1          </span>│\n",
       "│<span style=\"color: #0087ff; text-decoration-color: #0087ff\">                         </span>│<span style=\"color: #008000; text-decoration-color: #008000\"> Pt2_Pt3_Pt6_CD45neg_add </span>│<span style=\"color: #af00d7; text-decoration-color: #af00d7\">          2          </span>│\n",
       "│<span style=\"color: #0087ff; text-decoration-color: #0087ff\">                         </span>│<span style=\"color: #008000; text-decoration-color: #008000\">     Pt2_Pt3_Pt6_add     </span>│<span style=\"color: #af00d7; text-decoration-color: #af00d7\">          3          </span>│\n",
       "│<span style=\"color: #0087ff; text-decoration-color: #0087ff\">                         </span>│<span style=\"color: #008000; text-decoration-color: #008000\">         Pt2_Pt6         </span>│<span style=\"color: #af00d7; text-decoration-color: #af00d7\">          4          </span>│\n",
       "│<span style=\"color: #0087ff; text-decoration-color: #0087ff\">                         </span>│<span style=\"color: #008000; text-decoration-color: #008000\">     Pt3_Pt7_CD45neg     </span>│<span style=\"color: #af00d7; text-decoration-color: #af00d7\">          5          </span>│\n",
       "│<span style=\"color: #0087ff; text-decoration-color: #0087ff\">                         </span>│<span style=\"color: #008000; text-decoration-color: #008000\">      WT_Pt3_immune      </span>│<span style=\"color: #af00d7; text-decoration-color: #af00d7\">          6          </span>│\n",
       "└─────────────────────────┴─────────────────────────┴─────────────────────┘\n",
       "</pre>\n"
      ],
      "text/plain": [
       "\u001b[3m                           batch State Registry                            \u001b[0m\n",
       "┏━━━━━━━━━━━━━━━━━━━━━━━━━┳━━━━━━━━━━━━━━━━━━━━━━━━━┳━━━━━━━━━━━━━━━━━━━━━┓\n",
       "┃\u001b[1m \u001b[0m\u001b[1m    Source Location    \u001b[0m\u001b[1m \u001b[0m┃\u001b[1m \u001b[0m\u001b[1m      Categories       \u001b[0m\u001b[1m \u001b[0m┃\u001b[1m \u001b[0m\u001b[1mscvi-tools Encoding\u001b[0m\u001b[1m \u001b[0m┃\n",
       "┡━━━━━━━━━━━━━━━━━━━━━━━━━╇━━━━━━━━━━━━━━━━━━━━━━━━━╇━━━━━━━━━━━━━━━━━━━━━┩\n",
       "│\u001b[38;5;33m \u001b[0m\u001b[38;5;33madata.obs['orig.ident']\u001b[0m\u001b[38;5;33m \u001b[0m│\u001b[32m \u001b[0m\u001b[32m    KRAS_Pt2_immune    \u001b[0m\u001b[32m \u001b[0m│\u001b[38;5;128m \u001b[0m\u001b[38;5;128m         0         \u001b[0m\u001b[38;5;128m \u001b[0m│\n",
       "│\u001b[38;5;33m \u001b[0m\u001b[38;5;33m                       \u001b[0m\u001b[38;5;33m \u001b[0m│\u001b[32m \u001b[0m\u001b[32m    KRAS_Pt7_immune    \u001b[0m\u001b[32m \u001b[0m│\u001b[38;5;128m \u001b[0m\u001b[38;5;128m         1         \u001b[0m\u001b[38;5;128m \u001b[0m│\n",
       "│\u001b[38;5;33m \u001b[0m\u001b[38;5;33m                       \u001b[0m\u001b[38;5;33m \u001b[0m│\u001b[32m \u001b[0m\u001b[32mPt2_Pt3_Pt6_CD45neg_add\u001b[0m\u001b[32m \u001b[0m│\u001b[38;5;128m \u001b[0m\u001b[38;5;128m         2         \u001b[0m\u001b[38;5;128m \u001b[0m│\n",
       "│\u001b[38;5;33m \u001b[0m\u001b[38;5;33m                       \u001b[0m\u001b[38;5;33m \u001b[0m│\u001b[32m \u001b[0m\u001b[32m    Pt2_Pt3_Pt6_add    \u001b[0m\u001b[32m \u001b[0m│\u001b[38;5;128m \u001b[0m\u001b[38;5;128m         3         \u001b[0m\u001b[38;5;128m \u001b[0m│\n",
       "│\u001b[38;5;33m \u001b[0m\u001b[38;5;33m                       \u001b[0m\u001b[38;5;33m \u001b[0m│\u001b[32m \u001b[0m\u001b[32m        Pt2_Pt6        \u001b[0m\u001b[32m \u001b[0m│\u001b[38;5;128m \u001b[0m\u001b[38;5;128m         4         \u001b[0m\u001b[38;5;128m \u001b[0m│\n",
       "│\u001b[38;5;33m \u001b[0m\u001b[38;5;33m                       \u001b[0m\u001b[38;5;33m \u001b[0m│\u001b[32m \u001b[0m\u001b[32m    Pt3_Pt7_CD45neg    \u001b[0m\u001b[32m \u001b[0m│\u001b[38;5;128m \u001b[0m\u001b[38;5;128m         5         \u001b[0m\u001b[38;5;128m \u001b[0m│\n",
       "│\u001b[38;5;33m \u001b[0m\u001b[38;5;33m                       \u001b[0m\u001b[38;5;33m \u001b[0m│\u001b[32m \u001b[0m\u001b[32m     WT_Pt3_immune     \u001b[0m\u001b[32m \u001b[0m│\u001b[38;5;128m \u001b[0m\u001b[38;5;128m         6         \u001b[0m\u001b[38;5;128m \u001b[0m│\n",
       "└─────────────────────────┴─────────────────────────┴─────────────────────┘\n"
      ]
     },
     "metadata": {},
     "output_type": "display_data"
    },
    {
     "data": {
      "text/html": [
       "<pre style=\"white-space:pre;overflow-x:auto;line-height:normal;font-family:Menlo,'DejaVu Sans Mono',consolas,'Courier New',monospace\"><span style=\"font-style: italic\">                           labels State Registry                           </span>\n",
       "┏━━━━━━━━━━━━━━━━━━━━━━━━━━━━┳━━━━━━━━━━━━━━━━━━━━━━┳━━━━━━━━━━━━━━━━━━━━━┓\n",
       "┃<span style=\"font-weight: bold\">      Source Location       </span>┃<span style=\"font-weight: bold\">      Categories      </span>┃<span style=\"font-weight: bold\"> scvi-tools Encoding </span>┃\n",
       "┡━━━━━━━━━━━━━━━━━━━━━━━━━━━━╇━━━━━━━━━━━━━━━━━━━━━━╇━━━━━━━━━━━━━━━━━━━━━┩\n",
       "│<span style=\"color: #0087ff; text-decoration-color: #0087ff\"> adata.obs['med_res_ident'] </span>│<span style=\"color: #008000; text-decoration-color: #008000\">         B_GC         </span>│<span style=\"color: #af00d7; text-decoration-color: #af00d7\">          0          </span>│\n",
       "│<span style=\"color: #0087ff; text-decoration-color: #0087ff\">                            </span>│<span style=\"color: #008000; text-decoration-color: #008000\">      CD4_T_CCR7      </span>│<span style=\"color: #af00d7; text-decoration-color: #af00d7\">          1          </span>│\n",
       "│<span style=\"color: #0087ff; text-decoration-color: #0087ff\">                            </span>│<span style=\"color: #008000; text-decoration-color: #008000\">       CD4_Treg       </span>│<span style=\"color: #af00d7; text-decoration-color: #af00d7\">          2          </span>│\n",
       "│<span style=\"color: #0087ff; text-decoration-color: #0087ff\">                            </span>│<span style=\"color: #008000; text-decoration-color: #008000\">        CD8_T         </span>│<span style=\"color: #af00d7; text-decoration-color: #af00d7\">          3          </span>│\n",
       "│<span style=\"color: #0087ff; text-decoration-color: #0087ff\">                            </span>│<span style=\"color: #008000; text-decoration-color: #008000\">      Epithelial      </span>│<span style=\"color: #af00d7; text-decoration-color: #af00d7\">          4          </span>│\n",
       "│<span style=\"color: #0087ff; text-decoration-color: #0087ff\">                            </span>│<span style=\"color: #008000; text-decoration-color: #008000\">         Mast         </span>│<span style=\"color: #af00d7; text-decoration-color: #af00d7\">          5          </span>│\n",
       "│<span style=\"color: #0087ff; text-decoration-color: #0087ff\">                            </span>│<span style=\"color: #008000; text-decoration-color: #008000\">    Myeloid_cells     </span>│<span style=\"color: #af00d7; text-decoration-color: #af00d7\">          6          </span>│\n",
       "│<span style=\"color: #0087ff; text-decoration-color: #0087ff\">                            </span>│<span style=\"color: #008000; text-decoration-color: #008000\">          NK          </span>│<span style=\"color: #af00d7; text-decoration-color: #af00d7\">          7          </span>│\n",
       "│<span style=\"color: #0087ff; text-decoration-color: #0087ff\">                            </span>│<span style=\"color: #008000; text-decoration-color: #008000\">        Plasma        </span>│<span style=\"color: #af00d7; text-decoration-color: #af00d7\">          8          </span>│\n",
       "│<span style=\"color: #0087ff; text-decoration-color: #0087ff\">                            </span>│<span style=\"color: #008000; text-decoration-color: #008000\">       Stromal        </span>│<span style=\"color: #af00d7; text-decoration-color: #af00d7\">          9          </span>│\n",
       "│<span style=\"color: #0087ff; text-decoration-color: #0087ff\">                            </span>│<span style=\"color: #008000; text-decoration-color: #008000\"> memory_naive_B_cells </span>│<span style=\"color: #af00d7; text-decoration-color: #af00d7\">         10          </span>│\n",
       "└────────────────────────────┴──────────────────────┴─────────────────────┘\n",
       "</pre>\n"
      ],
      "text/plain": [
       "\u001b[3m                           labels State Registry                           \u001b[0m\n",
       "┏━━━━━━━━━━━━━━━━━━━━━━━━━━━━┳━━━━━━━━━━━━━━━━━━━━━━┳━━━━━━━━━━━━━━━━━━━━━┓\n",
       "┃\u001b[1m \u001b[0m\u001b[1m     Source Location      \u001b[0m\u001b[1m \u001b[0m┃\u001b[1m \u001b[0m\u001b[1m     Categories     \u001b[0m\u001b[1m \u001b[0m┃\u001b[1m \u001b[0m\u001b[1mscvi-tools Encoding\u001b[0m\u001b[1m \u001b[0m┃\n",
       "┡━━━━━━━━━━━━━━━━━━━━━━━━━━━━╇━━━━━━━━━━━━━━━━━━━━━━╇━━━━━━━━━━━━━━━━━━━━━┩\n",
       "│\u001b[38;5;33m \u001b[0m\u001b[38;5;33madata.obs['med_res_ident']\u001b[0m\u001b[38;5;33m \u001b[0m│\u001b[32m \u001b[0m\u001b[32m        B_GC        \u001b[0m\u001b[32m \u001b[0m│\u001b[38;5;128m \u001b[0m\u001b[38;5;128m         0         \u001b[0m\u001b[38;5;128m \u001b[0m│\n",
       "│\u001b[38;5;33m \u001b[0m\u001b[38;5;33m                          \u001b[0m\u001b[38;5;33m \u001b[0m│\u001b[32m \u001b[0m\u001b[32m     CD4_T_CCR7     \u001b[0m\u001b[32m \u001b[0m│\u001b[38;5;128m \u001b[0m\u001b[38;5;128m         1         \u001b[0m\u001b[38;5;128m \u001b[0m│\n",
       "│\u001b[38;5;33m \u001b[0m\u001b[38;5;33m                          \u001b[0m\u001b[38;5;33m \u001b[0m│\u001b[32m \u001b[0m\u001b[32m      CD4_Treg      \u001b[0m\u001b[32m \u001b[0m│\u001b[38;5;128m \u001b[0m\u001b[38;5;128m         2         \u001b[0m\u001b[38;5;128m \u001b[0m│\n",
       "│\u001b[38;5;33m \u001b[0m\u001b[38;5;33m                          \u001b[0m\u001b[38;5;33m \u001b[0m│\u001b[32m \u001b[0m\u001b[32m       CD8_T        \u001b[0m\u001b[32m \u001b[0m│\u001b[38;5;128m \u001b[0m\u001b[38;5;128m         3         \u001b[0m\u001b[38;5;128m \u001b[0m│\n",
       "│\u001b[38;5;33m \u001b[0m\u001b[38;5;33m                          \u001b[0m\u001b[38;5;33m \u001b[0m│\u001b[32m \u001b[0m\u001b[32m     Epithelial     \u001b[0m\u001b[32m \u001b[0m│\u001b[38;5;128m \u001b[0m\u001b[38;5;128m         4         \u001b[0m\u001b[38;5;128m \u001b[0m│\n",
       "│\u001b[38;5;33m \u001b[0m\u001b[38;5;33m                          \u001b[0m\u001b[38;5;33m \u001b[0m│\u001b[32m \u001b[0m\u001b[32m        Mast        \u001b[0m\u001b[32m \u001b[0m│\u001b[38;5;128m \u001b[0m\u001b[38;5;128m         5         \u001b[0m\u001b[38;5;128m \u001b[0m│\n",
       "│\u001b[38;5;33m \u001b[0m\u001b[38;5;33m                          \u001b[0m\u001b[38;5;33m \u001b[0m│\u001b[32m \u001b[0m\u001b[32m   Myeloid_cells    \u001b[0m\u001b[32m \u001b[0m│\u001b[38;5;128m \u001b[0m\u001b[38;5;128m         6         \u001b[0m\u001b[38;5;128m \u001b[0m│\n",
       "│\u001b[38;5;33m \u001b[0m\u001b[38;5;33m                          \u001b[0m\u001b[38;5;33m \u001b[0m│\u001b[32m \u001b[0m\u001b[32m         NK         \u001b[0m\u001b[32m \u001b[0m│\u001b[38;5;128m \u001b[0m\u001b[38;5;128m         7         \u001b[0m\u001b[38;5;128m \u001b[0m│\n",
       "│\u001b[38;5;33m \u001b[0m\u001b[38;5;33m                          \u001b[0m\u001b[38;5;33m \u001b[0m│\u001b[32m \u001b[0m\u001b[32m       Plasma       \u001b[0m\u001b[32m \u001b[0m│\u001b[38;5;128m \u001b[0m\u001b[38;5;128m         8         \u001b[0m\u001b[38;5;128m \u001b[0m│\n",
       "│\u001b[38;5;33m \u001b[0m\u001b[38;5;33m                          \u001b[0m\u001b[38;5;33m \u001b[0m│\u001b[32m \u001b[0m\u001b[32m      Stromal       \u001b[0m\u001b[32m \u001b[0m│\u001b[38;5;128m \u001b[0m\u001b[38;5;128m         9         \u001b[0m\u001b[38;5;128m \u001b[0m│\n",
       "│\u001b[38;5;33m \u001b[0m\u001b[38;5;33m                          \u001b[0m\u001b[38;5;33m \u001b[0m│\u001b[32m \u001b[0m\u001b[32mmemory_naive_B_cells\u001b[0m\u001b[32m \u001b[0m│\u001b[38;5;128m \u001b[0m\u001b[38;5;128m        10         \u001b[0m\u001b[38;5;128m \u001b[0m│\n",
       "└────────────────────────────┴──────────────────────┴─────────────────────┘\n"
      ]
     },
     "metadata": {},
     "output_type": "display_data"
    },
    {
     "data": {
      "text/html": [
       "<pre style=\"white-space:pre;overflow-x:auto;line-height:normal;font-family:Menlo,'DejaVu Sans Mono',consolas,'Courier New',monospace\"><span style=\"font-style: italic\">                   extra_categorical_covs State Registry                   </span>\n",
       "┏━━━━━━━━━━━━━━━━━━━━━━━━━┳━━━━━━━━━━━━━━━━━━━━━━━━━┳━━━━━━━━━━━━━━━━━━━━━┓\n",
       "┃<span style=\"font-weight: bold\">     Source Location     </span>┃<span style=\"font-weight: bold\">       Categories        </span>┃<span style=\"font-weight: bold\"> scvi-tools Encoding </span>┃\n",
       "┡━━━━━━━━━━━━━━━━━━━━━━━━━╇━━━━━━━━━━━━━━━━━━━━━━━━━╇━━━━━━━━━━━━━━━━━━━━━┩\n",
       "│<span style=\"color: #0087ff; text-decoration-color: #0087ff\"> adata.obs['orig.ident'] </span>│<span style=\"color: #008000; text-decoration-color: #008000\">     KRAS_Pt2_immune     </span>│<span style=\"color: #af00d7; text-decoration-color: #af00d7\">          0          </span>│\n",
       "│<span style=\"color: #0087ff; text-decoration-color: #0087ff\">                         </span>│<span style=\"color: #008000; text-decoration-color: #008000\">     KRAS_Pt7_immune     </span>│<span style=\"color: #af00d7; text-decoration-color: #af00d7\">          1          </span>│\n",
       "│<span style=\"color: #0087ff; text-decoration-color: #0087ff\">                         </span>│<span style=\"color: #008000; text-decoration-color: #008000\"> Pt2_Pt3_Pt6_CD45neg_add </span>│<span style=\"color: #af00d7; text-decoration-color: #af00d7\">          2          </span>│\n",
       "│<span style=\"color: #0087ff; text-decoration-color: #0087ff\">                         </span>│<span style=\"color: #008000; text-decoration-color: #008000\">     Pt2_Pt3_Pt6_add     </span>│<span style=\"color: #af00d7; text-decoration-color: #af00d7\">          3          </span>│\n",
       "│<span style=\"color: #0087ff; text-decoration-color: #0087ff\">                         </span>│<span style=\"color: #008000; text-decoration-color: #008000\">         Pt2_Pt6         </span>│<span style=\"color: #af00d7; text-decoration-color: #af00d7\">          4          </span>│\n",
       "│<span style=\"color: #0087ff; text-decoration-color: #0087ff\">                         </span>│<span style=\"color: #008000; text-decoration-color: #008000\">     Pt3_Pt7_CD45neg     </span>│<span style=\"color: #af00d7; text-decoration-color: #af00d7\">          5          </span>│\n",
       "│<span style=\"color: #0087ff; text-decoration-color: #0087ff\">                         </span>│<span style=\"color: #008000; text-decoration-color: #008000\">      WT_Pt3_immune      </span>│<span style=\"color: #af00d7; text-decoration-color: #af00d7\">          6          </span>│\n",
       "│<span style=\"color: #0087ff; text-decoration-color: #0087ff\">                         </span>│<span style=\"color: #008000; text-decoration-color: #008000\">                         </span>│<span style=\"color: #af00d7; text-decoration-color: #af00d7\">                     </span>│\n",
       "└─────────────────────────┴─────────────────────────┴─────────────────────┘\n",
       "</pre>\n"
      ],
      "text/plain": [
       "\u001b[3m                   extra_categorical_covs State Registry                   \u001b[0m\n",
       "┏━━━━━━━━━━━━━━━━━━━━━━━━━┳━━━━━━━━━━━━━━━━━━━━━━━━━┳━━━━━━━━━━━━━━━━━━━━━┓\n",
       "┃\u001b[1m \u001b[0m\u001b[1m    Source Location    \u001b[0m\u001b[1m \u001b[0m┃\u001b[1m \u001b[0m\u001b[1m      Categories       \u001b[0m\u001b[1m \u001b[0m┃\u001b[1m \u001b[0m\u001b[1mscvi-tools Encoding\u001b[0m\u001b[1m \u001b[0m┃\n",
       "┡━━━━━━━━━━━━━━━━━━━━━━━━━╇━━━━━━━━━━━━━━━━━━━━━━━━━╇━━━━━━━━━━━━━━━━━━━━━┩\n",
       "│\u001b[38;5;33m \u001b[0m\u001b[38;5;33madata.obs['orig.ident']\u001b[0m\u001b[38;5;33m \u001b[0m│\u001b[32m \u001b[0m\u001b[32m    KRAS_Pt2_immune    \u001b[0m\u001b[32m \u001b[0m│\u001b[38;5;128m \u001b[0m\u001b[38;5;128m         0         \u001b[0m\u001b[38;5;128m \u001b[0m│\n",
       "│\u001b[38;5;33m \u001b[0m\u001b[38;5;33m                       \u001b[0m\u001b[38;5;33m \u001b[0m│\u001b[32m \u001b[0m\u001b[32m    KRAS_Pt7_immune    \u001b[0m\u001b[32m \u001b[0m│\u001b[38;5;128m \u001b[0m\u001b[38;5;128m         1         \u001b[0m\u001b[38;5;128m \u001b[0m│\n",
       "│\u001b[38;5;33m \u001b[0m\u001b[38;5;33m                       \u001b[0m\u001b[38;5;33m \u001b[0m│\u001b[32m \u001b[0m\u001b[32mPt2_Pt3_Pt6_CD45neg_add\u001b[0m\u001b[32m \u001b[0m│\u001b[38;5;128m \u001b[0m\u001b[38;5;128m         2         \u001b[0m\u001b[38;5;128m \u001b[0m│\n",
       "│\u001b[38;5;33m \u001b[0m\u001b[38;5;33m                       \u001b[0m\u001b[38;5;33m \u001b[0m│\u001b[32m \u001b[0m\u001b[32m    Pt2_Pt3_Pt6_add    \u001b[0m\u001b[32m \u001b[0m│\u001b[38;5;128m \u001b[0m\u001b[38;5;128m         3         \u001b[0m\u001b[38;5;128m \u001b[0m│\n",
       "│\u001b[38;5;33m \u001b[0m\u001b[38;5;33m                       \u001b[0m\u001b[38;5;33m \u001b[0m│\u001b[32m \u001b[0m\u001b[32m        Pt2_Pt6        \u001b[0m\u001b[32m \u001b[0m│\u001b[38;5;128m \u001b[0m\u001b[38;5;128m         4         \u001b[0m\u001b[38;5;128m \u001b[0m│\n",
       "│\u001b[38;5;33m \u001b[0m\u001b[38;5;33m                       \u001b[0m\u001b[38;5;33m \u001b[0m│\u001b[32m \u001b[0m\u001b[32m    Pt3_Pt7_CD45neg    \u001b[0m\u001b[32m \u001b[0m│\u001b[38;5;128m \u001b[0m\u001b[38;5;128m         5         \u001b[0m\u001b[38;5;128m \u001b[0m│\n",
       "│\u001b[38;5;33m \u001b[0m\u001b[38;5;33m                       \u001b[0m\u001b[38;5;33m \u001b[0m│\u001b[32m \u001b[0m\u001b[32m     WT_Pt3_immune     \u001b[0m\u001b[32m \u001b[0m│\u001b[38;5;128m \u001b[0m\u001b[38;5;128m         6         \u001b[0m\u001b[38;5;128m \u001b[0m│\n",
       "│\u001b[38;5;33m \u001b[0m\u001b[38;5;33m                       \u001b[0m\u001b[38;5;33m \u001b[0m│\u001b[32m \u001b[0m\u001b[32m                       \u001b[0m\u001b[32m \u001b[0m│\u001b[38;5;128m \u001b[0m\u001b[38;5;128m                   \u001b[0m\u001b[38;5;128m \u001b[0m│\n",
       "└─────────────────────────┴─────────────────────────┴─────────────────────┘\n"
      ]
     },
     "metadata": {},
     "output_type": "display_data"
    },
    {
     "name": "stderr",
     "output_type": "stream",
     "text": [
      "GPU available: True, used: True\n",
      "TPU available: False, using: 0 TPU cores\n",
      "IPU available: False, using: 0 IPUs\n",
      "/data/xy/anaconda3/envs/cell2loc_env/lib/python3.9/site-packages/pytorch_lightning/trainer/configuration_validator.py:120: UserWarning: You passed in a `val_dataloader` but have no `validation_step`. Skipping val loop.\n",
      "LOCAL_RANK: 0 - CUDA_VISIBLE_DEVICES: [0]\n",
      "/data/xy/anaconda3/envs/cell2loc_env/lib/python3.9/site-packages/pytorch_lightning/trainer/data_loading.py:432: UserWarning: The number of training samples (6) is smaller than the logging interval Trainer(log_every_n_steps=10). Set a lower value for log_every_n_steps if you want to see logs for the training epoch.\n"
     ]
    },
    {
     "name": "stdout",
     "output_type": "stream",
     "text": [
      "Epoch 1000/1000: 100%|██████████| 1000/1000 [12:12<00:00,  1.37it/s, v_num=1, elbo_train=3.86e+7]\n",
      "Sampling local variables, batch:   0%|          | 0/6 [00:00<?, ?it/s]\n",
      "Sampling global variables, sample: 100%|██████████| 999/999 [00:13<00:00, 73.90it/s]\n"
     ]
    },
    {
     "data": {
      "image/png": "[encoded data removed]",
      "text/plain": [
       "<Figure size 432x288 with 1 Axes>"
      ]
     },
     "metadata": {
      "needs_background": "light"
     },
     "output_type": "display_data"
    },
    {
     "data": {
      "image/png": "[encoded data removed]",
      "text/plain": [
       "<Figure size 432x288 with 1 Axes>"
      ]
     },
     "metadata": {
      "needs_background": "light"
     },
     "output_type": "display_data"
    },
    {
     "name": "stdout",
     "output_type": "stream",
     "text": [
      "111\n",
      "222\n"
     ]
    },
    {
     "data": {
      "text/html": [
       "<pre style=\"white-space:pre;overflow-x:auto;line-height:normal;font-family:Menlo,'DejaVu Sans Mono',consolas,'Courier New',monospace\">Anndata setup with scvi-tools version <span style=\"color: #008080; text-decoration-color: #008080; font-weight: bold\">0.16</span>.<span style=\"color: #008080; text-decoration-color: #008080; font-weight: bold\">0</span>.\n",
       "</pre>\n"
      ],
      "text/plain": [
       "Anndata setup with scvi-tools version \u001b[1;36m0.16\u001b[0m.\u001b[1;36m0\u001b[0m.\n"
      ]
     },
     "metadata": {},
     "output_type": "display_data"
    },
    {
     "data": {
      "text/html": [
       "<pre style=\"white-space:pre;overflow-x:auto;line-height:normal;font-family:Menlo,'DejaVu Sans Mono',consolas,'Courier New',monospace\">\n",
       "</pre>\n"
      ],
      "text/plain": [
       "\n"
      ]
     },
     "metadata": {},
     "output_type": "display_data"
    },
    {
     "data": {
      "text/html": [
       "<pre style=\"white-space:pre;overflow-x:auto;line-height:normal;font-family:Menlo,'DejaVu Sans Mono',consolas,'Courier New',monospace\">Setup via `RegressionModel.setup_anndata` with arguments:\n",
       "</pre>\n"
      ],
      "text/plain": [
       "Setup via `RegressionModel.setup_anndata` with arguments:\n"
      ]
     },
     "metadata": {},
     "output_type": "display_data"
    },
    {
     "data": {
      "text/html": [
       "<pre style=\"white-space:pre;overflow-x:auto;line-height:normal;font-family:Menlo,'DejaVu Sans Mono',consolas,'Courier New',monospace\"><span style=\"font-weight: bold\">{</span>\n",
       "<span style=\"color: #7fbf7f; text-decoration-color: #7fbf7f\">│   </span><span style=\"color: #008000; text-decoration-color: #008000\">'layer'</span>: <span style=\"color: #800080; text-decoration-color: #800080; font-style: italic\">None</span>,\n",
       "<span style=\"color: #7fbf7f; text-decoration-color: #7fbf7f\">│   </span><span style=\"color: #008000; text-decoration-color: #008000\">'batch_key'</span>: <span style=\"color: #008000; text-decoration-color: #008000\">'orig.ident'</span>,\n",
       "<span style=\"color: #7fbf7f; text-decoration-color: #7fbf7f\">│   </span><span style=\"color: #008000; text-decoration-color: #008000\">'labels_key'</span>: <span style=\"color: #008000; text-decoration-color: #008000\">'high_res_ident'</span>,\n",
       "<span style=\"color: #7fbf7f; text-decoration-color: #7fbf7f\">│   </span><span style=\"color: #008000; text-decoration-color: #008000\">'categorical_covariate_keys'</span>: <span style=\"font-weight: bold\">[</span><span style=\"color: #008000; text-decoration-color: #008000\">'orig.ident'</span><span style=\"font-weight: bold\">]</span>,\n",
       "<span style=\"color: #7fbf7f; text-decoration-color: #7fbf7f\">│   </span><span style=\"color: #008000; text-decoration-color: #008000\">'continuous_covariate_keys'</span>: <span style=\"color: #800080; text-decoration-color: #800080; font-style: italic\">None</span>\n",
       "<span style=\"font-weight: bold\">}</span>\n",
       "</pre>\n"
      ],
      "text/plain": [
       "\u001b[1m{\u001b[0m\n",
       "\u001b[2;32m│   \u001b[0m\u001b[32m'layer'\u001b[0m: \u001b[3;35mNone\u001b[0m,\n",
       "\u001b[2;32m│   \u001b[0m\u001b[32m'batch_key'\u001b[0m: \u001b[32m'orig.ident'\u001b[0m,\n",
       "\u001b[2;32m│   \u001b[0m\u001b[32m'labels_key'\u001b[0m: \u001b[32m'high_res_ident'\u001b[0m,\n",
       "\u001b[2;32m│   \u001b[0m\u001b[32m'categorical_covariate_keys'\u001b[0m: \u001b[1m[\u001b[0m\u001b[32m'orig.ident'\u001b[0m\u001b[1m]\u001b[0m,\n",
       "\u001b[2;32m│   \u001b[0m\u001b[32m'continuous_covariate_keys'\u001b[0m: \u001b[3;35mNone\u001b[0m\n",
       "\u001b[1m}\u001b[0m\n"
      ]
     },
     "metadata": {},
     "output_type": "display_data"
    },
    {
     "data": {
      "text/html": [
       "<pre style=\"white-space:pre;overflow-x:auto;line-height:normal;font-family:Menlo,'DejaVu Sans Mono',consolas,'Courier New',monospace\">\n",
       "</pre>\n"
      ],
      "text/plain": [
       "\n"
      ]
     },
     "metadata": {},
     "output_type": "display_data"
    },
    {
     "data": {
      "text/html": [
       "<pre style=\"white-space:pre;overflow-x:auto;line-height:normal;font-family:Menlo,'DejaVu Sans Mono',consolas,'Courier New',monospace\"><span style=\"font-style: italic\">         Summary Statistics         </span>\n",
       "┏━━━━━━━━━━━━━━━━━━━━━━━━━━┳━━━━━━━┓\n",
       "┃<span style=\"font-weight: bold\">     Summary Stat Key     </span>┃<span style=\"font-weight: bold\"> Value </span>┃\n",
       "┡━━━━━━━━━━━━━━━━━━━━━━━━━━╇━━━━━━━┩\n",
       "│<span style=\"color: #0087ff; text-decoration-color: #0087ff\">         n_cells          </span>│<span style=\"color: #af00d7; text-decoration-color: #af00d7\"> 12577 </span>│\n",
       "│<span style=\"color: #0087ff; text-decoration-color: #0087ff\">          n_vars          </span>│<span style=\"color: #af00d7; text-decoration-color: #af00d7\"> 9639  </span>│\n",
       "│<span style=\"color: #0087ff; text-decoration-color: #0087ff\">         n_batch          </span>│<span style=\"color: #af00d7; text-decoration-color: #af00d7\">   7   </span>│\n",
       "│<span style=\"color: #0087ff; text-decoration-color: #0087ff\">         n_labels         </span>│<span style=\"color: #af00d7; text-decoration-color: #af00d7\">  20   </span>│\n",
       "│<span style=\"color: #0087ff; text-decoration-color: #0087ff\"> n_extra_categorical_covs </span>│<span style=\"color: #af00d7; text-decoration-color: #af00d7\">   1   </span>│\n",
       "│<span style=\"color: #0087ff; text-decoration-color: #0087ff\"> n_extra_continuous_covs  </span>│<span style=\"color: #af00d7; text-decoration-color: #af00d7\">   0   </span>│\n",
       "└──────────────────────────┴───────┘\n",
       "</pre>\n"
      ],
      "text/plain": [
       "\u001b[3m         Summary Statistics         \u001b[0m\n",
       "┏━━━━━━━━━━━━━━━━━━━━━━━━━━┳━━━━━━━┓\n",
       "┃\u001b[1m \u001b[0m\u001b[1m    Summary Stat Key    \u001b[0m\u001b[1m \u001b[0m┃\u001b[1m \u001b[0m\u001b[1mValue\u001b[0m\u001b[1m \u001b[0m┃\n",
       "┡━━━━━━━━━━━━━━━━━━━━━━━━━━╇━━━━━━━┩\n",
       "│\u001b[38;5;33m \u001b[0m\u001b[38;5;33m        n_cells         \u001b[0m\u001b[38;5;33m \u001b[0m│\u001b[38;5;128m \u001b[0m\u001b[38;5;128m12577\u001b[0m\u001b[38;5;128m \u001b[0m│\n",
       "│\u001b[38;5;33m \u001b[0m\u001b[38;5;33m         n_vars         \u001b[0m\u001b[38;5;33m \u001b[0m│\u001b[38;5;128m \u001b[0m\u001b[38;5;128m9639 \u001b[0m\u001b[38;5;128m \u001b[0m│\n",
       "│\u001b[38;5;33m \u001b[0m\u001b[38;5;33m        n_batch         \u001b[0m\u001b[38;5;33m \u001b[0m│\u001b[38;5;128m \u001b[0m\u001b[38;5;128m  7  \u001b[0m\u001b[38;5;128m \u001b[0m│\n",
       "│\u001b[38;5;33m \u001b[0m\u001b[38;5;33m        n_labels        \u001b[0m\u001b[38;5;33m \u001b[0m│\u001b[38;5;128m \u001b[0m\u001b[38;5;128m 20  \u001b[0m\u001b[38;5;128m \u001b[0m│\n",
       "│\u001b[38;5;33m \u001b[0m\u001b[38;5;33mn_extra_categorical_covs\u001b[0m\u001b[38;5;33m \u001b[0m│\u001b[38;5;128m \u001b[0m\u001b[38;5;128m  1  \u001b[0m\u001b[38;5;128m \u001b[0m│\n",
       "│\u001b[38;5;33m \u001b[0m\u001b[38;5;33mn_extra_continuous_covs \u001b[0m\u001b[38;5;33m \u001b[0m│\u001b[38;5;128m \u001b[0m\u001b[38;5;128m  0  \u001b[0m\u001b[38;5;128m \u001b[0m│\n",
       "└──────────────────────────┴───────┘\n"
      ]
     },
     "metadata": {},
     "output_type": "display_data"
    },
    {
     "data": {
      "text/html": [
       "<pre style=\"white-space:pre;overflow-x:auto;line-height:normal;font-family:Menlo,'DejaVu Sans Mono',consolas,'Courier New',monospace\"><span style=\"font-style: italic\">                             Data Registry                             </span>\n",
       "┏━━━━━━━━━━━━━━━━━━━━━━━━┳━━━━━━━━━━━━━━━━━━━━━━━━━━━━━━━━━━━━━━━━━━━━┓\n",
       "┃<span style=\"font-weight: bold\">      Registry Key      </span>┃<span style=\"font-weight: bold\">            scvi-tools Location             </span>┃\n",
       "┡━━━━━━━━━━━━━━━━━━━━━━━━╇━━━━━━━━━━━━━━━━━━━━━━━━━━━━━━━━━━━━━━━━━━━━┩\n",
       "│<span style=\"color: #0087ff; text-decoration-color: #0087ff\">           X            </span>│<span style=\"color: #af00d7; text-decoration-color: #af00d7\">                  adata.X                   </span>│\n",
       "│<span style=\"color: #0087ff; text-decoration-color: #0087ff\">         batch          </span>│<span style=\"color: #af00d7; text-decoration-color: #af00d7\">          adata.obs['_scvi_batch']          </span>│\n",
       "│<span style=\"color: #0087ff; text-decoration-color: #0087ff\">         labels         </span>│<span style=\"color: #af00d7; text-decoration-color: #af00d7\">         adata.obs['_scvi_labels']          </span>│\n",
       "│<span style=\"color: #0087ff; text-decoration-color: #0087ff\"> extra_categorical_covs </span>│<span style=\"color: #af00d7; text-decoration-color: #af00d7\"> adata.obsm['_scvi_extra_categorical_covs'] </span>│\n",
       "│<span style=\"color: #0087ff; text-decoration-color: #0087ff\">         ind_x          </span>│<span style=\"color: #af00d7; text-decoration-color: #af00d7\">           adata.obs['_indices']            </span>│\n",
       "└────────────────────────┴────────────────────────────────────────────┘\n",
       "</pre>\n"
      ],
      "text/plain": [
       "\u001b[3m                             Data Registry                             \u001b[0m\n",
       "┏━━━━━━━━━━━━━━━━━━━━━━━━┳━━━━━━━━━━━━━━━━━━━━━━━━━━━━━━━━━━━━━━━━━━━━┓\n",
       "┃\u001b[1m \u001b[0m\u001b[1m     Registry Key     \u001b[0m\u001b[1m \u001b[0m┃\u001b[1m \u001b[0m\u001b[1m           scvi-tools Location            \u001b[0m\u001b[1m \u001b[0m┃\n",
       "┡━━━━━━━━━━━━━━━━━━━━━━━━╇━━━━━━━━━━━━━━━━━━━━━━━━━━━━━━━━━━━━━━━━━━━━┩\n",
       "│\u001b[38;5;33m \u001b[0m\u001b[38;5;33m          X           \u001b[0m\u001b[38;5;33m \u001b[0m│\u001b[38;5;128m \u001b[0m\u001b[38;5;128m                 adata.X                  \u001b[0m\u001b[38;5;128m \u001b[0m│\n",
       "│\u001b[38;5;33m \u001b[0m\u001b[38;5;33m        batch         \u001b[0m\u001b[38;5;33m \u001b[0m│\u001b[38;5;128m \u001b[0m\u001b[38;5;128m         adata.obs['_scvi_batch']         \u001b[0m\u001b[38;5;128m \u001b[0m│\n",
       "│\u001b[38;5;33m \u001b[0m\u001b[38;5;33m        labels        \u001b[0m\u001b[38;5;33m \u001b[0m│\u001b[38;5;128m \u001b[0m\u001b[38;5;128m        adata.obs['_scvi_labels']         \u001b[0m\u001b[38;5;128m \u001b[0m│\n",
       "│\u001b[38;5;33m \u001b[0m\u001b[38;5;33mextra_categorical_covs\u001b[0m\u001b[38;5;33m \u001b[0m│\u001b[38;5;128m \u001b[0m\u001b[38;5;128madata.obsm['_scvi_extra_categorical_covs']\u001b[0m\u001b[38;5;128m \u001b[0m│\n",
       "│\u001b[38;5;33m \u001b[0m\u001b[38;5;33m        ind_x         \u001b[0m\u001b[38;5;33m \u001b[0m│\u001b[38;5;128m \u001b[0m\u001b[38;5;128m          adata.obs['_indices']           \u001b[0m\u001b[38;5;128m \u001b[0m│\n",
       "└────────────────────────┴────────────────────────────────────────────┘\n"
      ]
     },
     "metadata": {},
     "output_type": "display_data"
    },
    {
     "data": {
      "text/html": [
       "<pre style=\"white-space:pre;overflow-x:auto;line-height:normal;font-family:Menlo,'DejaVu Sans Mono',consolas,'Courier New',monospace\"><span style=\"font-style: italic\">                           batch State Registry                            </span>\n",
       "┏━━━━━━━━━━━━━━━━━━━━━━━━━┳━━━━━━━━━━━━━━━━━━━━━━━━━┳━━━━━━━━━━━━━━━━━━━━━┓\n",
       "┃<span style=\"font-weight: bold\">     Source Location     </span>┃<span style=\"font-weight: bold\">       Categories        </span>┃<span style=\"font-weight: bold\"> scvi-tools Encoding </span>┃\n",
       "┡━━━━━━━━━━━━━━━━━━━━━━━━━╇━━━━━━━━━━━━━━━━━━━━━━━━━╇━━━━━━━━━━━━━━━━━━━━━┩\n",
       "│<span style=\"color: #0087ff; text-decoration-color: #0087ff\"> adata.obs['orig.ident'] </span>│<span style=\"color: #008000; text-decoration-color: #008000\">     KRAS_Pt2_immune     </span>│<span style=\"color: #af00d7; text-decoration-color: #af00d7\">          0          </span>│\n",
       "│<span style=\"color: #0087ff; text-decoration-color: #0087ff\">                         </span>│<span style=\"color: #008000; text-decoration-color: #008000\">     KRAS_Pt7_immune     </span>│<span style=\"color: #af00d7; text-decoration-color: #af00d7\">          1          </span>│\n",
       "│<span style=\"color: #0087ff; text-decoration-color: #0087ff\">                         </span>│<span style=\"color: #008000; text-decoration-color: #008000\"> Pt2_Pt3_Pt6_CD45neg_add </span>│<span style=\"color: #af00d7; text-decoration-color: #af00d7\">          2          </span>│\n",
       "│<span style=\"color: #0087ff; text-decoration-color: #0087ff\">                         </span>│<span style=\"color: #008000; text-decoration-color: #008000\">     Pt2_Pt3_Pt6_add     </span>│<span style=\"color: #af00d7; text-decoration-color: #af00d7\">          3          </span>│\n",
       "│<span style=\"color: #0087ff; text-decoration-color: #0087ff\">                         </span>│<span style=\"color: #008000; text-decoration-color: #008000\">         Pt2_Pt6         </span>│<span style=\"color: #af00d7; text-decoration-color: #af00d7\">          4          </span>│\n",
       "│<span style=\"color: #0087ff; text-decoration-color: #0087ff\">                         </span>│<span style=\"color: #008000; text-decoration-color: #008000\">     Pt3_Pt7_CD45neg     </span>│<span style=\"color: #af00d7; text-decoration-color: #af00d7\">          5          </span>│\n",
       "│<span style=\"color: #0087ff; text-decoration-color: #0087ff\">                         </span>│<span style=\"color: #008000; text-decoration-color: #008000\">      WT_Pt3_immune      </span>│<span style=\"color: #af00d7; text-decoration-color: #af00d7\">          6          </span>│\n",
       "└─────────────────────────┴─────────────────────────┴─────────────────────┘\n",
       "</pre>\n"
      ],
      "text/plain": [
       "\u001b[3m                           batch State Registry                            \u001b[0m\n",
       "┏━━━━━━━━━━━━━━━━━━━━━━━━━┳━━━━━━━━━━━━━━━━━━━━━━━━━┳━━━━━━━━━━━━━━━━━━━━━┓\n",
       "┃\u001b[1m \u001b[0m\u001b[1m    Source Location    \u001b[0m\u001b[1m \u001b[0m┃\u001b[1m \u001b[0m\u001b[1m      Categories       \u001b[0m\u001b[1m \u001b[0m┃\u001b[1m \u001b[0m\u001b[1mscvi-tools Encoding\u001b[0m\u001b[1m \u001b[0m┃\n",
       "┡━━━━━━━━━━━━━━━━━━━━━━━━━╇━━━━━━━━━━━━━━━━━━━━━━━━━╇━━━━━━━━━━━━━━━━━━━━━┩\n",
       "│\u001b[38;5;33m \u001b[0m\u001b[38;5;33madata.obs['orig.ident']\u001b[0m\u001b[38;5;33m \u001b[0m│\u001b[32m \u001b[0m\u001b[32m    KRAS_Pt2_immune    \u001b[0m\u001b[32m \u001b[0m│\u001b[38;5;128m \u001b[0m\u001b[38;5;128m         0         \u001b[0m\u001b[38;5;128m \u001b[0m│\n",
       "│\u001b[38;5;33m \u001b[0m\u001b[38;5;33m                       \u001b[0m\u001b[38;5;33m \u001b[0m│\u001b[32m \u001b[0m\u001b[32m    KRAS_Pt7_immune    \u001b[0m\u001b[32m \u001b[0m│\u001b[38;5;128m \u001b[0m\u001b[38;5;128m         1         \u001b[0m\u001b[38;5;128m \u001b[0m│\n",
       "│\u001b[38;5;33m \u001b[0m\u001b[38;5;33m                       \u001b[0m\u001b[38;5;33m \u001b[0m│\u001b[32m \u001b[0m\u001b[32mPt2_Pt3_Pt6_CD45neg_add\u001b[0m\u001b[32m \u001b[0m│\u001b[38;5;128m \u001b[0m\u001b[38;5;128m         2         \u001b[0m\u001b[38;5;128m \u001b[0m│\n",
       "│\u001b[38;5;33m \u001b[0m\u001b[38;5;33m                       \u001b[0m\u001b[38;5;33m \u001b[0m│\u001b[32m \u001b[0m\u001b[32m    Pt2_Pt3_Pt6_add    \u001b[0m\u001b[32m \u001b[0m│\u001b[38;5;128m \u001b[0m\u001b[38;5;128m         3         \u001b[0m\u001b[38;5;128m \u001b[0m│\n",
       "│\u001b[38;5;33m \u001b[0m\u001b[38;5;33m                       \u001b[0m\u001b[38;5;33m \u001b[0m│\u001b[32m \u001b[0m\u001b[32m        Pt2_Pt6        \u001b[0m\u001b[32m \u001b[0m│\u001b[38;5;128m \u001b[0m\u001b[38;5;128m         4         \u001b[0m\u001b[38;5;128m \u001b[0m│\n",
       "│\u001b[38;5;33m \u001b[0m\u001b[38;5;33m                       \u001b[0m\u001b[38;5;33m \u001b[0m│\u001b[32m \u001b[0m\u001b[32m    Pt3_Pt7_CD45neg    \u001b[0m\u001b[32m \u001b[0m│\u001b[38;5;128m \u001b[0m\u001b[38;5;128m         5         \u001b[0m\u001b[38;5;128m \u001b[0m│\n",
       "│\u001b[38;5;33m \u001b[0m\u001b[38;5;33m                       \u001b[0m\u001b[38;5;33m \u001b[0m│\u001b[32m \u001b[0m\u001b[32m     WT_Pt3_immune     \u001b[0m\u001b[32m \u001b[0m│\u001b[38;5;128m \u001b[0m\u001b[38;5;128m         6         \u001b[0m\u001b[38;5;128m \u001b[0m│\n",
       "└─────────────────────────┴─────────────────────────┴─────────────────────┘\n"
      ]
     },
     "metadata": {},
     "output_type": "display_data"
    },
    {
     "data": {
      "text/html": [
       "<pre style=\"white-space:pre;overflow-x:auto;line-height:normal;font-family:Menlo,'DejaVu Sans Mono',consolas,'Courier New',monospace\"><span style=\"font-style: italic\">                        labels State Registry                        </span>\n",
       "┏━━━━━━━━━━━━━━━━━━━━━━━━━━━━━┳━━━━━━━━━━━━━━━┳━━━━━━━━━━━━━━━━━━━━━┓\n",
       "┃<span style=\"font-weight: bold\">       Source Location       </span>┃<span style=\"font-weight: bold\">  Categories   </span>┃<span style=\"font-weight: bold\"> scvi-tools Encoding </span>┃\n",
       "┡━━━━━━━━━━━━━━━━━━━━━━━━━━━━━╇━━━━━━━━━━━━━━━╇━━━━━━━━━━━━━━━━━━━━━┩\n",
       "│<span style=\"color: #0087ff; text-decoration-color: #0087ff\"> adata.obs['high_res_ident'] </span>│<span style=\"color: #008000; text-decoration-color: #008000\">     B_GC      </span>│<span style=\"color: #af00d7; text-decoration-color: #af00d7\">          0          </span>│\n",
       "│<span style=\"color: #0087ff; text-decoration-color: #0087ff\">                             </span>│<span style=\"color: #008000; text-decoration-color: #008000\"> B_memory_like </span>│<span style=\"color: #af00d7; text-decoration-color: #af00d7\">          1          </span>│\n",
       "│<span style=\"color: #0087ff; text-decoration-color: #0087ff\">                             </span>│<span style=\"color: #008000; text-decoration-color: #008000\"> B_naive_like  </span>│<span style=\"color: #af00d7; text-decoration-color: #af00d7\">          2          </span>│\n",
       "│<span style=\"color: #0087ff; text-decoration-color: #0087ff\">                             </span>│<span style=\"color: #008000; text-decoration-color: #008000\">  CD4_T_CCR7   </span>│<span style=\"color: #af00d7; text-decoration-color: #af00d7\">          3          </span>│\n",
       "│<span style=\"color: #0087ff; text-decoration-color: #0087ff\">                             </span>│<span style=\"color: #008000; text-decoration-color: #008000\">    CD4_Tfh    </span>│<span style=\"color: #af00d7; text-decoration-color: #af00d7\">          4          </span>│\n",
       "│<span style=\"color: #0087ff; text-decoration-color: #0087ff\">                             </span>│<span style=\"color: #008000; text-decoration-color: #008000\">   CD4_Treg    </span>│<span style=\"color: #af00d7; text-decoration-color: #af00d7\">          5          </span>│\n",
       "│<span style=\"color: #0087ff; text-decoration-color: #0087ff\">                             </span>│<span style=\"color: #008000; text-decoration-color: #008000\">    CD8_Tem    </span>│<span style=\"color: #af00d7; text-decoration-color: #af00d7\">          6          </span>│\n",
       "│<span style=\"color: #0087ff; text-decoration-color: #0087ff\">                             </span>│<span style=\"color: #008000; text-decoration-color: #008000\">    CD8_Tex    </span>│<span style=\"color: #af00d7; text-decoration-color: #af00d7\">          7          </span>│\n",
       "│<span style=\"color: #0087ff; text-decoration-color: #0087ff\">                             </span>│<span style=\"color: #008000; text-decoration-color: #008000\">    CD8_Trm    </span>│<span style=\"color: #af00d7; text-decoration-color: #af00d7\">          8          </span>│\n",
       "│<span style=\"color: #0087ff; text-decoration-color: #0087ff\">                             </span>│<span style=\"color: #008000; text-decoration-color: #008000\">      DC       </span>│<span style=\"color: #af00d7; text-decoration-color: #af00d7\">          9          </span>│\n",
       "│<span style=\"color: #0087ff; text-decoration-color: #0087ff\">                             </span>│<span style=\"color: #008000; text-decoration-color: #008000\"> Epithelial_c1 </span>│<span style=\"color: #af00d7; text-decoration-color: #af00d7\">         10          </span>│\n",
       "│<span style=\"color: #0087ff; text-decoration-color: #0087ff\">                             </span>│<span style=\"color: #008000; text-decoration-color: #008000\"> Epithelial_c2 </span>│<span style=\"color: #af00d7; text-decoration-color: #af00d7\">         11          </span>│\n",
       "│<span style=\"color: #0087ff; text-decoration-color: #0087ff\">                             </span>│<span style=\"color: #008000; text-decoration-color: #008000\">  Macrophage   </span>│<span style=\"color: #af00d7; text-decoration-color: #af00d7\">         12          </span>│\n",
       "│<span style=\"color: #0087ff; text-decoration-color: #0087ff\">                             </span>│<span style=\"color: #008000; text-decoration-color: #008000\">     Mast      </span>│<span style=\"color: #af00d7; text-decoration-color: #af00d7\">         13          </span>│\n",
       "│<span style=\"color: #0087ff; text-decoration-color: #0087ff\">                             </span>│<span style=\"color: #008000; text-decoration-color: #008000\">   Monocyte    </span>│<span style=\"color: #af00d7; text-decoration-color: #af00d7\">         14          </span>│\n",
       "│<span style=\"color: #0087ff; text-decoration-color: #0087ff\">                             </span>│<span style=\"color: #008000; text-decoration-color: #008000\">      NK       </span>│<span style=\"color: #af00d7; text-decoration-color: #af00d7\">         15          </span>│\n",
       "│<span style=\"color: #0087ff; text-decoration-color: #0087ff\">                             </span>│<span style=\"color: #008000; text-decoration-color: #008000\">    Plasma     </span>│<span style=\"color: #af00d7; text-decoration-color: #af00d7\">         16          </span>│\n",
       "│<span style=\"color: #0087ff; text-decoration-color: #0087ff\">                             </span>│<span style=\"color: #008000; text-decoration-color: #008000\">  Stromal_c1   </span>│<span style=\"color: #af00d7; text-decoration-color: #af00d7\">         17          </span>│\n",
       "│<span style=\"color: #0087ff; text-decoration-color: #0087ff\">                             </span>│<span style=\"color: #008000; text-decoration-color: #008000\">  Stromal_c2   </span>│<span style=\"color: #af00d7; text-decoration-color: #af00d7\">         18          </span>│\n",
       "│<span style=\"color: #0087ff; text-decoration-color: #0087ff\">                             </span>│<span style=\"color: #008000; text-decoration-color: #008000\">      pDC      </span>│<span style=\"color: #af00d7; text-decoration-color: #af00d7\">         19          </span>│\n",
       "└─────────────────────────────┴───────────────┴─────────────────────┘\n",
       "</pre>\n"
      ],
      "text/plain": [
       "\u001b[3m                        labels State Registry                        \u001b[0m\n",
       "┏━━━━━━━━━━━━━━━━━━━━━━━━━━━━━┳━━━━━━━━━━━━━━━┳━━━━━━━━━━━━━━━━━━━━━┓\n",
       "┃\u001b[1m \u001b[0m\u001b[1m      Source Location      \u001b[0m\u001b[1m \u001b[0m┃\u001b[1m \u001b[0m\u001b[1m Categories  \u001b[0m\u001b[1m \u001b[0m┃\u001b[1m \u001b[0m\u001b[1mscvi-tools Encoding\u001b[0m\u001b[1m \u001b[0m┃\n",
       "┡━━━━━━━━━━━━━━━━━━━━━━━━━━━━━╇━━━━━━━━━━━━━━━╇━━━━━━━━━━━━━━━━━━━━━┩\n",
       "│\u001b[38;5;33m \u001b[0m\u001b[38;5;33madata.obs['high_res_ident']\u001b[0m\u001b[38;5;33m \u001b[0m│\u001b[32m \u001b[0m\u001b[32m    B_GC     \u001b[0m\u001b[32m \u001b[0m│\u001b[38;5;128m \u001b[0m\u001b[38;5;128m         0         \u001b[0m\u001b[38;5;128m \u001b[0m│\n",
       "│\u001b[38;5;33m \u001b[0m\u001b[38;5;33m                           \u001b[0m\u001b[38;5;33m \u001b[0m│\u001b[32m \u001b[0m\u001b[32mB_memory_like\u001b[0m\u001b[32m \u001b[0m│\u001b[38;5;128m \u001b[0m\u001b[38;5;128m         1         \u001b[0m\u001b[38;5;128m \u001b[0m│\n",
       "│\u001b[38;5;33m \u001b[0m\u001b[38;5;33m                           \u001b[0m\u001b[38;5;33m \u001b[0m│\u001b[32m \u001b[0m\u001b[32mB_naive_like \u001b[0m\u001b[32m \u001b[0m│\u001b[38;5;128m \u001b[0m\u001b[38;5;128m         2         \u001b[0m\u001b[38;5;128m \u001b[0m│\n",
       "│\u001b[38;5;33m \u001b[0m\u001b[38;5;33m                           \u001b[0m\u001b[38;5;33m \u001b[0m│\u001b[32m \u001b[0m\u001b[32m CD4_T_CCR7  \u001b[0m\u001b[32m \u001b[0m│\u001b[38;5;128m \u001b[0m\u001b[38;5;128m         3         \u001b[0m\u001b[38;5;128m \u001b[0m│\n",
       "│\u001b[38;5;33m \u001b[0m\u001b[38;5;33m                           \u001b[0m\u001b[38;5;33m \u001b[0m│\u001b[32m \u001b[0m\u001b[32m   CD4_Tfh   \u001b[0m\u001b[32m \u001b[0m│\u001b[38;5;128m \u001b[0m\u001b[38;5;128m         4         \u001b[0m\u001b[38;5;128m \u001b[0m│\n",
       "│\u001b[38;5;33m \u001b[0m\u001b[38;5;33m                           \u001b[0m\u001b[38;5;33m \u001b[0m│\u001b[32m \u001b[0m\u001b[32m  CD4_Treg   \u001b[0m\u001b[32m \u001b[0m│\u001b[38;5;128m \u001b[0m\u001b[38;5;128m         5         \u001b[0m\u001b[38;5;128m \u001b[0m│\n",
       "│\u001b[38;5;33m \u001b[0m\u001b[38;5;33m                           \u001b[0m\u001b[38;5;33m \u001b[0m│\u001b[32m \u001b[0m\u001b[32m   CD8_Tem   \u001b[0m\u001b[32m \u001b[0m│\u001b[38;5;128m \u001b[0m\u001b[38;5;128m         6         \u001b[0m\u001b[38;5;128m \u001b[0m│\n",
       "│\u001b[38;5;33m \u001b[0m\u001b[38;5;33m                           \u001b[0m\u001b[38;5;33m \u001b[0m│\u001b[32m \u001b[0m\u001b[32m   CD8_Tex   \u001b[0m\u001b[32m \u001b[0m│\u001b[38;5;128m \u001b[0m\u001b[38;5;128m         7         \u001b[0m\u001b[38;5;128m \u001b[0m│\n",
       "│\u001b[38;5;33m \u001b[0m\u001b[38;5;33m                           \u001b[0m\u001b[38;5;33m \u001b[0m│\u001b[32m \u001b[0m\u001b[32m   CD8_Trm   \u001b[0m\u001b[32m \u001b[0m│\u001b[38;5;128m \u001b[0m\u001b[38;5;128m         8         \u001b[0m\u001b[38;5;128m \u001b[0m│\n",
       "│\u001b[38;5;33m \u001b[0m\u001b[38;5;33m                           \u001b[0m\u001b[38;5;33m \u001b[0m│\u001b[32m \u001b[0m\u001b[32m     DC      \u001b[0m\u001b[32m \u001b[0m│\u001b[38;5;128m \u001b[0m\u001b[38;5;128m         9         \u001b[0m\u001b[38;5;128m \u001b[0m│\n",
       "│\u001b[38;5;33m \u001b[0m\u001b[38;5;33m                           \u001b[0m\u001b[38;5;33m \u001b[0m│\u001b[32m \u001b[0m\u001b[32mEpithelial_c1\u001b[0m\u001b[32m \u001b[0m│\u001b[38;5;128m \u001b[0m\u001b[38;5;128m        10         \u001b[0m\u001b[38;5;128m \u001b[0m│\n",
       "│\u001b[38;5;33m \u001b[0m\u001b[38;5;33m                           \u001b[0m\u001b[38;5;33m \u001b[0m│\u001b[32m \u001b[0m\u001b[32mEpithelial_c2\u001b[0m\u001b[32m \u001b[0m│\u001b[38;5;128m \u001b[0m\u001b[38;5;128m        11         \u001b[0m\u001b[38;5;128m \u001b[0m│\n",
       "│\u001b[38;5;33m \u001b[0m\u001b[38;5;33m                           \u001b[0m\u001b[38;5;33m \u001b[0m│\u001b[32m \u001b[0m\u001b[32m Macrophage  \u001b[0m\u001b[32m \u001b[0m│\u001b[38;5;128m \u001b[0m\u001b[38;5;128m        12         \u001b[0m\u001b[38;5;128m \u001b[0m│\n",
       "│\u001b[38;5;33m \u001b[0m\u001b[38;5;33m                           \u001b[0m\u001b[38;5;33m \u001b[0m│\u001b[32m \u001b[0m\u001b[32m    Mast     \u001b[0m\u001b[32m \u001b[0m│\u001b[38;5;128m \u001b[0m\u001b[38;5;128m        13         \u001b[0m\u001b[38;5;128m \u001b[0m│\n",
       "│\u001b[38;5;33m \u001b[0m\u001b[38;5;33m                           \u001b[0m\u001b[38;5;33m \u001b[0m│\u001b[32m \u001b[0m\u001b[32m  Monocyte   \u001b[0m\u001b[32m \u001b[0m│\u001b[38;5;128m \u001b[0m\u001b[38;5;128m        14         \u001b[0m\u001b[38;5;128m \u001b[0m│\n",
       "│\u001b[38;5;33m \u001b[0m\u001b[38;5;33m                           \u001b[0m\u001b[38;5;33m \u001b[0m│\u001b[32m \u001b[0m\u001b[32m     NK      \u001b[0m\u001b[32m \u001b[0m│\u001b[38;5;128m \u001b[0m\u001b[38;5;128m        15         \u001b[0m\u001b[38;5;128m \u001b[0m│\n",
       "│\u001b[38;5;33m \u001b[0m\u001b[38;5;33m                           \u001b[0m\u001b[38;5;33m \u001b[0m│\u001b[32m \u001b[0m\u001b[32m   Plasma    \u001b[0m\u001b[32m \u001b[0m│\u001b[38;5;128m \u001b[0m\u001b[38;5;128m        16         \u001b[0m\u001b[38;5;128m \u001b[0m│\n",
       "│\u001b[38;5;33m \u001b[0m\u001b[38;5;33m                           \u001b[0m\u001b[38;5;33m \u001b[0m│\u001b[32m \u001b[0m\u001b[32m Stromal_c1  \u001b[0m\u001b[32m \u001b[0m│\u001b[38;5;128m \u001b[0m\u001b[38;5;128m        17         \u001b[0m\u001b[38;5;128m \u001b[0m│\n",
       "│\u001b[38;5;33m \u001b[0m\u001b[38;5;33m                           \u001b[0m\u001b[38;5;33m \u001b[0m│\u001b[32m \u001b[0m\u001b[32m Stromal_c2  \u001b[0m\u001b[32m \u001b[0m│\u001b[38;5;128m \u001b[0m\u001b[38;5;128m        18         \u001b[0m\u001b[38;5;128m \u001b[0m│\n",
       "│\u001b[38;5;33m \u001b[0m\u001b[38;5;33m                           \u001b[0m\u001b[38;5;33m \u001b[0m│\u001b[32m \u001b[0m\u001b[32m     pDC     \u001b[0m\u001b[32m \u001b[0m│\u001b[38;5;128m \u001b[0m\u001b[38;5;128m        19         \u001b[0m\u001b[38;5;128m \u001b[0m│\n",
       "└─────────────────────────────┴───────────────┴─────────────────────┘\n"
      ]
     },
     "metadata": {},
     "output_type": "display_data"
    },
    {
     "data": {
      "text/html": [
       "<pre style=\"white-space:pre;overflow-x:auto;line-height:normal;font-family:Menlo,'DejaVu Sans Mono',consolas,'Courier New',monospace\"><span style=\"font-style: italic\">                   extra_categorical_covs State Registry                   </span>\n",
       "┏━━━━━━━━━━━━━━━━━━━━━━━━━┳━━━━━━━━━━━━━━━━━━━━━━━━━┳━━━━━━━━━━━━━━━━━━━━━┓\n",
       "┃<span style=\"font-weight: bold\">     Source Location     </span>┃<span style=\"font-weight: bold\">       Categories        </span>┃<span style=\"font-weight: bold\"> scvi-tools Encoding </span>┃\n",
       "┡━━━━━━━━━━━━━━━━━━━━━━━━━╇━━━━━━━━━━━━━━━━━━━━━━━━━╇━━━━━━━━━━━━━━━━━━━━━┩\n",
       "│<span style=\"color: #0087ff; text-decoration-color: #0087ff\"> adata.obs['orig.ident'] </span>│<span style=\"color: #008000; text-decoration-color: #008000\">     KRAS_Pt2_immune     </span>│<span style=\"color: #af00d7; text-decoration-color: #af00d7\">          0          </span>│\n",
       "│<span style=\"color: #0087ff; text-decoration-color: #0087ff\">                         </span>│<span style=\"color: #008000; text-decoration-color: #008000\">     KRAS_Pt7_immune     </span>│<span style=\"color: #af00d7; text-decoration-color: #af00d7\">          1          </span>│\n",
       "│<span style=\"color: #0087ff; text-decoration-color: #0087ff\">                         </span>│<span style=\"color: #008000; text-decoration-color: #008000\"> Pt2_Pt3_Pt6_CD45neg_add </span>│<span style=\"color: #af00d7; text-decoration-color: #af00d7\">          2          </span>│\n",
       "│<span style=\"color: #0087ff; text-decoration-color: #0087ff\">                         </span>│<span style=\"color: #008000; text-decoration-color: #008000\">     Pt2_Pt3_Pt6_add     </span>│<span style=\"color: #af00d7; text-decoration-color: #af00d7\">          3          </span>│\n",
       "│<span style=\"color: #0087ff; text-decoration-color: #0087ff\">                         </span>│<span style=\"color: #008000; text-decoration-color: #008000\">         Pt2_Pt6         </span>│<span style=\"color: #af00d7; text-decoration-color: #af00d7\">          4          </span>│\n",
       "│<span style=\"color: #0087ff; text-decoration-color: #0087ff\">                         </span>│<span style=\"color: #008000; text-decoration-color: #008000\">     Pt3_Pt7_CD45neg     </span>│<span style=\"color: #af00d7; text-decoration-color: #af00d7\">          5          </span>│\n",
       "│<span style=\"color: #0087ff; text-decoration-color: #0087ff\">                         </span>│<span style=\"color: #008000; text-decoration-color: #008000\">      WT_Pt3_immune      </span>│<span style=\"color: #af00d7; text-decoration-color: #af00d7\">          6          </span>│\n",
       "│<span style=\"color: #0087ff; text-decoration-color: #0087ff\">                         </span>│<span style=\"color: #008000; text-decoration-color: #008000\">                         </span>│<span style=\"color: #af00d7; text-decoration-color: #af00d7\">                     </span>│\n",
       "└─────────────────────────┴─────────────────────────┴─────────────────────┘\n",
       "</pre>\n"
      ],
      "text/plain": [
       "\u001b[3m                   extra_categorical_covs State Registry                   \u001b[0m\n",
       "┏━━━━━━━━━━━━━━━━━━━━━━━━━┳━━━━━━━━━━━━━━━━━━━━━━━━━┳━━━━━━━━━━━━━━━━━━━━━┓\n",
       "┃\u001b[1m \u001b[0m\u001b[1m    Source Location    \u001b[0m\u001b[1m \u001b[0m┃\u001b[1m \u001b[0m\u001b[1m      Categories       \u001b[0m\u001b[1m \u001b[0m┃\u001b[1m \u001b[0m\u001b[1mscvi-tools Encoding\u001b[0m\u001b[1m \u001b[0m┃\n",
       "┡━━━━━━━━━━━━━━━━━━━━━━━━━╇━━━━━━━━━━━━━━━━━━━━━━━━━╇━━━━━━━━━━━━━━━━━━━━━┩\n",
       "│\u001b[38;5;33m \u001b[0m\u001b[38;5;33madata.obs['orig.ident']\u001b[0m\u001b[38;5;33m \u001b[0m│\u001b[32m \u001b[0m\u001b[32m    KRAS_Pt2_immune    \u001b[0m\u001b[32m \u001b[0m│\u001b[38;5;128m \u001b[0m\u001b[38;5;128m         0         \u001b[0m\u001b[38;5;128m \u001b[0m│\n",
       "│\u001b[38;5;33m \u001b[0m\u001b[38;5;33m                       \u001b[0m\u001b[38;5;33m \u001b[0m│\u001b[32m \u001b[0m\u001b[32m    KRAS_Pt7_immune    \u001b[0m\u001b[32m \u001b[0m│\u001b[38;5;128m \u001b[0m\u001b[38;5;128m         1         \u001b[0m\u001b[38;5;128m \u001b[0m│\n",
       "│\u001b[38;5;33m \u001b[0m\u001b[38;5;33m                       \u001b[0m\u001b[38;5;33m \u001b[0m│\u001b[32m \u001b[0m\u001b[32mPt2_Pt3_Pt6_CD45neg_add\u001b[0m\u001b[32m \u001b[0m│\u001b[38;5;128m \u001b[0m\u001b[38;5;128m         2         \u001b[0m\u001b[38;5;128m \u001b[0m│\n",
       "│\u001b[38;5;33m \u001b[0m\u001b[38;5;33m                       \u001b[0m\u001b[38;5;33m \u001b[0m│\u001b[32m \u001b[0m\u001b[32m    Pt2_Pt3_Pt6_add    \u001b[0m\u001b[32m \u001b[0m│\u001b[38;5;128m \u001b[0m\u001b[38;5;128m         3         \u001b[0m\u001b[38;5;128m \u001b[0m│\n",
       "│\u001b[38;5;33m \u001b[0m\u001b[38;5;33m                       \u001b[0m\u001b[38;5;33m \u001b[0m│\u001b[32m \u001b[0m\u001b[32m        Pt2_Pt6        \u001b[0m\u001b[32m \u001b[0m│\u001b[38;5;128m \u001b[0m\u001b[38;5;128m         4         \u001b[0m\u001b[38;5;128m \u001b[0m│\n",
       "│\u001b[38;5;33m \u001b[0m\u001b[38;5;33m                       \u001b[0m\u001b[38;5;33m \u001b[0m│\u001b[32m \u001b[0m\u001b[32m    Pt3_Pt7_CD45neg    \u001b[0m\u001b[32m \u001b[0m│\u001b[38;5;128m \u001b[0m\u001b[38;5;128m         5         \u001b[0m\u001b[38;5;128m \u001b[0m│\n",
       "│\u001b[38;5;33m \u001b[0m\u001b[38;5;33m                       \u001b[0m\u001b[38;5;33m \u001b[0m│\u001b[32m \u001b[0m\u001b[32m     WT_Pt3_immune     \u001b[0m\u001b[32m \u001b[0m│\u001b[38;5;128m \u001b[0m\u001b[38;5;128m         6         \u001b[0m\u001b[38;5;128m \u001b[0m│\n",
       "│\u001b[38;5;33m \u001b[0m\u001b[38;5;33m                       \u001b[0m\u001b[38;5;33m \u001b[0m│\u001b[32m \u001b[0m\u001b[32m                       \u001b[0m\u001b[32m \u001b[0m│\u001b[38;5;128m \u001b[0m\u001b[38;5;128m                   \u001b[0m\u001b[38;5;128m \u001b[0m│\n",
       "└─────────────────────────┴─────────────────────────┴─────────────────────┘\n"
      ]
     },
     "metadata": {},
     "output_type": "display_data"
    },
    {
     "name": "stderr",
     "output_type": "stream",
     "text": [
      "GPU available: True, used: True\n",
      "TPU available: False, using: 0 TPU cores\n",
      "IPU available: False, using: 0 IPUs\n",
      "/data/xy/anaconda3/envs/cell2loc_env/lib/python3.9/site-packages/pytorch_lightning/trainer/configuration_validator.py:120: UserWarning: You passed in a `val_dataloader` but have no `validation_step`. Skipping val loop.\n",
      "LOCAL_RANK: 0 - CUDA_VISIBLE_DEVICES: [0]\n",
      "/data/xy/anaconda3/envs/cell2loc_env/lib/python3.9/site-packages/pytorch_lightning/trainer/data_loading.py:432: UserWarning: The number of training samples (6) is smaller than the logging interval Trainer(log_every_n_steps=10). Set a lower value for log_every_n_steps if you want to see logs for the training epoch.\n"
     ]
    },
    {
     "name": "stdout",
     "output_type": "stream",
     "text": [
      "Epoch 1000/1000: 100%|██████████| 1000/1000 [12:44<00:00,  1.31it/s, v_num=1, elbo_train=3.91e+7]\n",
      "Sampling local variables, batch:   0%|          | 0/6 [00:00<?, ?it/s]\n",
      "Sampling global variables, sample: 100%|██████████| 999/999 [00:13<00:00, 74.57it/s]\n"
     ]
    },
    {
     "data": {
      "image/png": "[encoded data removed]",
      "text/plain": [
       "<Figure size 432x288 with 1 Axes>"
      ]
     },
     "metadata": {
      "needs_background": "light"
     },
     "output_type": "display_data"
    }
   ],
   "source": [
    "adata_ref = sc.read_h5ad(f'{scpath}/sc.silico.h5ad')\n",
    "# preprocess the sc data\n",
    "adata_ref_lowres = C2L_Ref.Preprocess(adata_ref,output_path,'low_res_ident')\n",
    "adata_ref_medres = C2L_Ref.Preprocess(adata_ref,output_path,'med_res_ident')\n",
    "adata_ref_highres = C2L_Ref.Preprocess(adata_ref,output_path,'high_res_ident')"
   ]
  },
  {
   "cell_type": "code",
   "execution_count": 8,
   "id": "c5c31843",
   "metadata": {},
   "outputs": [
    {
     "name": "stdout",
     "output_type": "stream",
     "text": [
      "simu_TC_1.rds\n"
     ]
    },
    {
     "name": "stderr",
     "output_type": "stream",
     "text": [
      "GPU available: True, used: True\n",
      "TPU available: False, using: 0 TPU cores\n",
      "IPU available: False, using: 0 IPUs\n",
      "/data/xy/anaconda3/envs/cell2loc_env/lib/python3.9/site-packages/pytorch_lightning/trainer/configuration_validator.py:120: UserWarning: You passed in a `val_dataloader` but have no `validation_step`. Skipping val loop.\n",
      "LOCAL_RANK: 0 - CUDA_VISIBLE_DEVICES: [0]\n",
      "/data/xy/anaconda3/envs/cell2loc_env/lib/python3.9/site-packages/pytorch_lightning/trainer/data_loading.py:432: UserWarning: The number of training samples (1) is smaller than the logging interval Trainer(log_every_n_steps=10). Set a lower value for log_every_n_steps if you want to see logs for the training epoch.\n"
     ]
    },
    {
     "name": "stdout",
     "output_type": "stream",
     "text": [
      "Epoch 30000/30000: 100%|██████████| 30000/30000 [29:44<00:00, 16.81it/s, v_num=1, elbo_train=5.35e+5]\n",
      "Sampling local variables, batch: 100%|██████████| 1/1 [00:14<00:00, 14.30s/it]\n",
      "Sampling global variables, sample: 100%|██████████| 999/999 [00:19<00:00, 52.30it/s]\n"
     ]
    },
    {
     "name": "stderr",
     "output_type": "stream",
     "text": [
      "GPU available: True, used: True\n",
      "TPU available: False, using: 0 TPU cores\n",
      "IPU available: False, using: 0 IPUs\n",
      "/data/xy/anaconda3/envs/cell2loc_env/lib/python3.9/site-packages/pytorch_lightning/trainer/configuration_validator.py:120: UserWarning: You passed in a `val_dataloader` but have no `validation_step`. Skipping val loop.\n",
      "LOCAL_RANK: 0 - CUDA_VISIBLE_DEVICES: [0]\n",
      "/data/xy/anaconda3/envs/cell2loc_env/lib/python3.9/site-packages/pytorch_lightning/trainer/data_loading.py:432: UserWarning: The number of training samples (1) is smaller than the logging interval Trainer(log_every_n_steps=10). Set a lower value for log_every_n_steps if you want to see logs for the training epoch.\n"
     ]
    },
    {
     "name": "stdout",
     "output_type": "stream",
     "text": [
      "Epoch 30000/30000: 100%|██████████| 30000/30000 [26:57<00:00, 18.55it/s, v_num=1, elbo_train=5.34e+5]\n",
      "Sampling local variables, batch: 100%|██████████| 1/1 [00:13<00:00, 13.68s/it]\n",
      "Sampling global variables, sample: 100%|██████████| 999/999 [00:13<00:00, 72.28it/s]\n"
     ]
    },
    {
     "name": "stderr",
     "output_type": "stream",
     "text": [
      "GPU available: True, used: True\n",
      "TPU available: False, using: 0 TPU cores\n",
      "IPU available: False, using: 0 IPUs\n",
      "/data/xy/anaconda3/envs/cell2loc_env/lib/python3.9/site-packages/pytorch_lightning/trainer/configuration_validator.py:120: UserWarning: You passed in a `val_dataloader` but have no `validation_step`. Skipping val loop.\n",
      "LOCAL_RANK: 0 - CUDA_VISIBLE_DEVICES: [0]\n",
      "/data/xy/anaconda3/envs/cell2loc_env/lib/python3.9/site-packages/pytorch_lightning/trainer/data_loading.py:432: UserWarning: The number of training samples (1) is smaller than the logging interval Trainer(log_every_n_steps=10). Set a lower value for log_every_n_steps if you want to see logs for the training epoch.\n"
     ]
    },
    {
     "name": "stdout",
     "output_type": "stream",
     "text": [
      "Epoch 30000/30000: 100%|██████████| 30000/30000 [25:39<00:00, 19.49it/s, v_num=1, elbo_train=5.32e+5]\n",
      "Sampling local variables, batch: 100%|██████████| 1/1 [00:13<00:00, 13.41s/it]\n",
      "Sampling global variables, sample: 100%|██████████| 999/999 [00:14<00:00, 70.60it/s]\n"
     ]
    },
    {
     "name": "stderr",
     "output_type": "stream",
     "text": [
      "GPU available: True, used: True\n",
      "TPU available: False, using: 0 TPU cores\n"
     ]
    },
    {
     "name": "stdout",
     "output_type": "stream",
     "text": [
      "simu_TC_2.rds\n"
     ]
    },
    {
     "name": "stderr",
     "output_type": "stream",
     "text": [
      "IPU available: False, using: 0 IPUs\n",
      "/data/xy/anaconda3/envs/cell2loc_env/lib/python3.9/site-packages/pytorch_lightning/trainer/configuration_validator.py:120: UserWarning: You passed in a `val_dataloader` but have no `validation_step`. Skipping val loop.\n",
      "LOCAL_RANK: 0 - CUDA_VISIBLE_DEVICES: [0]\n",
      "/data/xy/anaconda3/envs/cell2loc_env/lib/python3.9/site-packages/pytorch_lightning/trainer/data_loading.py:432: UserWarning: The number of training samples (1) is smaller than the logging interval Trainer(log_every_n_steps=10). Set a lower value for log_every_n_steps if you want to see logs for the training epoch.\n"
     ]
    },
    {
     "name": "stdout",
     "output_type": "stream",
     "text": [
      "Epoch 30000/30000: 100%|██████████| 30000/30000 [27:30<00:00, 18.17it/s, v_num=1, elbo_train=5.31e+5]\n",
      "Sampling local variables, batch: 100%|██████████| 1/1 [00:13<00:00, 13.64s/it]\n",
      "Sampling global variables, sample: 100%|██████████| 999/999 [00:13<00:00, 71.52it/s]\n"
     ]
    },
    {
     "name": "stderr",
     "output_type": "stream",
     "text": [
      "GPU available: True, used: True\n",
      "TPU available: False, using: 0 TPU cores\n",
      "IPU available: False, using: 0 IPUs\n",
      "/data/xy/anaconda3/envs/cell2loc_env/lib/python3.9/site-packages/pytorch_lightning/trainer/configuration_validator.py:120: UserWarning: You passed in a `val_dataloader` but have no `validation_step`. Skipping val loop.\n",
      "LOCAL_RANK: 0 - CUDA_VISIBLE_DEVICES: [0]\n",
      "/data/xy/anaconda3/envs/cell2loc_env/lib/python3.9/site-packages/pytorch_lightning/trainer/data_loading.py:432: UserWarning: The number of training samples (1) is smaller than the logging interval Trainer(log_every_n_steps=10). Set a lower value for log_every_n_steps if you want to see logs for the training epoch.\n"
     ]
    },
    {
     "name": "stdout",
     "output_type": "stream",
     "text": [
      "Epoch 30000/30000: 100%|██████████| 30000/30000 [28:29<00:00, 17.55it/s, v_num=1, elbo_train=5.31e+5]\n",
      "Sampling local variables, batch: 100%|██████████| 1/1 [00:21<00:00, 21.38s/it]\n",
      "Sampling global variables, sample: 100%|██████████| 999/999 [00:19<00:00, 50.58it/s]\n"
     ]
    },
    {
     "name": "stderr",
     "output_type": "stream",
     "text": [
      "GPU available: True, used: True\n",
      "TPU available: False, using: 0 TPU cores\n",
      "IPU available: False, using: 0 IPUs\n",
      "/data/xy/anaconda3/envs/cell2loc_env/lib/python3.9/site-packages/pytorch_lightning/trainer/configuration_validator.py:120: UserWarning: You passed in a `val_dataloader` but have no `validation_step`. Skipping val loop.\n",
      "LOCAL_RANK: 0 - CUDA_VISIBLE_DEVICES: [0]\n",
      "/data/xy/anaconda3/envs/cell2loc_env/lib/python3.9/site-packages/pytorch_lightning/trainer/data_loading.py:432: UserWarning: The number of training samples (1) is smaller than the logging interval Trainer(log_every_n_steps=10). Set a lower value for log_every_n_steps if you want to see logs for the training epoch.\n"
     ]
    },
    {
     "name": "stdout",
     "output_type": "stream",
     "text": [
      "Epoch 30000/30000: 100%|██████████| 30000/30000 [34:37<00:00, 14.44it/s, v_num=1, elbo_train=5.27e+5]\n",
      "Sampling local variables, batch: 100%|██████████| 1/1 [00:18<00:00, 18.93s/it]\n",
      "Sampling global variables, sample: 100%|██████████| 999/999 [00:15<00:00, 64.43it/s]\n"
     ]
    },
    {
     "name": "stderr",
     "output_type": "stream",
     "text": [
      "GPU available: True, used: True\n",
      "TPU available: False, using: 0 TPU cores\n",
      "IPU available: False, using: 0 IPUs\n",
      "/data/xy/anaconda3/envs/cell2loc_env/lib/python3.9/site-packages/pytorch_lightning/trainer/configuration_validator.py:120: UserWarning: You passed in a `val_dataloader` but have no `validation_step`. Skipping val loop.\n",
      "LOCAL_RANK: 0 - CUDA_VISIBLE_DEVICES: [0]\n"
     ]
    },
    {
     "name": "stdout",
     "output_type": "stream",
     "text": [
      "simu_TC_3.rds\n"
     ]
    },
    {
     "name": "stderr",
     "output_type": "stream",
     "text": [
      "/data/xy/anaconda3/envs/cell2loc_env/lib/python3.9/site-packages/pytorch_lightning/trainer/data_loading.py:432: UserWarning: The number of training samples (1) is smaller than the logging interval Trainer(log_every_n_steps=10). Set a lower value for log_every_n_steps if you want to see logs for the training epoch.\n"
     ]
    },
    {
     "name": "stdout",
     "output_type": "stream",
     "text": [
      "Epoch 30000/30000: 100%|██████████| 30000/30000 [32:04<00:00, 15.59it/s, v_num=1, elbo_train=5.24e+5]\n",
      "Sampling local variables, batch: 100%|██████████| 1/1 [00:14<00:00, 14.23s/it]\n",
      "Sampling global variables, sample: 100%|██████████| 999/999 [00:14<00:00, 69.28it/s]\n"
     ]
    },
    {
     "name": "stderr",
     "output_type": "stream",
     "text": [
      "GPU available: True, used: True\n",
      "TPU available: False, using: 0 TPU cores\n",
      "IPU available: False, using: 0 IPUs\n",
      "/data/xy/anaconda3/envs/cell2loc_env/lib/python3.9/site-packages/pytorch_lightning/trainer/configuration_validator.py:120: UserWarning: You passed in a `val_dataloader` but have no `validation_step`. Skipping val loop.\n",
      "LOCAL_RANK: 0 - CUDA_VISIBLE_DEVICES: [0]\n",
      "/data/xy/anaconda3/envs/cell2loc_env/lib/python3.9/site-packages/pytorch_lightning/trainer/data_loading.py:432: UserWarning: The number of training samples (1) is smaller than the logging interval Trainer(log_every_n_steps=10). Set a lower value for log_every_n_steps if you want to see logs for the training epoch.\n"
     ]
    },
    {
     "name": "stdout",
     "output_type": "stream",
     "text": [
      "Epoch 30000/30000: 100%|██████████| 30000/30000 [28:40<00:00, 17.44it/s, v_num=1, elbo_train=5.24e+5]\n",
      "Sampling local variables, batch: 100%|██████████| 1/1 [00:13<00:00, 13.41s/it]\n",
      "Sampling global variables, sample: 100%|██████████| 999/999 [00:14<00:00, 70.59it/s]\n"
     ]
    },
    {
     "name": "stderr",
     "output_type": "stream",
     "text": [
      "GPU available: True, used: True\n",
      "TPU available: False, using: 0 TPU cores\n",
      "IPU available: False, using: 0 IPUs\n",
      "/data/xy/anaconda3/envs/cell2loc_env/lib/python3.9/site-packages/pytorch_lightning/trainer/configuration_validator.py:120: UserWarning: You passed in a `val_dataloader` but have no `validation_step`. Skipping val loop.\n",
      "LOCAL_RANK: 0 - CUDA_VISIBLE_DEVICES: [0]\n",
      "/data/xy/anaconda3/envs/cell2loc_env/lib/python3.9/site-packages/pytorch_lightning/trainer/data_loading.py:432: UserWarning: The number of training samples (1) is smaller than the logging interval Trainer(log_every_n_steps=10). Set a lower value for log_every_n_steps if you want to see logs for the training epoch.\n"
     ]
    },
    {
     "name": "stdout",
     "output_type": "stream",
     "text": [
      "Epoch 30000/30000: 100%|██████████| 30000/30000 [27:13<00:00, 18.37it/s, v_num=1, elbo_train=5.21e+5]\n",
      "Sampling local variables, batch: 100%|██████████| 1/1 [00:13<00:00, 13.39s/it]\n",
      "Sampling global variables, sample: 100%|██████████| 999/999 [00:13<00:00, 72.64it/s]\n"
     ]
    },
    {
     "name": "stderr",
     "output_type": "stream",
     "text": [
      "GPU available: True, used: True\n",
      "TPU available: False, using: 0 TPU cores\n",
      "IPU available: False, using: 0 IPUs\n",
      "/data/xy/anaconda3/envs/cell2loc_env/lib/python3.9/site-packages/pytorch_lightning/trainer/configuration_validator.py:120: UserWarning: You passed in a `val_dataloader` but have no `validation_step`. Skipping val loop.\n",
      "LOCAL_RANK: 0 - CUDA_VISIBLE_DEVICES: [0]\n"
     ]
    },
    {
     "name": "stdout",
     "output_type": "stream",
     "text": [
      "simu_TC_4.rds\n"
     ]
    },
    {
     "name": "stderr",
     "output_type": "stream",
     "text": [
      "/data/xy/anaconda3/envs/cell2loc_env/lib/python3.9/site-packages/pytorch_lightning/trainer/data_loading.py:432: UserWarning: The number of training samples (1) is smaller than the logging interval Trainer(log_every_n_steps=10). Set a lower value for log_every_n_steps if you want to see logs for the training epoch.\n"
     ]
    },
    {
     "name": "stdout",
     "output_type": "stream",
     "text": [
      "Epoch 30000/30000: 100%|██████████| 30000/30000 [26:21<00:00, 18.97it/s, v_num=1, elbo_train=5.29e+5]\n",
      "Sampling local variables, batch: 100%|██████████| 1/1 [00:13<00:00, 13.52s/it]\n",
      "Sampling global variables, sample: 100%|██████████| 999/999 [00:13<00:00, 71.95it/s]\n"
     ]
    },
    {
     "name": "stderr",
     "output_type": "stream",
     "text": [
      "GPU available: True, used: True\n",
      "TPU available: False, using: 0 TPU cores\n",
      "IPU available: False, using: 0 IPUs\n",
      "/data/xy/anaconda3/envs/cell2loc_env/lib/python3.9/site-packages/pytorch_lightning/trainer/configuration_validator.py:120: UserWarning: You passed in a `val_dataloader` but have no `validation_step`. Skipping val loop.\n",
      "LOCAL_RANK: 0 - CUDA_VISIBLE_DEVICES: [0]\n",
      "/data/xy/anaconda3/envs/cell2loc_env/lib/python3.9/site-packages/pytorch_lightning/trainer/data_loading.py:432: UserWarning: The number of training samples (1) is smaller than the logging interval Trainer(log_every_n_steps=10). Set a lower value for log_every_n_steps if you want to see logs for the training epoch.\n"
     ]
    },
    {
     "name": "stdout",
     "output_type": "stream",
     "text": [
      "Epoch 30000/30000: 100%|██████████| 30000/30000 [25:39<00:00, 19.49it/s, v_num=1, elbo_train=5.28e+5]\n",
      "Sampling local variables, batch: 100%|██████████| 1/1 [00:13<00:00, 13.17s/it]\n",
      "Sampling global variables, sample: 100%|██████████| 999/999 [00:13<00:00, 72.01it/s]\n"
     ]
    },
    {
     "name": "stderr",
     "output_type": "stream",
     "text": [
      "GPU available: True, used: True\n",
      "TPU available: False, using: 0 TPU cores\n",
      "IPU available: False, using: 0 IPUs\n",
      "/data/xy/anaconda3/envs/cell2loc_env/lib/python3.9/site-packages/pytorch_lightning/trainer/configuration_validator.py:120: UserWarning: You passed in a `val_dataloader` but have no `validation_step`. Skipping val loop.\n",
      "LOCAL_RANK: 0 - CUDA_VISIBLE_DEVICES: [0]\n",
      "/data/xy/anaconda3/envs/cell2loc_env/lib/python3.9/site-packages/pytorch_lightning/trainer/data_loading.py:432: UserWarning: The number of training samples (1) is smaller than the logging interval Trainer(log_every_n_steps=10). Set a lower value for log_every_n_steps if you want to see logs for the training epoch.\n"
     ]
    },
    {
     "name": "stdout",
     "output_type": "stream",
     "text": [
      "Epoch 30000/30000: 100%|██████████| 30000/30000 [26:35<00:00, 18.80it/s, v_num=1, elbo_train=5.23e+5]\n",
      "Sampling local variables, batch: 100%|██████████| 1/1 [00:13<00:00, 13.40s/it]\n",
      "Sampling global variables, sample: 100%|██████████| 999/999 [00:13<00:00, 71.69it/s]\n"
     ]
    },
    {
     "name": "stderr",
     "output_type": "stream",
     "text": [
      "GPU available: True, used: True\n",
      "TPU available: False, using: 0 TPU cores\n",
      "IPU available: False, using: 0 IPUs\n",
      "/data/xy/anaconda3/envs/cell2loc_env/lib/python3.9/site-packages/pytorch_lightning/trainer/configuration_validator.py:120: UserWarning: You passed in a `val_dataloader` but have no `validation_step`. Skipping val loop.\n",
      "LOCAL_RANK: 0 - CUDA_VISIBLE_DEVICES: [0]\n",
      "/data/xy/anaconda3/envs/cell2loc_env/lib/python3.9/site-packages/pytorch_lightning/trainer/data_loading.py:432: UserWarning: The number of training samples (1) is smaller than the logging interval Trainer(log_every_n_steps=10). Set a lower value for log_every_n_steps if you want to see logs for the training epoch.\n"
     ]
    },
    {
     "name": "stdout",
     "output_type": "stream",
     "text": [
      "simu_TC_5.rds\n",
      "Epoch 30000/30000: 100%|██████████| 30000/30000 [26:07<00:00, 19.14it/s, v_num=1, elbo_train=5.4e+5] \n",
      "Sampling local variables, batch: 100%|██████████| 1/1 [00:13<00:00, 13.60s/it]\n",
      "Sampling global variables, sample: 100%|██████████| 999/999 [00:13<00:00, 72.92it/s]\n"
     ]
    },
    {
     "name": "stderr",
     "output_type": "stream",
     "text": [
      "GPU available: True, used: True\n",
      "TPU available: False, using: 0 TPU cores\n",
      "IPU available: False, using: 0 IPUs\n",
      "/data/xy/anaconda3/envs/cell2loc_env/lib/python3.9/site-packages/pytorch_lightning/trainer/configuration_validator.py:120: UserWarning: You passed in a `val_dataloader` but have no `validation_step`. Skipping val loop.\n",
      "LOCAL_RANK: 0 - CUDA_VISIBLE_DEVICES: [0]\n",
      "/data/xy/anaconda3/envs/cell2loc_env/lib/python3.9/site-packages/pytorch_lightning/trainer/data_loading.py:432: UserWarning: The number of training samples (1) is smaller than the logging interval Trainer(log_every_n_steps=10). Set a lower value for log_every_n_steps if you want to see logs for the training epoch.\n"
     ]
    },
    {
     "name": "stdout",
     "output_type": "stream",
     "text": [
      "Epoch 30000/30000: 100%|██████████| 30000/30000 [26:50<00:00, 18.63it/s, v_num=1, elbo_train=5.4e+5] \n",
      "Sampling local variables, batch: 100%|██████████| 1/1 [00:13<00:00, 13.08s/it]\n",
      "Sampling global variables, sample: 100%|██████████| 999/999 [00:13<00:00, 72.98it/s]\n"
     ]
    },
    {
     "name": "stderr",
     "output_type": "stream",
     "text": [
      "GPU available: True, used: True\n",
      "TPU available: False, using: 0 TPU cores\n",
      "IPU available: False, using: 0 IPUs\n",
      "/data/xy/anaconda3/envs/cell2loc_env/lib/python3.9/site-packages/pytorch_lightning/trainer/configuration_validator.py:120: UserWarning: You passed in a `val_dataloader` but have no `validation_step`. Skipping val loop.\n",
      "LOCAL_RANK: 0 - CUDA_VISIBLE_DEVICES: [0]\n",
      "/data/xy/anaconda3/envs/cell2loc_env/lib/python3.9/site-packages/pytorch_lightning/trainer/data_loading.py:432: UserWarning: The number of training samples (1) is smaller than the logging interval Trainer(log_every_n_steps=10). Set a lower value for log_every_n_steps if you want to see logs for the training epoch.\n"
     ]
    },
    {
     "name": "stdout",
     "output_type": "stream",
     "text": [
      "Epoch 30000/30000: 100%|██████████| 30000/30000 [25:46<00:00, 19.40it/s, v_num=1, elbo_train=5.35e+5]\n",
      "Sampling local variables, batch: 100%|██████████| 1/1 [00:13<00:00, 13.36s/it]\n",
      "Sampling global variables, sample: 100%|██████████| 999/999 [00:13<00:00, 72.84it/s]\n"
     ]
    },
    {
     "name": "stderr",
     "output_type": "stream",
     "text": [
      "GPU available: True, used: True\n",
      "TPU available: False, using: 0 TPU cores\n",
      "IPU available: False, using: 0 IPUs\n"
     ]
    },
    {
     "name": "stdout",
     "output_type": "stream",
     "text": [
      "simu_TM_1.rds\n"
     ]
    },
    {
     "name": "stderr",
     "output_type": "stream",
     "text": [
      "/data/xy/anaconda3/envs/cell2loc_env/lib/python3.9/site-packages/pytorch_lightning/trainer/configuration_validator.py:120: UserWarning: You passed in a `val_dataloader` but have no `validation_step`. Skipping val loop.\n",
      "LOCAL_RANK: 0 - CUDA_VISIBLE_DEVICES: [0]\n",
      "/data/xy/anaconda3/envs/cell2loc_env/lib/python3.9/site-packages/pytorch_lightning/trainer/data_loading.py:432: UserWarning: The number of training samples (1) is smaller than the logging interval Trainer(log_every_n_steps=10). Set a lower value for log_every_n_steps if you want to see logs for the training epoch.\n"
     ]
    },
    {
     "name": "stdout",
     "output_type": "stream",
     "text": [
      "Epoch 30000/30000: 100%|██████████| 30000/30000 [25:43<00:00, 19.44it/s, v_num=1, elbo_train=5.11e+5]\n",
      "Sampling local variables, batch: 100%|██████████| 1/1 [00:13<00:00, 13.35s/it]\n",
      "Sampling global variables, sample: 100%|██████████| 999/999 [00:13<00:00, 73.62it/s]\n"
     ]
    },
    {
     "name": "stderr",
     "output_type": "stream",
     "text": [
      "GPU available: True, used: True\n",
      "TPU available: False, using: 0 TPU cores\n",
      "IPU available: False, using: 0 IPUs\n",
      "/data/xy/anaconda3/envs/cell2loc_env/lib/python3.9/site-packages/pytorch_lightning/trainer/configuration_validator.py:120: UserWarning: You passed in a `val_dataloader` but have no `validation_step`. Skipping val loop.\n",
      "LOCAL_RANK: 0 - CUDA_VISIBLE_DEVICES: [0]\n",
      "/data/xy/anaconda3/envs/cell2loc_env/lib/python3.9/site-packages/pytorch_lightning/trainer/data_loading.py:432: UserWarning: The number of training samples (1) is smaller than the logging interval Trainer(log_every_n_steps=10). Set a lower value for log_every_n_steps if you want to see logs for the training epoch.\n"
     ]
    },
    {
     "name": "stdout",
     "output_type": "stream",
     "text": [
      "Epoch 30000/30000: 100%|██████████| 30000/30000 [25:43<00:00, 19.44it/s, v_num=1, elbo_train=5.11e+5]\n",
      "Sampling local variables, batch: 100%|██████████| 1/1 [00:13<00:00, 13.37s/it]\n",
      "Sampling global variables, sample: 100%|██████████| 999/999 [00:13<00:00, 71.48it/s]\n"
     ]
    },
    {
     "name": "stderr",
     "output_type": "stream",
     "text": [
      "GPU available: True, used: True\n",
      "TPU available: False, using: 0 TPU cores\n",
      "IPU available: False, using: 0 IPUs\n",
      "/data/xy/anaconda3/envs/cell2loc_env/lib/python3.9/site-packages/pytorch_lightning/trainer/configuration_validator.py:120: UserWarning: You passed in a `val_dataloader` but have no `validation_step`. Skipping val loop.\n",
      "LOCAL_RANK: 0 - CUDA_VISIBLE_DEVICES: [0]\n",
      "/data/xy/anaconda3/envs/cell2loc_env/lib/python3.9/site-packages/pytorch_lightning/trainer/data_loading.py:432: UserWarning: The number of training samples (1) is smaller than the logging interval Trainer(log_every_n_steps=10). Set a lower value for log_every_n_steps if you want to see logs for the training epoch.\n"
     ]
    },
    {
     "name": "stdout",
     "output_type": "stream",
     "text": [
      "Epoch 30000/30000: 100%|██████████| 30000/30000 [25:31<00:00, 19.58it/s, v_num=1, elbo_train=5.09e+5]\n",
      "Sampling local variables, batch: 100%|██████████| 1/1 [00:13<00:00, 13.32s/it]\n",
      "Sampling global variables, sample: 100%|██████████| 999/999 [00:13<00:00, 73.77it/s]\n"
     ]
    },
    {
     "name": "stderr",
     "output_type": "stream",
     "text": [
      "GPU available: True, used: True\n",
      "TPU available: False, using: 0 TPU cores\n",
      "IPU available: False, using: 0 IPUs\n",
      "/data/xy/anaconda3/envs/cell2loc_env/lib/python3.9/site-packages/pytorch_lightning/trainer/configuration_validator.py:120: UserWarning: You passed in a `val_dataloader` but have no `validation_step`. Skipping val loop.\n",
      "LOCAL_RANK: 0 - CUDA_VISIBLE_DEVICES: [0]\n",
      "/data/xy/anaconda3/envs/cell2loc_env/lib/python3.9/site-packages/pytorch_lightning/trainer/data_loading.py:432: UserWarning: The number of training samples (1) is smaller than the logging interval Trainer(log_every_n_steps=10). Set a lower value for log_every_n_steps if you want to see logs for the training epoch.\n"
     ]
    },
    {
     "name": "stdout",
     "output_type": "stream",
     "text": [
      "simu_TM_2.rds\n",
      "Epoch 30000/30000: 100%|██████████| 30000/30000 [25:36<00:00, 19.53it/s, v_num=1, elbo_train=5.04e+5]\n",
      "Sampling local variables, batch: 100%|██████████| 1/1 [00:13<00:00, 13.31s/it]\n",
      "Sampling global variables, sample: 100%|██████████| 999/999 [00:13<00:00, 71.53it/s]\n"
     ]
    },
    {
     "name": "stderr",
     "output_type": "stream",
     "text": [
      "GPU available: True, used: True\n",
      "TPU available: False, using: 0 TPU cores\n",
      "IPU available: False, using: 0 IPUs\n",
      "/data/xy/anaconda3/envs/cell2loc_env/lib/python3.9/site-packages/pytorch_lightning/trainer/configuration_validator.py:120: UserWarning: You passed in a `val_dataloader` but have no `validation_step`. Skipping val loop.\n",
      "LOCAL_RANK: 0 - CUDA_VISIBLE_DEVICES: [0]\n",
      "/data/xy/anaconda3/envs/cell2loc_env/lib/python3.9/site-packages/pytorch_lightning/trainer/data_loading.py:432: UserWarning: The number of training samples (1) is smaller than the logging interval Trainer(log_every_n_steps=10). Set a lower value for log_every_n_steps if you want to see logs for the training epoch.\n"
     ]
    },
    {
     "name": "stdout",
     "output_type": "stream",
     "text": [
      "Epoch 30000/30000: 100%|██████████| 30000/30000 [25:50<00:00, 19.35it/s, v_num=1, elbo_train=5.04e+5]\n",
      "Sampling local variables, batch: 100%|██████████| 1/1 [00:13<00:00, 13.52s/it]\n",
      "Sampling global variables, sample: 100%|██████████| 999/999 [00:13<00:00, 73.66it/s]\n"
     ]
    },
    {
     "name": "stderr",
     "output_type": "stream",
     "text": [
      "GPU available: True, used: True\n",
      "TPU available: False, using: 0 TPU cores\n",
      "IPU available: False, using: 0 IPUs\n",
      "/data/xy/anaconda3/envs/cell2loc_env/lib/python3.9/site-packages/pytorch_lightning/trainer/configuration_validator.py:120: UserWarning: You passed in a `val_dataloader` but have no `validation_step`. Skipping val loop.\n",
      "LOCAL_RANK: 0 - CUDA_VISIBLE_DEVICES: [0]\n",
      "/data/xy/anaconda3/envs/cell2loc_env/lib/python3.9/site-packages/pytorch_lightning/trainer/data_loading.py:432: UserWarning: The number of training samples (1) is smaller than the logging interval Trainer(log_every_n_steps=10). Set a lower value for log_every_n_steps if you want to see logs for the training epoch.\n"
     ]
    },
    {
     "name": "stdout",
     "output_type": "stream",
     "text": [
      "Epoch 30000/30000: 100%|██████████| 30000/30000 [27:11<00:00, 18.39it/s, v_num=1, elbo_train=5e+5]   \n",
      "Sampling local variables, batch: 100%|██████████| 1/1 [00:13<00:00, 13.59s/it]\n",
      "Sampling global variables, sample: 100%|██████████| 999/999 [00:13<00:00, 73.30it/s]\n"
     ]
    },
    {
     "name": "stderr",
     "output_type": "stream",
     "text": [
      "GPU available: True, used: True\n",
      "TPU available: False, using: 0 TPU cores\n",
      "IPU available: False, using: 0 IPUs\n",
      "/data/xy/anaconda3/envs/cell2loc_env/lib/python3.9/site-packages/pytorch_lightning/trainer/configuration_validator.py:120: UserWarning: You passed in a `val_dataloader` but have no `validation_step`. Skipping val loop.\n",
      "LOCAL_RANK: 0 - CUDA_VISIBLE_DEVICES: [0]\n"
     ]
    },
    {
     "name": "stdout",
     "output_type": "stream",
     "text": [
      "simu_TM_3.rds\n"
     ]
    },
    {
     "name": "stderr",
     "output_type": "stream",
     "text": [
      "/data/xy/anaconda3/envs/cell2loc_env/lib/python3.9/site-packages/pytorch_lightning/trainer/data_loading.py:432: UserWarning: The number of training samples (1) is smaller than the logging interval Trainer(log_every_n_steps=10). Set a lower value for log_every_n_steps if you want to see logs for the training epoch.\n"
     ]
    },
    {
     "name": "stdout",
     "output_type": "stream",
     "text": [
      "Epoch 30000/30000: 100%|██████████| 30000/30000 [25:49<00:00, 19.36it/s, v_num=1, elbo_train=5.3e+5] \n",
      "Sampling local variables, batch: 100%|██████████| 1/1 [00:13<00:00, 13.57s/it]\n",
      "Sampling global variables, sample: 100%|██████████| 999/999 [00:13<00:00, 73.04it/s]\n"
     ]
    },
    {
     "name": "stderr",
     "output_type": "stream",
     "text": [
      "GPU available: True, used: True\n",
      "TPU available: False, using: 0 TPU cores\n",
      "IPU available: False, using: 0 IPUs\n",
      "/data/xy/anaconda3/envs/cell2loc_env/lib/python3.9/site-packages/pytorch_lightning/trainer/configuration_validator.py:120: UserWarning: You passed in a `val_dataloader` but have no `validation_step`. Skipping val loop.\n",
      "LOCAL_RANK: 0 - CUDA_VISIBLE_DEVICES: [0]\n",
      "/data/xy/anaconda3/envs/cell2loc_env/lib/python3.9/site-packages/pytorch_lightning/trainer/data_loading.py:432: UserWarning: The number of training samples (1) is smaller than the logging interval Trainer(log_every_n_steps=10). Set a lower value for log_every_n_steps if you want to see logs for the training epoch.\n"
     ]
    },
    {
     "name": "stdout",
     "output_type": "stream",
     "text": [
      "Epoch 30000/30000: 100%|██████████| 30000/30000 [25:40<00:00, 19.48it/s, v_num=1, elbo_train=5.3e+5] \n"
     ]
    },
    {
     "name": "stderr",
     "output_type": "stream",
     "text": [
      "/data/xy/anaconda3/envs/cell2loc_env/lib/python3.9/site-packages/cell2location/models/base/_pyro_mixin.py:369: UserWarning: Tight layout not applied. The bottom and top margins cannot be made large enough to accommodate all axes decorations.\n"
     ]
    },
    {
     "name": "stdout",
     "output_type": "stream",
     "text": [
      "Sampling local variables, batch: 100%|██████████| 1/1 [00:13<00:00, 13.19s/it]\n",
      "Sampling global variables, sample: 100%|██████████| 999/999 [00:13<00:00, 72.08it/s]\n"
     ]
    },
    {
     "name": "stderr",
     "output_type": "stream",
     "text": [
      "GPU available: True, used: True\n",
      "TPU available: False, using: 0 TPU cores\n",
      "IPU available: False, using: 0 IPUs\n",
      "/data/xy/anaconda3/envs/cell2loc_env/lib/python3.9/site-packages/pytorch_lightning/trainer/configuration_validator.py:120: UserWarning: You passed in a `val_dataloader` but have no `validation_step`. Skipping val loop.\n",
      "LOCAL_RANK: 0 - CUDA_VISIBLE_DEVICES: [0]\n",
      "/data/xy/anaconda3/envs/cell2loc_env/lib/python3.9/site-packages/pytorch_lightning/trainer/data_loading.py:432: UserWarning: The number of training samples (1) is smaller than the logging interval Trainer(log_every_n_steps=10). Set a lower value for log_every_n_steps if you want to see logs for the training epoch.\n"
     ]
    },
    {
     "name": "stdout",
     "output_type": "stream",
     "text": [
      "Epoch 30000/30000: 100%|██████████| 30000/30000 [27:21<00:00, 18.27it/s, v_num=1, elbo_train=5.26e+5]\n"
     ]
    },
    {
     "name": "stderr",
     "output_type": "stream",
     "text": [
      "/data/xy/anaconda3/envs/cell2loc_env/lib/python3.9/site-packages/cell2location/models/base/_pyro_mixin.py:369: UserWarning: Tight layout not applied. The bottom and top margins cannot be made large enough to accommodate all axes decorations.\n"
     ]
    },
    {
     "name": "stdout",
     "output_type": "stream",
     "text": [
      "Sampling local variables, batch: 100%|██████████| 1/1 [00:14<00:00, 14.79s/it]\n",
      "Sampling global variables, sample: 100%|██████████| 999/999 [00:15<00:00, 66.08it/s]\n"
     ]
    },
    {
     "name": "stderr",
     "output_type": "stream",
     "text": [
      "GPU available: True, used: True\n",
      "TPU available: False, using: 0 TPU cores\n",
      "IPU available: False, using: 0 IPUs\n",
      "/data/xy/anaconda3/envs/cell2loc_env/lib/python3.9/site-packages/pytorch_lightning/trainer/configuration_validator.py:120: UserWarning: You passed in a `val_dataloader` but have no `validation_step`. Skipping val loop.\n",
      "LOCAL_RANK: 0 - CUDA_VISIBLE_DEVICES: [0]\n"
     ]
    },
    {
     "name": "stdout",
     "output_type": "stream",
     "text": [
      "simu_TM_4.rds\n"
     ]
    },
    {
     "name": "stderr",
     "output_type": "stream",
     "text": [
      "/data/xy/anaconda3/envs/cell2loc_env/lib/python3.9/site-packages/pytorch_lightning/trainer/data_loading.py:432: UserWarning: The number of training samples (1) is smaller than the logging interval Trainer(log_every_n_steps=10). Set a lower value for log_every_n_steps if you want to see logs for the training epoch.\n"
     ]
    },
    {
     "name": "stdout",
     "output_type": "stream",
     "text": [
      "Epoch 30000/30000: 100%|██████████| 30000/30000 [26:32<00:00, 18.83it/s, v_num=1, elbo_train=5.19e+5]\n"
     ]
    },
    {
     "name": "stderr",
     "output_type": "stream",
     "text": [
      "/data/xy/anaconda3/envs/cell2loc_env/lib/python3.9/site-packages/cell2location/models/base/_pyro_mixin.py:369: UserWarning: Tight layout not applied. The bottom and top margins cannot be made large enough to accommodate all axes decorations.\n"
     ]
    },
    {
     "name": "stdout",
     "output_type": "stream",
     "text": [
      "Sampling local variables, batch: 100%|██████████| 1/1 [00:13<00:00, 13.24s/it]\n",
      "Sampling global variables, sample: 100%|██████████| 999/999 [00:13<00:00, 72.04it/s]\n"
     ]
    },
    {
     "name": "stderr",
     "output_type": "stream",
     "text": [
      "GPU available: True, used: True\n",
      "TPU available: False, using: 0 TPU cores\n",
      "IPU available: False, using: 0 IPUs\n",
      "/data/xy/anaconda3/envs/cell2loc_env/lib/python3.9/site-packages/pytorch_lightning/trainer/configuration_validator.py:120: UserWarning: You passed in a `val_dataloader` but have no `validation_step`. Skipping val loop.\n",
      "LOCAL_RANK: 0 - CUDA_VISIBLE_DEVICES: [0]\n",
      "/data/xy/anaconda3/envs/cell2loc_env/lib/python3.9/site-packages/pytorch_lightning/trainer/data_loading.py:432: UserWarning: The number of training samples (1) is smaller than the logging interval Trainer(log_every_n_steps=10). Set a lower value for log_every_n_steps if you want to see logs for the training epoch.\n"
     ]
    },
    {
     "name": "stdout",
     "output_type": "stream",
     "text": [
      "Epoch 30000/30000: 100%|██████████| 30000/30000 [26:16<00:00, 19.03it/s, v_num=1, elbo_train=5.19e+5]\n"
     ]
    },
    {
     "name": "stderr",
     "output_type": "stream",
     "text": [
      "/data/xy/anaconda3/envs/cell2loc_env/lib/python3.9/site-packages/cell2location/models/base/_pyro_mixin.py:369: UserWarning: Tight layout not applied. The bottom and top margins cannot be made large enough to accommodate all axes decorations.\n"
     ]
    },
    {
     "name": "stdout",
     "output_type": "stream",
     "text": [
      "Sampling local variables, batch: 100%|██████████| 1/1 [00:13<00:00, 13.26s/it]\n",
      "Sampling global variables, sample: 100%|██████████| 999/999 [00:14<00:00, 70.88it/s]\n"
     ]
    },
    {
     "name": "stderr",
     "output_type": "stream",
     "text": [
      "GPU available: True, used: True\n",
      "TPU available: False, using: 0 TPU cores\n",
      "IPU available: False, using: 0 IPUs\n",
      "/data/xy/anaconda3/envs/cell2loc_env/lib/python3.9/site-packages/pytorch_lightning/trainer/configuration_validator.py:120: UserWarning: You passed in a `val_dataloader` but have no `validation_step`. Skipping val loop.\n",
      "LOCAL_RANK: 0 - CUDA_VISIBLE_DEVICES: [0]\n",
      "/data/xy/anaconda3/envs/cell2loc_env/lib/python3.9/site-packages/pytorch_lightning/trainer/data_loading.py:432: UserWarning: The number of training samples (1) is smaller than the logging interval Trainer(log_every_n_steps=10). Set a lower value for log_every_n_steps if you want to see logs for the training epoch.\n"
     ]
    },
    {
     "name": "stdout",
     "output_type": "stream",
     "text": [
      "Epoch 30000/30000: 100%|██████████| 30000/30000 [26:42<00:00, 18.72it/s, v_num=1, elbo_train=5.16e+5]\n"
     ]
    },
    {
     "name": "stderr",
     "output_type": "stream",
     "text": [
      "/data/xy/anaconda3/envs/cell2loc_env/lib/python3.9/site-packages/cell2location/models/base/_pyro_mixin.py:369: UserWarning: Tight layout not applied. The bottom and top margins cannot be made large enough to accommodate all axes decorations.\n"
     ]
    },
    {
     "name": "stdout",
     "output_type": "stream",
     "text": [
      "Sampling local variables, batch: 100%|██████████| 1/1 [00:22<00:00, 22.76s/it]\n",
      "Sampling global variables, sample: 100%|██████████| 999/999 [00:15<00:00, 63.97it/s]\n"
     ]
    },
    {
     "name": "stderr",
     "output_type": "stream",
     "text": [
      "GPU available: True, used: True\n",
      "TPU available: False, using: 0 TPU cores\n",
      "IPU available: False, using: 0 IPUs\n",
      "/data/xy/anaconda3/envs/cell2loc_env/lib/python3.9/site-packages/pytorch_lightning/trainer/configuration_validator.py:120: UserWarning: You passed in a `val_dataloader` but have no `validation_step`. Skipping val loop.\n",
      "LOCAL_RANK: 0 - CUDA_VISIBLE_DEVICES: [0]\n"
     ]
    },
    {
     "name": "stdout",
     "output_type": "stream",
     "text": [
      "simu_TM_5.rds\n"
     ]
    },
    {
     "name": "stderr",
     "output_type": "stream",
     "text": [
      "/data/xy/anaconda3/envs/cell2loc_env/lib/python3.9/site-packages/pytorch_lightning/trainer/data_loading.py:432: UserWarning: The number of training samples (1) is smaller than the logging interval Trainer(log_every_n_steps=10). Set a lower value for log_every_n_steps if you want to see logs for the training epoch.\n"
     ]
    },
    {
     "name": "stdout",
     "output_type": "stream",
     "text": [
      "Epoch 30000/30000: 100%|██████████| 30000/30000 [29:12<00:00, 17.12it/s, v_num=1, elbo_train=5.19e+5]\n"
     ]
    },
    {
     "name": "stderr",
     "output_type": "stream",
     "text": [
      "/data/xy/anaconda3/envs/cell2loc_env/lib/python3.9/site-packages/cell2location/models/base/_pyro_mixin.py:369: UserWarning: Tight layout not applied. The bottom and top margins cannot be made large enough to accommodate all axes decorations.\n"
     ]
    },
    {
     "name": "stdout",
     "output_type": "stream",
     "text": [
      "Sampling local variables, batch: 100%|██████████| 1/1 [00:19<00:00, 19.42s/it]\n",
      "Sampling global variables, sample: 100%|██████████| 999/999 [00:18<00:00, 52.77it/s]\n"
     ]
    },
    {
     "name": "stderr",
     "output_type": "stream",
     "text": [
      "GPU available: True, used: True\n",
      "TPU available: False, using: 0 TPU cores\n",
      "IPU available: False, using: 0 IPUs\n",
      "/data/xy/anaconda3/envs/cell2loc_env/lib/python3.9/site-packages/pytorch_lightning/trainer/configuration_validator.py:120: UserWarning: You passed in a `val_dataloader` but have no `validation_step`. Skipping val loop.\n",
      "LOCAL_RANK: 0 - CUDA_VISIBLE_DEVICES: [0]\n",
      "/data/xy/anaconda3/envs/cell2loc_env/lib/python3.9/site-packages/pytorch_lightning/trainer/data_loading.py:432: UserWarning: The number of training samples (1) is smaller than the logging interval Trainer(log_every_n_steps=10). Set a lower value for log_every_n_steps if you want to see logs for the training epoch.\n"
     ]
    },
    {
     "name": "stdout",
     "output_type": "stream",
     "text": [
      "Epoch 30000/30000: 100%|██████████| 30000/30000 [33:52<00:00, 14.76it/s, v_num=1, elbo_train=5.19e+5]\n"
     ]
    },
    {
     "name": "stderr",
     "output_type": "stream",
     "text": [
      "/data/xy/anaconda3/envs/cell2loc_env/lib/python3.9/site-packages/cell2location/models/base/_pyro_mixin.py:369: UserWarning: Tight layout not applied. The bottom and top margins cannot be made large enough to accommodate all axes decorations.\n"
     ]
    },
    {
     "name": "stdout",
     "output_type": "stream",
     "text": [
      "Sampling local variables, batch: 100%|██████████| 1/1 [00:18<00:00, 18.38s/it]\n",
      "Sampling global variables, sample: 100%|██████████| 999/999 [00:18<00:00, 52.74it/s]\n"
     ]
    },
    {
     "name": "stderr",
     "output_type": "stream",
     "text": [
      "GPU available: True, used: True\n",
      "TPU available: False, using: 0 TPU cores\n",
      "IPU available: False, using: 0 IPUs\n",
      "/data/xy/anaconda3/envs/cell2loc_env/lib/python3.9/site-packages/pytorch_lightning/trainer/configuration_validator.py:120: UserWarning: You passed in a `val_dataloader` but have no `validation_step`. Skipping val loop.\n",
      "LOCAL_RANK: 0 - CUDA_VISIBLE_DEVICES: [0]\n",
      "/data/xy/anaconda3/envs/cell2loc_env/lib/python3.9/site-packages/pytorch_lightning/trainer/data_loading.py:432: UserWarning: The number of training samples (1) is smaller than the logging interval Trainer(log_every_n_steps=10). Set a lower value for log_every_n_steps if you want to see logs for the training epoch.\n"
     ]
    },
    {
     "name": "stdout",
     "output_type": "stream",
     "text": [
      "Epoch 30000/30000: 100%|██████████| 30000/30000 [36:07<00:00, 13.84it/s, v_num=1, elbo_train=5.15e+5]\n"
     ]
    },
    {
     "name": "stderr",
     "output_type": "stream",
     "text": [
      "/data/xy/anaconda3/envs/cell2loc_env/lib/python3.9/site-packages/cell2location/models/base/_pyro_mixin.py:369: UserWarning: Tight layout not applied. The bottom and top margins cannot be made large enough to accommodate all axes decorations.\n"
     ]
    },
    {
     "name": "stdout",
     "output_type": "stream",
     "text": [
      "Sampling local variables, batch: 100%|██████████| 1/1 [00:17<00:00, 17.43s/it]\n",
      "Sampling global variables, sample: 100%|██████████| 999/999 [00:17<00:00, 56.75it/s]\n",
      "simu_TS_1.rds\n"
     ]
    },
    {
     "name": "stderr",
     "output_type": "stream",
     "text": [
      "GPU available: True, used: True\n",
      "TPU available: False, using: 0 TPU cores\n",
      "IPU available: False, using: 0 IPUs\n",
      "/data/xy/anaconda3/envs/cell2loc_env/lib/python3.9/site-packages/pytorch_lightning/trainer/configuration_validator.py:120: UserWarning: You passed in a `val_dataloader` but have no `validation_step`. Skipping val loop.\n",
      "LOCAL_RANK: 0 - CUDA_VISIBLE_DEVICES: [0]\n",
      "/data/xy/anaconda3/envs/cell2loc_env/lib/python3.9/site-packages/pytorch_lightning/trainer/data_loading.py:432: UserWarning: The number of training samples (1) is smaller than the logging interval Trainer(log_every_n_steps=10). Set a lower value for log_every_n_steps if you want to see logs for the training epoch.\n"
     ]
    },
    {
     "name": "stdout",
     "output_type": "stream",
     "text": [
      "Epoch 30000/30000: 100%|██████████| 30000/30000 [33:54<00:00, 14.75it/s, v_num=1, elbo_train=4.96e+5]\n"
     ]
    },
    {
     "name": "stderr",
     "output_type": "stream",
     "text": [
      "/data/xy/anaconda3/envs/cell2loc_env/lib/python3.9/site-packages/cell2location/models/base/_pyro_mixin.py:369: UserWarning: Tight layout not applied. The bottom and top margins cannot be made large enough to accommodate all axes decorations.\n"
     ]
    },
    {
     "name": "stdout",
     "output_type": "stream",
     "text": [
      "Sampling local variables, batch: 100%|██████████| 1/1 [00:15<00:00, 15.38s/it]\n",
      "Sampling global variables, sample: 100%|██████████| 999/999 [00:16<00:00, 61.52it/s]\n"
     ]
    },
    {
     "name": "stderr",
     "output_type": "stream",
     "text": [
      "GPU available: True, used: True\n",
      "TPU available: False, using: 0 TPU cores\n",
      "IPU available: False, using: 0 IPUs\n",
      "/data/xy/anaconda3/envs/cell2loc_env/lib/python3.9/site-packages/pytorch_lightning/trainer/configuration_validator.py:120: UserWarning: You passed in a `val_dataloader` but have no `validation_step`. Skipping val loop.\n",
      "LOCAL_RANK: 0 - CUDA_VISIBLE_DEVICES: [0]\n",
      "/data/xy/anaconda3/envs/cell2loc_env/lib/python3.9/site-packages/pytorch_lightning/trainer/data_loading.py:432: UserWarning: The number of training samples (1) is smaller than the logging interval Trainer(log_every_n_steps=10). Set a lower value for log_every_n_steps if you want to see logs for the training epoch.\n"
     ]
    },
    {
     "name": "stdout",
     "output_type": "stream",
     "text": [
      "Epoch 30000/30000: 100%|██████████| 30000/30000 [31:10<00:00, 16.04it/s, v_num=1, elbo_train=4.95e+5]\n"
     ]
    },
    {
     "name": "stderr",
     "output_type": "stream",
     "text": [
      "/data/xy/anaconda3/envs/cell2loc_env/lib/python3.9/site-packages/cell2location/models/base/_pyro_mixin.py:369: UserWarning: Tight layout not applied. The bottom and top margins cannot be made large enough to accommodate all axes decorations.\n"
     ]
    },
    {
     "name": "stdout",
     "output_type": "stream",
     "text": [
      "Sampling local variables, batch: 100%|██████████| 1/1 [00:14<00:00, 14.03s/it]\n",
      "Sampling global variables, sample: 100%|██████████| 999/999 [00:15<00:00, 64.08it/s]\n"
     ]
    },
    {
     "name": "stderr",
     "output_type": "stream",
     "text": [
      "GPU available: True, used: True\n",
      "TPU available: False, using: 0 TPU cores\n",
      "IPU available: False, using: 0 IPUs\n",
      "/data/xy/anaconda3/envs/cell2loc_env/lib/python3.9/site-packages/pytorch_lightning/trainer/configuration_validator.py:120: UserWarning: You passed in a `val_dataloader` but have no `validation_step`. Skipping val loop.\n",
      "LOCAL_RANK: 0 - CUDA_VISIBLE_DEVICES: [0]\n",
      "/data/xy/anaconda3/envs/cell2loc_env/lib/python3.9/site-packages/pytorch_lightning/trainer/data_loading.py:432: UserWarning: The number of training samples (1) is smaller than the logging interval Trainer(log_every_n_steps=10). Set a lower value for log_every_n_steps if you want to see logs for the training epoch.\n"
     ]
    },
    {
     "name": "stdout",
     "output_type": "stream",
     "text": [
      "Epoch 30000/30000: 100%|██████████| 30000/30000 [35:05<00:00, 14.25it/s, v_num=1, elbo_train=4.92e+5]\n"
     ]
    },
    {
     "name": "stderr",
     "output_type": "stream",
     "text": [
      "/data/xy/anaconda3/envs/cell2loc_env/lib/python3.9/site-packages/cell2location/models/base/_pyro_mixin.py:369: UserWarning: Tight layout not applied. The bottom and top margins cannot be made large enough to accommodate all axes decorations.\n"
     ]
    },
    {
     "name": "stdout",
     "output_type": "stream",
     "text": [
      "Sampling local variables, batch: 100%|██████████| 1/1 [00:15<00:00, 15.24s/it]\n",
      "Sampling global variables, sample: 100%|██████████| 999/999 [00:15<00:00, 65.54it/s]\n",
      "simu_TS_2.rds\n"
     ]
    },
    {
     "name": "stderr",
     "output_type": "stream",
     "text": [
      "GPU available: True, used: True\n",
      "TPU available: False, using: 0 TPU cores\n",
      "IPU available: False, using: 0 IPUs\n",
      "/data/xy/anaconda3/envs/cell2loc_env/lib/python3.9/site-packages/pytorch_lightning/trainer/configuration_validator.py:120: UserWarning: You passed in a `val_dataloader` but have no `validation_step`. Skipping val loop.\n",
      "LOCAL_RANK: 0 - CUDA_VISIBLE_DEVICES: [0]\n",
      "/data/xy/anaconda3/envs/cell2loc_env/lib/python3.9/site-packages/pytorch_lightning/trainer/data_loading.py:432: UserWarning: The number of training samples (1) is smaller than the logging interval Trainer(log_every_n_steps=10). Set a lower value for log_every_n_steps if you want to see logs for the training epoch.\n"
     ]
    },
    {
     "name": "stdout",
     "output_type": "stream",
     "text": [
      "Epoch 30000/30000: 100%|██████████| 30000/30000 [30:35<00:00, 16.35it/s, v_num=1, elbo_train=4.87e+5]\n"
     ]
    },
    {
     "name": "stderr",
     "output_type": "stream",
     "text": [
      "/data/xy/anaconda3/envs/cell2loc_env/lib/python3.9/site-packages/cell2location/models/base/_pyro_mixin.py:369: UserWarning: Tight layout not applied. The bottom and top margins cannot be made large enough to accommodate all axes decorations.\n"
     ]
    },
    {
     "name": "stdout",
     "output_type": "stream",
     "text": [
      "Sampling local variables, batch: 100%|██████████| 1/1 [00:14<00:00, 14.71s/it]\n",
      "Sampling global variables, sample: 100%|██████████| 999/999 [00:16<00:00, 60.88it/s]\n"
     ]
    },
    {
     "name": "stderr",
     "output_type": "stream",
     "text": [
      "GPU available: True, used: True\n",
      "TPU available: False, using: 0 TPU cores\n",
      "IPU available: False, using: 0 IPUs\n",
      "/data/xy/anaconda3/envs/cell2loc_env/lib/python3.9/site-packages/pytorch_lightning/trainer/configuration_validator.py:120: UserWarning: You passed in a `val_dataloader` but have no `validation_step`. Skipping val loop.\n",
      "LOCAL_RANK: 0 - CUDA_VISIBLE_DEVICES: [0]\n",
      "/data/xy/anaconda3/envs/cell2loc_env/lib/python3.9/site-packages/pytorch_lightning/trainer/data_loading.py:432: UserWarning: The number of training samples (1) is smaller than the logging interval Trainer(log_every_n_steps=10). Set a lower value for log_every_n_steps if you want to see logs for the training epoch.\n"
     ]
    },
    {
     "name": "stdout",
     "output_type": "stream",
     "text": [
      "Epoch 9791/30000:  33%|███▎      | 9790/30000 [09:50<22:38, 14.88it/s, v_num=1, elbo_train=4.87e+5]"
     ]
    },
    {
     "name": "stderr",
     "output_type": "stream",
     "text": [
      "IOPub message rate exceeded.\n",
      "The notebook server will temporarily stop sending output\n",
      "to the client in order to avoid crashing it.\n",
      "To change this limit, set the config variable\n",
      "`--NotebookApp.iopub_msg_rate_limit`.\n",
      "\n",
      "Current values:\n",
      "NotebookApp.iopub_msg_rate_limit=1000.0 (msgs/sec)\n",
      "NotebookApp.rate_limit_window=3.0 (secs)\n",
      "\n"
     ]
    },
    {
     "name": "stdout",
     "output_type": "stream",
     "text": [
      "Epoch 27894/30000:  93%|█████████▎| 27893/30000 [27:50<02:02, 17.16it/s, v_num=1, elbo_train=4.86e+5]"
     ]
    },
    {
     "name": "stderr",
     "output_type": "stream",
     "text": [
      "IOPub message rate exceeded.\n",
      "The notebook server will temporarily stop sending output\n",
      "to the client in order to avoid crashing it.\n",
      "To change this limit, set the config variable\n",
      "`--NotebookApp.iopub_msg_rate_limit`.\n",
      "\n",
      "Current values:\n",
      "NotebookApp.iopub_msg_rate_limit=1000.0 (msgs/sec)\n",
      "NotebookApp.rate_limit_window=3.0 (secs)\n",
      "\n"
     ]
    },
    {
     "name": "stdout",
     "output_type": "stream",
     "text": [
      "Epoch 1119/30000:   4%|▎         | 1119/30000 [01:08<27:41, 17.38it/s, v_num=1, elbo_train=5.13e+5]"
     ]
    },
    {
     "name": "stderr",
     "output_type": "stream",
     "text": [
      "IOPub message rate exceeded.\n",
      "The notebook server will temporarily stop sending output\n",
      "to the client in order to avoid crashing it.\n",
      "To change this limit, set the config variable\n",
      "`--NotebookApp.iopub_msg_rate_limit`.\n",
      "\n",
      "Current values:\n",
      "NotebookApp.iopub_msg_rate_limit=1000.0 (msgs/sec)\n",
      "NotebookApp.rate_limit_window=3.0 (secs)\n",
      "\n"
     ]
    },
    {
     "name": "stdout",
     "output_type": "stream",
     "text": [
      "Epoch 10458/30000:  35%|███▍      | 10457/30000 [10:36<16:56, 19.23it/s, v_num=1, elbo_train=4.84e+5]"
     ]
    },
    {
     "name": "stderr",
     "output_type": "stream",
     "text": [
      "IOPub message rate exceeded.\n",
      "The notebook server will temporarily stop sending output\n",
      "to the client in order to avoid crashing it.\n",
      "To change this limit, set the config variable\n",
      "`--NotebookApp.iopub_msg_rate_limit`.\n",
      "\n",
      "Current values:\n",
      "NotebookApp.iopub_msg_rate_limit=1000.0 (msgs/sec)\n",
      "NotebookApp.rate_limit_window=3.0 (secs)\n",
      "\n"
     ]
    },
    {
     "name": "stdout",
     "output_type": "stream",
     "text": [
      "Epoch 16904/30000:  56%|█████▋    | 16903/30000 [16:31<12:13, 17.85it/s, v_num=1, elbo_train=4.83e+5]"
     ]
    },
    {
     "name": "stderr",
     "output_type": "stream",
     "text": [
      "IOPub message rate exceeded.\n",
      "The notebook server will temporarily stop sending output\n",
      "to the client in order to avoid crashing it.\n",
      "To change this limit, set the config variable\n",
      "`--NotebookApp.iopub_msg_rate_limit`.\n",
      "\n",
      "Current values:\n",
      "NotebookApp.iopub_msg_rate_limit=1000.0 (msgs/sec)\n",
      "NotebookApp.rate_limit_window=3.0 (secs)\n",
      "\n"
     ]
    },
    {
     "name": "stdout",
     "output_type": "stream",
     "text": [
      "Epoch 22370/30000:  75%|███████▍  | 22370/30000 [21:51<06:48, 18.70it/s, v_num=1, elbo_train=4.83e+5]"
     ]
    },
    {
     "name": "stderr",
     "output_type": "stream",
     "text": [
      "IOPub message rate exceeded.\n",
      "The notebook server will temporarily stop sending output\n",
      "to the client in order to avoid crashing it.\n",
      "To change this limit, set the config variable\n",
      "`--NotebookApp.iopub_msg_rate_limit`.\n",
      "\n",
      "Current values:\n",
      "NotebookApp.iopub_msg_rate_limit=1000.0 (msgs/sec)\n",
      "NotebookApp.rate_limit_window=3.0 (secs)\n",
      "\n"
     ]
    },
    {
     "name": "stdout",
     "output_type": "stream",
     "text": [
      "Epoch 28077/30000:  94%|█████████▎| 28077/30000 [27:19<01:47, 17.84it/s, v_num=1, elbo_train=4.83e+5]"
     ]
    },
    {
     "name": "stderr",
     "output_type": "stream",
     "text": [
      "IOPub message rate exceeded.\n",
      "The notebook server will temporarily stop sending output\n",
      "to the client in order to avoid crashing it.\n",
      "To change this limit, set the config variable\n",
      "`--NotebookApp.iopub_msg_rate_limit`.\n",
      "\n",
      "Current values:\n",
      "NotebookApp.iopub_msg_rate_limit=1000.0 (msgs/sec)\n",
      "NotebookApp.rate_limit_window=3.0 (secs)\n",
      "\n"
     ]
    },
    {
     "name": "stdout",
     "output_type": "stream",
     "text": [
      "Sampling local variables, batch: 100%|██████████| 1/1 [00:13<00:00, 13.74s/it]=1, elbo_train=4.83e+5]\n",
      "Sampling global variables, sample: 100%|██████████| 999/999 [00:14<00:00, 69.52it/s]\n"
     ]
    },
    {
     "name": "stderr",
     "output_type": "stream",
     "text": [
      "GPU available: True, used: True\n",
      "TPU available: False, using: 0 TPU cores\n",
      "IPU available: False, using: 0 IPUs\n",
      "/data/xy/anaconda3/envs/cell2loc_env/lib/python3.9/site-packages/pytorch_lightning/trainer/configuration_validator.py:120: UserWarning: You passed in a `val_dataloader` but have no `validation_step`. Skipping val loop.\n",
      "LOCAL_RANK: 0 - CUDA_VISIBLE_DEVICES: [0]\n",
      "/data/xy/anaconda3/envs/cell2loc_env/lib/python3.9/site-packages/pytorch_lightning/trainer/data_loading.py:432: UserWarning: The number of training samples (1) is smaller than the logging interval Trainer(log_every_n_steps=10). Set a lower value for log_every_n_steps if you want to see logs for the training epoch.\n"
     ]
    },
    {
     "name": "stdout",
     "output_type": "stream",
     "text": [
      "simu_TS_3.rds\n",
      "Epoch 18871/30000:  63%|██████▎   | 18871/30000 [17:49<09:41, 19.15it/s, v_num=1, elbo_train=4.86e+5]"
     ]
    },
    {
     "name": "stderr",
     "output_type": "stream",
     "text": [
      "IOPub message rate exceeded.\n",
      "The notebook server will temporarily stop sending output\n",
      "to the client in order to avoid crashing it.\n",
      "To change this limit, set the config variable\n",
      "`--NotebookApp.iopub_msg_rate_limit`.\n",
      "\n",
      "Current values:\n",
      "NotebookApp.iopub_msg_rate_limit=1000.0 (msgs/sec)\n",
      "NotebookApp.rate_limit_window=3.0 (secs)\n",
      "\n"
     ]
    },
    {
     "name": "stdout",
     "output_type": "stream",
     "text": [
      "Epoch 24801/30000:  83%|████████▎ | 24800/30000 [23:14<04:49, 17.97it/s, v_num=1, elbo_train=4.86e+5]"
     ]
    },
    {
     "name": "stderr",
     "output_type": "stream",
     "text": [
      "IOPub message rate exceeded.\n",
      "The notebook server will temporarily stop sending output\n",
      "to the client in order to avoid crashing it.\n",
      "To change this limit, set the config variable\n",
      "`--NotebookApp.iopub_msg_rate_limit`.\n",
      "\n",
      "Current values:\n",
      "NotebookApp.iopub_msg_rate_limit=1000.0 (msgs/sec)\n",
      "NotebookApp.rate_limit_window=3.0 (secs)\n",
      "\n"
     ]
    },
    {
     "name": "stdout",
     "output_type": "stream",
     "text": [
      "Epoch 30000/30000: 100%|██████████| 30000/30000 [28:05<00:00, 17.80it/s, v_num=1, elbo_train=4.86e+5]\n"
     ]
    },
    {
     "name": "stderr",
     "output_type": "stream",
     "text": [
      "/data/xy/anaconda3/envs/cell2loc_env/lib/python3.9/site-packages/cell2location/models/base/_pyro_mixin.py:369: UserWarning: Tight layout not applied. The bottom and top margins cannot be made large enough to accommodate all axes decorations.\n"
     ]
    },
    {
     "name": "stdout",
     "output_type": "stream",
     "text": [
      "Sampling local variables, batch: 100%|██████████| 1/1 [00:13<00:00, 13.79s/it]\n",
      "Sampling global variables, sample: 100%|██████████| 999/999 [00:14<00:00, 70.97it/s]\n"
     ]
    },
    {
     "name": "stderr",
     "output_type": "stream",
     "text": [
      "GPU available: True, used: True\n",
      "TPU available: False, using: 0 TPU cores\n",
      "IPU available: False, using: 0 IPUs\n",
      "/data/xy/anaconda3/envs/cell2loc_env/lib/python3.9/site-packages/pytorch_lightning/trainer/configuration_validator.py:120: UserWarning: You passed in a `val_dataloader` but have no `validation_step`. Skipping val loop.\n",
      "LOCAL_RANK: 0 - CUDA_VISIBLE_DEVICES: [0]\n",
      "/data/xy/anaconda3/envs/cell2loc_env/lib/python3.9/site-packages/pytorch_lightning/trainer/data_loading.py:432: UserWarning: The number of training samples (1) is smaller than the logging interval Trainer(log_every_n_steps=10). Set a lower value for log_every_n_steps if you want to see logs for the training epoch.\n"
     ]
    },
    {
     "name": "stdout",
     "output_type": "stream",
     "text": [
      "Epoch 11055/30000:  37%|███▋      | 11054/30000 [10:28<25:31, 12.37it/s, v_num=1, elbo_train=4.86e+5]"
     ]
    },
    {
     "name": "stderr",
     "output_type": "stream",
     "text": [
      "IOPub message rate exceeded.\n",
      "The notebook server will temporarily stop sending output\n",
      "to the client in order to avoid crashing it.\n",
      "To change this limit, set the config variable\n",
      "`--NotebookApp.iopub_msg_rate_limit`.\n",
      "\n",
      "Current values:\n",
      "NotebookApp.iopub_msg_rate_limit=1000.0 (msgs/sec)\n",
      "NotebookApp.rate_limit_window=3.0 (secs)\n",
      "\n"
     ]
    },
    {
     "name": "stdout",
     "output_type": "stream",
     "text": [
      "Epoch 16715/30000:  56%|█████▌    | 16715/30000 [16:30<13:05, 16.91it/s, v_num=1, elbo_train=4.86e+5]"
     ]
    },
    {
     "name": "stderr",
     "output_type": "stream",
     "text": [
      "IOPub message rate exceeded.\n",
      "The notebook server will temporarily stop sending output\n",
      "to the client in order to avoid crashing it.\n",
      "To change this limit, set the config variable\n",
      "`--NotebookApp.iopub_msg_rate_limit`.\n",
      "\n",
      "Current values:\n",
      "NotebookApp.iopub_msg_rate_limit=1000.0 (msgs/sec)\n",
      "NotebookApp.rate_limit_window=3.0 (secs)\n",
      "\n"
     ]
    },
    {
     "name": "stdout",
     "output_type": "stream",
     "text": [
      "Epoch 30000/30000: 100%|██████████| 30000/30000 [30:48<00:00, 16.23it/s, v_num=1, elbo_train=4.86e+5]\n"
     ]
    },
    {
     "name": "stderr",
     "output_type": "stream",
     "text": [
      "/data/xy/anaconda3/envs/cell2loc_env/lib/python3.9/site-packages/cell2location/models/base/_pyro_mixin.py:369: UserWarning: Tight layout not applied. The bottom and top margins cannot be made large enough to accommodate all axes decorations.\n"
     ]
    },
    {
     "name": "stdout",
     "output_type": "stream",
     "text": [
      "Sampling local variables, batch: 100%|██████████| 1/1 [00:14<00:00, 14.48s/it]\n",
      "Sampling global variables, sample: 100%|██████████| 999/999 [00:15<00:00, 65.38it/s]\n"
     ]
    },
    {
     "name": "stderr",
     "output_type": "stream",
     "text": [
      "GPU available: True, used: True\n",
      "TPU available: False, using: 0 TPU cores\n",
      "IPU available: False, using: 0 IPUs\n",
      "/data/xy/anaconda3/envs/cell2loc_env/lib/python3.9/site-packages/pytorch_lightning/trainer/configuration_validator.py:120: UserWarning: You passed in a `val_dataloader` but have no `validation_step`. Skipping val loop.\n",
      "LOCAL_RANK: 0 - CUDA_VISIBLE_DEVICES: [0]\n",
      "/data/xy/anaconda3/envs/cell2loc_env/lib/python3.9/site-packages/pytorch_lightning/trainer/data_loading.py:432: UserWarning: The number of training samples (1) is smaller than the logging interval Trainer(log_every_n_steps=10). Set a lower value for log_every_n_steps if you want to see logs for the training epoch.\n"
     ]
    },
    {
     "name": "stdout",
     "output_type": "stream",
     "text": [
      "Epoch 3166/30000:  11%|█         | 3165/30000 [03:13<26:14, 17.05it/s, v_num=1, elbo_train=4.91e+5]"
     ]
    },
    {
     "name": "stderr",
     "output_type": "stream",
     "text": [
      "IOPub message rate exceeded.\n",
      "The notebook server will temporarily stop sending output\n",
      "to the client in order to avoid crashing it.\n",
      "To change this limit, set the config variable\n",
      "`--NotebookApp.iopub_msg_rate_limit`.\n",
      "\n",
      "Current values:\n",
      "NotebookApp.iopub_msg_rate_limit=1000.0 (msgs/sec)\n",
      "NotebookApp.rate_limit_window=3.0 (secs)\n",
      "\n"
     ]
    },
    {
     "name": "stdout",
     "output_type": "stream",
     "text": [
      "Epoch 7688/30000:  26%|██▌       | 7688/30000 [07:47<22:39, 16.41it/s, v_num=1, elbo_train=4.84e+5]"
     ]
    },
    {
     "name": "stderr",
     "output_type": "stream",
     "text": [
      "IOPub message rate exceeded.\n",
      "The notebook server will temporarily stop sending output\n",
      "to the client in order to avoid crashing it.\n",
      "To change this limit, set the config variable\n",
      "`--NotebookApp.iopub_msg_rate_limit`.\n",
      "\n",
      "Current values:\n",
      "NotebookApp.iopub_msg_rate_limit=1000.0 (msgs/sec)\n",
      "NotebookApp.rate_limit_window=3.0 (secs)\n",
      "\n"
     ]
    },
    {
     "name": "stdout",
     "output_type": "stream",
     "text": [
      "Epoch 8758/30000:  29%|██▉       | 8758/30000 [08:52<20:56, 16.91it/s, v_num=1, elbo_train=4.84e+5]"
     ]
    },
    {
     "name": "stderr",
     "output_type": "stream",
     "text": [
      "IOPub message rate exceeded.\n",
      "The notebook server will temporarily stop sending output\n",
      "to the client in order to avoid crashing it.\n",
      "To change this limit, set the config variable\n",
      "`--NotebookApp.iopub_msg_rate_limit`.\n",
      "\n",
      "Current values:\n",
      "NotebookApp.iopub_msg_rate_limit=1000.0 (msgs/sec)\n",
      "NotebookApp.rate_limit_window=3.0 (secs)\n",
      "\n"
     ]
    },
    {
     "name": "stdout",
     "output_type": "stream",
     "text": [
      "Epoch 20056/30000:  67%|██████▋   | 20055/30000 [20:07<10:20, 16.04it/s, v_num=1, elbo_train=4.84e+5]"
     ]
    },
    {
     "name": "stderr",
     "output_type": "stream",
     "text": [
      "IOPub message rate exceeded.\n",
      "The notebook server will temporarily stop sending output\n",
      "to the client in order to avoid crashing it.\n",
      "To change this limit, set the config variable\n",
      "`--NotebookApp.iopub_msg_rate_limit`.\n",
      "\n",
      "Current values:\n",
      "NotebookApp.iopub_msg_rate_limit=1000.0 (msgs/sec)\n",
      "NotebookApp.rate_limit_window=3.0 (secs)\n",
      "\n"
     ]
    },
    {
     "name": "stdout",
     "output_type": "stream",
     "text": [
      "Epoch 25503/30000:  85%|████████▌ | 25502/30000 [25:43<04:22, 17.14it/s, v_num=1, elbo_train=4.84e+5]"
     ]
    },
    {
     "name": "stderr",
     "output_type": "stream",
     "text": [
      "IOPub message rate exceeded.\n",
      "The notebook server will temporarily stop sending output\n",
      "to the client in order to avoid crashing it.\n",
      "To change this limit, set the config variable\n",
      "`--NotebookApp.iopub_msg_rate_limit`.\n",
      "\n",
      "Current values:\n",
      "NotebookApp.iopub_msg_rate_limit=1000.0 (msgs/sec)\n",
      "NotebookApp.rate_limit_window=3.0 (secs)\n",
      "\n"
     ]
    },
    {
     "name": "stdout",
     "output_type": "stream",
     "text": [
      "Epoch 30000/30000: 100%|██████████| 30000/30000 [30:15<00:00, 16.52it/s, v_num=1, elbo_train=4.83e+5]\n"
     ]
    },
    {
     "name": "stderr",
     "output_type": "stream",
     "text": [
      "/data/xy/anaconda3/envs/cell2loc_env/lib/python3.9/site-packages/cell2location/models/base/_pyro_mixin.py:369: UserWarning: Tight layout not applied. The bottom and top margins cannot be made large enough to accommodate all axes decorations.\n"
     ]
    },
    {
     "name": "stdout",
     "output_type": "stream",
     "text": [
      "Sampling local variables, batch: 100%|██████████| 1/1 [00:14<00:00, 14.54s/it]\n",
      "Sampling global variables, sample: 100%|██████████| 999/999 [00:15<00:00, 65.08it/s]\n",
      "simu_TS_4.rds\n"
     ]
    },
    {
     "name": "stderr",
     "output_type": "stream",
     "text": [
      "GPU available: True, used: True\n",
      "TPU available: False, using: 0 TPU cores\n",
      "IPU available: False, using: 0 IPUs\n",
      "/data/xy/anaconda3/envs/cell2loc_env/lib/python3.9/site-packages/pytorch_lightning/trainer/configuration_validator.py:120: UserWarning: You passed in a `val_dataloader` but have no `validation_step`. Skipping val loop.\n",
      "LOCAL_RANK: 0 - CUDA_VISIBLE_DEVICES: [0]\n",
      "/data/xy/anaconda3/envs/cell2loc_env/lib/python3.9/site-packages/pytorch_lightning/trainer/data_loading.py:432: UserWarning: The number of training samples (1) is smaller than the logging interval Trainer(log_every_n_steps=10). Set a lower value for log_every_n_steps if you want to see logs for the training epoch.\n"
     ]
    },
    {
     "name": "stdout",
     "output_type": "stream",
     "text": [
      "Epoch 4253/30000:  14%|█▍        | 4252/30000 [04:13<26:25, 16.24it/s, v_num=1, elbo_train=5.05e+5]"
     ]
    },
    {
     "name": "stderr",
     "output_type": "stream",
     "text": [
      "IOPub message rate exceeded.\n",
      "The notebook server will temporarily stop sending output\n",
      "to the client in order to avoid crashing it.\n",
      "To change this limit, set the config variable\n",
      "`--NotebookApp.iopub_msg_rate_limit`.\n",
      "\n",
      "Current values:\n",
      "NotebookApp.iopub_msg_rate_limit=1000.0 (msgs/sec)\n",
      "NotebookApp.rate_limit_window=3.0 (secs)\n",
      "\n"
     ]
    },
    {
     "name": "stdout",
     "output_type": "stream",
     "text": [
      "Epoch 9476/30000:  32%|███▏      | 9475/30000 [09:00<19:16, 17.74it/s, v_num=1, elbo_train=5.01e+5]"
     ]
    },
    {
     "name": "stderr",
     "output_type": "stream",
     "text": [
      "IOPub message rate exceeded.\n",
      "The notebook server will temporarily stop sending output\n",
      "to the client in order to avoid crashing it.\n",
      "To change this limit, set the config variable\n",
      "`--NotebookApp.iopub_msg_rate_limit`.\n",
      "\n",
      "Current values:\n",
      "NotebookApp.iopub_msg_rate_limit=1000.0 (msgs/sec)\n",
      "NotebookApp.rate_limit_window=3.0 (secs)\n",
      "\n"
     ]
    },
    {
     "name": "stdout",
     "output_type": "stream",
     "text": [
      "Epoch 15241/30000:  51%|█████     | 15240/30000 [14:33<15:02, 16.36it/s, v_num=1, elbo_train=5e+5]   "
     ]
    },
    {
     "name": "stderr",
     "output_type": "stream",
     "text": [
      "IOPub message rate exceeded.\n",
      "The notebook server will temporarily stop sending output\n",
      "to the client in order to avoid crashing it.\n",
      "To change this limit, set the config variable\n",
      "`--NotebookApp.iopub_msg_rate_limit`.\n",
      "\n",
      "Current values:\n",
      "NotebookApp.iopub_msg_rate_limit=1000.0 (msgs/sec)\n",
      "NotebookApp.rate_limit_window=3.0 (secs)\n",
      "\n"
     ]
    },
    {
     "name": "stdout",
     "output_type": "stream",
     "text": [
      "Epoch 22806/30000:  76%|███████▌  | 22805/30000 [21:45<06:24, 18.71it/s, v_num=1, elbo_train=5e+5]   "
     ]
    },
    {
     "name": "stderr",
     "output_type": "stream",
     "text": [
      "IOPub message rate exceeded.\n",
      "The notebook server will temporarily stop sending output\n",
      "to the client in order to avoid crashing it.\n",
      "To change this limit, set the config variable\n",
      "`--NotebookApp.iopub_msg_rate_limit`.\n",
      "\n",
      "Current values:\n",
      "NotebookApp.iopub_msg_rate_limit=1000.0 (msgs/sec)\n",
      "NotebookApp.rate_limit_window=3.0 (secs)\n",
      "\n"
     ]
    },
    {
     "name": "stdout",
     "output_type": "stream",
     "text": [
      "Epoch 27940/30000:  93%|█████████▎| 27940/30000 [26:30<01:55, 17.88it/s, v_num=1, elbo_train=5e+5]   "
     ]
    },
    {
     "name": "stderr",
     "output_type": "stream",
     "text": [
      "IOPub message rate exceeded.\n",
      "The notebook server will temporarily stop sending output\n",
      "to the client in order to avoid crashing it.\n",
      "To change this limit, set the config variable\n",
      "`--NotebookApp.iopub_msg_rate_limit`.\n",
      "\n",
      "Current values:\n",
      "NotebookApp.iopub_msg_rate_limit=1000.0 (msgs/sec)\n",
      "NotebookApp.rate_limit_window=3.0 (secs)\n",
      "\n"
     ]
    },
    {
     "name": "stdout",
     "output_type": "stream",
     "text": [
      "Epoch 30000/30000: 100%|██████████| 30000/30000 [28:22<00:00, 17.62it/s, v_num=1, elbo_train=5e+5]   \n"
     ]
    },
    {
     "name": "stderr",
     "output_type": "stream",
     "text": [
      "/data/xy/anaconda3/envs/cell2loc_env/lib/python3.9/site-packages/cell2location/models/base/_pyro_mixin.py:369: UserWarning: Tight layout not applied. The bottom and top margins cannot be made large enough to accommodate all axes decorations.\n"
     ]
    },
    {
     "name": "stdout",
     "output_type": "stream",
     "text": [
      "Sampling local variables, batch: 100%|██████████| 1/1 [00:13<00:00, 13.55s/it]\n",
      "Epoch 2563/30000:   9%|▊         | 2562/30000 [02:15<24:29, 18.67it/s, v_num=1, elbo_train=5.11e+5]"
     ]
    },
    {
     "name": "stderr",
     "output_type": "stream",
     "text": [
      "IOPub message rate exceeded.\n",
      "The notebook server will temporarily stop sending output\n",
      "to the client in order to avoid crashing it.\n",
      "To change this limit, set the config variable\n",
      "`--NotebookApp.iopub_msg_rate_limit`.\n",
      "\n",
      "Current values:\n",
      "NotebookApp.iopub_msg_rate_limit=1000.0 (msgs/sec)\n",
      "NotebookApp.rate_limit_window=3.0 (secs)\n",
      "\n"
     ]
    },
    {
     "name": "stdout",
     "output_type": "stream",
     "text": [
      "Epoch 10765/30000:  36%|███▌      | 10764/30000 [09:53<17:58, 17.84it/s, v_num=1, elbo_train=5e+5]   "
     ]
    },
    {
     "name": "stderr",
     "output_type": "stream",
     "text": [
      "IOPub message rate exceeded.\n",
      "The notebook server will temporarily stop sending output\n",
      "to the client in order to avoid crashing it.\n",
      "To change this limit, set the config variable\n",
      "`--NotebookApp.iopub_msg_rate_limit`.\n",
      "\n",
      "Current values:\n",
      "NotebookApp.iopub_msg_rate_limit=1000.0 (msgs/sec)\n",
      "NotebookApp.rate_limit_window=3.0 (secs)\n",
      "\n"
     ]
    },
    {
     "name": "stdout",
     "output_type": "stream",
     "text": [
      "Epoch 16558/30000:  55%|█████▌    | 16558/30000 [15:09<12:03, 18.58it/s, v_num=1, elbo_train=5e+5]"
     ]
    },
    {
     "name": "stderr",
     "output_type": "stream",
     "text": [
      "IOPub message rate exceeded.\n",
      "The notebook server will temporarily stop sending output\n",
      "to the client in order to avoid crashing it.\n",
      "To change this limit, set the config variable\n",
      "`--NotebookApp.iopub_msg_rate_limit`.\n",
      "\n",
      "Current values:\n",
      "NotebookApp.iopub_msg_rate_limit=1000.0 (msgs/sec)\n",
      "NotebookApp.rate_limit_window=3.0 (secs)\n",
      "\n"
     ]
    },
    {
     "name": "stdout",
     "output_type": "stream",
     "text": [
      "Epoch 22325/30000:  74%|███████▍  | 22325/30000 [20:29<07:05, 18.02it/s, v_num=1, elbo_train=5e+5]"
     ]
    },
    {
     "name": "stderr",
     "output_type": "stream",
     "text": [
      "IOPub message rate exceeded.\n",
      "The notebook server will temporarily stop sending output\n",
      "to the client in order to avoid crashing it.\n",
      "To change this limit, set the config variable\n",
      "`--NotebookApp.iopub_msg_rate_limit`.\n",
      "\n",
      "Current values:\n",
      "NotebookApp.iopub_msg_rate_limit=1000.0 (msgs/sec)\n",
      "NotebookApp.rate_limit_window=3.0 (secs)\n",
      "\n"
     ]
    },
    {
     "name": "stdout",
     "output_type": "stream",
     "text": [
      "Epoch 27299/30000:  91%|█████████ | 27298/30000 [25:14<02:27, 18.30it/s, v_num=1, elbo_train=5e+5]   "
     ]
    },
    {
     "name": "stderr",
     "output_type": "stream",
     "text": [
      "IOPub message rate exceeded.\n",
      "The notebook server will temporarily stop sending output\n",
      "to the client in order to avoid crashing it.\n",
      "To change this limit, set the config variable\n",
      "`--NotebookApp.iopub_msg_rate_limit`.\n",
      "\n",
      "Current values:\n",
      "NotebookApp.iopub_msg_rate_limit=1000.0 (msgs/sec)\n",
      "NotebookApp.rate_limit_window=3.0 (secs)\n",
      "\n"
     ]
    },
    {
     "name": "stdout",
     "output_type": "stream",
     "text": [
      "Epoch 28216/30000:  94%|█████████▍| 28216/30000 [26:07<01:42, 17.43it/s, v_num=1, elbo_train=5e+5]   "
     ]
    },
    {
     "name": "stderr",
     "output_type": "stream",
     "text": [
      "IOPub message rate exceeded.\n",
      "The notebook server will temporarily stop sending output\n",
      "to the client in order to avoid crashing it.\n",
      "To change this limit, set the config variable\n",
      "`--NotebookApp.iopub_msg_rate_limit`.\n",
      "\n",
      "Current values:\n",
      "NotebookApp.iopub_msg_rate_limit=1000.0 (msgs/sec)\n",
      "NotebookApp.rate_limit_window=3.0 (secs)\n",
      "\n"
     ]
    },
    {
     "name": "stdout",
     "output_type": "stream",
     "text": [
      "Epoch 3146/30000:  10%|█         | 3146/30000 [02:54<25:04, 17.85it/s, v_num=1, elbo_train=5.04e+5]"
     ]
    },
    {
     "name": "stderr",
     "output_type": "stream",
     "text": [
      "IOPub message rate exceeded.\n",
      "The notebook server will temporarily stop sending output\n",
      "to the client in order to avoid crashing it.\n",
      "To change this limit, set the config variable\n",
      "`--NotebookApp.iopub_msg_rate_limit`.\n",
      "\n",
      "Current values:\n",
      "NotebookApp.iopub_msg_rate_limit=1000.0 (msgs/sec)\n",
      "NotebookApp.rate_limit_window=3.0 (secs)\n",
      "\n"
     ]
    },
    {
     "name": "stdout",
     "output_type": "stream",
     "text": [
      "Epoch 4080/30000:  14%|█▎        | 4080/30000 [03:45<22:26, 19.25it/s, v_num=1, elbo_train=5.02e+5]"
     ]
    },
    {
     "name": "stderr",
     "output_type": "stream",
     "text": [
      "IOPub message rate exceeded.\n",
      "The notebook server will temporarily stop sending output\n",
      "to the client in order to avoid crashing it.\n",
      "To change this limit, set the config variable\n",
      "`--NotebookApp.iopub_msg_rate_limit`.\n",
      "\n",
      "Current values:\n",
      "NotebookApp.iopub_msg_rate_limit=1000.0 (msgs/sec)\n",
      "NotebookApp.rate_limit_window=3.0 (secs)\n",
      "\n"
     ]
    },
    {
     "name": "stdout",
     "output_type": "stream",
     "text": [
      "Epoch 8730/30000:  29%|██▉       | 8730/30000 [07:59<19:50, 17.87it/s, v_num=1, elbo_train=4.98e+5]"
     ]
    },
    {
     "name": "stderr",
     "output_type": "stream",
     "text": [
      "IOPub message rate exceeded.\n",
      "The notebook server will temporarily stop sending output\n",
      "to the client in order to avoid crashing it.\n",
      "To change this limit, set the config variable\n",
      "`--NotebookApp.iopub_msg_rate_limit`.\n",
      "\n",
      "Current values:\n",
      "NotebookApp.iopub_msg_rate_limit=1000.0 (msgs/sec)\n",
      "NotebookApp.rate_limit_window=3.0 (secs)\n",
      "\n"
     ]
    },
    {
     "name": "stdout",
     "output_type": "stream",
     "text": [
      "Epoch 9566/30000:  32%|███▏      | 9565/30000 [08:45<19:36, 17.37it/s, v_num=1, elbo_train=4.98e+5]"
     ]
    },
    {
     "name": "stderr",
     "output_type": "stream",
     "text": [
      "IOPub message rate exceeded.\n",
      "The notebook server will temporarily stop sending output\n",
      "to the client in order to avoid crashing it.\n",
      "To change this limit, set the config variable\n",
      "`--NotebookApp.iopub_msg_rate_limit`.\n",
      "\n",
      "Current values:\n",
      "NotebookApp.iopub_msg_rate_limit=1000.0 (msgs/sec)\n",
      "NotebookApp.rate_limit_window=3.0 (secs)\n",
      "\n"
     ]
    },
    {
     "name": "stdout",
     "output_type": "stream",
     "text": [
      "Epoch 14392/30000:  48%|████▊     | 14392/30000 [13:10<14:19, 18.16it/s, v_num=1, elbo_train=4.97e+5]"
     ]
    },
    {
     "name": "stderr",
     "output_type": "stream",
     "text": [
      "IOPub message rate exceeded.\n",
      "The notebook server will temporarily stop sending output\n",
      "to the client in order to avoid crashing it.\n",
      "To change this limit, set the config variable\n",
      "`--NotebookApp.iopub_msg_rate_limit`.\n",
      "\n",
      "Current values:\n",
      "NotebookApp.iopub_msg_rate_limit=1000.0 (msgs/sec)\n",
      "NotebookApp.rate_limit_window=3.0 (secs)\n",
      "\n"
     ]
    },
    {
     "name": "stdout",
     "output_type": "stream",
     "text": [
      "Epoch 15241/30000:  51%|█████     | 15241/30000 [13:56<13:25, 18.32it/s, v_num=1, elbo_train=4.97e+5]"
     ]
    },
    {
     "name": "stderr",
     "output_type": "stream",
     "text": [
      "IOPub message rate exceeded.\n",
      "The notebook server will temporarily stop sending output\n",
      "to the client in order to avoid crashing it.\n",
      "To change this limit, set the config variable\n",
      "`--NotebookApp.iopub_msg_rate_limit`.\n",
      "\n",
      "Current values:\n",
      "NotebookApp.iopub_msg_rate_limit=1000.0 (msgs/sec)\n",
      "NotebookApp.rate_limit_window=3.0 (secs)\n",
      "\n"
     ]
    },
    {
     "name": "stdout",
     "output_type": "stream",
     "text": [
      "Epoch 19639/30000:  65%|██████▌   | 19639/30000 [17:54<09:30, 18.15it/s, v_num=1, elbo_train=4.97e+5]"
     ]
    },
    {
     "name": "stderr",
     "output_type": "stream",
     "text": [
      "IOPub message rate exceeded.\n",
      "The notebook server will temporarily stop sending output\n",
      "to the client in order to avoid crashing it.\n",
      "To change this limit, set the config variable\n",
      "`--NotebookApp.iopub_msg_rate_limit`.\n",
      "\n",
      "Current values:\n",
      "NotebookApp.iopub_msg_rate_limit=1000.0 (msgs/sec)\n",
      "NotebookApp.rate_limit_window=3.0 (secs)\n",
      "\n"
     ]
    },
    {
     "name": "stdout",
     "output_type": "stream",
     "text": [
      "Epoch 20871/30000:  70%|██████▉   | 20871/30000 [19:01<08:05, 18.79it/s, v_num=1, elbo_train=4.97e+5]"
     ]
    },
    {
     "name": "stderr",
     "output_type": "stream",
     "text": [
      "IOPub message rate exceeded.\n",
      "The notebook server will temporarily stop sending output\n",
      "to the client in order to avoid crashing it.\n",
      "To change this limit, set the config variable\n",
      "`--NotebookApp.iopub_msg_rate_limit`.\n",
      "\n",
      "Current values:\n",
      "NotebookApp.iopub_msg_rate_limit=1000.0 (msgs/sec)\n",
      "NotebookApp.rate_limit_window=3.0 (secs)\n",
      "\n"
     ]
    },
    {
     "name": "stdout",
     "output_type": "stream",
     "text": [
      "Epoch 25233/30000:  84%|████████▍ | 25233/30000 [23:01<04:16, 18.61it/s, v_num=1, elbo_train=4.97e+5]"
     ]
    },
    {
     "name": "stderr",
     "output_type": "stream",
     "text": [
      "IOPub message rate exceeded.\n",
      "The notebook server will temporarily stop sending output\n",
      "to the client in order to avoid crashing it.\n",
      "To change this limit, set the config variable\n",
      "`--NotebookApp.iopub_msg_rate_limit`.\n",
      "\n",
      "Current values:\n",
      "NotebookApp.iopub_msg_rate_limit=1000.0 (msgs/sec)\n",
      "NotebookApp.rate_limit_window=3.0 (secs)\n",
      "\n"
     ]
    },
    {
     "name": "stdout",
     "output_type": "stream",
     "text": [
      "Epoch 26468/30000:  88%|████████▊ | 26468/30000 [24:09<03:07, 18.81it/s, v_num=1, elbo_train=4.97e+5]"
     ]
    },
    {
     "name": "stderr",
     "output_type": "stream",
     "text": [
      "IOPub message rate exceeded.\n",
      "The notebook server will temporarily stop sending output\n",
      "to the client in order to avoid crashing it.\n",
      "To change this limit, set the config variable\n",
      "`--NotebookApp.iopub_msg_rate_limit`.\n",
      "\n",
      "Current values:\n",
      "NotebookApp.iopub_msg_rate_limit=1000.0 (msgs/sec)\n",
      "NotebookApp.rate_limit_window=3.0 (secs)\n",
      "\n"
     ]
    },
    {
     "name": "stdout",
     "output_type": "stream",
     "text": [
      "Epoch 820/30000:   3%|▎         | 820/30000 [00:45<28:39, 16.97it/s, v_num=1, elbo_train=5.48e+5]"
     ]
    },
    {
     "name": "stderr",
     "output_type": "stream",
     "text": [
      "IOPub message rate exceeded.\n",
      "The notebook server will temporarily stop sending output\n",
      "to the client in order to avoid crashing it.\n",
      "To change this limit, set the config variable\n",
      "`--NotebookApp.iopub_msg_rate_limit`.\n",
      "\n",
      "Current values:\n",
      "NotebookApp.iopub_msg_rate_limit=1000.0 (msgs/sec)\n",
      "NotebookApp.rate_limit_window=3.0 (secs)\n",
      "\n"
     ]
    },
    {
     "name": "stdout",
     "output_type": "stream",
     "text": [
      "Epoch 2058/30000:   7%|▋         | 2058/30000 [01:57<27:16, 17.08it/s, v_num=1, elbo_train=5.18e+5]"
     ]
    },
    {
     "name": "stderr",
     "output_type": "stream",
     "text": [
      "IOPub message rate exceeded.\n",
      "The notebook server will temporarily stop sending output\n",
      "to the client in order to avoid crashing it.\n",
      "To change this limit, set the config variable\n",
      "`--NotebookApp.iopub_msg_rate_limit`.\n",
      "\n",
      "Current values:\n",
      "NotebookApp.iopub_msg_rate_limit=1000.0 (msgs/sec)\n",
      "NotebookApp.rate_limit_window=3.0 (secs)\n",
      "\n"
     ]
    },
    {
     "name": "stdout",
     "output_type": "stream",
     "text": [
      "Epoch 6489/30000:  22%|██▏       | 6489/30000 [06:09<22:57, 17.06it/s, v_num=1, elbo_train=5.06e+5]"
     ]
    },
    {
     "name": "stderr",
     "output_type": "stream",
     "text": [
      "IOPub message rate exceeded.\n",
      "The notebook server will temporarily stop sending output\n",
      "to the client in order to avoid crashing it.\n",
      "To change this limit, set the config variable\n",
      "`--NotebookApp.iopub_msg_rate_limit`.\n",
      "\n",
      "Current values:\n",
      "NotebookApp.iopub_msg_rate_limit=1000.0 (msgs/sec)\n",
      "NotebookApp.rate_limit_window=3.0 (secs)\n",
      "\n"
     ]
    },
    {
     "name": "stdout",
     "output_type": "stream",
     "text": [
      "Epoch 7732/30000:  26%|██▌       | 7731/30000 [07:20<19:17, 19.24it/s, v_num=1, elbo_train=5.05e+5]"
     ]
    },
    {
     "name": "stderr",
     "output_type": "stream",
     "text": [
      "IOPub message rate exceeded.\n",
      "The notebook server will temporarily stop sending output\n",
      "to the client in order to avoid crashing it.\n",
      "To change this limit, set the config variable\n",
      "`--NotebookApp.iopub_msg_rate_limit`.\n",
      "\n",
      "Current values:\n",
      "NotebookApp.iopub_msg_rate_limit=1000.0 (msgs/sec)\n",
      "NotebookApp.rate_limit_window=3.0 (secs)\n",
      "\n"
     ]
    },
    {
     "name": "stdout",
     "output_type": "stream",
     "text": [
      "Epoch 12113/30000:  40%|████      | 12113/30000 [11:08<15:15, 19.53it/s, v_num=1, elbo_train=5.05e+5]"
     ]
    },
    {
     "name": "stderr",
     "output_type": "stream",
     "text": [
      "IOPub message rate exceeded.\n",
      "The notebook server will temporarily stop sending output\n",
      "to the client in order to avoid crashing it.\n",
      "To change this limit, set the config variable\n",
      "`--NotebookApp.iopub_msg_rate_limit`.\n",
      "\n",
      "Current values:\n",
      "NotebookApp.iopub_msg_rate_limit=1000.0 (msgs/sec)\n",
      "NotebookApp.rate_limit_window=3.0 (secs)\n",
      "\n"
     ]
    },
    {
     "name": "stdout",
     "output_type": "stream",
     "text": [
      "Epoch 13365/30000:  45%|████▍     | 13364/30000 [12:15<14:02, 19.76it/s, v_num=1, elbo_train=5.05e+5]"
     ]
    },
    {
     "name": "stderr",
     "output_type": "stream",
     "text": [
      "IOPub message rate exceeded.\n",
      "The notebook server will temporarily stop sending output\n",
      "to the client in order to avoid crashing it.\n",
      "To change this limit, set the config variable\n",
      "`--NotebookApp.iopub_msg_rate_limit`.\n",
      "\n",
      "Current values:\n",
      "NotebookApp.iopub_msg_rate_limit=1000.0 (msgs/sec)\n",
      "NotebookApp.rate_limit_window=3.0 (secs)\n",
      "\n"
     ]
    },
    {
     "name": "stdout",
     "output_type": "stream",
     "text": [
      "Epoch 17269/30000:  58%|█████▊    | 17269/30000 [15:43<10:50, 19.56it/s, v_num=1, elbo_train=5.05e+5]"
     ]
    },
    {
     "name": "stderr",
     "output_type": "stream",
     "text": [
      "IOPub message rate exceeded.\n",
      "The notebook server will temporarily stop sending output\n",
      "to the client in order to avoid crashing it.\n",
      "To change this limit, set the config variable\n",
      "`--NotebookApp.iopub_msg_rate_limit`.\n",
      "\n",
      "Current values:\n",
      "NotebookApp.iopub_msg_rate_limit=1000.0 (msgs/sec)\n",
      "NotebookApp.rate_limit_window=3.0 (secs)\n",
      "\n"
     ]
    },
    {
     "name": "stdout",
     "output_type": "stream",
     "text": [
      "Epoch 18974/30000:  63%|██████▎   | 18973/30000 [17:13<09:36, 19.12it/s, v_num=1, elbo_train=5.05e+5]"
     ]
    },
    {
     "name": "stderr",
     "output_type": "stream",
     "text": [
      "IOPub message rate exceeded.\n",
      "The notebook server will temporarily stop sending output\n",
      "to the client in order to avoid crashing it.\n",
      "To change this limit, set the config variable\n",
      "`--NotebookApp.iopub_msg_rate_limit`.\n",
      "\n",
      "Current values:\n",
      "NotebookApp.iopub_msg_rate_limit=1000.0 (msgs/sec)\n",
      "NotebookApp.rate_limit_window=3.0 (secs)\n",
      "\n"
     ]
    },
    {
     "name": "stdout",
     "output_type": "stream",
     "text": [
      "Epoch 22922/30000:  76%|███████▋  | 22922/30000 [20:50<06:32, 18.03it/s, v_num=1, elbo_train=5.05e+5]"
     ]
    },
    {
     "name": "stderr",
     "output_type": "stream",
     "text": [
      "IOPub message rate exceeded.\n",
      "The notebook server will temporarily stop sending output\n",
      "to the client in order to avoid crashing it.\n",
      "To change this limit, set the config variable\n",
      "`--NotebookApp.iopub_msg_rate_limit`.\n",
      "\n",
      "Current values:\n",
      "NotebookApp.iopub_msg_rate_limit=1000.0 (msgs/sec)\n",
      "NotebookApp.rate_limit_window=3.0 (secs)\n",
      "\n"
     ]
    },
    {
     "name": "stdout",
     "output_type": "stream",
     "text": [
      "Epoch 24655/30000:  82%|████████▏ | 24655/30000 [22:23<04:58, 17.93it/s, v_num=1, elbo_train=5.05e+5]"
     ]
    },
    {
     "name": "stderr",
     "output_type": "stream",
     "text": [
      "IOPub message rate exceeded.\n",
      "The notebook server will temporarily stop sending output\n",
      "to the client in order to avoid crashing it.\n",
      "To change this limit, set the config variable\n",
      "`--NotebookApp.iopub_msg_rate_limit`.\n",
      "\n",
      "Current values:\n",
      "NotebookApp.iopub_msg_rate_limit=1000.0 (msgs/sec)\n",
      "NotebookApp.rate_limit_window=3.0 (secs)\n",
      "\n"
     ]
    },
    {
     "name": "stdout",
     "output_type": "stream",
     "text": [
      "Epoch 28557/30000:  95%|█████████▌| 28556/30000 [25:58<01:19, 18.10it/s, v_num=1, elbo_train=5.05e+5]"
     ]
    },
    {
     "name": "stderr",
     "output_type": "stream",
     "text": [
      "IOPub message rate exceeded.\n",
      "The notebook server will temporarily stop sending output\n",
      "to the client in order to avoid crashing it.\n",
      "To change this limit, set the config variable\n",
      "`--NotebookApp.iopub_msg_rate_limit`.\n",
      "\n",
      "Current values:\n",
      "NotebookApp.iopub_msg_rate_limit=1000.0 (msgs/sec)\n",
      "NotebookApp.rate_limit_window=3.0 (secs)\n",
      "\n"
     ]
    },
    {
     "name": "stdout",
     "output_type": "stream",
     "text": [
      "Epoch 30000/30000: 100%|██████████| 30000/30000 [27:18<00:00, 18.31it/s, v_num=1, elbo_train=5.05e+5]\n"
     ]
    },
    {
     "name": "stderr",
     "output_type": "stream",
     "text": [
      "/data/xy/anaconda3/envs/cell2loc_env/lib/python3.9/site-packages/cell2location/models/base/_pyro_mixin.py:369: UserWarning: Tight layout not applied. The bottom and top margins cannot be made large enough to accommodate all axes decorations.\n"
     ]
    },
    {
     "name": "stdout",
     "output_type": "stream",
     "text": [
      "Sampling local variables, batch: 100%|██████████| 1/1 [00:13<00:00, 13.74s/it]\n",
      "Sampling global variables, sample: 100%|██████████| 999/999 [00:14<00:00, 69.13it/s]\n"
     ]
    },
    {
     "name": "stderr",
     "output_type": "stream",
     "text": [
      "GPU available: True, used: True\n",
      "TPU available: False, using: 0 TPU cores\n",
      "IPU available: False, using: 0 IPUs\n",
      "/data/xy/anaconda3/envs/cell2loc_env/lib/python3.9/site-packages/pytorch_lightning/trainer/configuration_validator.py:120: UserWarning: You passed in a `val_dataloader` but have no `validation_step`. Skipping val loop.\n",
      "LOCAL_RANK: 0 - CUDA_VISIBLE_DEVICES: [0]\n",
      "/data/xy/anaconda3/envs/cell2loc_env/lib/python3.9/site-packages/pytorch_lightning/trainer/data_loading.py:432: UserWarning: The number of training samples (1) is smaller than the logging interval Trainer(log_every_n_steps=10). Set a lower value for log_every_n_steps if you want to see logs for the training epoch.\n"
     ]
    },
    {
     "name": "stdout",
     "output_type": "stream",
     "text": [
      "Epoch 214/30000:   1%|          | 214/30000 [00:11<25:56, 19.13it/s, v_num=1, elbo_train=6.23e+5]"
     ]
    },
    {
     "name": "stderr",
     "output_type": "stream",
     "text": [
      "IOPub message rate exceeded.\n",
      "The notebook server will temporarily stop sending output\n",
      "to the client in order to avoid crashing it.\n",
      "To change this limit, set the config variable\n",
      "`--NotebookApp.iopub_msg_rate_limit`.\n",
      "\n",
      "Current values:\n",
      "NotebookApp.iopub_msg_rate_limit=1000.0 (msgs/sec)\n",
      "NotebookApp.rate_limit_window=3.0 (secs)\n",
      "\n"
     ]
    },
    {
     "name": "stdout",
     "output_type": "stream",
     "text": [
      "Epoch 4118/30000:  14%|█▎        | 4118/30000 [03:41<24:17, 17.76it/s, v_num=1, elbo_train=5.09e+5]"
     ]
    },
    {
     "name": "stderr",
     "output_type": "stream",
     "text": [
      "IOPub message rate exceeded.\n",
      "The notebook server will temporarily stop sending output\n",
      "to the client in order to avoid crashing it.\n",
      "To change this limit, set the config variable\n",
      "`--NotebookApp.iopub_msg_rate_limit`.\n",
      "\n",
      "Current values:\n",
      "NotebookApp.iopub_msg_rate_limit=1000.0 (msgs/sec)\n",
      "NotebookApp.rate_limit_window=3.0 (secs)\n",
      "\n"
     ]
    },
    {
     "name": "stdout",
     "output_type": "stream",
     "text": [
      "Epoch 5825/30000:  19%|█▉        | 5825/30000 [05:13<21:35, 18.66it/s, v_num=1, elbo_train=5.06e+5]"
     ]
    },
    {
     "name": "stderr",
     "output_type": "stream",
     "text": [
      "IOPub message rate exceeded.\n",
      "The notebook server will temporarily stop sending output\n",
      "to the client in order to avoid crashing it.\n",
      "To change this limit, set the config variable\n",
      "`--NotebookApp.iopub_msg_rate_limit`.\n",
      "\n",
      "Current values:\n",
      "NotebookApp.iopub_msg_rate_limit=1000.0 (msgs/sec)\n",
      "NotebookApp.rate_limit_window=3.0 (secs)\n",
      "\n"
     ]
    },
    {
     "name": "stdout",
     "output_type": "stream",
     "text": [
      "Epoch 12543/30000:  42%|████▏     | 12542/30000 [11:13<14:41, 19.81it/s, v_num=1, elbo_train=5.04e+5]"
     ]
    },
    {
     "name": "stderr",
     "output_type": "stream",
     "text": [
      "IOPub message rate exceeded.\n",
      "The notebook server will temporarily stop sending output\n",
      "to the client in order to avoid crashing it.\n",
      "To change this limit, set the config variable\n",
      "`--NotebookApp.iopub_msg_rate_limit`.\n",
      "\n",
      "Current values:\n",
      "NotebookApp.iopub_msg_rate_limit=1000.0 (msgs/sec)\n",
      "NotebookApp.rate_limit_window=3.0 (secs)\n",
      "\n"
     ]
    },
    {
     "name": "stdout",
     "output_type": "stream",
     "text": [
      "Epoch 18237/30000:  61%|██████    | 18237/30000 [16:17<10:31, 18.63it/s, v_num=1, elbo_train=5.04e+5]"
     ]
    },
    {
     "name": "stderr",
     "output_type": "stream",
     "text": [
      "IOPub message rate exceeded.\n",
      "The notebook server will temporarily stop sending output\n",
      "to the client in order to avoid crashing it.\n",
      "To change this limit, set the config variable\n",
      "`--NotebookApp.iopub_msg_rate_limit`.\n",
      "\n",
      "Current values:\n",
      "NotebookApp.iopub_msg_rate_limit=1000.0 (msgs/sec)\n",
      "NotebookApp.rate_limit_window=3.0 (secs)\n",
      "\n"
     ]
    },
    {
     "name": "stdout",
     "output_type": "stream",
     "text": [
      "Epoch 23698/30000:  79%|███████▉  | 23697/30000 [21:10<05:27, 19.25it/s, v_num=1, elbo_train=5.04e+5]"
     ]
    },
    {
     "name": "stderr",
     "output_type": "stream",
     "text": [
      "IOPub message rate exceeded.\n",
      "The notebook server will temporarily stop sending output\n",
      "to the client in order to avoid crashing it.\n",
      "To change this limit, set the config variable\n",
      "`--NotebookApp.iopub_msg_rate_limit`.\n",
      "\n",
      "Current values:\n",
      "NotebookApp.iopub_msg_rate_limit=1000.0 (msgs/sec)\n",
      "NotebookApp.rate_limit_window=3.0 (secs)\n",
      "\n"
     ]
    },
    {
     "name": "stdout",
     "output_type": "stream",
     "text": [
      "Epoch 29458/30000:  98%|█████████▊| 29457/30000 [26:14<00:29, 18.54it/s, v_num=1, elbo_train=5.04e+5]"
     ]
    },
    {
     "name": "stderr",
     "output_type": "stream",
     "text": [
      "IOPub message rate exceeded.\n",
      "The notebook server will temporarily stop sending output\n",
      "to the client in order to avoid crashing it.\n",
      "To change this limit, set the config variable\n",
      "`--NotebookApp.iopub_msg_rate_limit`.\n",
      "\n",
      "Current values:\n",
      "NotebookApp.iopub_msg_rate_limit=1000.0 (msgs/sec)\n",
      "NotebookApp.rate_limit_window=3.0 (secs)\n",
      "\n"
     ]
    },
    {
     "name": "stdout",
     "output_type": "stream",
     "text": [
      "Epoch 4865/30000:  16%|█▌        | 4864/30000 [04:53<25:04, 16.71it/s, v_num=1, elbo_train=5.04e+5]"
     ]
    },
    {
     "name": "stderr",
     "output_type": "stream",
     "text": [
      "IOPub message rate exceeded.\n",
      "The notebook server will temporarily stop sending output\n",
      "to the client in order to avoid crashing it.\n",
      "To change this limit, set the config variable\n",
      "`--NotebookApp.iopub_msg_rate_limit`.\n",
      "\n",
      "Current values:\n",
      "NotebookApp.iopub_msg_rate_limit=1000.0 (msgs/sec)\n",
      "NotebookApp.rate_limit_window=3.0 (secs)\n",
      "\n"
     ]
    },
    {
     "name": "stdout",
     "output_type": "stream",
     "text": [
      "Epoch 10535/30000:  35%|███▌      | 10535/30000 [10:21<16:30, 19.65it/s, v_num=1, elbo_train=5.02e+5]"
     ]
    },
    {
     "name": "stderr",
     "output_type": "stream",
     "text": [
      "IOPub message rate exceeded.\n",
      "The notebook server will temporarily stop sending output\n",
      "to the client in order to avoid crashing it.\n",
      "To change this limit, set the config variable\n",
      "`--NotebookApp.iopub_msg_rate_limit`.\n",
      "\n",
      "Current values:\n",
      "NotebookApp.iopub_msg_rate_limit=1000.0 (msgs/sec)\n",
      "NotebookApp.rate_limit_window=3.0 (secs)\n",
      "\n"
     ]
    },
    {
     "name": "stdout",
     "output_type": "stream",
     "text": [
      "Epoch 15439/30000:  51%|█████▏    | 15439/30000 [14:38<12:24, 19.56it/s, v_num=1, elbo_train=5.01e+5]"
     ]
    },
    {
     "name": "stderr",
     "output_type": "stream",
     "text": [
      "IOPub message rate exceeded.\n",
      "The notebook server will temporarily stop sending output\n",
      "to the client in order to avoid crashing it.\n",
      "To change this limit, set the config variable\n",
      "`--NotebookApp.iopub_msg_rate_limit`.\n",
      "\n",
      "Current values:\n",
      "NotebookApp.iopub_msg_rate_limit=1000.0 (msgs/sec)\n",
      "NotebookApp.rate_limit_window=3.0 (secs)\n",
      "\n"
     ]
    },
    {
     "name": "stdout",
     "output_type": "stream",
     "text": [
      "Epoch 22083/30000:  74%|███████▎  | 22082/30000 [20:28<07:00, 18.85it/s, v_num=1, elbo_train=5.01e+5]"
     ]
    },
    {
     "name": "stderr",
     "output_type": "stream",
     "text": [
      "IOPub message rate exceeded.\n",
      "The notebook server will temporarily stop sending output\n",
      "to the client in order to avoid crashing it.\n",
      "To change this limit, set the config variable\n",
      "`--NotebookApp.iopub_msg_rate_limit`.\n",
      "\n",
      "Current values:\n",
      "NotebookApp.iopub_msg_rate_limit=1000.0 (msgs/sec)\n",
      "NotebookApp.rate_limit_window=3.0 (secs)\n",
      "\n"
     ]
    },
    {
     "name": "stdout",
     "output_type": "stream",
     "text": [
      "Epoch 29553/30000:  99%|█████████▊| 29552/30000 [26:59<00:23, 19.30it/s, v_num=1, elbo_train=5.01e+5]"
     ]
    },
    {
     "name": "stderr",
     "output_type": "stream",
     "text": [
      "IOPub message rate exceeded.\n",
      "The notebook server will temporarily stop sending output\n",
      "to the client in order to avoid crashing it.\n",
      "To change this limit, set the config variable\n",
      "`--NotebookApp.iopub_msg_rate_limit`.\n",
      "\n",
      "Current values:\n",
      "NotebookApp.iopub_msg_rate_limit=1000.0 (msgs/sec)\n",
      "NotebookApp.rate_limit_window=3.0 (secs)\n",
      "\n"
     ]
    }
   ],
   "source": [
    "for i in dirlist:\n",
    "    # check the filename\n",
    "    dirlist2 = os.listdir(f'{path}{i}/')\n",
    "\n",
    "    for j in dirlist2:\n",
    "        print(j)\n",
    "        suffix = j[-5]\n",
    "        adata_vis = C2L_Vis.Process(adata_ref_lowres,path,output_path,i,suffix,j)\n",
    "        adata_vis.obs[adata_vis.uns['mod']['factor_names']] = adata_vis.obsm['q05_cell_abundance_w_sf']\n",
    "        outdf = adata_vis.obs[adata_vis.uns['mod']['factor_names']]\n",
    "        outdf.to_csv(f\"{output_path}{i}_simu_{suffix}_lowres.csv\")\n",
    "        \n",
    "        adata_vis = C2L_Vis.Process(adata_ref_medres,path,output_path,i,suffix,j)\n",
    "        adata_vis.obs[adata_vis.uns['mod']['factor_names']] = adata_vis.obsm['q05_cell_abundance_w_sf']\n",
    "        outdf = adata_vis.obs[adata_vis.uns['mod']['factor_names']]\n",
    "        outdf.to_csv(f\"{output_path}{i}_simu_{suffix}_medres.csv\")\n",
    "        \n",
    "        adata_vis = C2L_Vis.Process(adata_ref_highres,path,output_path,i,suffix,j)\n",
    "        adata_vis.obs[adata_vis.uns['mod']['factor_names']] = adata_vis.obsm['q05_cell_abundance_w_sf']\n",
    "        outdf = adata_vis.obs[adata_vis.uns['mod']['factor_names']]\n",
    "        outdf.to_csv(f\"{output_path}{i}_simu_{suffix}_highres.csv\")"
   ]
  },
  {
   "cell_type": "code",
   "execution_count": null,
   "id": "85401f6d",
   "metadata": {},
   "outputs": [],
   "source": []
  },
  {
   "cell_type": "code",
   "execution_count": null,
   "id": "97a3dc93",
   "metadata": {
    "scrolled": true
   },
   "outputs": [],
   "source": [
    "i = 'HL'\n",
    "# check the filename\n",
    "dirlist2 = os.listdir(f'{path}{i}/')\n",
    "# load the sc data (loom file) and transfer to h5ad file\n",
    "adata_ref = sc.read_loom(f\"{scpath}/sc_{i}.loom\", sparse=True, cleanup=False, X_name='spliced', obs_names='CellID', var_names='Gene', dtype='float32')\n",
    "obs_ref= pd.read_csv(f'{scpath}/sc_{i}_meta.data.csv',delimiter=',', index_col=0)\n",
    "adata_ref.obs = obs_ref\n",
    "var_ref= pd.read_csv(f'{scpath}/sc_{i}_meta.features.csv',delimiter=',', index_col=0)\n",
    "adata_ref.var = var_ref\n",
    "adata_ref.write(f'{scpath}/sc_{i}.h5ad')\n",
    "# preprocess the sc data\n",
    "adata_ref = C2L_Ref.Preprocess(adata_ref,output_path,i)\n",
    "for j in dirlist2:\n",
    "    print(j)\n",
    "    suffix = j[-5]\n",
    "    adata_vis = C2L_Vis.Process(adata_ref,path,output_path,i,suffix,j)\n",
    "    adata_vis.obs[adata_vis.uns['mod']['factor_names']] = adata_vis.obsm['q05_cell_abundance_w_sf']\n",
    "    outdf = adata_vis.obs[adata_vis.uns['mod']['factor_names']]\n",
    "    outdf.to_csv(f\"{output_path}{i}_simu_{suffix}.csv\")"
   ]
  },
  {
   "cell_type": "code",
   "execution_count": null,
   "id": "bbc9b4fd",
   "metadata": {},
   "outputs": [],
   "source": [
    "i = 'stxB'\n",
    "# check the filename\n",
    "dirlist2 = os.listdir(f'{path}{i}/')\n",
    "# load the sc data (loom file) and transfer to h5ad file\n",
    "adata_ref = sc.read_loom(f\"{scpath}/sc_{i}.loom\", sparse=True, cleanup=False, X_name='spliced', obs_names='CellID', var_names='Gene', dtype='float32')\n",
    "obs_ref= pd.read_csv(f'{scpath}/sc_{i}_meta.data.csv',delimiter=',', index_col=0)\n",
    "adata_ref.obs = obs_ref\n",
    "var_ref= pd.read_csv(f'{scpath}/sc_{i}_meta.features.csv',delimiter=',', index_col=0)\n",
    "adata_ref.var = var_ref\n",
    "adata_ref.write(f'{scpath}/sc_{i}.h5ad')\n",
    "# preprocess the sc data\n",
    "adata_ref = C2L_Ref.Preprocess(adata_ref,output_path,i)\n",
    "for j in dirlist2:\n",
    "    print(j)\n",
    "    suffix = j[-5]\n",
    "    adata_vis = C2L_Vis.Process(adata_ref,path,output_path,i,suffix,j)\n",
    "    adata_vis.obs[adata_vis.uns['mod']['factor_names']] = adata_vis.obsm['q05_cell_abundance_w_sf']\n",
    "    outdf = adata_vis.obs[adata_vis.uns['mod']['factor_names']]\n",
    "    outdf.to_csv(f\"{output_path}{i}_simu_{suffix}.csv\")"
   ]
  },
  {
   "cell_type": "code",
   "execution_count": null,
   "id": "ac5aef6f",
   "metadata": {},
   "outputs": [],
   "source": []
  },
  {
   "cell_type": "code",
   "execution_count": null,
   "id": "f2672ae5",
   "metadata": {},
   "outputs": [],
   "source": []
  },
  {
   "cell_type": "markdown",
   "id": "d5c7f2b6",
   "metadata": {},
   "source": [
    "## Test data"
   ]
  },
  {
   "cell_type": "code",
   "execution_count": null,
   "id": "ad13c4f6",
   "metadata": {},
   "outputs": [],
   "source": [
    "i = 'HL'\n",
    "adata_ref = sc.read_h5ad(f'{output_path}sc_{i}.h5ad')\n",
    "dirlist2 = os.listdir(f'{path}{i}/')\n",
    "j = dirlist2[0]\n",
    "print(j)\n",
    "suffix = j[-5]\n",
    "adata_vis = C2L_Vis.Process(adata_ref,path,output_path,i,suffix,j)\n",
    "adata_vis.obs[adata_vis.uns['mod']['factor_names']] = adata_vis.obsm['q05_cell_abundance_w_sf']\n",
    "outdf = adata_vis.obs[adata_vis.uns['mod']['factor_names']]\n",
    "outdf.to_csv(f\"{output_path}{i}_simu_{suffix}.csv\")"
   ]
  },
  {
   "cell_type": "code",
   "execution_count": null,
   "id": "bee21cfb",
   "metadata": {},
   "outputs": [],
   "source": [
    "outdf.to_csv(f\"{output_path}{i}_simu_{suffix}.csv\")"
   ]
  },
  {
   "cell_type": "code",
   "execution_count": null,
   "id": "737ae46d",
   "metadata": {},
   "outputs": [],
   "source": [
    "adata_ref"
   ]
  },
  {
   "cell_type": "code",
   "execution_count": null,
   "id": "8d16fe0b",
   "metadata": {},
   "outputs": [],
   "source": [
    "i = 'KRAS'\n",
    "\n",
    "adata_ref = sc.read_loom(f\"{scpath}sc_{i}.loom\", sparse=True, cleanup=False, X_name='spliced', obs_names='CellID', var_names='Gene', dtype='float32')\n",
    "obs_ref= pd.read_csv(f'{scpath}sc_{i}_meta.data.csv',delimiter=',', index_col=0)\n",
    "adata_ref.obs = obs_ref\n",
    "var_ref= pd.read_csv(f'{scpath}sc_{i}_meta.features.csv',delimiter=',', index_col=0)\n",
    "adata_ref.var = var_ref\n",
    "adata_ref.write(f'{scpath}sc_{i}.h5ad')\n",
    "adata_ref = C2L_Ref.Preprocess(adata_ref,output_path,i)"
   ]
  },
  {
   "cell_type": "code",
   "execution_count": null,
   "id": "167bdbad",
   "metadata": {},
   "outputs": [],
   "source": [
    "result = pyreadr.read_r('/data/xy/Spatial_transcriptome/eWEIDE/20220510_benchmark/simulated_data/ForPython/KRAS/simulatData_KRAS_1.rds')\n",
    "df = result[None]\n",
    "df2 = df.T\n",
    "df2"
   ]
  },
  {
   "cell_type": "code",
   "execution_count": null,
   "id": "92d7c2e9",
   "metadata": {},
   "outputs": [],
   "source": [
    "n_obs = len(df2.index.values)\n",
    "obs = pd.DataFrame()\n",
    "obs['orig.ident'] = np.random.choice(['simulated_data'], n_obs)\n",
    "obs['sample'] = np.random.choice(['KRAS'], n_obs)\n",
    "obs.index = df2.index.values\n",
    "\n",
    "var_names = df2.columns.values\n",
    "n_vars = len(var_names)\n",
    "var = pd.DataFrame(index=var_names)\n",
    "\n",
    "adata_vis = anndata.AnnData(df2, obs=obs, var=var, dtype='int32')\n",
    "adata_vis"
   ]
  },
  {
   "cell_type": "code",
   "execution_count": null,
   "id": "5b462828",
   "metadata": {},
   "outputs": [],
   "source": [
    "adata_vis.var['SYMBOL'] = adata_vis.var_names\n",
    "adata_vis.var['gene_ids'] = adata_vis.var_names\n",
    "adata_vis.var_names.name = None\n",
    "\n",
    "# find mitochondria-encoded (MT) genes\n",
    "adata_vis.var['MT_gene'] = [gene.startswith('MT-') for gene in adata_vis.var['SYMBOL']]\n",
    "\n",
    "# remove MT genes for spatial mapping (keeping their counts in the object)\n",
    "adata_vis.obsm['MT'] = adata_vis[:, adata_vis.var['MT_gene'].values].X.toarray()\n",
    "adata_vis = adata_vis[:, ~adata_vis.var['MT_gene'].values]\n",
    "\n",
    "adata_vis.var"
   ]
  },
  {
   "cell_type": "code",
   "execution_count": null,
   "id": "1453c6b9",
   "metadata": {},
   "outputs": [],
   "source": [
    "# find shared genes and subset both anndata and reference signatures\n",
    "intersect = np.intersect1d(adata_vis.var_names, inf_aver.index)\n",
    "adata_vis = adata_vis[:, intersect].copy()\n",
    "inf_aver = inf_aver.loc[intersect, :].copy()\n",
    "\n",
    "# prepare anndata for cell2location model\n",
    "cell2location.models.Cell2location.setup_anndata(adata=adata_vis, batch_key=\"sample\")"
   ]
  },
  {
   "cell_type": "code",
   "execution_count": null,
   "id": "0ea38f2d",
   "metadata": {},
   "outputs": [],
   "source": [
    "# create and train the model\n",
    "mod = cell2location.models.Cell2location(\n",
    "    adata_vis, cell_state_df=inf_aver,\n",
    "    # the expected average cell abundance: tissue-dependent\n",
    "    # hyper-prior which can be estimated from paired histology:\n",
    "    N_cells_per_location=30,\n",
    "    # hyperparameter controlling normalisation of\n",
    "    # within-experiment variation in RNA detection (using default here):\n",
    "    detection_alpha=200\n",
    ")\n",
    "\n",
    "mod.train(max_epochs=30000,\n",
    "          # train using full data (batch_size=None)\n",
    "          batch_size=None,\n",
    "          # use all data points in training because\n",
    "          # we need to estimate cell abundance at all locations\n",
    "          train_size=1,\n",
    "          use_gpu=True)\n",
    "\n",
    "# plot ELBO loss history during training, removing first 100 epochs from the plot\n",
    "mod.plot_history(1000)\n",
    "plt.legend(labels=['full data training']);"
   ]
  },
  {
   "cell_type": "code",
   "execution_count": null,
   "id": "48837f54",
   "metadata": {},
   "outputs": [],
   "source": [
    "# In this section, we export the estimated cell abundance (summary of the posterior distribution).\n",
    "adata_vis = mod.export_posterior(\n",
    "    adata_vis, sample_kwargs={'num_samples': 1000, 'batch_size': mod.adata.n_obs, 'use_gpu': True}\n",
    ")\n",
    "\n",
    "# Save model\n",
    "mod.save(f\"{output_path}\", overwrite=True)\n",
    "\n",
    "# mod = cell2location.models.Cell2location.load(f\"{run_name}\", adata_vis)\n",
    "\n",
    "# Save anndata object with results\n",
    "adata_file = f\"{output_path}sp.h5ad\"\n",
    "adata_vis.write(adata_file)\n",
    "adata_file"
   ]
  },
  {
   "cell_type": "code",
   "execution_count": null,
   "id": "e6b2ba1a",
   "metadata": {},
   "outputs": [],
   "source": [
    "adata_vis.obs[adata_vis.uns['mod']['factor_names']] = adata_vis.obsm['q05_cell_abundance_w_sf']\n",
    "adata_vis.obs[adata_vis.uns['mod']['factor_names']]"
   ]
  },
  {
   "cell_type": "code",
   "execution_count": null,
   "id": "e40595a0",
   "metadata": {},
   "outputs": [],
   "source": [
    "mod.plot_QC()"
   ]
  },
  {
   "cell_type": "code",
   "execution_count": null,
   "id": "0f7bb23f",
   "metadata": {},
   "outputs": [],
   "source": []
  },
  {
   "cell_type": "code",
   "execution_count": null,
   "id": "ac2ad6ba",
   "metadata": {},
   "outputs": [],
   "source": []
  },
  {
   "cell_type": "code",
   "execution_count": null,
   "id": "11330396",
   "metadata": {},
   "outputs": [],
   "source": []
  },
  {
   "cell_type": "code",
   "execution_count": null,
   "id": "1cb57b59",
   "metadata": {},
   "outputs": [],
   "source": []
  },
  {
   "cell_type": "code",
   "execution_count": null,
   "id": "256277af",
   "metadata": {},
   "outputs": [],
   "source": []
  }
 ],
 "metadata": {
  "kernelspec": {
   "display_name": "Environment (cell2loc_env)",
   "language": "python",
   "name": "cell2loc_env"
  },
  "language_info": {
   "codemirror_mode": {
    "name": "ipython",
    "version": 3
   },
   "file_extension": ".py",
   "mimetype": "text/x-python",
   "name": "python",
   "nbconvert_exporter": "python",
   "pygments_lexer": "ipython3",
   "version": "3.9.12"
  }
 },
 "nbformat": 4,
 "nbformat_minor": 5
}
